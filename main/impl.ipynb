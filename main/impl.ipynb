{
 "cells": [
  {
   "cell_type": "code",
   "execution_count": 4,
   "metadata": {},
   "outputs": [
    {
     "name": "stderr",
     "output_type": "stream",
     "text": [
      "[nltk_data] Downloading package punkt to\n",
      "[nltk_data]     C:\\Users\\c2099176\\AppData\\Roaming\\nltk_data...\n",
      "[nltk_data]   Package punkt is already up-to-date!\n"
     ]
    }
   ],
   "source": [
    "import pandas as pd\n",
    "import numpy as np\n",
    "import re\n",
    "import string\n",
    "import nltk\n",
    "nltk.download('punkt')\n",
    "# !pip install sklearn\n",
    "from nltk.corpus import stopwords\n",
    "from nltk.tokenize import word_tokenize\n",
    "from sklearn.feature_extraction.text import TfidfVectorizer\n",
    "from sklearn.model_selection import train_test_split\n",
    "from nltk.stem import PorterStemmer\n",
    "from nltk.stem import WordNetLemmatizer\n",
    "# ML Libraries\n",
    "from sklearn.metrics import accuracy_score, classification_report\n",
    "from sklearn.naive_bayes import MultinomialNB\n",
    "from sklearn.linear_model import LogisticRegression\n",
    "# Global Parameters\n",
    "stop_words = set(stopwords.words('english'))"
   ]
  },
  {
   "cell_type": "code",
   "execution_count": 5,
   "metadata": {},
   "outputs": [],
   "source": [
    "# Loading the dataset\n",
    "def load_dataset(type_):\n",
    "    with open(f\"../data/{type_}_text.txt\", \"r\", encoding=\"utf-8\") as fp:\n",
    "        x = fp.readlines()\n",
    "    with open(f\"../data/{type_}_labels.txt\", \"r\", encoding=\"utf-8\") as fp:\n",
    "        y = [int(i) for i in fp.readlines()]\n",
    "    # Making the data dictionary         \n",
    "    data = {'text': x, 'label': y}\n",
    "    # Converting the dictionary in to pandas data frame     \n",
    "    df = pd.DataFrame(data)\n",
    "    \n",
    "    return df"
   ]
  },
  {
   "cell_type": "code",
   "execution_count": 6,
   "metadata": {},
   "outputs": [],
   "source": [
    "# Pre-processing the tweets\n",
    "def preprocess_tweets(tweet):\n",
    "    # Converting to lowercase    \n",
    "    tweet.lower()\n",
    "    # Remove urls\n",
    "    tweet = re.sub(r\"http\\S+|www\\S+|https\\S+\", '', tweet, flags=re.MULTILINE)\n",
    "    # Remove user @ references and '#' from tweet\n",
    "    tweet = re.sub(r'\\@\\w+|\\#','', tweet)\n",
    "    # Remove punctuations\n",
    "    tweet = tweet.translate(str.maketrans('', '', string.punctuation))\n",
    "    # Remove stopwords\n",
    "    tweet_tokens = word_tokenize(tweet)\n",
    "    filtered_words = [w for w in tweet_tokens if not w in stop_words]\n",
    "    \n",
    "    # Stemming and Lemmatizing both are normalization techniques.\n",
    "    # We will use either of these not both.\n",
    "    # Stemming is faster than lemmatization    \n",
    "    \n",
    "    ps = PorterStemmer()\n",
    "    stemmed_words = [ps.stem(w) for w in filtered_words]\n",
    "    #lemmatizer = WordNetLemmatizer()\n",
    "    #lemma_words = [lemmatizer.lemmatize(w, pos='a') for w in stemmed_words]\n",
    "    \n",
    "    return \" \".join(stemmed_words)\n",
    "#     return \" \".join(filtered_words)"
   ]
  },
  {
   "cell_type": "code",
   "execution_count": 7,
   "metadata": {},
   "outputs": [],
   "source": [
    "# Convert Value to String for output\n",
    "def value_to_string(sentiment):\n",
    "    if sentiment == 0:\n",
    "        return \"Negative\"\n",
    "    elif sentiment == 1:\n",
    "        return \"Neutral\"\n",
    "    else:\n",
    "        return \"Positive\""
   ]
  },
  {
   "cell_type": "code",
   "execution_count": 8,
   "metadata": {},
   "outputs": [],
   "source": [
    "# Naive Bayes model definition\n",
    "# accepts x,y train, val and test vectors\n",
    "# prints the classification report\n",
    "# and returns the model object\n",
    "def naive_bayes_model(X_train, y_train, X_any, y_any):\n",
    "    # Training Naive Bayes model\n",
    "    NB_model = MultinomialNB()\n",
    "    NB_model.fit(X_train, y_train)\n",
    "    y_predict_nb = NB_model.predict(X_any)\n",
    "    print(classification_report(y_any, y_predict_nb))\n",
    "#     print(accuracy_score(y_any, y_predict_nb))\n",
    "    return NB_model"
   ]
  },
  {
   "cell_type": "code",
   "execution_count": 10,
   "metadata": {},
   "outputs": [],
   "source": [
    "# Logistic Regression model definition\n",
    "# accepts x,y train, val and test vectors\n",
    "# prints the classification report\n",
    "# and returns the model object\n",
    "def logistic_reg_model(X_train, y_train, X_any, y_any):\n",
    "    # Training Logistics Regression model with netown slover and 10000 iterations\n",
    "    LR_model = LogisticRegression(solver='newton-cg', max_iter=10000, multi_class=\"multinomial\")\n",
    "    LR_model.fit(X_train, y_train)\n",
    "    y_predict_lr = LR_model.predict(X_any)\n",
    "    print(classification_report(y_any, y_predict_lr))\n",
    "#     print(accuracy_score(y_any, y_predict_lr))\n",
    "    return LR_model"
   ]
  },
  {
   "cell_type": "code",
   "execution_count": 11,
   "metadata": {},
   "outputs": [],
   "source": [
    "# Load train dataset\n",
    "train_dataset = load_dataset(\"train\")\n",
    "# old_dataset = train_dataset\n",
    "# Preprocess train data\n",
    "train_dataset.text = train_dataset['text'].apply(preprocess_tweets)\n",
    "\n",
    "# Load val dataset\n",
    "val_dataset = load_dataset(\"val\")\n",
    "# Preprocess val data\n",
    "val_dataset.text = val_dataset['text'].apply(preprocess_tweets)\n",
    "\n",
    "# Load test dataset\n",
    "test_dataset = load_dataset(\"test\")\n",
    "# Preprocess data\n",
    "test_dataset.text = test_dataset['text'].apply(preprocess_tweets)"
   ]
  },
  {
   "cell_type": "code",
   "execution_count": 12,
   "metadata": {},
   "outputs": [],
   "source": [
    "vector = TfidfVectorizer(sublinear_tf=True)\n",
    "tf_vector = vector.fit(np.array(train_dataset.iloc[:, 0]).ravel())"
   ]
  },
  {
   "cell_type": "code",
   "execution_count": 13,
   "metadata": {},
   "outputs": [],
   "source": [
    "# train\n",
    "X_train = tf_vector.transform(np.array(train_dataset.iloc[:, 0]).ravel())\n",
    "y_train = np.array(train_dataset.iloc[:, 1]).ravel()"
   ]
  },
  {
   "cell_type": "code",
   "execution_count": 15,
   "metadata": {},
   "outputs": [],
   "source": [
    "# validate\n",
    "X_val = tf_vector.transform(np.array(val_dataset.iloc[:, 0]).ravel())\n",
    "y_val = np.array(val_dataset.iloc[:, 1]).ravel()"
   ]
  },
  {
   "cell_type": "code",
   "execution_count": 16,
   "metadata": {},
   "outputs": [],
   "source": [
    "# test\n",
    "X_test = tf_vector.transform(np.array(test_dataset.iloc[:, 0]).ravel())\n",
    "y_test = np.array(test_dataset.iloc[:, 1]).ravel()\n",
    "# test_feature = tf_vector.transform(np.array(test_dataset.iloc[:, 0]).ravel())"
   ]
  },
  {
   "cell_type": "code",
   "execution_count": 17,
   "metadata": {
    "scrolled": true
   },
   "outputs": [
    {
     "name": "stdout",
     "output_type": "stream",
     "text": [
      "              precision    recall  f1-score   support\n",
      "\n",
      "           0       0.80      0.01      0.03       312\n",
      "           1       0.56      0.77      0.65       869\n",
      "           2       0.67      0.65      0.66       819\n",
      "\n",
      "    accuracy                           0.60      2000\n",
      "   macro avg       0.67      0.48      0.44      2000\n",
      "weighted avg       0.64      0.60      0.55      2000\n",
      "\n"
     ]
    },
    {
     "data": {
      "text/plain": [
       "MultinomialNB()"
      ]
     },
     "execution_count": 17,
     "metadata": {},
     "output_type": "execute_result"
    }
   ],
   "source": [
    "naive_bayes_model(X_train, y_train, X_val, y_val)"
   ]
  },
  {
   "cell_type": "code",
   "execution_count": 18,
   "metadata": {},
   "outputs": [
    {
     "name": "stdout",
     "output_type": "stream",
     "text": [
      "              precision    recall  f1-score   support\n",
      "\n",
      "           0       0.80      0.05      0.10      3972\n",
      "           1       0.53      0.84      0.65      5937\n",
      "           2       0.50      0.52      0.51      2375\n",
      "\n",
      "    accuracy                           0.53     12284\n",
      "   macro avg       0.61      0.47      0.42     12284\n",
      "weighted avg       0.61      0.53      0.44     12284\n",
      "\n"
     ]
    },
    {
     "data": {
      "text/plain": [
       "MultinomialNB()"
      ]
     },
     "execution_count": 18,
     "metadata": {},
     "output_type": "execute_result"
    }
   ],
   "source": [
    "naive_bayes_model(X_train, y_train, X_test, y_test)"
   ]
  },
  {
   "cell_type": "code",
   "execution_count": 19,
   "metadata": {},
   "outputs": [
    {
     "name": "stdout",
     "output_type": "stream",
     "text": [
      "              precision    recall  f1-score   support\n",
      "\n",
      "           0       0.63      0.38      0.48       312\n",
      "           1       0.63      0.74      0.68       869\n",
      "           2       0.73      0.70      0.71       819\n",
      "\n",
      "    accuracy                           0.67      2000\n",
      "   macro avg       0.66      0.61      0.62      2000\n",
      "weighted avg       0.67      0.67      0.66      2000\n",
      "\n"
     ]
    },
    {
     "data": {
      "text/plain": [
       "LogisticRegression(max_iter=10000, multi_class='multinomial',\n",
       "                   solver='newton-cg')"
      ]
     },
     "execution_count": 19,
     "metadata": {},
     "output_type": "execute_result"
    }
   ],
   "source": [
    "logistic_reg_model(X_train, y_train, X_val, y_val)"
   ]
  },
  {
   "cell_type": "code",
   "execution_count": 20,
   "metadata": {},
   "outputs": [
    {
     "name": "stdout",
     "output_type": "stream",
     "text": [
      "              precision    recall  f1-score   support\n",
      "\n",
      "           0       0.69      0.38      0.49      3972\n",
      "           1       0.59      0.75      0.66      5937\n",
      "           2       0.53      0.56      0.54      2375\n",
      "\n",
      "    accuracy                           0.59     12284\n",
      "   macro avg       0.60      0.56      0.57     12284\n",
      "weighted avg       0.61      0.59      0.58     12284\n",
      "\n"
     ]
    },
    {
     "data": {
      "text/plain": [
       "LogisticRegression(max_iter=10000, multi_class='multinomial',\n",
       "                   solver='newton-cg')"
      ]
     },
     "execution_count": 20,
     "metadata": {},
     "output_type": "execute_result"
    }
   ],
   "source": [
    "logistic_reg_model(X_train, y_train, X_test, y_test)"
   ]
  },
  {
   "cell_type": "code",
   "execution_count": 21,
   "metadata": {},
   "outputs": [
    {
     "name": "stderr",
     "output_type": "stream",
     "text": [
      "Using TensorFlow backend.\n"
     ]
    }
   ],
   "source": [
    "# RNN Text Classification\n",
    "# !pip install tensorflow\n",
    "# !pip install keras\n",
    "from keras.preprocessing.text import Tokenizer\n",
    "from keras.preprocessing.sequence import pad_sequences\n",
    "from keras.models import Sequential\n",
    "from keras.layers import Dense, Embedding, LSTM, SpatialDropout1D\n",
    "from sklearn.model_selection import train_test_split\n",
    "from keras.utils.np_utils import to_categorical"
   ]
  },
  {
   "cell_type": "code",
   "execution_count": 24,
   "metadata": {},
   "outputs": [],
   "source": [
    "max_fatures = 2000\n",
    "max_len = 200\n",
    "\n",
    "tokenizer = Tokenizer(num_words=max_fatures, split=' ')\n",
    "tokenizer.fit_on_texts(train_dataset['text'].values)\n",
    "# ////////////////////////\n",
    "X_train = tokenizer.texts_to_sequences(train_dataset['text'].values)\n",
    "X_train = pad_sequences(X_train, maxlen=max_len)\n",
    "# ////////////////////////\n",
    "X_val = tokenizer.texts_to_sequences(val_dataset['text'].values)\n",
    "X_val = pad_sequences(X_val, maxlen=max_len)\n",
    "# ////////////////////////\n",
    "X_test = tokenizer.texts_to_sequences(test_dataset['text'].values)\n",
    "X_test = pad_sequences(X_test, maxlen=max_len)"
   ]
  },
  {
   "cell_type": "code",
   "execution_count": 25,
   "metadata": {},
   "outputs": [
    {
     "name": "stdout",
     "output_type": "stream",
     "text": [
      "Model: \"sequential_1\"\n",
      "_________________________________________________________________\n",
      "Layer (type)                 Output Shape              Param #   \n",
      "=================================================================\n",
      "embedding_1 (Embedding)      (None, 200, 128)          256000    \n",
      "_________________________________________________________________\n",
      "spatial_dropout1d_1 (Spatial (None, 200, 128)          0         \n",
      "_________________________________________________________________\n",
      "lstm_1 (LSTM)                (None, 196)               254800    \n",
      "_________________________________________________________________\n",
      "dense_1 (Dense)              (None, 3)                 591       \n",
      "=================================================================\n",
      "Total params: 511,391\n",
      "Trainable params: 511,391\n",
      "Non-trainable params: 0\n",
      "_________________________________________________________________\n",
      "None\n"
     ]
    }
   ],
   "source": [
    "embed_dim = 128\n",
    "lstm_out = 196\n",
    "\n",
    "model = Sequential()\n",
    "model.add(Embedding(max_fatures, embed_dim, input_length = X_train.shape[1]))\n",
    "model.add(SpatialDropout1D(0.4))\n",
    "model.add(LSTM(lstm_out, dropout=0.2, recurrent_dropout=0.2))\n",
    "model.add(Dense(3,activation='softmax'))\n",
    "model.compile(loss = 'categorical_crossentropy', optimizer='adam',metrics = ['accuracy'])\n",
    "print(model.summary())"
   ]
  },
  {
   "cell_type": "code",
   "execution_count": 26,
   "metadata": {},
   "outputs": [],
   "source": [
    "Y_train = pd.get_dummies(train_dataset['label']).values\n",
    "Y_val = pd.get_dummies(val_dataset['label']).values\n",
    "Y_test = pd.get_dummies(test_dataset['label']).values\n",
    "# X_train, X_test, Y_train, Y_test = train_test_split(X_train, Y_train, test_size = 0.33, random_state = 42)\n",
    "# print(X_train.shape,Y_train.shape)\n",
    "# print(X_val.shape,Y_val.shape)\n",
    "# print(X_test.shape,Y_test.shape)"
   ]
  },
  {
   "cell_type": "code",
   "execution_count": 28,
   "metadata": {},
   "outputs": [
    {
     "name": "stdout",
     "output_type": "stream",
     "text": [
      "Train on 45615 samples, validate on 2000 samples\n",
      "Epoch 1/7\n",
      " - 341s - loss: 0.7470 - accuracy: 0.6653 - val_loss: 0.7459 - val_accuracy: 0.6750\n",
      "Epoch 2/7\n",
      " - 362s - loss: 0.7232 - accuracy: 0.6745 - val_loss: 0.7470 - val_accuracy: 0.6640\n",
      "Epoch 3/7\n",
      " - 333s - loss: 0.7068 - accuracy: 0.6842 - val_loss: 0.7359 - val_accuracy: 0.6775\n",
      "Epoch 4/7\n",
      " - 332s - loss: 0.6947 - accuracy: 0.6908 - val_loss: 0.7468 - val_accuracy: 0.6700\n",
      "Epoch 5/7\n",
      " - 333s - loss: 0.6709 - accuracy: 0.7004 - val_loss: 0.7415 - val_accuracy: 0.6795\n",
      "Epoch 6/7\n",
      " - 334s - loss: 0.6554 - accuracy: 0.7084 - val_loss: 0.7650 - val_accuracy: 0.6710\n",
      "Epoch 7/7\n",
      " - 335s - loss: 0.6393 - accuracy: 0.7146 - val_loss: 0.7718 - val_accuracy: 0.6670\n"
     ]
    },
    {
     "data": {
      "text/plain": [
       "<keras.callbacks.callbacks.History at 0x18c4e59c358>"
      ]
     },
     "execution_count": 28,
     "metadata": {},
     "output_type": "execute_result"
    }
   ],
   "source": [
    "batch_size = 32\n",
    "model.fit(X_train, Y_train, epochs = 7, validation_data=(X_val, Y_val), batch_size=batch_size, verbose = 2)"
   ]
  },
  {
   "cell_type": "code",
   "execution_count": 29,
   "metadata": {},
   "outputs": [
    {
     "name": "stdout",
     "output_type": "stream",
     "text": [
      "score: 0.99\n",
      "acc: 0.57\n"
     ]
    }
   ],
   "source": [
    "score,acc = model.evaluate(X_test, Y_test, verbose = 2, batch_size = batch_size)\n",
    "print(\"score: %.2f\" % (score))\n",
    "print(\"acc: %.2f\" % (acc))"
   ]
  },
  {
   "cell_type": "code",
   "execution_count": 30,
   "metadata": {},
   "outputs": [
    {
     "name": "stdout",
     "output_type": "stream",
     "text": [
      "Positive\n"
     ]
    }
   ],
   "source": [
    "tweet = ['i am glad the weather is sunny!']\n",
    "# vectorizing the tweet by the pre-fitted tokenizer instance\n",
    "tweet = tokenizer.texts_to_sequences(tweet)\n",
    "# padding the tweet to have exactly the same shape as `embedding` input\n",
    "tweet = pad_sequences(tweet, maxlen=max_len, dtype='int32', value=0)\n",
    "# print(tweet)\n",
    "sentiment = model.predict(tweet, batch_size=1, verbose = 2)[0]\n",
    "output = value_to_string(np.argmax(sentiment))\n",
    "print(output)"
   ]
  }
 ],
 "metadata": {
  "kernelspec": {
   "display_name": "Python 3",
   "language": "python",
   "name": "python3"
  },
  "language_info": {
   "codemirror_mode": {
    "name": "ipython",
    "version": 3
   },
   "file_extension": ".py",
   "mimetype": "text/x-python",
   "name": "python",
   "nbconvert_exporter": "python",
   "pygments_lexer": "ipython3",
   "version": "3.6.13"
  }
 },
 "nbformat": 4,
 "nbformat_minor": 4
}
