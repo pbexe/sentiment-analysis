{
 "metadata": {
  "language_info": {
   "codemirror_mode": {
    "name": "ipython",
    "version": 3
   },
   "file_extension": ".py",
   "mimetype": "text/x-python",
   "name": "python",
   "nbconvert_exporter": "python",
   "pygments_lexer": "ipython3",
   "version": "3.8.8"
  },
  "orig_nbformat": 2,
  "kernelspec": {
   "name": "python388jvsc74a57bd0dca0ade3e726a953b501b15e8e990130d2b7799f14cfd9f4271676035ebe5511",
   "display_name": "Python 3.8.8 64-bit ('base': conda)"
  },
  "metadata": {
   "interpreter": {
    "hash": "a483a155db8041823bb39750c9e4bf42cad5812e4225756f5b064c1e589a4884"
   }
  }
 },
 "nbformat": 4,
 "nbformat_minor": 2,
 "cells": [
  {
   "source": [
    "# Analysis of models"
   ],
   "cell_type": "markdown",
   "metadata": {}
  },
  {
   "source": [
    "Perform the imports"
   ],
   "cell_type": "markdown",
   "metadata": {}
  },
  {
   "cell_type": "code",
   "execution_count": 2,
   "metadata": {},
   "outputs": [
    {
     "output_type": "execute_result",
     "data": {
      "text/plain": [
       "<bound method InteractiveShell.excepthook of <ipykernel.zmqshell.ZMQInteractiveShell object at 0x11284ca90>>"
      ]
     },
     "metadata": {},
     "execution_count": 2
    }
   ],
   "source": [
    "import pickle\n",
    "from os.path import exists\n",
    "from random import shuffle\n",
    "from typing import List, Tuple\n",
    "\n",
    "import numpy as np\n",
    "import matplotlib.pyplot as plt\n",
    "from rich import print\n",
    "from rich.panel import Panel\n",
    "from rich.progress import track\n",
    "from rich.traceback import install\n",
    "from scipy.special import softmax\n",
    "from sklearn.feature_extraction.text import CountVectorizer, TfidfTransformer\n",
    "from sklearn.metrics import classification_report, plot_confusion_matrix\n",
    "from sklearn.svm import SVC\n",
    "from tqdm import tqdm\n",
    "\n",
    "from console import console\n",
    "from feature_extraction import miles_cw_extractor\n",
    "from models import example_model, svm_implementation, svm_model\n",
    "from preprocessing import get_data, preprocess\n",
    "\n",
    "install()"
   ]
  },
  {
   "source": [
    "Either load a pre-trained SVM from disk or train a new one"
   ],
   "cell_type": "markdown",
   "metadata": {}
  },
  {
   "cell_type": "code",
   "execution_count": 3,
   "metadata": {},
   "outputs": [
    {
     "output_type": "display_data",
     "data": {
      "text/plain": "\u001b[2;36m[18:57:19]\u001b[0m\u001b[2;36m \u001b[0mCheckpoint found in FS                            \u001b[2m<ipython-input-3-f9973be1354e>\u001b[0m\u001b[2m:2\u001b[0m\n",
      "text/html": "<pre style=\"white-space:pre;overflow-x:auto;line-height:normal;font-family:Menlo,'DejaVu Sans Mono',consolas,'Courier New',monospace\"><span style=\"color: #7fbfbf; text-decoration-color: #7fbfbf\">[18:57:19] </span>Checkpoint found in FS                            <span style=\"color: #7f7f7f; text-decoration-color: #7f7f7f\">&lt;ipython-input-3-f9973be1354e&gt;:2</span>\n</pre>\n"
     },
     "metadata": {}
    },
    {
     "output_type": "display_data",
     "data": {
      "text/plain": "Output()",
      "application/vnd.jupyter.widget-view+json": {
       "version_major": 2,
       "version_minor": 0,
       "model_id": "2bf89c4b583544ab9d31f19319728acf"
      }
     },
     "metadata": {}
    },
    {
     "output_type": "display_data",
     "data": {
      "text/plain": "",
      "text/html": "<pre style=\"white-space:pre;overflow-x:auto;line-height:normal;font-family:Menlo,'DejaVu Sans Mono',consolas,'Courier New',monospace\"></pre>\n"
     },
     "metadata": {}
    }
   ],
   "source": [
    "if exists(\"checkpoint.p\"):\n",
    "    console.log(\"Checkpoint found in FS\")\n",
    "    with console.status(\"Loading checkpoint from file...\", spinner=\"aesthetic\"):\n",
    "        svm_model, tfid, vectorizer, get_best= pickle.load(open(\"checkpoint.p\", \"rb\"))\n",
    "else:\n",
    "    svm_model, tfid, vectorizer, get_best = svm_implementation()\n",
    "    with console.status(\"Saving checkpoint to file...\", spinner=\"aesthetic\"):\n",
    "        pickle.dump((svm_model, tfid, vectorizer, get_best), open(\"checkpoint.p\", \"wb\" ))"
   ]
  },
  {
   "source": [
    "Load the pretrained model"
   ],
   "cell_type": "markdown",
   "metadata": {}
  },
  {
   "cell_type": "code",
   "execution_count": 4,
   "metadata": {},
   "outputs": [
    {
     "output_type": "display_data",
     "data": {
      "text/plain": "Output()",
      "application/vnd.jupyter.widget-view+json": {
       "version_major": 2,
       "version_minor": 0,
       "model_id": "b986237a6cf042a1b0e94bb0c855956a"
      }
     },
     "metadata": {}
    },
    {
     "output_type": "display_data",
     "data": {
      "text/plain": "",
      "text/html": "<pre style=\"white-space:pre;overflow-x:auto;line-height:normal;font-family:Menlo,'DejaVu Sans Mono',consolas,'Courier New',monospace\"></pre>\n"
     },
     "metadata": {}
    }
   ],
   "source": [
    "with console.status(\"Loading example model...\", spinner=\"aesthetic\"): \n",
    "        model, tokenizer, labels = example_model()"
   ]
  },
  {
   "source": [
    "Get the validation data from disk"
   ],
   "cell_type": "markdown",
   "metadata": {}
  },
  {
   "cell_type": "code",
   "execution_count": 5,
   "metadata": {},
   "outputs": [],
   "source": [
    "v_x, v_y = get_data(\"val\", False)"
   ]
  },
  {
   "source": [
    "Predict the $Y$ values using the SVM"
   ],
   "cell_type": "markdown",
   "metadata": {}
  },
  {
   "cell_type": "code",
   "execution_count": 6,
   "metadata": {},
   "outputs": [],
   "source": [
    "Y_text_predictions_SVM = svm_model.predict(get_best.transform(\n",
    "    tfid.transform(\n",
    "        vectorizer.transform(v_x)\n",
    "        ).toarray()\n",
    "    )\n",
    ")"
   ]
  },
  {
   "source": [
    "And produce a report"
   ],
   "cell_type": "markdown",
   "metadata": {}
  },
  {
   "cell_type": "code",
   "execution_count": 7,
   "metadata": {},
   "outputs": [
    {
     "output_type": "display_data",
     "data": {
      "text/plain": "              precision    recall  f1-score   support\n\n           \u001b[1;36m0\u001b[0m       \u001b[1;36m0.42\u001b[0m      \u001b[1;36m0.66\u001b[0m      \u001b[1;36m0.51\u001b[0m       \u001b[1;36m312\u001b[0m\n           \u001b[1;36m1\u001b[0m       \u001b[1;36m0.63\u001b[0m      \u001b[1;36m0.62\u001b[0m      \u001b[1;36m0.62\u001b[0m       \u001b[1;36m869\u001b[0m\n           \u001b[1;36m2\u001b[0m       \u001b[1;36m0.75\u001b[0m      \u001b[1;36m0.60\u001b[0m      \u001b[1;36m0.67\u001b[0m       \u001b[1;36m819\u001b[0m\n\n    accuracy                           \u001b[1;36m0.62\u001b[0m      \u001b[1;36m2000\u001b[0m\n   macro avg       \u001b[1;36m0.60\u001b[0m      \u001b[1;36m0.63\u001b[0m      \u001b[1;36m0.60\u001b[0m      \u001b[1;36m2000\u001b[0m\nweighted avg       \u001b[1;36m0.65\u001b[0m      \u001b[1;36m0.62\u001b[0m      \u001b[1;36m0.62\u001b[0m      \u001b[1;36m2000\u001b[0m\n\n",
      "text/html": "<pre style=\"white-space:pre;overflow-x:auto;line-height:normal;font-family:Menlo,'DejaVu Sans Mono',consolas,'Courier New',monospace\">              precision    recall  f1-score   support\n\n           <span style=\"color: #008080; text-decoration-color: #008080; font-weight: bold\">0</span>       <span style=\"color: #008080; text-decoration-color: #008080; font-weight: bold\">0.42</span>      <span style=\"color: #008080; text-decoration-color: #008080; font-weight: bold\">0.66</span>      <span style=\"color: #008080; text-decoration-color: #008080; font-weight: bold\">0.51</span>       <span style=\"color: #008080; text-decoration-color: #008080; font-weight: bold\">312</span>\n           <span style=\"color: #008080; text-decoration-color: #008080; font-weight: bold\">1</span>       <span style=\"color: #008080; text-decoration-color: #008080; font-weight: bold\">0.63</span>      <span style=\"color: #008080; text-decoration-color: #008080; font-weight: bold\">0.62</span>      <span style=\"color: #008080; text-decoration-color: #008080; font-weight: bold\">0.62</span>       <span style=\"color: #008080; text-decoration-color: #008080; font-weight: bold\">869</span>\n           <span style=\"color: #008080; text-decoration-color: #008080; font-weight: bold\">2</span>       <span style=\"color: #008080; text-decoration-color: #008080; font-weight: bold\">0.75</span>      <span style=\"color: #008080; text-decoration-color: #008080; font-weight: bold\">0.60</span>      <span style=\"color: #008080; text-decoration-color: #008080; font-weight: bold\">0.67</span>       <span style=\"color: #008080; text-decoration-color: #008080; font-weight: bold\">819</span>\n\n    accuracy                           <span style=\"color: #008080; text-decoration-color: #008080; font-weight: bold\">0.62</span>      <span style=\"color: #008080; text-decoration-color: #008080; font-weight: bold\">2000</span>\n   macro avg       <span style=\"color: #008080; text-decoration-color: #008080; font-weight: bold\">0.60</span>      <span style=\"color: #008080; text-decoration-color: #008080; font-weight: bold\">0.63</span>      <span style=\"color: #008080; text-decoration-color: #008080; font-weight: bold\">0.60</span>      <span style=\"color: #008080; text-decoration-color: #008080; font-weight: bold\">2000</span>\nweighted avg       <span style=\"color: #008080; text-decoration-color: #008080; font-weight: bold\">0.65</span>      <span style=\"color: #008080; text-decoration-color: #008080; font-weight: bold\">0.62</span>      <span style=\"color: #008080; text-decoration-color: #008080; font-weight: bold\">0.62</span>      <span style=\"color: #008080; text-decoration-color: #008080; font-weight: bold\">2000</span>\n\n</pre>\n"
     },
     "metadata": {}
    }
   ],
   "source": [
    "print(classification_report(v_y, Y_text_predictions_SVM))\n"
   ]
  },
  {
   "source": [
    "Do the same for the provided model"
   ],
   "cell_type": "markdown",
   "metadata": {}
  },
  {
   "cell_type": "code",
   "execution_count": 8,
   "metadata": {},
   "outputs": [],
   "source": [
    "Y_text_predictions = []\n"
   ]
  },
  {
   "cell_type": "code",
   "execution_count": 9,
   "metadata": {},
   "outputs": [
    {
     "output_type": "stream",
     "name": "stderr",
     "text": [
      "100%|██████████| 2000/2000 [19:09<00:00,  1.74it/s]\n"
     ]
    }
   ],
   "source": [
    "for tweet in tqdm(v_x):\n",
    "    encoded_input = tokenizer(tweet, return_tensors='pt')\n",
    "    output = model(**encoded_input)\n",
    "    scores = output[0][0].detach().numpy()\n",
    "    scores = softmax(scores)\n",
    "    ranking = np.argsort(scores)\n",
    "    ranking = ranking[::-1]\n",
    "    prediction = ranking[0]\n",
    "    Y_text_predictions.append(prediction)"
   ]
  },
  {
   "cell_type": "code",
   "execution_count": 10,
   "metadata": {},
   "outputs": [
    {
     "output_type": "display_data",
     "data": {
      "text/plain": "              precision    recall  f1-score   support\n\n           \u001b[1;36m0\u001b[0m       \u001b[1;36m0.71\u001b[0m      \u001b[1;36m0.83\u001b[0m      \u001b[1;36m0.77\u001b[0m       \u001b[1;36m312\u001b[0m\n           \u001b[1;36m1\u001b[0m       \u001b[1;36m0.78\u001b[0m      \u001b[1;36m0.79\u001b[0m      \u001b[1;36m0.79\u001b[0m       \u001b[1;36m869\u001b[0m\n           \u001b[1;36m2\u001b[0m       \u001b[1;36m0.88\u001b[0m      \u001b[1;36m0.81\u001b[0m      \u001b[1;36m0.85\u001b[0m       \u001b[1;36m819\u001b[0m\n\n    accuracy                           \u001b[1;36m0.81\u001b[0m      \u001b[1;36m2000\u001b[0m\n   macro avg       \u001b[1;36m0.79\u001b[0m      \u001b[1;36m0.81\u001b[0m      \u001b[1;36m0.80\u001b[0m      \u001b[1;36m2000\u001b[0m\nweighted avg       \u001b[1;36m0.81\u001b[0m      \u001b[1;36m0.81\u001b[0m      \u001b[1;36m0.81\u001b[0m      \u001b[1;36m2000\u001b[0m\n\n",
      "text/html": "<pre style=\"white-space:pre;overflow-x:auto;line-height:normal;font-family:Menlo,'DejaVu Sans Mono',consolas,'Courier New',monospace\">              precision    recall  f1-score   support\n\n           <span style=\"color: #008080; text-decoration-color: #008080; font-weight: bold\">0</span>       <span style=\"color: #008080; text-decoration-color: #008080; font-weight: bold\">0.71</span>      <span style=\"color: #008080; text-decoration-color: #008080; font-weight: bold\">0.83</span>      <span style=\"color: #008080; text-decoration-color: #008080; font-weight: bold\">0.77</span>       <span style=\"color: #008080; text-decoration-color: #008080; font-weight: bold\">312</span>\n           <span style=\"color: #008080; text-decoration-color: #008080; font-weight: bold\">1</span>       <span style=\"color: #008080; text-decoration-color: #008080; font-weight: bold\">0.78</span>      <span style=\"color: #008080; text-decoration-color: #008080; font-weight: bold\">0.79</span>      <span style=\"color: #008080; text-decoration-color: #008080; font-weight: bold\">0.79</span>       <span style=\"color: #008080; text-decoration-color: #008080; font-weight: bold\">869</span>\n           <span style=\"color: #008080; text-decoration-color: #008080; font-weight: bold\">2</span>       <span style=\"color: #008080; text-decoration-color: #008080; font-weight: bold\">0.88</span>      <span style=\"color: #008080; text-decoration-color: #008080; font-weight: bold\">0.81</span>      <span style=\"color: #008080; text-decoration-color: #008080; font-weight: bold\">0.85</span>       <span style=\"color: #008080; text-decoration-color: #008080; font-weight: bold\">819</span>\n\n    accuracy                           <span style=\"color: #008080; text-decoration-color: #008080; font-weight: bold\">0.81</span>      <span style=\"color: #008080; text-decoration-color: #008080; font-weight: bold\">2000</span>\n   macro avg       <span style=\"color: #008080; text-decoration-color: #008080; font-weight: bold\">0.79</span>      <span style=\"color: #008080; text-decoration-color: #008080; font-weight: bold\">0.81</span>      <span style=\"color: #008080; text-decoration-color: #008080; font-weight: bold\">0.80</span>      <span style=\"color: #008080; text-decoration-color: #008080; font-weight: bold\">2000</span>\nweighted avg       <span style=\"color: #008080; text-decoration-color: #008080; font-weight: bold\">0.81</span>      <span style=\"color: #008080; text-decoration-color: #008080; font-weight: bold\">0.81</span>      <span style=\"color: #008080; text-decoration-color: #008080; font-weight: bold\">0.81</span>      <span style=\"color: #008080; text-decoration-color: #008080; font-weight: bold\">2000</span>\n\n</pre>\n"
     },
     "metadata": {}
    }
   ],
   "source": [
    "print(classification_report(v_y, Y_text_predictions))"
   ]
  },
  {
   "cell_type": "code",
   "execution_count": 11,
   "metadata": {},
   "outputs": [
    {
     "output_type": "display_data",
     "data": {
      "text/plain": "<Figure size 432x288 with 2 Axes>",
      "image/svg+xml": "<?xml version=\"1.0\" encoding=\"utf-8\" standalone=\"no\"?>\n<!DOCTYPE svg PUBLIC \"-//W3C//DTD SVG 1.1//EN\"\n  \"http://www.w3.org/Graphics/SVG/1.1/DTD/svg11.dtd\">\n<!-- Created with matplotlib (https://matplotlib.org/) -->\n<svg height=\"277.314375pt\" version=\"1.1\" viewBox=\"0 0 355.20375 277.314375\" width=\"355.20375pt\" xmlns=\"http://www.w3.org/2000/svg\" xmlns:xlink=\"http://www.w3.org/1999/xlink\">\n <metadata>\n  <rdf:RDF xmlns:cc=\"http://creativecommons.org/ns#\" xmlns:dc=\"http://purl.org/dc/elements/1.1/\" xmlns:rdf=\"http://www.w3.org/1999/02/22-rdf-syntax-ns#\">\n   <cc:Work>\n    <dc:type rdf:resource=\"http://purl.org/dc/dcmitype/StillImage\"/>\n    <dc:date>2021-05-28T19:17:50.753175</dc:date>\n    <dc:format>image/svg+xml</dc:format>\n    <dc:creator>\n     <cc:Agent>\n      <dc:title>Matplotlib v3.3.4, https://matplotlib.org/</dc:title>\n     </cc:Agent>\n    </dc:creator>\n   </cc:Work>\n  </rdf:RDF>\n </metadata>\n <defs>\n  <style type=\"text/css\">*{stroke-linecap:butt;stroke-linejoin:round;}</style>\n </defs>\n <g id=\"figure_1\">\n  <g id=\"patch_1\">\n   <path d=\"M -0 277.314375 \nL 355.20375 277.314375 \nL 355.20375 0 \nL -0 0 \nz\n\" style=\"fill:none;\"/>\n  </g>\n  <g id=\"axes_1\">\n   <g id=\"patch_2\">\n    <path d=\"M 72.759375 239.758125 \nL 290.199375 239.758125 \nL 290.199375 22.318125 \nL 72.759375 22.318125 \nz\n\" style=\"fill:#ffffff;\"/>\n   </g>\n   <g clip-path=\"url(#p9c9702704c)\">\n    <image height=\"218\" id=\"imaged6c342275a\" transform=\"scale(1 -1)translate(0 -218)\" width=\"218\" x=\"72.759375\" xlink:href=\"data:image/png;base64,\niVBORw0KGgoAAAANSUhEUgAAANoAAADaCAYAAADAHVzbAAACwklEQVR4nO3VsUmDYRiFUf3JBC5hZZMRjCBobZ+Z7EPA0iFcxF7cQUQnsH3eDzxngts83Mu77enngj99HfbTE5b3en6enrC8bXoA/AdCg4DQICA0CAgNAkKDgNAgIDQICA0CQoOA0CAgNAgIDQJCg4DQICA0CAgNAkKDgNAgIDQICA0CQoOA0CAgNAgIDQJCg4DQICA0CAgNAkKDgNAgIDQICA0CQoOA0CAgNAgIDQJCg4DQICA0CAgNAkKDgNAgIDQICA0CQoOA0CAgNAgIDQJCg4DQICA0CAgNAkKDgNAgIDQICA0CQoOA0CAgNAgIDQJCg4DQICA0CAgNAkKDgNAgIDQICA0CQoOA0CAgNAjstpvr6Q1Le3s5TU9Y3sPhOD1heR4NAkKDgNAgIDQICA0CQoOA0CAgNAgIDQJCg4DQICA0CAgNAkKDgNAgIDQICA0CQoOA0CAgNAgIDQJCg4DQICA0CAgNAkKDgNAgIDQICA0CQoOA0CAgNAgIDQJCg4DQICA0CAgNAkKDgNAgIDQICA0CQoOA0CAgNAgIDQJCg4DQICA0CAgNAkKDgNAgIDQICA0CQoOA0CAgNAgIDQJCg4DQICA0CAgNAkKDgNAgIDQICA0CQoOA0CAgNAgIDQJCg4DQILD7uL2a3rC0x/399ITlfX++T09YnkeDgNAgIDQICA0CQoOA0CAgNAgIDQJCg4DQICA0CAgNAkKDgNAgIDQICA0CQoOA0CAgNAgIDQJCg4DQICA0CAgNAkKDgNAgIDQICA0CQoOA0CAgNAgIDQJCg4DQICA0CAgNAkKDgNAgIDQICA0CQoOA0CAgNAgIDQJCg4DQICA0CAgNAkKDgNAgIDQICA0CQoOA0CAgNAgIDQJCg4DQICA0CAgNAkKDgNAgIDQICA0CQoOA0CAgNAgIDQJCg4DQICA0CAgNAr9EUg6bqbbCcgAAAABJRU5ErkJggg==\" y=\"-21.758125\"/>\n   </g>\n   <g id=\"matplotlib.axis_1\">\n    <g id=\"xtick_1\">\n     <g id=\"line2d_1\">\n      <defs>\n       <path d=\"M 0 0 \nL 0 3.5 \n\" id=\"mf9b45f52a3\" style=\"stroke:#000000;stroke-width:0.8;\"/>\n      </defs>\n      <g>\n       <use style=\"stroke:#000000;stroke-width:0.8;\" x=\"108.999375\" xlink:href=\"#mf9b45f52a3\" y=\"239.758125\"/>\n      </g>\n     </g>\n     <g id=\"text_1\">\n      <!-- Negative -->\n      <g transform=\"translate(86.55875 254.356562)scale(0.1 -0.1)\">\n       <defs>\n        <path d=\"M 9.8125 72.90625 \nL 23.09375 72.90625 \nL 55.421875 11.921875 \nL 55.421875 72.90625 \nL 64.984375 72.90625 \nL 64.984375 0 \nL 51.703125 0 \nL 19.390625 60.984375 \nL 19.390625 0 \nL 9.8125 0 \nz\n\" id=\"DejaVuSans-78\"/>\n        <path d=\"M 56.203125 29.59375 \nL 56.203125 25.203125 \nL 14.890625 25.203125 \nQ 15.484375 15.921875 20.484375 11.0625 \nQ 25.484375 6.203125 34.421875 6.203125 \nQ 39.59375 6.203125 44.453125 7.46875 \nQ 49.3125 8.734375 54.109375 11.28125 \nL 54.109375 2.78125 \nQ 49.265625 0.734375 44.1875 -0.34375 \nQ 39.109375 -1.421875 33.890625 -1.421875 \nQ 20.796875 -1.421875 13.15625 6.1875 \nQ 5.515625 13.8125 5.515625 26.8125 \nQ 5.515625 40.234375 12.765625 48.109375 \nQ 20.015625 56 32.328125 56 \nQ 43.359375 56 49.78125 48.890625 \nQ 56.203125 41.796875 56.203125 29.59375 \nz\nM 47.21875 32.234375 \nQ 47.125 39.59375 43.09375 43.984375 \nQ 39.0625 48.390625 32.421875 48.390625 \nQ 24.90625 48.390625 20.390625 44.140625 \nQ 15.875 39.890625 15.1875 32.171875 \nz\n\" id=\"DejaVuSans-101\"/>\n        <path d=\"M 45.40625 27.984375 \nQ 45.40625 37.75 41.375 43.109375 \nQ 37.359375 48.484375 30.078125 48.484375 \nQ 22.859375 48.484375 18.828125 43.109375 \nQ 14.796875 37.75 14.796875 27.984375 \nQ 14.796875 18.265625 18.828125 12.890625 \nQ 22.859375 7.515625 30.078125 7.515625 \nQ 37.359375 7.515625 41.375 12.890625 \nQ 45.40625 18.265625 45.40625 27.984375 \nz\nM 54.390625 6.78125 \nQ 54.390625 -7.171875 48.1875 -13.984375 \nQ 42 -20.796875 29.203125 -20.796875 \nQ 24.46875 -20.796875 20.265625 -20.09375 \nQ 16.0625 -19.390625 12.109375 -17.921875 \nL 12.109375 -9.1875 \nQ 16.0625 -11.328125 19.921875 -12.34375 \nQ 23.78125 -13.375 27.78125 -13.375 \nQ 36.625 -13.375 41.015625 -8.765625 \nQ 45.40625 -4.15625 45.40625 5.171875 \nL 45.40625 9.625 \nQ 42.625 4.78125 38.28125 2.390625 \nQ 33.9375 0 27.875 0 \nQ 17.828125 0 11.671875 7.65625 \nQ 5.515625 15.328125 5.515625 27.984375 \nQ 5.515625 40.671875 11.671875 48.328125 \nQ 17.828125 56 27.875 56 \nQ 33.9375 56 38.28125 53.609375 \nQ 42.625 51.21875 45.40625 46.390625 \nL 45.40625 54.6875 \nL 54.390625 54.6875 \nz\n\" id=\"DejaVuSans-103\"/>\n        <path d=\"M 34.28125 27.484375 \nQ 23.390625 27.484375 19.1875 25 \nQ 14.984375 22.515625 14.984375 16.5 \nQ 14.984375 11.71875 18.140625 8.90625 \nQ 21.296875 6.109375 26.703125 6.109375 \nQ 34.1875 6.109375 38.703125 11.40625 \nQ 43.21875 16.703125 43.21875 25.484375 \nL 43.21875 27.484375 \nz\nM 52.203125 31.203125 \nL 52.203125 0 \nL 43.21875 0 \nL 43.21875 8.296875 \nQ 40.140625 3.328125 35.546875 0.953125 \nQ 30.953125 -1.421875 24.3125 -1.421875 \nQ 15.921875 -1.421875 10.953125 3.296875 \nQ 6 8.015625 6 15.921875 \nQ 6 25.140625 12.171875 29.828125 \nQ 18.359375 34.515625 30.609375 34.515625 \nL 43.21875 34.515625 \nL 43.21875 35.40625 \nQ 43.21875 41.609375 39.140625 45 \nQ 35.0625 48.390625 27.6875 48.390625 \nQ 23 48.390625 18.546875 47.265625 \nQ 14.109375 46.140625 10.015625 43.890625 \nL 10.015625 52.203125 \nQ 14.9375 54.109375 19.578125 55.046875 \nQ 24.21875 56 28.609375 56 \nQ 40.484375 56 46.34375 49.84375 \nQ 52.203125 43.703125 52.203125 31.203125 \nz\n\" id=\"DejaVuSans-97\"/>\n        <path d=\"M 18.3125 70.21875 \nL 18.3125 54.6875 \nL 36.8125 54.6875 \nL 36.8125 47.703125 \nL 18.3125 47.703125 \nL 18.3125 18.015625 \nQ 18.3125 11.328125 20.140625 9.421875 \nQ 21.96875 7.515625 27.59375 7.515625 \nL 36.8125 7.515625 \nL 36.8125 0 \nL 27.59375 0 \nQ 17.1875 0 13.234375 3.875 \nQ 9.28125 7.765625 9.28125 18.015625 \nL 9.28125 47.703125 \nL 2.6875 47.703125 \nL 2.6875 54.6875 \nL 9.28125 54.6875 \nL 9.28125 70.21875 \nz\n\" id=\"DejaVuSans-116\"/>\n        <path d=\"M 9.421875 54.6875 \nL 18.40625 54.6875 \nL 18.40625 0 \nL 9.421875 0 \nz\nM 9.421875 75.984375 \nL 18.40625 75.984375 \nL 18.40625 64.59375 \nL 9.421875 64.59375 \nz\n\" id=\"DejaVuSans-105\"/>\n        <path d=\"M 2.984375 54.6875 \nL 12.5 54.6875 \nL 29.59375 8.796875 \nL 46.6875 54.6875 \nL 56.203125 54.6875 \nL 35.6875 0 \nL 23.484375 0 \nz\n\" id=\"DejaVuSans-118\"/>\n       </defs>\n       <use xlink:href=\"#DejaVuSans-78\"/>\n       <use x=\"74.804688\" xlink:href=\"#DejaVuSans-101\"/>\n       <use x=\"136.328125\" xlink:href=\"#DejaVuSans-103\"/>\n       <use x=\"199.804688\" xlink:href=\"#DejaVuSans-97\"/>\n       <use x=\"261.083984\" xlink:href=\"#DejaVuSans-116\"/>\n       <use x=\"300.292969\" xlink:href=\"#DejaVuSans-105\"/>\n       <use x=\"328.076172\" xlink:href=\"#DejaVuSans-118\"/>\n       <use x=\"387.255859\" xlink:href=\"#DejaVuSans-101\"/>\n      </g>\n     </g>\n    </g>\n    <g id=\"xtick_2\">\n     <g id=\"line2d_2\">\n      <g>\n       <use style=\"stroke:#000000;stroke-width:0.8;\" x=\"181.479375\" xlink:href=\"#mf9b45f52a3\" y=\"239.758125\"/>\n      </g>\n     </g>\n     <g id=\"text_2\">\n      <!-- Neutral -->\n      <g transform=\"translate(163.024687 254.356562)scale(0.1 -0.1)\">\n       <defs>\n        <path d=\"M 8.5 21.578125 \nL 8.5 54.6875 \nL 17.484375 54.6875 \nL 17.484375 21.921875 \nQ 17.484375 14.15625 20.5 10.265625 \nQ 23.53125 6.390625 29.59375 6.390625 \nQ 36.859375 6.390625 41.078125 11.03125 \nQ 45.3125 15.671875 45.3125 23.6875 \nL 45.3125 54.6875 \nL 54.296875 54.6875 \nL 54.296875 0 \nL 45.3125 0 \nL 45.3125 8.40625 \nQ 42.046875 3.421875 37.71875 1 \nQ 33.40625 -1.421875 27.6875 -1.421875 \nQ 18.265625 -1.421875 13.375 4.4375 \nQ 8.5 10.296875 8.5 21.578125 \nz\nM 31.109375 56 \nz\n\" id=\"DejaVuSans-117\"/>\n        <path d=\"M 41.109375 46.296875 \nQ 39.59375 47.171875 37.8125 47.578125 \nQ 36.03125 48 33.890625 48 \nQ 26.265625 48 22.1875 43.046875 \nQ 18.109375 38.09375 18.109375 28.8125 \nL 18.109375 0 \nL 9.078125 0 \nL 9.078125 54.6875 \nL 18.109375 54.6875 \nL 18.109375 46.1875 \nQ 20.953125 51.171875 25.484375 53.578125 \nQ 30.03125 56 36.53125 56 \nQ 37.453125 56 38.578125 55.875 \nQ 39.703125 55.765625 41.0625 55.515625 \nz\n\" id=\"DejaVuSans-114\"/>\n        <path d=\"M 9.421875 75.984375 \nL 18.40625 75.984375 \nL 18.40625 0 \nL 9.421875 0 \nz\n\" id=\"DejaVuSans-108\"/>\n       </defs>\n       <use xlink:href=\"#DejaVuSans-78\"/>\n       <use x=\"74.804688\" xlink:href=\"#DejaVuSans-101\"/>\n       <use x=\"136.328125\" xlink:href=\"#DejaVuSans-117\"/>\n       <use x=\"199.707031\" xlink:href=\"#DejaVuSans-116\"/>\n       <use x=\"238.916016\" xlink:href=\"#DejaVuSans-114\"/>\n       <use x=\"280.029297\" xlink:href=\"#DejaVuSans-97\"/>\n       <use x=\"341.308594\" xlink:href=\"#DejaVuSans-108\"/>\n      </g>\n     </g>\n    </g>\n    <g id=\"xtick_3\">\n     <g id=\"line2d_3\">\n      <g>\n       <use style=\"stroke:#000000;stroke-width:0.8;\" x=\"253.959375\" xlink:href=\"#mf9b45f52a3\" y=\"239.758125\"/>\n      </g>\n     </g>\n     <g id=\"text_3\">\n      <!-- Positive -->\n      <g transform=\"translate(234.6875 254.356562)scale(0.1 -0.1)\">\n       <defs>\n        <path d=\"M 19.671875 64.796875 \nL 19.671875 37.40625 \nL 32.078125 37.40625 \nQ 38.96875 37.40625 42.71875 40.96875 \nQ 46.484375 44.53125 46.484375 51.125 \nQ 46.484375 57.671875 42.71875 61.234375 \nQ 38.96875 64.796875 32.078125 64.796875 \nz\nM 9.8125 72.90625 \nL 32.078125 72.90625 \nQ 44.34375 72.90625 50.609375 67.359375 \nQ 56.890625 61.8125 56.890625 51.125 \nQ 56.890625 40.328125 50.609375 34.8125 \nQ 44.34375 29.296875 32.078125 29.296875 \nL 19.671875 29.296875 \nL 19.671875 0 \nL 9.8125 0 \nz\n\" id=\"DejaVuSans-80\"/>\n        <path d=\"M 30.609375 48.390625 \nQ 23.390625 48.390625 19.1875 42.75 \nQ 14.984375 37.109375 14.984375 27.296875 \nQ 14.984375 17.484375 19.15625 11.84375 \nQ 23.34375 6.203125 30.609375 6.203125 \nQ 37.796875 6.203125 41.984375 11.859375 \nQ 46.1875 17.53125 46.1875 27.296875 \nQ 46.1875 37.015625 41.984375 42.703125 \nQ 37.796875 48.390625 30.609375 48.390625 \nz\nM 30.609375 56 \nQ 42.328125 56 49.015625 48.375 \nQ 55.71875 40.765625 55.71875 27.296875 \nQ 55.71875 13.875 49.015625 6.21875 \nQ 42.328125 -1.421875 30.609375 -1.421875 \nQ 18.84375 -1.421875 12.171875 6.21875 \nQ 5.515625 13.875 5.515625 27.296875 \nQ 5.515625 40.765625 12.171875 48.375 \nQ 18.84375 56 30.609375 56 \nz\n\" id=\"DejaVuSans-111\"/>\n        <path d=\"M 44.28125 53.078125 \nL 44.28125 44.578125 \nQ 40.484375 46.53125 36.375 47.5 \nQ 32.28125 48.484375 27.875 48.484375 \nQ 21.1875 48.484375 17.84375 46.4375 \nQ 14.5 44.390625 14.5 40.28125 \nQ 14.5 37.15625 16.890625 35.375 \nQ 19.28125 33.59375 26.515625 31.984375 \nL 29.59375 31.296875 \nQ 39.15625 29.25 43.1875 25.515625 \nQ 47.21875 21.78125 47.21875 15.09375 \nQ 47.21875 7.46875 41.1875 3.015625 \nQ 35.15625 -1.421875 24.609375 -1.421875 \nQ 20.21875 -1.421875 15.453125 -0.5625 \nQ 10.6875 0.296875 5.421875 2 \nL 5.421875 11.28125 \nQ 10.40625 8.6875 15.234375 7.390625 \nQ 20.0625 6.109375 24.8125 6.109375 \nQ 31.15625 6.109375 34.5625 8.28125 \nQ 37.984375 10.453125 37.984375 14.40625 \nQ 37.984375 18.0625 35.515625 20.015625 \nQ 33.0625 21.96875 24.703125 23.78125 \nL 21.578125 24.515625 \nQ 13.234375 26.265625 9.515625 29.90625 \nQ 5.8125 33.546875 5.8125 39.890625 \nQ 5.8125 47.609375 11.28125 51.796875 \nQ 16.75 56 26.8125 56 \nQ 31.78125 56 36.171875 55.265625 \nQ 40.578125 54.546875 44.28125 53.078125 \nz\n\" id=\"DejaVuSans-115\"/>\n       </defs>\n       <use xlink:href=\"#DejaVuSans-80\"/>\n       <use x=\"56.677734\" xlink:href=\"#DejaVuSans-111\"/>\n       <use x=\"117.859375\" xlink:href=\"#DejaVuSans-115\"/>\n       <use x=\"169.958984\" xlink:href=\"#DejaVuSans-105\"/>\n       <use x=\"197.742188\" xlink:href=\"#DejaVuSans-116\"/>\n       <use x=\"236.951172\" xlink:href=\"#DejaVuSans-105\"/>\n       <use x=\"264.734375\" xlink:href=\"#DejaVuSans-118\"/>\n       <use x=\"323.914062\" xlink:href=\"#DejaVuSans-101\"/>\n      </g>\n     </g>\n    </g>\n    <g id=\"text_4\">\n     <!-- Predicted label -->\n     <g transform=\"translate(144.327031 268.034687)scale(0.1 -0.1)\">\n      <defs>\n       <path d=\"M 45.40625 46.390625 \nL 45.40625 75.984375 \nL 54.390625 75.984375 \nL 54.390625 0 \nL 45.40625 0 \nL 45.40625 8.203125 \nQ 42.578125 3.328125 38.25 0.953125 \nQ 33.9375 -1.421875 27.875 -1.421875 \nQ 17.96875 -1.421875 11.734375 6.484375 \nQ 5.515625 14.40625 5.515625 27.296875 \nQ 5.515625 40.1875 11.734375 48.09375 \nQ 17.96875 56 27.875 56 \nQ 33.9375 56 38.25 53.625 \nQ 42.578125 51.265625 45.40625 46.390625 \nz\nM 14.796875 27.296875 \nQ 14.796875 17.390625 18.875 11.75 \nQ 22.953125 6.109375 30.078125 6.109375 \nQ 37.203125 6.109375 41.296875 11.75 \nQ 45.40625 17.390625 45.40625 27.296875 \nQ 45.40625 37.203125 41.296875 42.84375 \nQ 37.203125 48.484375 30.078125 48.484375 \nQ 22.953125 48.484375 18.875 42.84375 \nQ 14.796875 37.203125 14.796875 27.296875 \nz\n\" id=\"DejaVuSans-100\"/>\n       <path d=\"M 48.78125 52.59375 \nL 48.78125 44.1875 \nQ 44.96875 46.296875 41.140625 47.34375 \nQ 37.3125 48.390625 33.40625 48.390625 \nQ 24.65625 48.390625 19.8125 42.84375 \nQ 14.984375 37.3125 14.984375 27.296875 \nQ 14.984375 17.28125 19.8125 11.734375 \nQ 24.65625 6.203125 33.40625 6.203125 \nQ 37.3125 6.203125 41.140625 7.25 \nQ 44.96875 8.296875 48.78125 10.40625 \nL 48.78125 2.09375 \nQ 45.015625 0.34375 40.984375 -0.53125 \nQ 36.96875 -1.421875 32.421875 -1.421875 \nQ 20.0625 -1.421875 12.78125 6.34375 \nQ 5.515625 14.109375 5.515625 27.296875 \nQ 5.515625 40.671875 12.859375 48.328125 \nQ 20.21875 56 33.015625 56 \nQ 37.15625 56 41.109375 55.140625 \nQ 45.0625 54.296875 48.78125 52.59375 \nz\n\" id=\"DejaVuSans-99\"/>\n       <path id=\"DejaVuSans-32\"/>\n       <path d=\"M 48.6875 27.296875 \nQ 48.6875 37.203125 44.609375 42.84375 \nQ 40.53125 48.484375 33.40625 48.484375 \nQ 26.265625 48.484375 22.1875 42.84375 \nQ 18.109375 37.203125 18.109375 27.296875 \nQ 18.109375 17.390625 22.1875 11.75 \nQ 26.265625 6.109375 33.40625 6.109375 \nQ 40.53125 6.109375 44.609375 11.75 \nQ 48.6875 17.390625 48.6875 27.296875 \nz\nM 18.109375 46.390625 \nQ 20.953125 51.265625 25.265625 53.625 \nQ 29.59375 56 35.59375 56 \nQ 45.5625 56 51.78125 48.09375 \nQ 58.015625 40.1875 58.015625 27.296875 \nQ 58.015625 14.40625 51.78125 6.484375 \nQ 45.5625 -1.421875 35.59375 -1.421875 \nQ 29.59375 -1.421875 25.265625 0.953125 \nQ 20.953125 3.328125 18.109375 8.203125 \nL 18.109375 0 \nL 9.078125 0 \nL 9.078125 75.984375 \nL 18.109375 75.984375 \nz\n\" id=\"DejaVuSans-98\"/>\n      </defs>\n      <use xlink:href=\"#DejaVuSans-80\"/>\n      <use x=\"58.552734\" xlink:href=\"#DejaVuSans-114\"/>\n      <use x=\"97.416016\" xlink:href=\"#DejaVuSans-101\"/>\n      <use x=\"158.939453\" xlink:href=\"#DejaVuSans-100\"/>\n      <use x=\"222.416016\" xlink:href=\"#DejaVuSans-105\"/>\n      <use x=\"250.199219\" xlink:href=\"#DejaVuSans-99\"/>\n      <use x=\"305.179688\" xlink:href=\"#DejaVuSans-116\"/>\n      <use x=\"344.388672\" xlink:href=\"#DejaVuSans-101\"/>\n      <use x=\"405.912109\" xlink:href=\"#DejaVuSans-100\"/>\n      <use x=\"469.388672\" xlink:href=\"#DejaVuSans-32\"/>\n      <use x=\"501.175781\" xlink:href=\"#DejaVuSans-108\"/>\n      <use x=\"528.958984\" xlink:href=\"#DejaVuSans-97\"/>\n      <use x=\"590.238281\" xlink:href=\"#DejaVuSans-98\"/>\n      <use x=\"653.714844\" xlink:href=\"#DejaVuSans-101\"/>\n      <use x=\"715.238281\" xlink:href=\"#DejaVuSans-108\"/>\n     </g>\n    </g>\n   </g>\n   <g id=\"matplotlib.axis_2\">\n    <g id=\"ytick_1\">\n     <g id=\"line2d_4\">\n      <defs>\n       <path d=\"M 0 0 \nL -3.5 0 \n\" id=\"m81fcfe4c47\" style=\"stroke:#000000;stroke-width:0.8;\"/>\n      </defs>\n      <g>\n       <use style=\"stroke:#000000;stroke-width:0.8;\" x=\"72.759375\" xlink:href=\"#m81fcfe4c47\" y=\"58.558125\"/>\n      </g>\n     </g>\n     <g id=\"text_5\">\n      <!-- Negative -->\n      <g transform=\"translate(20.878125 62.357344)scale(0.1 -0.1)\">\n       <use xlink:href=\"#DejaVuSans-78\"/>\n       <use x=\"74.804688\" xlink:href=\"#DejaVuSans-101\"/>\n       <use x=\"136.328125\" xlink:href=\"#DejaVuSans-103\"/>\n       <use x=\"199.804688\" xlink:href=\"#DejaVuSans-97\"/>\n       <use x=\"261.083984\" xlink:href=\"#DejaVuSans-116\"/>\n       <use x=\"300.292969\" xlink:href=\"#DejaVuSans-105\"/>\n       <use x=\"328.076172\" xlink:href=\"#DejaVuSans-118\"/>\n       <use x=\"387.255859\" xlink:href=\"#DejaVuSans-101\"/>\n      </g>\n     </g>\n    </g>\n    <g id=\"ytick_2\">\n     <g id=\"line2d_5\">\n      <g>\n       <use style=\"stroke:#000000;stroke-width:0.8;\" x=\"72.759375\" xlink:href=\"#m81fcfe4c47\" y=\"131.038125\"/>\n      </g>\n     </g>\n     <g id=\"text_6\">\n      <!-- Neutral -->\n      <g transform=\"translate(28.85 134.837344)scale(0.1 -0.1)\">\n       <use xlink:href=\"#DejaVuSans-78\"/>\n       <use x=\"74.804688\" xlink:href=\"#DejaVuSans-101\"/>\n       <use x=\"136.328125\" xlink:href=\"#DejaVuSans-117\"/>\n       <use x=\"199.707031\" xlink:href=\"#DejaVuSans-116\"/>\n       <use x=\"238.916016\" xlink:href=\"#DejaVuSans-114\"/>\n       <use x=\"280.029297\" xlink:href=\"#DejaVuSans-97\"/>\n       <use x=\"341.308594\" xlink:href=\"#DejaVuSans-108\"/>\n      </g>\n     </g>\n    </g>\n    <g id=\"ytick_3\">\n     <g id=\"line2d_6\">\n      <g>\n       <use style=\"stroke:#000000;stroke-width:0.8;\" x=\"72.759375\" xlink:href=\"#m81fcfe4c47\" y=\"203.518125\"/>\n      </g>\n     </g>\n     <g id=\"text_7\">\n      <!-- Positive -->\n      <g transform=\"translate(27.215625 207.317344)scale(0.1 -0.1)\">\n       <use xlink:href=\"#DejaVuSans-80\"/>\n       <use x=\"56.677734\" xlink:href=\"#DejaVuSans-111\"/>\n       <use x=\"117.859375\" xlink:href=\"#DejaVuSans-115\"/>\n       <use x=\"169.958984\" xlink:href=\"#DejaVuSans-105\"/>\n       <use x=\"197.742188\" xlink:href=\"#DejaVuSans-116\"/>\n       <use x=\"236.951172\" xlink:href=\"#DejaVuSans-105\"/>\n       <use x=\"264.734375\" xlink:href=\"#DejaVuSans-118\"/>\n       <use x=\"323.914062\" xlink:href=\"#DejaVuSans-101\"/>\n      </g>\n     </g>\n    </g>\n    <g id=\"text_8\">\n     <!-- True label -->\n     <g transform=\"translate(14.798438 155.337344)rotate(-90)scale(0.1 -0.1)\">\n      <defs>\n       <path d=\"M -0.296875 72.90625 \nL 61.375 72.90625 \nL 61.375 64.59375 \nL 35.5 64.59375 \nL 35.5 0 \nL 25.59375 0 \nL 25.59375 64.59375 \nL -0.296875 64.59375 \nz\n\" id=\"DejaVuSans-84\"/>\n      </defs>\n      <use xlink:href=\"#DejaVuSans-84\"/>\n      <use x=\"46.333984\" xlink:href=\"#DejaVuSans-114\"/>\n      <use x=\"87.447266\" xlink:href=\"#DejaVuSans-117\"/>\n      <use x=\"150.826172\" xlink:href=\"#DejaVuSans-101\"/>\n      <use x=\"212.349609\" xlink:href=\"#DejaVuSans-32\"/>\n      <use x=\"244.136719\" xlink:href=\"#DejaVuSans-108\"/>\n      <use x=\"271.919922\" xlink:href=\"#DejaVuSans-97\"/>\n      <use x=\"333.199219\" xlink:href=\"#DejaVuSans-98\"/>\n      <use x=\"396.675781\" xlink:href=\"#DejaVuSans-101\"/>\n      <use x=\"458.199219\" xlink:href=\"#DejaVuSans-108\"/>\n     </g>\n    </g>\n   </g>\n   <g id=\"patch_3\">\n    <path d=\"M 72.759375 239.758125 \nL 72.759375 22.318125 \n\" style=\"fill:none;stroke:#000000;stroke-linecap:square;stroke-linejoin:miter;stroke-width:0.8;\"/>\n   </g>\n   <g id=\"patch_4\">\n    <path d=\"M 290.199375 239.758125 \nL 290.199375 22.318125 \n\" style=\"fill:none;stroke:#000000;stroke-linecap:square;stroke-linejoin:miter;stroke-width:0.8;\"/>\n   </g>\n   <g id=\"patch_5\">\n    <path d=\"M 72.759375 239.758125 \nL 290.199375 239.758125 \n\" style=\"fill:none;stroke:#000000;stroke-linecap:square;stroke-linejoin:miter;stroke-width:0.8;\"/>\n   </g>\n   <g id=\"patch_6\">\n    <path d=\"M 72.759375 22.318125 \nL 290.199375 22.318125 \n\" style=\"fill:none;stroke:#000000;stroke-linecap:square;stroke-linejoin:miter;stroke-width:0.8;\"/>\n   </g>\n   <g id=\"text_9\">\n    <!-- 258 -->\n    <g style=\"fill:#fde725;\" transform=\"translate(99.455625 61.3175)scale(0.1 -0.1)\">\n     <defs>\n      <path d=\"M 19.1875 8.296875 \nL 53.609375 8.296875 \nL 53.609375 0 \nL 7.328125 0 \nL 7.328125 8.296875 \nQ 12.9375 14.109375 22.625 23.890625 \nQ 32.328125 33.6875 34.8125 36.53125 \nQ 39.546875 41.84375 41.421875 45.53125 \nQ 43.3125 49.21875 43.3125 52.78125 \nQ 43.3125 58.59375 39.234375 62.25 \nQ 35.15625 65.921875 28.609375 65.921875 \nQ 23.96875 65.921875 18.8125 64.3125 \nQ 13.671875 62.703125 7.8125 59.421875 \nL 7.8125 69.390625 \nQ 13.765625 71.78125 18.9375 73 \nQ 24.125 74.21875 28.421875 74.21875 \nQ 39.75 74.21875 46.484375 68.546875 \nQ 53.21875 62.890625 53.21875 53.421875 \nQ 53.21875 48.921875 51.53125 44.890625 \nQ 49.859375 40.875 45.40625 35.40625 \nQ 44.1875 33.984375 37.640625 27.21875 \nQ 31.109375 20.453125 19.1875 8.296875 \nz\n\" id=\"DejaVuSans-50\"/>\n      <path d=\"M 10.796875 72.90625 \nL 49.515625 72.90625 \nL 49.515625 64.59375 \nL 19.828125 64.59375 \nL 19.828125 46.734375 \nQ 21.96875 47.46875 24.109375 47.828125 \nQ 26.265625 48.1875 28.421875 48.1875 \nQ 40.625 48.1875 47.75 41.5 \nQ 54.890625 34.8125 54.890625 23.390625 \nQ 54.890625 11.625 47.5625 5.09375 \nQ 40.234375 -1.421875 26.90625 -1.421875 \nQ 22.3125 -1.421875 17.546875 -0.640625 \nQ 12.796875 0.140625 7.71875 1.703125 \nL 7.71875 11.625 \nQ 12.109375 9.234375 16.796875 8.0625 \nQ 21.484375 6.890625 26.703125 6.890625 \nQ 35.15625 6.890625 40.078125 11.328125 \nQ 45.015625 15.765625 45.015625 23.390625 \nQ 45.015625 31 40.078125 35.4375 \nQ 35.15625 39.890625 26.703125 39.890625 \nQ 22.75 39.890625 18.8125 39.015625 \nQ 14.890625 38.140625 10.796875 36.28125 \nz\n\" id=\"DejaVuSans-53\"/>\n      <path d=\"M 31.78125 34.625 \nQ 24.75 34.625 20.71875 30.859375 \nQ 16.703125 27.09375 16.703125 20.515625 \nQ 16.703125 13.921875 20.71875 10.15625 \nQ 24.75 6.390625 31.78125 6.390625 \nQ 38.8125 6.390625 42.859375 10.171875 \nQ 46.921875 13.96875 46.921875 20.515625 \nQ 46.921875 27.09375 42.890625 30.859375 \nQ 38.875 34.625 31.78125 34.625 \nz\nM 21.921875 38.8125 \nQ 15.578125 40.375 12.03125 44.71875 \nQ 8.5 49.078125 8.5 55.328125 \nQ 8.5 64.0625 14.71875 69.140625 \nQ 20.953125 74.21875 31.78125 74.21875 \nQ 42.671875 74.21875 48.875 69.140625 \nQ 55.078125 64.0625 55.078125 55.328125 \nQ 55.078125 49.078125 51.53125 44.71875 \nQ 48 40.375 41.703125 38.8125 \nQ 48.828125 37.15625 52.796875 32.3125 \nQ 56.78125 27.484375 56.78125 20.515625 \nQ 56.78125 9.90625 50.3125 4.234375 \nQ 43.84375 -1.421875 31.78125 -1.421875 \nQ 19.734375 -1.421875 13.25 4.234375 \nQ 6.78125 9.90625 6.78125 20.515625 \nQ 6.78125 27.484375 10.78125 32.3125 \nQ 14.796875 37.15625 21.921875 38.8125 \nz\nM 18.3125 54.390625 \nQ 18.3125 48.734375 21.84375 45.5625 \nQ 25.390625 42.390625 31.78125 42.390625 \nQ 38.140625 42.390625 41.71875 45.5625 \nQ 45.3125 48.734375 45.3125 54.390625 \nQ 45.3125 60.0625 41.71875 63.234375 \nQ 38.140625 66.40625 31.78125 66.40625 \nQ 25.390625 66.40625 21.84375 63.234375 \nQ 18.3125 60.0625 18.3125 54.390625 \nz\n\" id=\"DejaVuSans-56\"/>\n     </defs>\n     <use xlink:href=\"#DejaVuSans-50\"/>\n     <use x=\"63.623047\" xlink:href=\"#DejaVuSans-53\"/>\n     <use x=\"127.246094\" xlink:href=\"#DejaVuSans-56\"/>\n    </g>\n   </g>\n   <g id=\"text_10\">\n    <!-- 51 -->\n    <g style=\"fill:#fde725;\" transform=\"translate(175.116875 61.3175)scale(0.1 -0.1)\">\n     <defs>\n      <path d=\"M 12.40625 8.296875 \nL 28.515625 8.296875 \nL 28.515625 63.921875 \nL 10.984375 60.40625 \nL 10.984375 69.390625 \nL 28.421875 72.90625 \nL 38.28125 72.90625 \nL 38.28125 8.296875 \nL 54.390625 8.296875 \nL 54.390625 0 \nL 12.40625 0 \nz\n\" id=\"DejaVuSans-49\"/>\n     </defs>\n     <use xlink:href=\"#DejaVuSans-53\"/>\n     <use x=\"63.623047\" xlink:href=\"#DejaVuSans-49\"/>\n    </g>\n   </g>\n   <g id=\"text_11\">\n    <!-- 3 -->\n    <g style=\"fill:#fde725;\" transform=\"translate(250.778125 61.3175)scale(0.1 -0.1)\">\n     <defs>\n      <path d=\"M 40.578125 39.3125 \nQ 47.65625 37.796875 51.625 33 \nQ 55.609375 28.21875 55.609375 21.1875 \nQ 55.609375 10.40625 48.1875 4.484375 \nQ 40.765625 -1.421875 27.09375 -1.421875 \nQ 22.515625 -1.421875 17.65625 -0.515625 \nQ 12.796875 0.390625 7.625 2.203125 \nL 7.625 11.71875 \nQ 11.71875 9.328125 16.59375 8.109375 \nQ 21.484375 6.890625 26.8125 6.890625 \nQ 36.078125 6.890625 40.9375 10.546875 \nQ 45.796875 14.203125 45.796875 21.1875 \nQ 45.796875 27.640625 41.28125 31.265625 \nQ 36.765625 34.90625 28.71875 34.90625 \nL 20.21875 34.90625 \nL 20.21875 43.015625 \nL 29.109375 43.015625 \nQ 36.375 43.015625 40.234375 45.921875 \nQ 44.09375 48.828125 44.09375 54.296875 \nQ 44.09375 59.90625 40.109375 62.90625 \nQ 36.140625 65.921875 28.71875 65.921875 \nQ 24.65625 65.921875 20.015625 65.03125 \nQ 15.375 64.15625 9.8125 62.3125 \nL 9.8125 71.09375 \nQ 15.4375 72.65625 20.34375 73.4375 \nQ 25.25 74.21875 29.59375 74.21875 \nQ 40.828125 74.21875 47.359375 69.109375 \nQ 53.90625 64.015625 53.90625 55.328125 \nQ 53.90625 49.265625 50.4375 45.09375 \nQ 46.96875 40.921875 40.578125 39.3125 \nz\n\" id=\"DejaVuSans-51\"/>\n     </defs>\n     <use xlink:href=\"#DejaVuSans-51\"/>\n    </g>\n   </g>\n   <g id=\"text_12\">\n    <!-- 95 -->\n    <g style=\"fill:#fde725;\" transform=\"translate(102.636875 133.7975)scale(0.1 -0.1)\">\n     <defs>\n      <path d=\"M 10.984375 1.515625 \nL 10.984375 10.5 \nQ 14.703125 8.734375 18.5 7.8125 \nQ 22.3125 6.890625 25.984375 6.890625 \nQ 35.75 6.890625 40.890625 13.453125 \nQ 46.046875 20.015625 46.78125 33.40625 \nQ 43.953125 29.203125 39.59375 26.953125 \nQ 35.25 24.703125 29.984375 24.703125 \nQ 19.046875 24.703125 12.671875 31.3125 \nQ 6.296875 37.9375 6.296875 49.421875 \nQ 6.296875 60.640625 12.9375 67.421875 \nQ 19.578125 74.21875 30.609375 74.21875 \nQ 43.265625 74.21875 49.921875 64.515625 \nQ 56.59375 54.828125 56.59375 36.375 \nQ 56.59375 19.140625 48.40625 8.859375 \nQ 40.234375 -1.421875 26.421875 -1.421875 \nQ 22.703125 -1.421875 18.890625 -0.6875 \nQ 15.09375 0.046875 10.984375 1.515625 \nz\nM 30.609375 32.421875 \nQ 37.25 32.421875 41.125 36.953125 \nQ 45.015625 41.5 45.015625 49.421875 \nQ 45.015625 57.28125 41.125 61.84375 \nQ 37.25 66.40625 30.609375 66.40625 \nQ 23.96875 66.40625 20.09375 61.84375 \nQ 16.21875 57.28125 16.21875 49.421875 \nQ 16.21875 41.5 20.09375 36.953125 \nQ 23.96875 32.421875 30.609375 32.421875 \nz\n\" id=\"DejaVuSans-57\"/>\n     </defs>\n     <use xlink:href=\"#DejaVuSans-57\"/>\n     <use x=\"63.623047\" xlink:href=\"#DejaVuSans-53\"/>\n    </g>\n   </g>\n   <g id=\"text_13\">\n    <!-- 689 -->\n    <g style=\"fill:#440154;\" transform=\"translate(171.935625 133.7975)scale(0.1 -0.1)\">\n     <defs>\n      <path d=\"M 33.015625 40.375 \nQ 26.375 40.375 22.484375 35.828125 \nQ 18.609375 31.296875 18.609375 23.390625 \nQ 18.609375 15.53125 22.484375 10.953125 \nQ 26.375 6.390625 33.015625 6.390625 \nQ 39.65625 6.390625 43.53125 10.953125 \nQ 47.40625 15.53125 47.40625 23.390625 \nQ 47.40625 31.296875 43.53125 35.828125 \nQ 39.65625 40.375 33.015625 40.375 \nz\nM 52.59375 71.296875 \nL 52.59375 62.3125 \nQ 48.875 64.0625 45.09375 64.984375 \nQ 41.3125 65.921875 37.59375 65.921875 \nQ 27.828125 65.921875 22.671875 59.328125 \nQ 17.53125 52.734375 16.796875 39.40625 \nQ 19.671875 43.65625 24.015625 45.921875 \nQ 28.375 48.1875 33.59375 48.1875 \nQ 44.578125 48.1875 50.953125 41.515625 \nQ 57.328125 34.859375 57.328125 23.390625 \nQ 57.328125 12.15625 50.6875 5.359375 \nQ 44.046875 -1.421875 33.015625 -1.421875 \nQ 20.359375 -1.421875 13.671875 8.265625 \nQ 6.984375 17.96875 6.984375 36.375 \nQ 6.984375 53.65625 15.1875 63.9375 \nQ 23.390625 74.21875 37.203125 74.21875 \nQ 40.921875 74.21875 44.703125 73.484375 \nQ 48.484375 72.75 52.59375 71.296875 \nz\n\" id=\"DejaVuSans-54\"/>\n     </defs>\n     <use xlink:href=\"#DejaVuSans-54\"/>\n     <use x=\"63.623047\" xlink:href=\"#DejaVuSans-56\"/>\n     <use x=\"127.246094\" xlink:href=\"#DejaVuSans-57\"/>\n    </g>\n   </g>\n   <g id=\"text_14\">\n    <!-- 85 -->\n    <g style=\"fill:#fde725;\" transform=\"translate(247.596875 133.7975)scale(0.1 -0.1)\">\n     <use xlink:href=\"#DejaVuSans-56\"/>\n     <use x=\"63.623047\" xlink:href=\"#DejaVuSans-53\"/>\n    </g>\n   </g>\n   <g id=\"text_15\">\n    <!-- 8 -->\n    <g style=\"fill:#fde725;\" transform=\"translate(105.818125 206.2775)scale(0.1 -0.1)\">\n     <use xlink:href=\"#DejaVuSans-56\"/>\n    </g>\n   </g>\n   <g id=\"text_16\">\n    <!-- 146 -->\n    <g style=\"fill:#fde725;\" transform=\"translate(171.935625 206.2775)scale(0.1 -0.1)\">\n     <defs>\n      <path d=\"M 37.796875 64.3125 \nL 12.890625 25.390625 \nL 37.796875 25.390625 \nz\nM 35.203125 72.90625 \nL 47.609375 72.90625 \nL 47.609375 25.390625 \nL 58.015625 25.390625 \nL 58.015625 17.1875 \nL 47.609375 17.1875 \nL 47.609375 0 \nL 37.796875 0 \nL 37.796875 17.1875 \nL 4.890625 17.1875 \nL 4.890625 26.703125 \nz\n\" id=\"DejaVuSans-52\"/>\n     </defs>\n     <use xlink:href=\"#DejaVuSans-49\"/>\n     <use x=\"63.623047\" xlink:href=\"#DejaVuSans-52\"/>\n     <use x=\"127.246094\" xlink:href=\"#DejaVuSans-54\"/>\n    </g>\n   </g>\n   <g id=\"text_17\">\n    <!-- 665 -->\n    <g style=\"fill:#440154;\" transform=\"translate(244.415625 206.2775)scale(0.1 -0.1)\">\n     <use xlink:href=\"#DejaVuSans-54\"/>\n     <use x=\"63.623047\" xlink:href=\"#DejaVuSans-54\"/>\n     <use x=\"127.246094\" xlink:href=\"#DejaVuSans-53\"/>\n    </g>\n   </g>\n   <g id=\"text_18\">\n    <!-- Example Model Confusion matrix without normalisation -->\n    <g transform=\"translate(14.955 16.318125)scale(0.12 -0.12)\">\n     <defs>\n      <path d=\"M 9.8125 72.90625 \nL 55.90625 72.90625 \nL 55.90625 64.59375 \nL 19.671875 64.59375 \nL 19.671875 43.015625 \nL 54.390625 43.015625 \nL 54.390625 34.71875 \nL 19.671875 34.71875 \nL 19.671875 8.296875 \nL 56.78125 8.296875 \nL 56.78125 0 \nL 9.8125 0 \nz\n\" id=\"DejaVuSans-69\"/>\n      <path d=\"M 54.890625 54.6875 \nL 35.109375 28.078125 \nL 55.90625 0 \nL 45.3125 0 \nL 29.390625 21.484375 \nL 13.484375 0 \nL 2.875 0 \nL 24.125 28.609375 \nL 4.6875 54.6875 \nL 15.28125 54.6875 \nL 29.78125 35.203125 \nL 44.28125 54.6875 \nz\n\" id=\"DejaVuSans-120\"/>\n      <path d=\"M 52 44.1875 \nQ 55.375 50.25 60.0625 53.125 \nQ 64.75 56 71.09375 56 \nQ 79.640625 56 84.28125 50.015625 \nQ 88.921875 44.046875 88.921875 33.015625 \nL 88.921875 0 \nL 79.890625 0 \nL 79.890625 32.71875 \nQ 79.890625 40.578125 77.09375 44.375 \nQ 74.3125 48.1875 68.609375 48.1875 \nQ 61.625 48.1875 57.5625 43.546875 \nQ 53.515625 38.921875 53.515625 30.90625 \nL 53.515625 0 \nL 44.484375 0 \nL 44.484375 32.71875 \nQ 44.484375 40.625 41.703125 44.40625 \nQ 38.921875 48.1875 33.109375 48.1875 \nQ 26.21875 48.1875 22.15625 43.53125 \nQ 18.109375 38.875 18.109375 30.90625 \nL 18.109375 0 \nL 9.078125 0 \nL 9.078125 54.6875 \nL 18.109375 54.6875 \nL 18.109375 46.1875 \nQ 21.1875 51.21875 25.484375 53.609375 \nQ 29.78125 56 35.6875 56 \nQ 41.65625 56 45.828125 52.96875 \nQ 50 49.953125 52 44.1875 \nz\n\" id=\"DejaVuSans-109\"/>\n      <path d=\"M 18.109375 8.203125 \nL 18.109375 -20.796875 \nL 9.078125 -20.796875 \nL 9.078125 54.6875 \nL 18.109375 54.6875 \nL 18.109375 46.390625 \nQ 20.953125 51.265625 25.265625 53.625 \nQ 29.59375 56 35.59375 56 \nQ 45.5625 56 51.78125 48.09375 \nQ 58.015625 40.1875 58.015625 27.296875 \nQ 58.015625 14.40625 51.78125 6.484375 \nQ 45.5625 -1.421875 35.59375 -1.421875 \nQ 29.59375 -1.421875 25.265625 0.953125 \nQ 20.953125 3.328125 18.109375 8.203125 \nz\nM 48.6875 27.296875 \nQ 48.6875 37.203125 44.609375 42.84375 \nQ 40.53125 48.484375 33.40625 48.484375 \nQ 26.265625 48.484375 22.1875 42.84375 \nQ 18.109375 37.203125 18.109375 27.296875 \nQ 18.109375 17.390625 22.1875 11.75 \nQ 26.265625 6.109375 33.40625 6.109375 \nQ 40.53125 6.109375 44.609375 11.75 \nQ 48.6875 17.390625 48.6875 27.296875 \nz\n\" id=\"DejaVuSans-112\"/>\n      <path d=\"M 9.8125 72.90625 \nL 24.515625 72.90625 \nL 43.109375 23.296875 \nL 61.8125 72.90625 \nL 76.515625 72.90625 \nL 76.515625 0 \nL 66.890625 0 \nL 66.890625 64.015625 \nL 48.09375 14.015625 \nL 38.1875 14.015625 \nL 19.390625 64.015625 \nL 19.390625 0 \nL 9.8125 0 \nz\n\" id=\"DejaVuSans-77\"/>\n      <path d=\"M 64.40625 67.28125 \nL 64.40625 56.890625 \nQ 59.421875 61.53125 53.78125 63.8125 \nQ 48.140625 66.109375 41.796875 66.109375 \nQ 29.296875 66.109375 22.65625 58.46875 \nQ 16.015625 50.828125 16.015625 36.375 \nQ 16.015625 21.96875 22.65625 14.328125 \nQ 29.296875 6.6875 41.796875 6.6875 \nQ 48.140625 6.6875 53.78125 8.984375 \nQ 59.421875 11.28125 64.40625 15.921875 \nL 64.40625 5.609375 \nQ 59.234375 2.09375 53.4375 0.328125 \nQ 47.65625 -1.421875 41.21875 -1.421875 \nQ 24.65625 -1.421875 15.125 8.703125 \nQ 5.609375 18.84375 5.609375 36.375 \nQ 5.609375 53.953125 15.125 64.078125 \nQ 24.65625 74.21875 41.21875 74.21875 \nQ 47.75 74.21875 53.53125 72.484375 \nQ 59.328125 70.75 64.40625 67.28125 \nz\n\" id=\"DejaVuSans-67\"/>\n      <path d=\"M 54.890625 33.015625 \nL 54.890625 0 \nL 45.90625 0 \nL 45.90625 32.71875 \nQ 45.90625 40.484375 42.875 44.328125 \nQ 39.84375 48.1875 33.796875 48.1875 \nQ 26.515625 48.1875 22.3125 43.546875 \nQ 18.109375 38.921875 18.109375 30.90625 \nL 18.109375 0 \nL 9.078125 0 \nL 9.078125 54.6875 \nL 18.109375 54.6875 \nL 18.109375 46.1875 \nQ 21.34375 51.125 25.703125 53.5625 \nQ 30.078125 56 35.796875 56 \nQ 45.21875 56 50.046875 50.171875 \nQ 54.890625 44.34375 54.890625 33.015625 \nz\n\" id=\"DejaVuSans-110\"/>\n      <path d=\"M 37.109375 75.984375 \nL 37.109375 68.5 \nL 28.515625 68.5 \nQ 23.6875 68.5 21.796875 66.546875 \nQ 19.921875 64.59375 19.921875 59.515625 \nL 19.921875 54.6875 \nL 34.71875 54.6875 \nL 34.71875 47.703125 \nL 19.921875 47.703125 \nL 19.921875 0 \nL 10.890625 0 \nL 10.890625 47.703125 \nL 2.296875 47.703125 \nL 2.296875 54.6875 \nL 10.890625 54.6875 \nL 10.890625 58.5 \nQ 10.890625 67.625 15.140625 71.796875 \nQ 19.390625 75.984375 28.609375 75.984375 \nz\n\" id=\"DejaVuSans-102\"/>\n      <path d=\"M 4.203125 54.6875 \nL 13.1875 54.6875 \nL 24.421875 12.015625 \nL 35.59375 54.6875 \nL 46.1875 54.6875 \nL 57.421875 12.015625 \nL 68.609375 54.6875 \nL 77.59375 54.6875 \nL 63.28125 0 \nL 52.6875 0 \nL 40.921875 44.828125 \nL 29.109375 0 \nL 18.5 0 \nz\n\" id=\"DejaVuSans-119\"/>\n      <path d=\"M 54.890625 33.015625 \nL 54.890625 0 \nL 45.90625 0 \nL 45.90625 32.71875 \nQ 45.90625 40.484375 42.875 44.328125 \nQ 39.84375 48.1875 33.796875 48.1875 \nQ 26.515625 48.1875 22.3125 43.546875 \nQ 18.109375 38.921875 18.109375 30.90625 \nL 18.109375 0 \nL 9.078125 0 \nL 9.078125 75.984375 \nL 18.109375 75.984375 \nL 18.109375 46.1875 \nQ 21.34375 51.125 25.703125 53.5625 \nQ 30.078125 56 35.796875 56 \nQ 45.21875 56 50.046875 50.171875 \nQ 54.890625 44.34375 54.890625 33.015625 \nz\n\" id=\"DejaVuSans-104\"/>\n     </defs>\n     <use xlink:href=\"#DejaVuSans-69\"/>\n     <use x=\"63.183594\" xlink:href=\"#DejaVuSans-120\"/>\n     <use x=\"122.363281\" xlink:href=\"#DejaVuSans-97\"/>\n     <use x=\"183.642578\" xlink:href=\"#DejaVuSans-109\"/>\n     <use x=\"281.054688\" xlink:href=\"#DejaVuSans-112\"/>\n     <use x=\"344.53125\" xlink:href=\"#DejaVuSans-108\"/>\n     <use x=\"372.314453\" xlink:href=\"#DejaVuSans-101\"/>\n     <use x=\"433.837891\" xlink:href=\"#DejaVuSans-32\"/>\n     <use x=\"465.625\" xlink:href=\"#DejaVuSans-77\"/>\n     <use x=\"551.904297\" xlink:href=\"#DejaVuSans-111\"/>\n     <use x=\"613.085938\" xlink:href=\"#DejaVuSans-100\"/>\n     <use x=\"676.5625\" xlink:href=\"#DejaVuSans-101\"/>\n     <use x=\"738.085938\" xlink:href=\"#DejaVuSans-108\"/>\n     <use x=\"765.869141\" xlink:href=\"#DejaVuSans-32\"/>\n     <use x=\"797.65625\" xlink:href=\"#DejaVuSans-67\"/>\n     <use x=\"867.480469\" xlink:href=\"#DejaVuSans-111\"/>\n     <use x=\"928.662109\" xlink:href=\"#DejaVuSans-110\"/>\n     <use x=\"992.041016\" xlink:href=\"#DejaVuSans-102\"/>\n     <use x=\"1027.246094\" xlink:href=\"#DejaVuSans-117\"/>\n     <use x=\"1090.625\" xlink:href=\"#DejaVuSans-115\"/>\n     <use x=\"1142.724609\" xlink:href=\"#DejaVuSans-105\"/>\n     <use x=\"1170.507812\" xlink:href=\"#DejaVuSans-111\"/>\n     <use x=\"1231.689453\" xlink:href=\"#DejaVuSans-110\"/>\n     <use x=\"1295.068359\" xlink:href=\"#DejaVuSans-32\"/>\n     <use x=\"1326.855469\" xlink:href=\"#DejaVuSans-109\"/>\n     <use x=\"1424.267578\" xlink:href=\"#DejaVuSans-97\"/>\n     <use x=\"1485.546875\" xlink:href=\"#DejaVuSans-116\"/>\n     <use x=\"1524.755859\" xlink:href=\"#DejaVuSans-114\"/>\n     <use x=\"1565.869141\" xlink:href=\"#DejaVuSans-105\"/>\n     <use x=\"1593.652344\" xlink:href=\"#DejaVuSans-120\"/>\n     <use x=\"1652.832031\" xlink:href=\"#DejaVuSans-32\"/>\n     <use x=\"1684.619141\" xlink:href=\"#DejaVuSans-119\"/>\n     <use x=\"1766.40625\" xlink:href=\"#DejaVuSans-105\"/>\n     <use x=\"1794.189453\" xlink:href=\"#DejaVuSans-116\"/>\n     <use x=\"1833.398438\" xlink:href=\"#DejaVuSans-104\"/>\n     <use x=\"1896.777344\" xlink:href=\"#DejaVuSans-111\"/>\n     <use x=\"1957.958984\" xlink:href=\"#DejaVuSans-117\"/>\n     <use x=\"2021.337891\" xlink:href=\"#DejaVuSans-116\"/>\n     <use x=\"2060.546875\" xlink:href=\"#DejaVuSans-32\"/>\n     <use x=\"2092.333984\" xlink:href=\"#DejaVuSans-110\"/>\n     <use x=\"2155.712891\" xlink:href=\"#DejaVuSans-111\"/>\n     <use x=\"2216.894531\" xlink:href=\"#DejaVuSans-114\"/>\n     <use x=\"2256.257812\" xlink:href=\"#DejaVuSans-109\"/>\n     <use x=\"2353.669922\" xlink:href=\"#DejaVuSans-97\"/>\n     <use x=\"2414.949219\" xlink:href=\"#DejaVuSans-108\"/>\n     <use x=\"2442.732422\" xlink:href=\"#DejaVuSans-105\"/>\n     <use x=\"2470.515625\" xlink:href=\"#DejaVuSans-115\"/>\n     <use x=\"2522.615234\" xlink:href=\"#DejaVuSans-97\"/>\n     <use x=\"2583.894531\" xlink:href=\"#DejaVuSans-116\"/>\n     <use x=\"2623.103516\" xlink:href=\"#DejaVuSans-105\"/>\n     <use x=\"2650.886719\" xlink:href=\"#DejaVuSans-111\"/>\n     <use x=\"2712.068359\" xlink:href=\"#DejaVuSans-110\"/>\n    </g>\n   </g>\n  </g>\n  <g id=\"axes_2\">\n   <g id=\"patch_7\">\n    <path clip-path=\"url(#p04dd1b6aca)\" d=\"M 306.939375 239.758125 \nL 306.939375 238.90875 \nL 306.939375 23.1675 \nL 306.939375 22.318125 \nL 317.811375 22.318125 \nL 317.811375 23.1675 \nL 317.811375 238.90875 \nL 317.811375 239.758125 \nz\n\" style=\"fill:#ffffff;stroke:#ffffff;stroke-linejoin:miter;stroke-width:0.01;\"/>\n   </g>\n   <image height=\"217\" id=\"image94232a7261\" transform=\"scale(1 -1)translate(0 -217)\" width=\"11\" x=\"307\" xlink:href=\"data:image/png;base64,\niVBORw0KGgoAAAANSUhEUgAAAAsAAADZCAYAAAD2WsoCAAABYUlEQVR4nO3aQW7DMBBDUWkk52Q9Q+9/kLbptkA2egsC4yJZE8QnZ2Q7TuZHfT7H4WfPmqfaseda5+IxC8SCMaYwl2CI86A2qOce1VlAcs6J3238FcfaeK4eAYnZxt0D4/xKkMUQ5yBzynmIMy2/9UwYsTZsgrQbxgziJm0EMXLVUcAupxvE5IwBUxjoHLvI3LKNmPMd2zjX4vPGHSf4/8dNzi3GDRDv0/0iPj/fd9yNNm0Exw3MweoqhdGkDXhESrYxRi4gOM9YQOuZmE0MGNSGYZxTcMBUG6t+OmBUrI0l4hxGE+c1Ydzk3ES87xhQbhPWRn13wCgZih1YYaY2lrWR2jpqY08KmGMWZ+mZnC9pw1Y0thu5oTzmFzjHhlISkJb/koDUM16RyDm1G7T8ts/BgKkb0GPQpUCWn06KBTzWjn3ZgQXnBV8It7zd20t+yCjBuOB9lmKAMzEv+SOQYPwCBCyBaHjgE4oAAAAASUVORK5CYII=\" y=\"-22\"/>\n   <g id=\"matplotlib.axis_3\"/>\n   <g id=\"matplotlib.axis_4\">\n    <g id=\"ytick_4\">\n     <g id=\"line2d_7\">\n      <defs>\n       <path d=\"M 0 0 \nL 3.5 0 \n\" id=\"m8277f6c71b\" style=\"stroke:#000000;stroke-width:0.8;\"/>\n      </defs>\n      <g>\n       <use style=\"stroke:#000000;stroke-width:0.8;\" x=\"317.811375\" xlink:href=\"#m8277f6c71b\" y=\"209.012236\"/>\n      </g>\n     </g>\n     <g id=\"text_19\">\n      <!-- 100 -->\n      <g transform=\"translate(324.811375 212.811455)scale(0.1 -0.1)\">\n       <defs>\n        <path d=\"M 31.78125 66.40625 \nQ 24.171875 66.40625 20.328125 58.90625 \nQ 16.5 51.421875 16.5 36.375 \nQ 16.5 21.390625 20.328125 13.890625 \nQ 24.171875 6.390625 31.78125 6.390625 \nQ 39.453125 6.390625 43.28125 13.890625 \nQ 47.125 21.390625 47.125 36.375 \nQ 47.125 51.421875 43.28125 58.90625 \nQ 39.453125 66.40625 31.78125 66.40625 \nz\nM 31.78125 74.21875 \nQ 44.046875 74.21875 50.515625 64.515625 \nQ 56.984375 54.828125 56.984375 36.375 \nQ 56.984375 17.96875 50.515625 8.265625 \nQ 44.046875 -1.421875 31.78125 -1.421875 \nQ 19.53125 -1.421875 13.0625 8.265625 \nQ 6.59375 17.96875 6.59375 36.375 \nQ 6.59375 54.828125 13.0625 64.515625 \nQ 19.53125 74.21875 31.78125 74.21875 \nz\n\" id=\"DejaVuSans-48\"/>\n       </defs>\n       <use xlink:href=\"#DejaVuSans-49\"/>\n       <use x=\"63.623047\" xlink:href=\"#DejaVuSans-48\"/>\n       <use x=\"127.246094\" xlink:href=\"#DejaVuSans-48\"/>\n      </g>\n     </g>\n    </g>\n    <g id=\"ytick_5\">\n     <g id=\"line2d_8\">\n      <g>\n       <use style=\"stroke:#000000;stroke-width:0.8;\" x=\"317.811375\" xlink:href=\"#m8277f6c71b\" y=\"177.315443\"/>\n      </g>\n     </g>\n     <g id=\"text_20\">\n      <!-- 200 -->\n      <g transform=\"translate(324.811375 181.114662)scale(0.1 -0.1)\">\n       <use xlink:href=\"#DejaVuSans-50\"/>\n       <use x=\"63.623047\" xlink:href=\"#DejaVuSans-48\"/>\n       <use x=\"127.246094\" xlink:href=\"#DejaVuSans-48\"/>\n      </g>\n     </g>\n    </g>\n    <g id=\"ytick_6\">\n     <g id=\"line2d_9\">\n      <g>\n       <use style=\"stroke:#000000;stroke-width:0.8;\" x=\"317.811375\" xlink:href=\"#m8277f6c71b\" y=\"145.61865\"/>\n      </g>\n     </g>\n     <g id=\"text_21\">\n      <!-- 300 -->\n      <g transform=\"translate(324.811375 149.417869)scale(0.1 -0.1)\">\n       <use xlink:href=\"#DejaVuSans-51\"/>\n       <use x=\"63.623047\" xlink:href=\"#DejaVuSans-48\"/>\n       <use x=\"127.246094\" xlink:href=\"#DejaVuSans-48\"/>\n      </g>\n     </g>\n    </g>\n    <g id=\"ytick_7\">\n     <g id=\"line2d_10\">\n      <g>\n       <use style=\"stroke:#000000;stroke-width:0.8;\" x=\"317.811375\" xlink:href=\"#m8277f6c71b\" y=\"113.921857\"/>\n      </g>\n     </g>\n     <g id=\"text_22\">\n      <!-- 400 -->\n      <g transform=\"translate(324.811375 117.721076)scale(0.1 -0.1)\">\n       <use xlink:href=\"#DejaVuSans-52\"/>\n       <use x=\"63.623047\" xlink:href=\"#DejaVuSans-48\"/>\n       <use x=\"127.246094\" xlink:href=\"#DejaVuSans-48\"/>\n      </g>\n     </g>\n    </g>\n    <g id=\"ytick_8\">\n     <g id=\"line2d_11\">\n      <g>\n       <use style=\"stroke:#000000;stroke-width:0.8;\" x=\"317.811375\" xlink:href=\"#m8277f6c71b\" y=\"82.225064\"/>\n      </g>\n     </g>\n     <g id=\"text_23\">\n      <!-- 500 -->\n      <g transform=\"translate(324.811375 86.024283)scale(0.1 -0.1)\">\n       <use xlink:href=\"#DejaVuSans-53\"/>\n       <use x=\"63.623047\" xlink:href=\"#DejaVuSans-48\"/>\n       <use x=\"127.246094\" xlink:href=\"#DejaVuSans-48\"/>\n      </g>\n     </g>\n    </g>\n    <g id=\"ytick_9\">\n     <g id=\"line2d_12\">\n      <g>\n       <use style=\"stroke:#000000;stroke-width:0.8;\" x=\"317.811375\" xlink:href=\"#m8277f6c71b\" y=\"50.528271\"/>\n      </g>\n     </g>\n     <g id=\"text_24\">\n      <!-- 600 -->\n      <g transform=\"translate(324.811375 54.32749)scale(0.1 -0.1)\">\n       <use xlink:href=\"#DejaVuSans-54\"/>\n       <use x=\"63.623047\" xlink:href=\"#DejaVuSans-48\"/>\n       <use x=\"127.246094\" xlink:href=\"#DejaVuSans-48\"/>\n      </g>\n     </g>\n    </g>\n   </g>\n   <g id=\"patch_8\">\n    <path d=\"M 306.939375 239.758125 \nL 306.939375 238.90875 \nL 306.939375 23.1675 \nL 306.939375 22.318125 \nL 317.811375 22.318125 \nL 317.811375 23.1675 \nL 317.811375 238.90875 \nL 317.811375 239.758125 \nz\n\" style=\"fill:none;stroke:#000000;stroke-linejoin:miter;stroke-width:0.8;\"/>\n   </g>\n  </g>\n </g>\n <defs>\n  <clipPath id=\"p9c9702704c\">\n   <rect height=\"217.44\" width=\"217.44\" x=\"72.759375\" y=\"22.318125\"/>\n  </clipPath>\n  <clipPath id=\"p04dd1b6aca\">\n   <rect height=\"217.44\" width=\"10.872\" x=\"306.939375\" y=\"22.318125\"/>\n  </clipPath>\n </defs>\n</svg>\n",
      "image/png": "[encoded data removed]"
     },
     "metadata": {
      "needs_background": "light"
     }
    },
    {
     "output_type": "display_data",
     "data": {
      "text/plain": "<Figure size 432x288 with 2 Axes>",
      "image/svg+xml": "<?xml version=\"1.0\" encoding=\"utf-8\" standalone=\"no\"?>\n<!DOCTYPE svg PUBLIC \"-//W3C//DTD SVG 1.1//EN\"\n  \"http://www.w3.org/Graphics/SVG/1.1/DTD/svg11.dtd\">\n<!-- Created with matplotlib (https://matplotlib.org/) -->\n<svg height=\"277.314375pt\" version=\"1.1\" viewBox=\"0 0 347.9145 277.314375\" width=\"347.9145pt\" xmlns=\"http://www.w3.org/2000/svg\" xmlns:xlink=\"http://www.w3.org/1999/xlink\">\n <metadata>\n  <rdf:RDF xmlns:cc=\"http://creativecommons.org/ns#\" xmlns:dc=\"http://purl.org/dc/elements/1.1/\" xmlns:rdf=\"http://www.w3.org/1999/02/22-rdf-syntax-ns#\">\n   <cc:Work>\n    <dc:type rdf:resource=\"http://purl.org/dc/dcmitype/StillImage\"/>\n    <dc:date>2021-05-28T19:17:52.558219</dc:date>\n    <dc:format>image/svg+xml</dc:format>\n    <dc:creator>\n     <cc:Agent>\n      <dc:title>Matplotlib v3.3.4, https://matplotlib.org/</dc:title>\n     </cc:Agent>\n    </dc:creator>\n   </cc:Work>\n  </rdf:RDF>\n </metadata>\n <defs>\n  <style type=\"text/css\">*{stroke-linecap:butt;stroke-linejoin:round;}</style>\n </defs>\n <g id=\"figure_1\">\n  <g id=\"patch_1\">\n   <path d=\"M -0 277.314375 \nL 347.9145 277.314375 \nL 347.9145 0 \nL -0 0 \nz\n\" style=\"fill:none;\"/>\n  </g>\n  <g id=\"axes_1\">\n   <g id=\"patch_2\">\n    <path d=\"M 72.759375 239.758125 \nL 290.199375 239.758125 \nL 290.199375 22.318125 \nL 72.759375 22.318125 \nz\n\" style=\"fill:#ffffff;\"/>\n   </g>\n   <g clip-path=\"url(#p140ed37721)\">\n    <image height=\"218\" id=\"image29c4d37fe8\" transform=\"scale(1 -1)translate(0 -218)\" width=\"218\" x=\"72.759375\" xlink:href=\"data:image/png;base64,\niVBORw0KGgoAAAANSUhEUgAAANoAAADaCAYAAADAHVzbAAACw0lEQVR4nO3VsTGEYRiFUf9SihFItwKDDjaRmFGSaEPUoAIVKEMTzKpA+rzfjHMquMkzd7vbDqcz/vR9u5+esLz3t+P0hOXtpgfAfyA0CAgNAkKDgNAgIDQICA0CQoOA0CAgNAgIDQJCg4DQICA0CAgNAkKDgNAgIDQICA0CQoOA0CAgNAgIDQJCg4DQICA0CAgNAkKDgNAgIDQICA0CQoOA0CAgNAgIDQJCg4DQICA0CAgNAkKDgNAgIDQICA0CQoOA0CAgNAgIDQJCg4DQICA0CAgNAkKDgNAgIDQICA0CQoOA0CAgNAgIDQJCg4DQICA0CAgNAkKDgNAgIDQICA0CQoOA0CAgNAgIDQJCg8DF+fXV9Ialvb48T09Y3uHmcXrC8jwaBIQGAaFBQGgQEBoEhAYBoUFAaBAQGgSEBgGhQUBoEBAaBIQGAaFBQGgQEBoEhAYBoUFAaBAQGgSEBgGhQUBoEBAaBIQGAaFBQGgQEBoEhAYBoUFAaBAQGgSEBgGhQUBoEBAaBIQGAaFBQGgQEBoEhAYBoUFAaBAQGgSEBgGhQUBoEBAaBIQGAaFBQGgQEBoEhAYBoUFAaBAQGgSEBgGhQUBoEBAaBIQGAaFBQGgQEBoEhAYBoUFAaBAQGgSEBgGhQWD7+bo8TY9Y2f3D0/SE5e0+PqcnLM+jQUBoEBAaBIQGAaFBQGgQEBoEhAYBoUFAaBAQGgSEBgGhQUBoEBAaBIQGAaFBQGgQEBoEhAYBoUFAaBAQGgSEBgGhQUBoEBAaBIQGAaFBQGgQEBoEhAYBoUFAaBAQGgSEBgGhQUBoEBAaBIQGAaFBQGgQEBoEhAYBoUFAaBAQGgSEBgGhQUBoEBAaBIQGAaFBQGgQEBoEhAYBoUFAaBAQGgSEBgGhQUBoEBAaBIQGAaFBQGgQEBoEhAYBoUFAaBAQGgSEBoFfG7cPWB8AYB0AAAAASUVORK5CYII=\" y=\"-21.758125\"/>\n   </g>\n   <g id=\"matplotlib.axis_1\">\n    <g id=\"xtick_1\">\n     <g id=\"line2d_1\">\n      <defs>\n       <path d=\"M 0 0 \nL 0 3.5 \n\" id=\"m7785f82d25\" style=\"stroke:#000000;stroke-width:0.8;\"/>\n      </defs>\n      <g>\n       <use style=\"stroke:#000000;stroke-width:0.8;\" x=\"108.999375\" xlink:href=\"#m7785f82d25\" y=\"239.758125\"/>\n      </g>\n     </g>\n     <g id=\"text_1\">\n      <!-- Negative -->\n      <g transform=\"translate(86.55875 254.356562)scale(0.1 -0.1)\">\n       <defs>\n        <path d=\"M 9.8125 72.90625 \nL 23.09375 72.90625 \nL 55.421875 11.921875 \nL 55.421875 72.90625 \nL 64.984375 72.90625 \nL 64.984375 0 \nL 51.703125 0 \nL 19.390625 60.984375 \nL 19.390625 0 \nL 9.8125 0 \nz\n\" id=\"DejaVuSans-78\"/>\n        <path d=\"M 56.203125 29.59375 \nL 56.203125 25.203125 \nL 14.890625 25.203125 \nQ 15.484375 15.921875 20.484375 11.0625 \nQ 25.484375 6.203125 34.421875 6.203125 \nQ 39.59375 6.203125 44.453125 7.46875 \nQ 49.3125 8.734375 54.109375 11.28125 \nL 54.109375 2.78125 \nQ 49.265625 0.734375 44.1875 -0.34375 \nQ 39.109375 -1.421875 33.890625 -1.421875 \nQ 20.796875 -1.421875 13.15625 6.1875 \nQ 5.515625 13.8125 5.515625 26.8125 \nQ 5.515625 40.234375 12.765625 48.109375 \nQ 20.015625 56 32.328125 56 \nQ 43.359375 56 49.78125 48.890625 \nQ 56.203125 41.796875 56.203125 29.59375 \nz\nM 47.21875 32.234375 \nQ 47.125 39.59375 43.09375 43.984375 \nQ 39.0625 48.390625 32.421875 48.390625 \nQ 24.90625 48.390625 20.390625 44.140625 \nQ 15.875 39.890625 15.1875 32.171875 \nz\n\" id=\"DejaVuSans-101\"/>\n        <path d=\"M 45.40625 27.984375 \nQ 45.40625 37.75 41.375 43.109375 \nQ 37.359375 48.484375 30.078125 48.484375 \nQ 22.859375 48.484375 18.828125 43.109375 \nQ 14.796875 37.75 14.796875 27.984375 \nQ 14.796875 18.265625 18.828125 12.890625 \nQ 22.859375 7.515625 30.078125 7.515625 \nQ 37.359375 7.515625 41.375 12.890625 \nQ 45.40625 18.265625 45.40625 27.984375 \nz\nM 54.390625 6.78125 \nQ 54.390625 -7.171875 48.1875 -13.984375 \nQ 42 -20.796875 29.203125 -20.796875 \nQ 24.46875 -20.796875 20.265625 -20.09375 \nQ 16.0625 -19.390625 12.109375 -17.921875 \nL 12.109375 -9.1875 \nQ 16.0625 -11.328125 19.921875 -12.34375 \nQ 23.78125 -13.375 27.78125 -13.375 \nQ 36.625 -13.375 41.015625 -8.765625 \nQ 45.40625 -4.15625 45.40625 5.171875 \nL 45.40625 9.625 \nQ 42.625 4.78125 38.28125 2.390625 \nQ 33.9375 0 27.875 0 \nQ 17.828125 0 11.671875 7.65625 \nQ 5.515625 15.328125 5.515625 27.984375 \nQ 5.515625 40.671875 11.671875 48.328125 \nQ 17.828125 56 27.875 56 \nQ 33.9375 56 38.28125 53.609375 \nQ 42.625 51.21875 45.40625 46.390625 \nL 45.40625 54.6875 \nL 54.390625 54.6875 \nz\n\" id=\"DejaVuSans-103\"/>\n        <path d=\"M 34.28125 27.484375 \nQ 23.390625 27.484375 19.1875 25 \nQ 14.984375 22.515625 14.984375 16.5 \nQ 14.984375 11.71875 18.140625 8.90625 \nQ 21.296875 6.109375 26.703125 6.109375 \nQ 34.1875 6.109375 38.703125 11.40625 \nQ 43.21875 16.703125 43.21875 25.484375 \nL 43.21875 27.484375 \nz\nM 52.203125 31.203125 \nL 52.203125 0 \nL 43.21875 0 \nL 43.21875 8.296875 \nQ 40.140625 3.328125 35.546875 0.953125 \nQ 30.953125 -1.421875 24.3125 -1.421875 \nQ 15.921875 -1.421875 10.953125 3.296875 \nQ 6 8.015625 6 15.921875 \nQ 6 25.140625 12.171875 29.828125 \nQ 18.359375 34.515625 30.609375 34.515625 \nL 43.21875 34.515625 \nL 43.21875 35.40625 \nQ 43.21875 41.609375 39.140625 45 \nQ 35.0625 48.390625 27.6875 48.390625 \nQ 23 48.390625 18.546875 47.265625 \nQ 14.109375 46.140625 10.015625 43.890625 \nL 10.015625 52.203125 \nQ 14.9375 54.109375 19.578125 55.046875 \nQ 24.21875 56 28.609375 56 \nQ 40.484375 56 46.34375 49.84375 \nQ 52.203125 43.703125 52.203125 31.203125 \nz\n\" id=\"DejaVuSans-97\"/>\n        <path d=\"M 18.3125 70.21875 \nL 18.3125 54.6875 \nL 36.8125 54.6875 \nL 36.8125 47.703125 \nL 18.3125 47.703125 \nL 18.3125 18.015625 \nQ 18.3125 11.328125 20.140625 9.421875 \nQ 21.96875 7.515625 27.59375 7.515625 \nL 36.8125 7.515625 \nL 36.8125 0 \nL 27.59375 0 \nQ 17.1875 0 13.234375 3.875 \nQ 9.28125 7.765625 9.28125 18.015625 \nL 9.28125 47.703125 \nL 2.6875 47.703125 \nL 2.6875 54.6875 \nL 9.28125 54.6875 \nL 9.28125 70.21875 \nz\n\" id=\"DejaVuSans-116\"/>\n        <path d=\"M 9.421875 54.6875 \nL 18.40625 54.6875 \nL 18.40625 0 \nL 9.421875 0 \nz\nM 9.421875 75.984375 \nL 18.40625 75.984375 \nL 18.40625 64.59375 \nL 9.421875 64.59375 \nz\n\" id=\"DejaVuSans-105\"/>\n        <path d=\"M 2.984375 54.6875 \nL 12.5 54.6875 \nL 29.59375 8.796875 \nL 46.6875 54.6875 \nL 56.203125 54.6875 \nL 35.6875 0 \nL 23.484375 0 \nz\n\" id=\"DejaVuSans-118\"/>\n       </defs>\n       <use xlink:href=\"#DejaVuSans-78\"/>\n       <use x=\"74.804688\" xlink:href=\"#DejaVuSans-101\"/>\n       <use x=\"136.328125\" xlink:href=\"#DejaVuSans-103\"/>\n       <use x=\"199.804688\" xlink:href=\"#DejaVuSans-97\"/>\n       <use x=\"261.083984\" xlink:href=\"#DejaVuSans-116\"/>\n       <use x=\"300.292969\" xlink:href=\"#DejaVuSans-105\"/>\n       <use x=\"328.076172\" xlink:href=\"#DejaVuSans-118\"/>\n       <use x=\"387.255859\" xlink:href=\"#DejaVuSans-101\"/>\n      </g>\n     </g>\n    </g>\n    <g id=\"xtick_2\">\n     <g id=\"line2d_2\">\n      <g>\n       <use style=\"stroke:#000000;stroke-width:0.8;\" x=\"181.479375\" xlink:href=\"#m7785f82d25\" y=\"239.758125\"/>\n      </g>\n     </g>\n     <g id=\"text_2\">\n      <!-- Neutral -->\n      <g transform=\"translate(163.024687 254.356562)scale(0.1 -0.1)\">\n       <defs>\n        <path d=\"M 8.5 21.578125 \nL 8.5 54.6875 \nL 17.484375 54.6875 \nL 17.484375 21.921875 \nQ 17.484375 14.15625 20.5 10.265625 \nQ 23.53125 6.390625 29.59375 6.390625 \nQ 36.859375 6.390625 41.078125 11.03125 \nQ 45.3125 15.671875 45.3125 23.6875 \nL 45.3125 54.6875 \nL 54.296875 54.6875 \nL 54.296875 0 \nL 45.3125 0 \nL 45.3125 8.40625 \nQ 42.046875 3.421875 37.71875 1 \nQ 33.40625 -1.421875 27.6875 -1.421875 \nQ 18.265625 -1.421875 13.375 4.4375 \nQ 8.5 10.296875 8.5 21.578125 \nz\nM 31.109375 56 \nz\n\" id=\"DejaVuSans-117\"/>\n        <path d=\"M 41.109375 46.296875 \nQ 39.59375 47.171875 37.8125 47.578125 \nQ 36.03125 48 33.890625 48 \nQ 26.265625 48 22.1875 43.046875 \nQ 18.109375 38.09375 18.109375 28.8125 \nL 18.109375 0 \nL 9.078125 0 \nL 9.078125 54.6875 \nL 18.109375 54.6875 \nL 18.109375 46.1875 \nQ 20.953125 51.171875 25.484375 53.578125 \nQ 30.03125 56 36.53125 56 \nQ 37.453125 56 38.578125 55.875 \nQ 39.703125 55.765625 41.0625 55.515625 \nz\n\" id=\"DejaVuSans-114\"/>\n        <path d=\"M 9.421875 75.984375 \nL 18.40625 75.984375 \nL 18.40625 0 \nL 9.421875 0 \nz\n\" id=\"DejaVuSans-108\"/>\n       </defs>\n       <use xlink:href=\"#DejaVuSans-78\"/>\n       <use x=\"74.804688\" xlink:href=\"#DejaVuSans-101\"/>\n       <use x=\"136.328125\" xlink:href=\"#DejaVuSans-117\"/>\n       <use x=\"199.707031\" xlink:href=\"#DejaVuSans-116\"/>\n       <use x=\"238.916016\" xlink:href=\"#DejaVuSans-114\"/>\n       <use x=\"280.029297\" xlink:href=\"#DejaVuSans-97\"/>\n       <use x=\"341.308594\" xlink:href=\"#DejaVuSans-108\"/>\n      </g>\n     </g>\n    </g>\n    <g id=\"xtick_3\">\n     <g id=\"line2d_3\">\n      <g>\n       <use style=\"stroke:#000000;stroke-width:0.8;\" x=\"253.959375\" xlink:href=\"#m7785f82d25\" y=\"239.758125\"/>\n      </g>\n     </g>\n     <g id=\"text_3\">\n      <!-- Positive -->\n      <g transform=\"translate(234.6875 254.356562)scale(0.1 -0.1)\">\n       <defs>\n        <path d=\"M 19.671875 64.796875 \nL 19.671875 37.40625 \nL 32.078125 37.40625 \nQ 38.96875 37.40625 42.71875 40.96875 \nQ 46.484375 44.53125 46.484375 51.125 \nQ 46.484375 57.671875 42.71875 61.234375 \nQ 38.96875 64.796875 32.078125 64.796875 \nz\nM 9.8125 72.90625 \nL 32.078125 72.90625 \nQ 44.34375 72.90625 50.609375 67.359375 \nQ 56.890625 61.8125 56.890625 51.125 \nQ 56.890625 40.328125 50.609375 34.8125 \nQ 44.34375 29.296875 32.078125 29.296875 \nL 19.671875 29.296875 \nL 19.671875 0 \nL 9.8125 0 \nz\n\" id=\"DejaVuSans-80\"/>\n        <path d=\"M 30.609375 48.390625 \nQ 23.390625 48.390625 19.1875 42.75 \nQ 14.984375 37.109375 14.984375 27.296875 \nQ 14.984375 17.484375 19.15625 11.84375 \nQ 23.34375 6.203125 30.609375 6.203125 \nQ 37.796875 6.203125 41.984375 11.859375 \nQ 46.1875 17.53125 46.1875 27.296875 \nQ 46.1875 37.015625 41.984375 42.703125 \nQ 37.796875 48.390625 30.609375 48.390625 \nz\nM 30.609375 56 \nQ 42.328125 56 49.015625 48.375 \nQ 55.71875 40.765625 55.71875 27.296875 \nQ 55.71875 13.875 49.015625 6.21875 \nQ 42.328125 -1.421875 30.609375 -1.421875 \nQ 18.84375 -1.421875 12.171875 6.21875 \nQ 5.515625 13.875 5.515625 27.296875 \nQ 5.515625 40.765625 12.171875 48.375 \nQ 18.84375 56 30.609375 56 \nz\n\" id=\"DejaVuSans-111\"/>\n        <path d=\"M 44.28125 53.078125 \nL 44.28125 44.578125 \nQ 40.484375 46.53125 36.375 47.5 \nQ 32.28125 48.484375 27.875 48.484375 \nQ 21.1875 48.484375 17.84375 46.4375 \nQ 14.5 44.390625 14.5 40.28125 \nQ 14.5 37.15625 16.890625 35.375 \nQ 19.28125 33.59375 26.515625 31.984375 \nL 29.59375 31.296875 \nQ 39.15625 29.25 43.1875 25.515625 \nQ 47.21875 21.78125 47.21875 15.09375 \nQ 47.21875 7.46875 41.1875 3.015625 \nQ 35.15625 -1.421875 24.609375 -1.421875 \nQ 20.21875 -1.421875 15.453125 -0.5625 \nQ 10.6875 0.296875 5.421875 2 \nL 5.421875 11.28125 \nQ 10.40625 8.6875 15.234375 7.390625 \nQ 20.0625 6.109375 24.8125 6.109375 \nQ 31.15625 6.109375 34.5625 8.28125 \nQ 37.984375 10.453125 37.984375 14.40625 \nQ 37.984375 18.0625 35.515625 20.015625 \nQ 33.0625 21.96875 24.703125 23.78125 \nL 21.578125 24.515625 \nQ 13.234375 26.265625 9.515625 29.90625 \nQ 5.8125 33.546875 5.8125 39.890625 \nQ 5.8125 47.609375 11.28125 51.796875 \nQ 16.75 56 26.8125 56 \nQ 31.78125 56 36.171875 55.265625 \nQ 40.578125 54.546875 44.28125 53.078125 \nz\n\" id=\"DejaVuSans-115\"/>\n       </defs>\n       <use xlink:href=\"#DejaVuSans-80\"/>\n       <use x=\"56.677734\" xlink:href=\"#DejaVuSans-111\"/>\n       <use x=\"117.859375\" xlink:href=\"#DejaVuSans-115\"/>\n       <use x=\"169.958984\" xlink:href=\"#DejaVuSans-105\"/>\n       <use x=\"197.742188\" xlink:href=\"#DejaVuSans-116\"/>\n       <use x=\"236.951172\" xlink:href=\"#DejaVuSans-105\"/>\n       <use x=\"264.734375\" xlink:href=\"#DejaVuSans-118\"/>\n       <use x=\"323.914062\" xlink:href=\"#DejaVuSans-101\"/>\n      </g>\n     </g>\n    </g>\n    <g id=\"text_4\">\n     <!-- Predicted label -->\n     <g transform=\"translate(144.327031 268.034687)scale(0.1 -0.1)\">\n      <defs>\n       <path d=\"M 45.40625 46.390625 \nL 45.40625 75.984375 \nL 54.390625 75.984375 \nL 54.390625 0 \nL 45.40625 0 \nL 45.40625 8.203125 \nQ 42.578125 3.328125 38.25 0.953125 \nQ 33.9375 -1.421875 27.875 -1.421875 \nQ 17.96875 -1.421875 11.734375 6.484375 \nQ 5.515625 14.40625 5.515625 27.296875 \nQ 5.515625 40.1875 11.734375 48.09375 \nQ 17.96875 56 27.875 56 \nQ 33.9375 56 38.25 53.625 \nQ 42.578125 51.265625 45.40625 46.390625 \nz\nM 14.796875 27.296875 \nQ 14.796875 17.390625 18.875 11.75 \nQ 22.953125 6.109375 30.078125 6.109375 \nQ 37.203125 6.109375 41.296875 11.75 \nQ 45.40625 17.390625 45.40625 27.296875 \nQ 45.40625 37.203125 41.296875 42.84375 \nQ 37.203125 48.484375 30.078125 48.484375 \nQ 22.953125 48.484375 18.875 42.84375 \nQ 14.796875 37.203125 14.796875 27.296875 \nz\n\" id=\"DejaVuSans-100\"/>\n       <path d=\"M 48.78125 52.59375 \nL 48.78125 44.1875 \nQ 44.96875 46.296875 41.140625 47.34375 \nQ 37.3125 48.390625 33.40625 48.390625 \nQ 24.65625 48.390625 19.8125 42.84375 \nQ 14.984375 37.3125 14.984375 27.296875 \nQ 14.984375 17.28125 19.8125 11.734375 \nQ 24.65625 6.203125 33.40625 6.203125 \nQ 37.3125 6.203125 41.140625 7.25 \nQ 44.96875 8.296875 48.78125 10.40625 \nL 48.78125 2.09375 \nQ 45.015625 0.34375 40.984375 -0.53125 \nQ 36.96875 -1.421875 32.421875 -1.421875 \nQ 20.0625 -1.421875 12.78125 6.34375 \nQ 5.515625 14.109375 5.515625 27.296875 \nQ 5.515625 40.671875 12.859375 48.328125 \nQ 20.21875 56 33.015625 56 \nQ 37.15625 56 41.109375 55.140625 \nQ 45.0625 54.296875 48.78125 52.59375 \nz\n\" id=\"DejaVuSans-99\"/>\n       <path id=\"DejaVuSans-32\"/>\n       <path d=\"M 48.6875 27.296875 \nQ 48.6875 37.203125 44.609375 42.84375 \nQ 40.53125 48.484375 33.40625 48.484375 \nQ 26.265625 48.484375 22.1875 42.84375 \nQ 18.109375 37.203125 18.109375 27.296875 \nQ 18.109375 17.390625 22.1875 11.75 \nQ 26.265625 6.109375 33.40625 6.109375 \nQ 40.53125 6.109375 44.609375 11.75 \nQ 48.6875 17.390625 48.6875 27.296875 \nz\nM 18.109375 46.390625 \nQ 20.953125 51.265625 25.265625 53.625 \nQ 29.59375 56 35.59375 56 \nQ 45.5625 56 51.78125 48.09375 \nQ 58.015625 40.1875 58.015625 27.296875 \nQ 58.015625 14.40625 51.78125 6.484375 \nQ 45.5625 -1.421875 35.59375 -1.421875 \nQ 29.59375 -1.421875 25.265625 0.953125 \nQ 20.953125 3.328125 18.109375 8.203125 \nL 18.109375 0 \nL 9.078125 0 \nL 9.078125 75.984375 \nL 18.109375 75.984375 \nz\n\" id=\"DejaVuSans-98\"/>\n      </defs>\n      <use xlink:href=\"#DejaVuSans-80\"/>\n      <use x=\"58.552734\" xlink:href=\"#DejaVuSans-114\"/>\n      <use x=\"97.416016\" xlink:href=\"#DejaVuSans-101\"/>\n      <use x=\"158.939453\" xlink:href=\"#DejaVuSans-100\"/>\n      <use x=\"222.416016\" xlink:href=\"#DejaVuSans-105\"/>\n      <use x=\"250.199219\" xlink:href=\"#DejaVuSans-99\"/>\n      <use x=\"305.179688\" xlink:href=\"#DejaVuSans-116\"/>\n      <use x=\"344.388672\" xlink:href=\"#DejaVuSans-101\"/>\n      <use x=\"405.912109\" xlink:href=\"#DejaVuSans-100\"/>\n      <use x=\"469.388672\" xlink:href=\"#DejaVuSans-32\"/>\n      <use x=\"501.175781\" xlink:href=\"#DejaVuSans-108\"/>\n      <use x=\"528.958984\" xlink:href=\"#DejaVuSans-97\"/>\n      <use x=\"590.238281\" xlink:href=\"#DejaVuSans-98\"/>\n      <use x=\"653.714844\" xlink:href=\"#DejaVuSans-101\"/>\n      <use x=\"715.238281\" xlink:href=\"#DejaVuSans-108\"/>\n     </g>\n    </g>\n   </g>\n   <g id=\"matplotlib.axis_2\">\n    <g id=\"ytick_1\">\n     <g id=\"line2d_4\">\n      <defs>\n       <path d=\"M 0 0 \nL -3.5 0 \n\" id=\"mef72f342b4\" style=\"stroke:#000000;stroke-width:0.8;\"/>\n      </defs>\n      <g>\n       <use style=\"stroke:#000000;stroke-width:0.8;\" x=\"72.759375\" xlink:href=\"#mef72f342b4\" y=\"58.558125\"/>\n      </g>\n     </g>\n     <g id=\"text_5\">\n      <!-- Negative -->\n      <g transform=\"translate(20.878125 62.357344)scale(0.1 -0.1)\">\n       <use xlink:href=\"#DejaVuSans-78\"/>\n       <use x=\"74.804688\" xlink:href=\"#DejaVuSans-101\"/>\n       <use x=\"136.328125\" xlink:href=\"#DejaVuSans-103\"/>\n       <use x=\"199.804688\" xlink:href=\"#DejaVuSans-97\"/>\n       <use x=\"261.083984\" xlink:href=\"#DejaVuSans-116\"/>\n       <use x=\"300.292969\" xlink:href=\"#DejaVuSans-105\"/>\n       <use x=\"328.076172\" xlink:href=\"#DejaVuSans-118\"/>\n       <use x=\"387.255859\" xlink:href=\"#DejaVuSans-101\"/>\n      </g>\n     </g>\n    </g>\n    <g id=\"ytick_2\">\n     <g id=\"line2d_5\">\n      <g>\n       <use style=\"stroke:#000000;stroke-width:0.8;\" x=\"72.759375\" xlink:href=\"#mef72f342b4\" y=\"131.038125\"/>\n      </g>\n     </g>\n     <g id=\"text_6\">\n      <!-- Neutral -->\n      <g transform=\"translate(28.85 134.837344)scale(0.1 -0.1)\">\n       <use xlink:href=\"#DejaVuSans-78\"/>\n       <use x=\"74.804688\" xlink:href=\"#DejaVuSans-101\"/>\n       <use x=\"136.328125\" xlink:href=\"#DejaVuSans-117\"/>\n       <use x=\"199.707031\" xlink:href=\"#DejaVuSans-116\"/>\n       <use x=\"238.916016\" xlink:href=\"#DejaVuSans-114\"/>\n       <use x=\"280.029297\" xlink:href=\"#DejaVuSans-97\"/>\n       <use x=\"341.308594\" xlink:href=\"#DejaVuSans-108\"/>\n      </g>\n     </g>\n    </g>\n    <g id=\"ytick_3\">\n     <g id=\"line2d_6\">\n      <g>\n       <use style=\"stroke:#000000;stroke-width:0.8;\" x=\"72.759375\" xlink:href=\"#mef72f342b4\" y=\"203.518125\"/>\n      </g>\n     </g>\n     <g id=\"text_7\">\n      <!-- Positive -->\n      <g transform=\"translate(27.215625 207.317344)scale(0.1 -0.1)\">\n       <use xlink:href=\"#DejaVuSans-80\"/>\n       <use x=\"56.677734\" xlink:href=\"#DejaVuSans-111\"/>\n       <use x=\"117.859375\" xlink:href=\"#DejaVuSans-115\"/>\n       <use x=\"169.958984\" xlink:href=\"#DejaVuSans-105\"/>\n       <use x=\"197.742188\" xlink:href=\"#DejaVuSans-116\"/>\n       <use x=\"236.951172\" xlink:href=\"#DejaVuSans-105\"/>\n       <use x=\"264.734375\" xlink:href=\"#DejaVuSans-118\"/>\n       <use x=\"323.914062\" xlink:href=\"#DejaVuSans-101\"/>\n      </g>\n     </g>\n    </g>\n    <g id=\"text_8\">\n     <!-- True label -->\n     <g transform=\"translate(14.798438 155.337344)rotate(-90)scale(0.1 -0.1)\">\n      <defs>\n       <path d=\"M -0.296875 72.90625 \nL 61.375 72.90625 \nL 61.375 64.59375 \nL 35.5 64.59375 \nL 35.5 0 \nL 25.59375 0 \nL 25.59375 64.59375 \nL -0.296875 64.59375 \nz\n\" id=\"DejaVuSans-84\"/>\n      </defs>\n      <use xlink:href=\"#DejaVuSans-84\"/>\n      <use x=\"46.333984\" xlink:href=\"#DejaVuSans-114\"/>\n      <use x=\"87.447266\" xlink:href=\"#DejaVuSans-117\"/>\n      <use x=\"150.826172\" xlink:href=\"#DejaVuSans-101\"/>\n      <use x=\"212.349609\" xlink:href=\"#DejaVuSans-32\"/>\n      <use x=\"244.136719\" xlink:href=\"#DejaVuSans-108\"/>\n      <use x=\"271.919922\" xlink:href=\"#DejaVuSans-97\"/>\n      <use x=\"333.199219\" xlink:href=\"#DejaVuSans-98\"/>\n      <use x=\"396.675781\" xlink:href=\"#DejaVuSans-101\"/>\n      <use x=\"458.199219\" xlink:href=\"#DejaVuSans-108\"/>\n     </g>\n    </g>\n   </g>\n   <g id=\"patch_3\">\n    <path d=\"M 72.759375 239.758125 \nL 72.759375 22.318125 \n\" style=\"fill:none;stroke:#000000;stroke-linecap:square;stroke-linejoin:miter;stroke-width:0.8;\"/>\n   </g>\n   <g id=\"patch_4\">\n    <path d=\"M 290.199375 239.758125 \nL 290.199375 22.318125 \n\" style=\"fill:none;stroke:#000000;stroke-linecap:square;stroke-linejoin:miter;stroke-width:0.8;\"/>\n   </g>\n   <g id=\"patch_5\">\n    <path d=\"M 72.759375 239.758125 \nL 290.199375 239.758125 \n\" style=\"fill:none;stroke:#000000;stroke-linecap:square;stroke-linejoin:miter;stroke-width:0.8;\"/>\n   </g>\n   <g id=\"patch_6\">\n    <path d=\"M 72.759375 22.318125 \nL 290.199375 22.318125 \n\" style=\"fill:none;stroke:#000000;stroke-linecap:square;stroke-linejoin:miter;stroke-width:0.8;\"/>\n   </g>\n   <g id=\"text_9\">\n    <!-- 0.83 -->\n    <g style=\"fill:#440154;\" transform=\"translate(97.866563 61.3175)scale(0.1 -0.1)\">\n     <defs>\n      <path d=\"M 31.78125 66.40625 \nQ 24.171875 66.40625 20.328125 58.90625 \nQ 16.5 51.421875 16.5 36.375 \nQ 16.5 21.390625 20.328125 13.890625 \nQ 24.171875 6.390625 31.78125 6.390625 \nQ 39.453125 6.390625 43.28125 13.890625 \nQ 47.125 21.390625 47.125 36.375 \nQ 47.125 51.421875 43.28125 58.90625 \nQ 39.453125 66.40625 31.78125 66.40625 \nz\nM 31.78125 74.21875 \nQ 44.046875 74.21875 50.515625 64.515625 \nQ 56.984375 54.828125 56.984375 36.375 \nQ 56.984375 17.96875 50.515625 8.265625 \nQ 44.046875 -1.421875 31.78125 -1.421875 \nQ 19.53125 -1.421875 13.0625 8.265625 \nQ 6.59375 17.96875 6.59375 36.375 \nQ 6.59375 54.828125 13.0625 64.515625 \nQ 19.53125 74.21875 31.78125 74.21875 \nz\n\" id=\"DejaVuSans-48\"/>\n      <path d=\"M 10.6875 12.40625 \nL 21 12.40625 \nL 21 0 \nL 10.6875 0 \nz\n\" id=\"DejaVuSans-46\"/>\n      <path d=\"M 31.78125 34.625 \nQ 24.75 34.625 20.71875 30.859375 \nQ 16.703125 27.09375 16.703125 20.515625 \nQ 16.703125 13.921875 20.71875 10.15625 \nQ 24.75 6.390625 31.78125 6.390625 \nQ 38.8125 6.390625 42.859375 10.171875 \nQ 46.921875 13.96875 46.921875 20.515625 \nQ 46.921875 27.09375 42.890625 30.859375 \nQ 38.875 34.625 31.78125 34.625 \nz\nM 21.921875 38.8125 \nQ 15.578125 40.375 12.03125 44.71875 \nQ 8.5 49.078125 8.5 55.328125 \nQ 8.5 64.0625 14.71875 69.140625 \nQ 20.953125 74.21875 31.78125 74.21875 \nQ 42.671875 74.21875 48.875 69.140625 \nQ 55.078125 64.0625 55.078125 55.328125 \nQ 55.078125 49.078125 51.53125 44.71875 \nQ 48 40.375 41.703125 38.8125 \nQ 48.828125 37.15625 52.796875 32.3125 \nQ 56.78125 27.484375 56.78125 20.515625 \nQ 56.78125 9.90625 50.3125 4.234375 \nQ 43.84375 -1.421875 31.78125 -1.421875 \nQ 19.734375 -1.421875 13.25 4.234375 \nQ 6.78125 9.90625 6.78125 20.515625 \nQ 6.78125 27.484375 10.78125 32.3125 \nQ 14.796875 37.15625 21.921875 38.8125 \nz\nM 18.3125 54.390625 \nQ 18.3125 48.734375 21.84375 45.5625 \nQ 25.390625 42.390625 31.78125 42.390625 \nQ 38.140625 42.390625 41.71875 45.5625 \nQ 45.3125 48.734375 45.3125 54.390625 \nQ 45.3125 60.0625 41.71875 63.234375 \nQ 38.140625 66.40625 31.78125 66.40625 \nQ 25.390625 66.40625 21.84375 63.234375 \nQ 18.3125 60.0625 18.3125 54.390625 \nz\n\" id=\"DejaVuSans-56\"/>\n      <path d=\"M 40.578125 39.3125 \nQ 47.65625 37.796875 51.625 33 \nQ 55.609375 28.21875 55.609375 21.1875 \nQ 55.609375 10.40625 48.1875 4.484375 \nQ 40.765625 -1.421875 27.09375 -1.421875 \nQ 22.515625 -1.421875 17.65625 -0.515625 \nQ 12.796875 0.390625 7.625 2.203125 \nL 7.625 11.71875 \nQ 11.71875 9.328125 16.59375 8.109375 \nQ 21.484375 6.890625 26.8125 6.890625 \nQ 36.078125 6.890625 40.9375 10.546875 \nQ 45.796875 14.203125 45.796875 21.1875 \nQ 45.796875 27.640625 41.28125 31.265625 \nQ 36.765625 34.90625 28.71875 34.90625 \nL 20.21875 34.90625 \nL 20.21875 43.015625 \nL 29.109375 43.015625 \nQ 36.375 43.015625 40.234375 45.921875 \nQ 44.09375 48.828125 44.09375 54.296875 \nQ 44.09375 59.90625 40.109375 62.90625 \nQ 36.140625 65.921875 28.71875 65.921875 \nQ 24.65625 65.921875 20.015625 65.03125 \nQ 15.375 64.15625 9.8125 62.3125 \nL 9.8125 71.09375 \nQ 15.4375 72.65625 20.34375 73.4375 \nQ 25.25 74.21875 29.59375 74.21875 \nQ 40.828125 74.21875 47.359375 69.109375 \nQ 53.90625 64.015625 53.90625 55.328125 \nQ 53.90625 49.265625 50.4375 45.09375 \nQ 46.96875 40.921875 40.578125 39.3125 \nz\n\" id=\"DejaVuSans-51\"/>\n     </defs>\n     <use xlink:href=\"#DejaVuSans-48\"/>\n     <use x=\"63.623047\" xlink:href=\"#DejaVuSans-46\"/>\n     <use x=\"95.410156\" xlink:href=\"#DejaVuSans-56\"/>\n     <use x=\"159.033203\" xlink:href=\"#DejaVuSans-51\"/>\n    </g>\n   </g>\n   <g id=\"text_10\">\n    <!-- 0.16 -->\n    <g style=\"fill:#fde725;\" transform=\"translate(170.346563 61.3175)scale(0.1 -0.1)\">\n     <defs>\n      <path d=\"M 12.40625 8.296875 \nL 28.515625 8.296875 \nL 28.515625 63.921875 \nL 10.984375 60.40625 \nL 10.984375 69.390625 \nL 28.421875 72.90625 \nL 38.28125 72.90625 \nL 38.28125 8.296875 \nL 54.390625 8.296875 \nL 54.390625 0 \nL 12.40625 0 \nz\n\" id=\"DejaVuSans-49\"/>\n      <path d=\"M 33.015625 40.375 \nQ 26.375 40.375 22.484375 35.828125 \nQ 18.609375 31.296875 18.609375 23.390625 \nQ 18.609375 15.53125 22.484375 10.953125 \nQ 26.375 6.390625 33.015625 6.390625 \nQ 39.65625 6.390625 43.53125 10.953125 \nQ 47.40625 15.53125 47.40625 23.390625 \nQ 47.40625 31.296875 43.53125 35.828125 \nQ 39.65625 40.375 33.015625 40.375 \nz\nM 52.59375 71.296875 \nL 52.59375 62.3125 \nQ 48.875 64.0625 45.09375 64.984375 \nQ 41.3125 65.921875 37.59375 65.921875 \nQ 27.828125 65.921875 22.671875 59.328125 \nQ 17.53125 52.734375 16.796875 39.40625 \nQ 19.671875 43.65625 24.015625 45.921875 \nQ 28.375 48.1875 33.59375 48.1875 \nQ 44.578125 48.1875 50.953125 41.515625 \nQ 57.328125 34.859375 57.328125 23.390625 \nQ 57.328125 12.15625 50.6875 5.359375 \nQ 44.046875 -1.421875 33.015625 -1.421875 \nQ 20.359375 -1.421875 13.671875 8.265625 \nQ 6.984375 17.96875 6.984375 36.375 \nQ 6.984375 53.65625 15.1875 63.9375 \nQ 23.390625 74.21875 37.203125 74.21875 \nQ 40.921875 74.21875 44.703125 73.484375 \nQ 48.484375 72.75 52.59375 71.296875 \nz\n\" id=\"DejaVuSans-54\"/>\n     </defs>\n     <use xlink:href=\"#DejaVuSans-48\"/>\n     <use x=\"63.623047\" xlink:href=\"#DejaVuSans-46\"/>\n     <use x=\"95.410156\" xlink:href=\"#DejaVuSans-49\"/>\n     <use x=\"159.033203\" xlink:href=\"#DejaVuSans-54\"/>\n    </g>\n   </g>\n   <g id=\"text_11\">\n    <!-- 0.0096 -->\n    <g style=\"fill:#fde725;\" transform=\"translate(236.464062 61.3175)scale(0.1 -0.1)\">\n     <defs>\n      <path d=\"M 10.984375 1.515625 \nL 10.984375 10.5 \nQ 14.703125 8.734375 18.5 7.8125 \nQ 22.3125 6.890625 25.984375 6.890625 \nQ 35.75 6.890625 40.890625 13.453125 \nQ 46.046875 20.015625 46.78125 33.40625 \nQ 43.953125 29.203125 39.59375 26.953125 \nQ 35.25 24.703125 29.984375 24.703125 \nQ 19.046875 24.703125 12.671875 31.3125 \nQ 6.296875 37.9375 6.296875 49.421875 \nQ 6.296875 60.640625 12.9375 67.421875 \nQ 19.578125 74.21875 30.609375 74.21875 \nQ 43.265625 74.21875 49.921875 64.515625 \nQ 56.59375 54.828125 56.59375 36.375 \nQ 56.59375 19.140625 48.40625 8.859375 \nQ 40.234375 -1.421875 26.421875 -1.421875 \nQ 22.703125 -1.421875 18.890625 -0.6875 \nQ 15.09375 0.046875 10.984375 1.515625 \nz\nM 30.609375 32.421875 \nQ 37.25 32.421875 41.125 36.953125 \nQ 45.015625 41.5 45.015625 49.421875 \nQ 45.015625 57.28125 41.125 61.84375 \nQ 37.25 66.40625 30.609375 66.40625 \nQ 23.96875 66.40625 20.09375 61.84375 \nQ 16.21875 57.28125 16.21875 49.421875 \nQ 16.21875 41.5 20.09375 36.953125 \nQ 23.96875 32.421875 30.609375 32.421875 \nz\n\" id=\"DejaVuSans-57\"/>\n     </defs>\n     <use xlink:href=\"#DejaVuSans-48\"/>\n     <use x=\"63.623047\" xlink:href=\"#DejaVuSans-46\"/>\n     <use x=\"95.410156\" xlink:href=\"#DejaVuSans-48\"/>\n     <use x=\"159.033203\" xlink:href=\"#DejaVuSans-48\"/>\n     <use x=\"222.65625\" xlink:href=\"#DejaVuSans-57\"/>\n     <use x=\"286.279297\" xlink:href=\"#DejaVuSans-54\"/>\n    </g>\n   </g>\n   <g id=\"text_12\">\n    <!-- 0.11 -->\n    <g style=\"fill:#fde725;\" transform=\"translate(97.866563 133.7975)scale(0.1 -0.1)\">\n     <use xlink:href=\"#DejaVuSans-48\"/>\n     <use x=\"63.623047\" xlink:href=\"#DejaVuSans-46\"/>\n     <use x=\"95.410156\" xlink:href=\"#DejaVuSans-49\"/>\n     <use x=\"159.033203\" xlink:href=\"#DejaVuSans-49\"/>\n    </g>\n   </g>\n   <g id=\"text_13\">\n    <!-- 0.79 -->\n    <g style=\"fill:#440154;\" transform=\"translate(170.346563 133.7975)scale(0.1 -0.1)\">\n     <defs>\n      <path d=\"M 8.203125 72.90625 \nL 55.078125 72.90625 \nL 55.078125 68.703125 \nL 28.609375 0 \nL 18.3125 0 \nL 43.21875 64.59375 \nL 8.203125 64.59375 \nz\n\" id=\"DejaVuSans-55\"/>\n     </defs>\n     <use xlink:href=\"#DejaVuSans-48\"/>\n     <use x=\"63.623047\" xlink:href=\"#DejaVuSans-46\"/>\n     <use x=\"95.410156\" xlink:href=\"#DejaVuSans-55\"/>\n     <use x=\"159.033203\" xlink:href=\"#DejaVuSans-57\"/>\n    </g>\n   </g>\n   <g id=\"text_14\">\n    <!-- 0.098 -->\n    <g style=\"fill:#fde725;\" transform=\"translate(239.645312 133.7975)scale(0.1 -0.1)\">\n     <use xlink:href=\"#DejaVuSans-48\"/>\n     <use x=\"63.623047\" xlink:href=\"#DejaVuSans-46\"/>\n     <use x=\"95.410156\" xlink:href=\"#DejaVuSans-48\"/>\n     <use x=\"159.033203\" xlink:href=\"#DejaVuSans-57\"/>\n     <use x=\"222.65625\" xlink:href=\"#DejaVuSans-56\"/>\n    </g>\n   </g>\n   <g id=\"text_15\">\n    <!-- 0.0098 -->\n    <g style=\"fill:#fde725;\" transform=\"translate(91.504063 206.2775)scale(0.1 -0.1)\">\n     <use xlink:href=\"#DejaVuSans-48\"/>\n     <use x=\"63.623047\" xlink:href=\"#DejaVuSans-46\"/>\n     <use x=\"95.410156\" xlink:href=\"#DejaVuSans-48\"/>\n     <use x=\"159.033203\" xlink:href=\"#DejaVuSans-48\"/>\n     <use x=\"222.65625\" xlink:href=\"#DejaVuSans-57\"/>\n     <use x=\"286.279297\" xlink:href=\"#DejaVuSans-56\"/>\n    </g>\n   </g>\n   <g id=\"text_16\">\n    <!-- 0.18 -->\n    <g style=\"fill:#fde725;\" transform=\"translate(170.346563 206.2775)scale(0.1 -0.1)\">\n     <use xlink:href=\"#DejaVuSans-48\"/>\n     <use x=\"63.623047\" xlink:href=\"#DejaVuSans-46\"/>\n     <use x=\"95.410156\" xlink:href=\"#DejaVuSans-49\"/>\n     <use x=\"159.033203\" xlink:href=\"#DejaVuSans-56\"/>\n    </g>\n   </g>\n   <g id=\"text_17\">\n    <!-- 0.81 -->\n    <g style=\"fill:#440154;\" transform=\"translate(242.826562 206.2775)scale(0.1 -0.1)\">\n     <use xlink:href=\"#DejaVuSans-48\"/>\n     <use x=\"63.623047\" xlink:href=\"#DejaVuSans-46\"/>\n     <use x=\"95.410156\" xlink:href=\"#DejaVuSans-56\"/>\n     <use x=\"159.033203\" xlink:href=\"#DejaVuSans-49\"/>\n    </g>\n   </g>\n   <g id=\"text_18\">\n    <!-- Example Model Normalised confusion matrix -->\n    <g transform=\"translate(47.289375 16.318125)scale(0.12 -0.12)\">\n     <defs>\n      <path d=\"M 9.8125 72.90625 \nL 55.90625 72.90625 \nL 55.90625 64.59375 \nL 19.671875 64.59375 \nL 19.671875 43.015625 \nL 54.390625 43.015625 \nL 54.390625 34.71875 \nL 19.671875 34.71875 \nL 19.671875 8.296875 \nL 56.78125 8.296875 \nL 56.78125 0 \nL 9.8125 0 \nz\n\" id=\"DejaVuSans-69\"/>\n      <path d=\"M 54.890625 54.6875 \nL 35.109375 28.078125 \nL 55.90625 0 \nL 45.3125 0 \nL 29.390625 21.484375 \nL 13.484375 0 \nL 2.875 0 \nL 24.125 28.609375 \nL 4.6875 54.6875 \nL 15.28125 54.6875 \nL 29.78125 35.203125 \nL 44.28125 54.6875 \nz\n\" id=\"DejaVuSans-120\"/>\n      <path d=\"M 52 44.1875 \nQ 55.375 50.25 60.0625 53.125 \nQ 64.75 56 71.09375 56 \nQ 79.640625 56 84.28125 50.015625 \nQ 88.921875 44.046875 88.921875 33.015625 \nL 88.921875 0 \nL 79.890625 0 \nL 79.890625 32.71875 \nQ 79.890625 40.578125 77.09375 44.375 \nQ 74.3125 48.1875 68.609375 48.1875 \nQ 61.625 48.1875 57.5625 43.546875 \nQ 53.515625 38.921875 53.515625 30.90625 \nL 53.515625 0 \nL 44.484375 0 \nL 44.484375 32.71875 \nQ 44.484375 40.625 41.703125 44.40625 \nQ 38.921875 48.1875 33.109375 48.1875 \nQ 26.21875 48.1875 22.15625 43.53125 \nQ 18.109375 38.875 18.109375 30.90625 \nL 18.109375 0 \nL 9.078125 0 \nL 9.078125 54.6875 \nL 18.109375 54.6875 \nL 18.109375 46.1875 \nQ 21.1875 51.21875 25.484375 53.609375 \nQ 29.78125 56 35.6875 56 \nQ 41.65625 56 45.828125 52.96875 \nQ 50 49.953125 52 44.1875 \nz\n\" id=\"DejaVuSans-109\"/>\n      <path d=\"M 18.109375 8.203125 \nL 18.109375 -20.796875 \nL 9.078125 -20.796875 \nL 9.078125 54.6875 \nL 18.109375 54.6875 \nL 18.109375 46.390625 \nQ 20.953125 51.265625 25.265625 53.625 \nQ 29.59375 56 35.59375 56 \nQ 45.5625 56 51.78125 48.09375 \nQ 58.015625 40.1875 58.015625 27.296875 \nQ 58.015625 14.40625 51.78125 6.484375 \nQ 45.5625 -1.421875 35.59375 -1.421875 \nQ 29.59375 -1.421875 25.265625 0.953125 \nQ 20.953125 3.328125 18.109375 8.203125 \nz\nM 48.6875 27.296875 \nQ 48.6875 37.203125 44.609375 42.84375 \nQ 40.53125 48.484375 33.40625 48.484375 \nQ 26.265625 48.484375 22.1875 42.84375 \nQ 18.109375 37.203125 18.109375 27.296875 \nQ 18.109375 17.390625 22.1875 11.75 \nQ 26.265625 6.109375 33.40625 6.109375 \nQ 40.53125 6.109375 44.609375 11.75 \nQ 48.6875 17.390625 48.6875 27.296875 \nz\n\" id=\"DejaVuSans-112\"/>\n      <path d=\"M 9.8125 72.90625 \nL 24.515625 72.90625 \nL 43.109375 23.296875 \nL 61.8125 72.90625 \nL 76.515625 72.90625 \nL 76.515625 0 \nL 66.890625 0 \nL 66.890625 64.015625 \nL 48.09375 14.015625 \nL 38.1875 14.015625 \nL 19.390625 64.015625 \nL 19.390625 0 \nL 9.8125 0 \nz\n\" id=\"DejaVuSans-77\"/>\n      <path d=\"M 54.890625 33.015625 \nL 54.890625 0 \nL 45.90625 0 \nL 45.90625 32.71875 \nQ 45.90625 40.484375 42.875 44.328125 \nQ 39.84375 48.1875 33.796875 48.1875 \nQ 26.515625 48.1875 22.3125 43.546875 \nQ 18.109375 38.921875 18.109375 30.90625 \nL 18.109375 0 \nL 9.078125 0 \nL 9.078125 54.6875 \nL 18.109375 54.6875 \nL 18.109375 46.1875 \nQ 21.34375 51.125 25.703125 53.5625 \nQ 30.078125 56 35.796875 56 \nQ 45.21875 56 50.046875 50.171875 \nQ 54.890625 44.34375 54.890625 33.015625 \nz\n\" id=\"DejaVuSans-110\"/>\n      <path d=\"M 37.109375 75.984375 \nL 37.109375 68.5 \nL 28.515625 68.5 \nQ 23.6875 68.5 21.796875 66.546875 \nQ 19.921875 64.59375 19.921875 59.515625 \nL 19.921875 54.6875 \nL 34.71875 54.6875 \nL 34.71875 47.703125 \nL 19.921875 47.703125 \nL 19.921875 0 \nL 10.890625 0 \nL 10.890625 47.703125 \nL 2.296875 47.703125 \nL 2.296875 54.6875 \nL 10.890625 54.6875 \nL 10.890625 58.5 \nQ 10.890625 67.625 15.140625 71.796875 \nQ 19.390625 75.984375 28.609375 75.984375 \nz\n\" id=\"DejaVuSans-102\"/>\n     </defs>\n     <use xlink:href=\"#DejaVuSans-69\"/>\n     <use x=\"63.183594\" xlink:href=\"#DejaVuSans-120\"/>\n     <use x=\"122.363281\" xlink:href=\"#DejaVuSans-97\"/>\n     <use x=\"183.642578\" xlink:href=\"#DejaVuSans-109\"/>\n     <use x=\"281.054688\" xlink:href=\"#DejaVuSans-112\"/>\n     <use x=\"344.53125\" xlink:href=\"#DejaVuSans-108\"/>\n     <use x=\"372.314453\" xlink:href=\"#DejaVuSans-101\"/>\n     <use x=\"433.837891\" xlink:href=\"#DejaVuSans-32\"/>\n     <use x=\"465.625\" xlink:href=\"#DejaVuSans-77\"/>\n     <use x=\"551.904297\" xlink:href=\"#DejaVuSans-111\"/>\n     <use x=\"613.085938\" xlink:href=\"#DejaVuSans-100\"/>\n     <use x=\"676.5625\" xlink:href=\"#DejaVuSans-101\"/>\n     <use x=\"738.085938\" xlink:href=\"#DejaVuSans-108\"/>\n     <use x=\"765.869141\" xlink:href=\"#DejaVuSans-32\"/>\n     <use x=\"797.65625\" xlink:href=\"#DejaVuSans-78\"/>\n     <use x=\"872.460938\" xlink:href=\"#DejaVuSans-111\"/>\n     <use x=\"933.642578\" xlink:href=\"#DejaVuSans-114\"/>\n     <use x=\"973.005859\" xlink:href=\"#DejaVuSans-109\"/>\n     <use x=\"1070.417969\" xlink:href=\"#DejaVuSans-97\"/>\n     <use x=\"1131.697266\" xlink:href=\"#DejaVuSans-108\"/>\n     <use x=\"1159.480469\" xlink:href=\"#DejaVuSans-105\"/>\n     <use x=\"1187.263672\" xlink:href=\"#DejaVuSans-115\"/>\n     <use x=\"1239.363281\" xlink:href=\"#DejaVuSans-101\"/>\n     <use x=\"1300.886719\" xlink:href=\"#DejaVuSans-100\"/>\n     <use x=\"1364.363281\" xlink:href=\"#DejaVuSans-32\"/>\n     <use x=\"1396.150391\" xlink:href=\"#DejaVuSans-99\"/>\n     <use x=\"1451.130859\" xlink:href=\"#DejaVuSans-111\"/>\n     <use x=\"1512.3125\" xlink:href=\"#DejaVuSans-110\"/>\n     <use x=\"1575.691406\" xlink:href=\"#DejaVuSans-102\"/>\n     <use x=\"1610.896484\" xlink:href=\"#DejaVuSans-117\"/>\n     <use x=\"1674.275391\" xlink:href=\"#DejaVuSans-115\"/>\n     <use x=\"1726.375\" xlink:href=\"#DejaVuSans-105\"/>\n     <use x=\"1754.158203\" xlink:href=\"#DejaVuSans-111\"/>\n     <use x=\"1815.339844\" xlink:href=\"#DejaVuSans-110\"/>\n     <use x=\"1878.71875\" xlink:href=\"#DejaVuSans-32\"/>\n     <use x=\"1910.505859\" xlink:href=\"#DejaVuSans-109\"/>\n     <use x=\"2007.917969\" xlink:href=\"#DejaVuSans-97\"/>\n     <use x=\"2069.197266\" xlink:href=\"#DejaVuSans-116\"/>\n     <use x=\"2108.40625\" xlink:href=\"#DejaVuSans-114\"/>\n     <use x=\"2149.519531\" xlink:href=\"#DejaVuSans-105\"/>\n     <use x=\"2177.302734\" xlink:href=\"#DejaVuSans-120\"/>\n    </g>\n   </g>\n  </g>\n  <g id=\"axes_2\">\n   <g id=\"patch_7\">\n    <path clip-path=\"url(#pbd42939f00)\" d=\"M 306.939375 239.758125 \nL 306.939375 238.90875 \nL 306.939375 23.1675 \nL 306.939375 22.318125 \nL 317.811375 22.318125 \nL 317.811375 23.1675 \nL 317.811375 238.90875 \nL 317.811375 239.758125 \nz\n\" style=\"fill:#ffffff;stroke:#ffffff;stroke-linejoin:miter;stroke-width:0.01;\"/>\n   </g>\n   <image height=\"217\" id=\"image795ac72bc7\" transform=\"scale(1 -1)translate(0 -217)\" width=\"11\" x=\"307\" xlink:href=\"data:image/png;base64,\niVBORw0KGgoAAAANSUhEUgAAAAsAAADZCAYAAAD2WsoCAAABYUlEQVR4nO3aQW7DMBBDUWkk52Q9Q+9/kLbptkA2egsC4yJZE8QnZ2Q7TuZHfT7H4WfPmqfaseda5+IxC8SCMaYwl2CI86A2qOce1VlAcs6J3238FcfaeK4eAYnZxt0D4/xKkMUQ5yBzynmIMy2/9UwYsTZsgrQbxgziJm0EMXLVUcAupxvE5IwBUxjoHLvI3LKNmPMd2zjX4vPGHSf4/8dNzi3GDRDv0/0iPj/fd9yNNm0Exw3MweoqhdGkDXhESrYxRi4gOM9YQOuZmE0MGNSGYZxTcMBUG6t+OmBUrI0l4hxGE+c1Ydzk3ES87xhQbhPWRn13wCgZih1YYaY2lrWR2jpqY08KmGMWZ+mZnC9pw1Y0thu5oTzmFzjHhlISkJb/koDUM16RyDm1G7T8ts/BgKkb0GPQpUCWn06KBTzWjn3ZgQXnBV8It7zd20t+yCjBuOB9lmKAMzEv+SOQYPwCBCyBaHjgE4oAAAAASUVORK5CYII=\" y=\"-22\"/>\n   <g id=\"matplotlib.axis_3\"/>\n   <g id=\"matplotlib.axis_4\">\n    <g id=\"ytick_4\">\n     <g id=\"line2d_7\">\n      <defs>\n       <path d=\"M 0 0 \nL 3.5 0 \n\" id=\"m65981100f4\" style=\"stroke:#000000;stroke-width:0.8;\"/>\n      </defs>\n      <g>\n       <use style=\"stroke:#000000;stroke-width:0.8;\" x=\"317.811375\" xlink:href=\"#m65981100f4\" y=\"215.711819\"/>\n      </g>\n     </g>\n     <g id=\"text_19\">\n      <!-- 0.1 -->\n      <g transform=\"translate(324.811375 219.511038)scale(0.1 -0.1)\">\n       <use xlink:href=\"#DejaVuSans-48\"/>\n       <use x=\"63.623047\" xlink:href=\"#DejaVuSans-46\"/>\n       <use x=\"95.410156\" xlink:href=\"#DejaVuSans-49\"/>\n      </g>\n     </g>\n    </g>\n    <g id=\"ytick_5\">\n     <g id=\"line2d_8\">\n      <g>\n       <use style=\"stroke:#000000;stroke-width:0.8;\" x=\"317.811375\" xlink:href=\"#m65981100f4\" y=\"189.107396\"/>\n      </g>\n     </g>\n     <g id=\"text_20\">\n      <!-- 0.2 -->\n      <g transform=\"translate(324.811375 192.906614)scale(0.1 -0.1)\">\n       <defs>\n        <path d=\"M 19.1875 8.296875 \nL 53.609375 8.296875 \nL 53.609375 0 \nL 7.328125 0 \nL 7.328125 8.296875 \nQ 12.9375 14.109375 22.625 23.890625 \nQ 32.328125 33.6875 34.8125 36.53125 \nQ 39.546875 41.84375 41.421875 45.53125 \nQ 43.3125 49.21875 43.3125 52.78125 \nQ 43.3125 58.59375 39.234375 62.25 \nQ 35.15625 65.921875 28.609375 65.921875 \nQ 23.96875 65.921875 18.8125 64.3125 \nQ 13.671875 62.703125 7.8125 59.421875 \nL 7.8125 69.390625 \nQ 13.765625 71.78125 18.9375 73 \nQ 24.125 74.21875 28.421875 74.21875 \nQ 39.75 74.21875 46.484375 68.546875 \nQ 53.21875 62.890625 53.21875 53.421875 \nQ 53.21875 48.921875 51.53125 44.890625 \nQ 49.859375 40.875 45.40625 35.40625 \nQ 44.1875 33.984375 37.640625 27.21875 \nQ 31.109375 20.453125 19.1875 8.296875 \nz\n\" id=\"DejaVuSans-50\"/>\n       </defs>\n       <use xlink:href=\"#DejaVuSans-48\"/>\n       <use x=\"63.623047\" xlink:href=\"#DejaVuSans-46\"/>\n       <use x=\"95.410156\" xlink:href=\"#DejaVuSans-50\"/>\n      </g>\n     </g>\n    </g>\n    <g id=\"ytick_6\">\n     <g id=\"line2d_9\">\n      <g>\n       <use style=\"stroke:#000000;stroke-width:0.8;\" x=\"317.811375\" xlink:href=\"#m65981100f4\" y=\"162.502972\"/>\n      </g>\n     </g>\n     <g id=\"text_21\">\n      <!-- 0.3 -->\n      <g transform=\"translate(324.811375 166.302191)scale(0.1 -0.1)\">\n       <use xlink:href=\"#DejaVuSans-48\"/>\n       <use x=\"63.623047\" xlink:href=\"#DejaVuSans-46\"/>\n       <use x=\"95.410156\" xlink:href=\"#DejaVuSans-51\"/>\n      </g>\n     </g>\n    </g>\n    <g id=\"ytick_7\">\n     <g id=\"line2d_10\">\n      <g>\n       <use style=\"stroke:#000000;stroke-width:0.8;\" x=\"317.811375\" xlink:href=\"#m65981100f4\" y=\"135.898549\"/>\n      </g>\n     </g>\n     <g id=\"text_22\">\n      <!-- 0.4 -->\n      <g transform=\"translate(324.811375 139.697767)scale(0.1 -0.1)\">\n       <defs>\n        <path d=\"M 37.796875 64.3125 \nL 12.890625 25.390625 \nL 37.796875 25.390625 \nz\nM 35.203125 72.90625 \nL 47.609375 72.90625 \nL 47.609375 25.390625 \nL 58.015625 25.390625 \nL 58.015625 17.1875 \nL 47.609375 17.1875 \nL 47.609375 0 \nL 37.796875 0 \nL 37.796875 17.1875 \nL 4.890625 17.1875 \nL 4.890625 26.703125 \nz\n\" id=\"DejaVuSans-52\"/>\n       </defs>\n       <use xlink:href=\"#DejaVuSans-48\"/>\n       <use x=\"63.623047\" xlink:href=\"#DejaVuSans-46\"/>\n       <use x=\"95.410156\" xlink:href=\"#DejaVuSans-52\"/>\n      </g>\n     </g>\n    </g>\n    <g id=\"ytick_8\">\n     <g id=\"line2d_11\">\n      <g>\n       <use style=\"stroke:#000000;stroke-width:0.8;\" x=\"317.811375\" xlink:href=\"#m65981100f4\" y=\"109.294125\"/>\n      </g>\n     </g>\n     <g id=\"text_23\">\n      <!-- 0.5 -->\n      <g transform=\"translate(324.811375 113.093344)scale(0.1 -0.1)\">\n       <defs>\n        <path d=\"M 10.796875 72.90625 \nL 49.515625 72.90625 \nL 49.515625 64.59375 \nL 19.828125 64.59375 \nL 19.828125 46.734375 \nQ 21.96875 47.46875 24.109375 47.828125 \nQ 26.265625 48.1875 28.421875 48.1875 \nQ 40.625 48.1875 47.75 41.5 \nQ 54.890625 34.8125 54.890625 23.390625 \nQ 54.890625 11.625 47.5625 5.09375 \nQ 40.234375 -1.421875 26.90625 -1.421875 \nQ 22.3125 -1.421875 17.546875 -0.640625 \nQ 12.796875 0.140625 7.71875 1.703125 \nL 7.71875 11.625 \nQ 12.109375 9.234375 16.796875 8.0625 \nQ 21.484375 6.890625 26.703125 6.890625 \nQ 35.15625 6.890625 40.078125 11.328125 \nQ 45.015625 15.765625 45.015625 23.390625 \nQ 45.015625 31 40.078125 35.4375 \nQ 35.15625 39.890625 26.703125 39.890625 \nQ 22.75 39.890625 18.8125 39.015625 \nQ 14.890625 38.140625 10.796875 36.28125 \nz\n\" id=\"DejaVuSans-53\"/>\n       </defs>\n       <use xlink:href=\"#DejaVuSans-48\"/>\n       <use x=\"63.623047\" xlink:href=\"#DejaVuSans-46\"/>\n       <use x=\"95.410156\" xlink:href=\"#DejaVuSans-53\"/>\n      </g>\n     </g>\n    </g>\n    <g id=\"ytick_9\">\n     <g id=\"line2d_12\">\n      <g>\n       <use style=\"stroke:#000000;stroke-width:0.8;\" x=\"317.811375\" xlink:href=\"#m65981100f4\" y=\"82.689701\"/>\n      </g>\n     </g>\n     <g id=\"text_24\">\n      <!-- 0.6 -->\n      <g transform=\"translate(324.811375 86.48892)scale(0.1 -0.1)\">\n       <use xlink:href=\"#DejaVuSans-48\"/>\n       <use x=\"63.623047\" xlink:href=\"#DejaVuSans-46\"/>\n       <use x=\"95.410156\" xlink:href=\"#DejaVuSans-54\"/>\n      </g>\n     </g>\n    </g>\n    <g id=\"ytick_10\">\n     <g id=\"line2d_13\">\n      <g>\n       <use style=\"stroke:#000000;stroke-width:0.8;\" x=\"317.811375\" xlink:href=\"#m65981100f4\" y=\"56.085278\"/>\n      </g>\n     </g>\n     <g id=\"text_25\">\n      <!-- 0.7 -->\n      <g transform=\"translate(324.811375 59.884497)scale(0.1 -0.1)\">\n       <use xlink:href=\"#DejaVuSans-48\"/>\n       <use x=\"63.623047\" xlink:href=\"#DejaVuSans-46\"/>\n       <use x=\"95.410156\" xlink:href=\"#DejaVuSans-55\"/>\n      </g>\n     </g>\n    </g>\n    <g id=\"ytick_11\">\n     <g id=\"line2d_14\">\n      <g>\n       <use style=\"stroke:#000000;stroke-width:0.8;\" x=\"317.811375\" xlink:href=\"#m65981100f4\" y=\"29.480854\"/>\n      </g>\n     </g>\n     <g id=\"text_26\">\n      <!-- 0.8 -->\n      <g transform=\"translate(324.811375 33.280073)scale(0.1 -0.1)\">\n       <use xlink:href=\"#DejaVuSans-48\"/>\n       <use x=\"63.623047\" xlink:href=\"#DejaVuSans-46\"/>\n       <use x=\"95.410156\" xlink:href=\"#DejaVuSans-56\"/>\n      </g>\n     </g>\n    </g>\n   </g>\n   <g id=\"patch_8\">\n    <path d=\"M 306.939375 239.758125 \nL 306.939375 238.90875 \nL 306.939375 23.1675 \nL 306.939375 22.318125 \nL 317.811375 22.318125 \nL 317.811375 23.1675 \nL 317.811375 238.90875 \nL 317.811375 239.758125 \nz\n\" style=\"fill:none;stroke:#000000;stroke-linejoin:miter;stroke-width:0.8;\"/>\n   </g>\n  </g>\n </g>\n <defs>\n  <clipPath id=\"p140ed37721\">\n   <rect height=\"217.44\" width=\"217.44\" x=\"72.759375\" y=\"22.318125\"/>\n  </clipPath>\n  <clipPath id=\"pbd42939f00\">\n   <rect height=\"217.44\" width=\"10.872\" x=\"306.939375\" y=\"22.318125\"/>\n  </clipPath>\n </defs>\n</svg>\n",
      "image/png": "[encoded data removed]"
     },
     "metadata": {
      "needs_background": "light"
     }
    }
   ],
   "source": [
    "from sklearn.metrics import confusion_matrix, ConfusionMatrixDisplay\n",
    "\n",
    "titles_options = [(\"Example Model Confusion matrix without normalisation\", None),\n",
    "                  (\"Example Model Normalised confusion matrix\", 'true')]\n",
    "display_labels = ['Negative','Neutral','Positive']\n",
    "labels = [0,1,2]\n",
    "for title, normalize in titles_options:\n",
    "  cm = confusion_matrix(v_y, Y_text_predictions, labels=labels, normalize=normalize)\n",
    "  disp = ConfusionMatrixDisplay(confusion_matrix=cm, display_labels=display_labels)\n",
    "  disp.plot()\n",
    "  disp.ax_.set_title(title)\n"
   ]
  },
  {
   "cell_type": "code",
   "execution_count": 12,
   "metadata": {},
   "outputs": [
    {
     "output_type": "display_data",
     "data": {
      "text/plain": "<Figure size 432x288 with 2 Axes>",
      "image/svg+xml": "<?xml version=\"1.0\" encoding=\"utf-8\" standalone=\"no\"?>\n<!DOCTYPE svg PUBLIC \"-//W3C//DTD SVG 1.1//EN\"\n  \"http://www.w3.org/Graphics/SVG/1.1/DTD/svg11.dtd\">\n<!-- Created with matplotlib (https://matplotlib.org/) -->\n<svg height=\"277.314375pt\" version=\"1.1\" viewBox=\"0 0 351.098875 277.314375\" width=\"351.098875pt\" xmlns=\"http://www.w3.org/2000/svg\" xmlns:xlink=\"http://www.w3.org/1999/xlink\">\n <metadata>\n  <rdf:RDF xmlns:cc=\"http://creativecommons.org/ns#\" xmlns:dc=\"http://purl.org/dc/elements/1.1/\" xmlns:rdf=\"http://www.w3.org/1999/02/22-rdf-syntax-ns#\">\n   <cc:Work>\n    <dc:type rdf:resource=\"http://purl.org/dc/dcmitype/StillImage\"/>\n    <dc:date>2021-05-28T19:17:55.110476</dc:date>\n    <dc:format>image/svg+xml</dc:format>\n    <dc:creator>\n     <cc:Agent>\n      <dc:title>Matplotlib v3.3.4, https://matplotlib.org/</dc:title>\n     </cc:Agent>\n    </dc:creator>\n   </cc:Work>\n  </rdf:RDF>\n </metadata>\n <defs>\n  <style type=\"text/css\">*{stroke-linecap:butt;stroke-linejoin:round;}</style>\n </defs>\n <g id=\"figure_1\">\n  <g id=\"patch_1\">\n   <path d=\"M -0 277.314375 \nL 351.098875 277.314375 \nL 351.098875 0 \nL -0 0 \nz\n\" style=\"fill:none;\"/>\n  </g>\n  <g id=\"axes_1\">\n   <g id=\"patch_2\">\n    <path d=\"M 72.759375 239.758125 \nL 290.199375 239.758125 \nL 290.199375 22.318125 \nL 72.759375 22.318125 \nz\n\" style=\"fill:#ffffff;\"/>\n   </g>\n   <g clip-path=\"url(#p2fdac5dcab)\">\n    <image height=\"218\" id=\"imageb24e6a5cdb\" transform=\"scale(1 -1)translate(0 -218)\" width=\"218\" x=\"72.759375\" xlink:href=\"data:image/png;base64,\niVBORw0KGgoAAAANSUhEUgAAANoAAADaCAYAAADAHVzbAAACxElEQVR4nO3VoU0DYBhFUUqaetgDj8BgMDVdAdcqFmAJDJKJkGgMkhkInQB7vz/hnAmeuXmbh5vn3wv+9LW/np6wvLfjy/SE5V1OD4D/QGgQEBoEhAYBoUFAaBAQGgSEBgGhQUBoEBAaBIQGAaFBQGgQEBoEhAYBoUFAaBAQGgSEBgGhQUBoEBAaBIQGAaFBQGgQEBoEhAYBoUFAaBAQGgSEBgGhQUBoEBAaBIQGAaFBQGgQEBoEhAYBoUFAaBAQGgSEBgGhQUBoEBAaBIQGAaFBQGgQEBoEhAYBoUFAaBAQGgSEBgGhQUBoEBAaBIQGAaFBQGgQEBoEhAYBoUFAaBAQGgSEBgGhQUBoEBAaBIQGge337dX0hqV9PL1OT1je/eNpesLyPBoEhAYBoUFAaBAQGgSEBgGhQUBoEBAaBIQGAaFBQGgQEBoEhAYBoUFAaBAQGgSEBgGhQUBoEBAaBIQGAaFBQGgQEBoEhAYBoUFAaBAQGgSEBgGhQUBoEBAaBIQGAaFBQGgQEBoEhAYBoUFAaBAQGgSEBgGhQUBoEBAaBIQGAaFBQGgQEBoEhAYBoUFAaBAQGgSEBgGhQUBoEBAaBIQGAaFBQGgQEBoEhAYBoUFAaBAQGgSEBgGhQUBoEBAaBIQGAaFBYPuz20xvWNr+7jA9YXm7z/fpCcvzaBAQGgSEBgGhQUBoEBAaBIQGAaFBQGgQEBoEhAYBoUFAaBAQGgSEBgGhQUBoEBAaBIQGAaFBQGgQEBoEhAYBoUFAaBAQGgSEBgGhQUBoEBAaBIQGAaFBQGgQEBoEhAYBoUFAaBAQGgSEBgGhQUBoEBAaBIQGAaFBQGgQEBoEhAYBoUFAaBAQGgSEBgGhQUBoEBAaBIQGAaFBQGgQEBoEhAYBoUFAaBAQGgSEBgGhQUBoEBAaBIQGAaFBQGgQEBoEhAYBoUHgDA5hDiAhj4XQAAAAAElFTkSuQmCC\" y=\"-21.758125\"/>\n   </g>\n   <g id=\"matplotlib.axis_1\">\n    <g id=\"xtick_1\">\n     <g id=\"line2d_1\">\n      <defs>\n       <path d=\"M 0 0 \nL 0 3.5 \n\" id=\"md9f0ca666a\" style=\"stroke:#000000;stroke-width:0.8;\"/>\n      </defs>\n      <g>\n       <use style=\"stroke:#000000;stroke-width:0.8;\" x=\"108.999375\" xlink:href=\"#md9f0ca666a\" y=\"239.758125\"/>\n      </g>\n     </g>\n     <g id=\"text_1\">\n      <!-- Negative -->\n      <g transform=\"translate(86.55875 254.356562)scale(0.1 -0.1)\">\n       <defs>\n        <path d=\"M 9.8125 72.90625 \nL 23.09375 72.90625 \nL 55.421875 11.921875 \nL 55.421875 72.90625 \nL 64.984375 72.90625 \nL 64.984375 0 \nL 51.703125 0 \nL 19.390625 60.984375 \nL 19.390625 0 \nL 9.8125 0 \nz\n\" id=\"DejaVuSans-78\"/>\n        <path d=\"M 56.203125 29.59375 \nL 56.203125 25.203125 \nL 14.890625 25.203125 \nQ 15.484375 15.921875 20.484375 11.0625 \nQ 25.484375 6.203125 34.421875 6.203125 \nQ 39.59375 6.203125 44.453125 7.46875 \nQ 49.3125 8.734375 54.109375 11.28125 \nL 54.109375 2.78125 \nQ 49.265625 0.734375 44.1875 -0.34375 \nQ 39.109375 -1.421875 33.890625 -1.421875 \nQ 20.796875 -1.421875 13.15625 6.1875 \nQ 5.515625 13.8125 5.515625 26.8125 \nQ 5.515625 40.234375 12.765625 48.109375 \nQ 20.015625 56 32.328125 56 \nQ 43.359375 56 49.78125 48.890625 \nQ 56.203125 41.796875 56.203125 29.59375 \nz\nM 47.21875 32.234375 \nQ 47.125 39.59375 43.09375 43.984375 \nQ 39.0625 48.390625 32.421875 48.390625 \nQ 24.90625 48.390625 20.390625 44.140625 \nQ 15.875 39.890625 15.1875 32.171875 \nz\n\" id=\"DejaVuSans-101\"/>\n        <path d=\"M 45.40625 27.984375 \nQ 45.40625 37.75 41.375 43.109375 \nQ 37.359375 48.484375 30.078125 48.484375 \nQ 22.859375 48.484375 18.828125 43.109375 \nQ 14.796875 37.75 14.796875 27.984375 \nQ 14.796875 18.265625 18.828125 12.890625 \nQ 22.859375 7.515625 30.078125 7.515625 \nQ 37.359375 7.515625 41.375 12.890625 \nQ 45.40625 18.265625 45.40625 27.984375 \nz\nM 54.390625 6.78125 \nQ 54.390625 -7.171875 48.1875 -13.984375 \nQ 42 -20.796875 29.203125 -20.796875 \nQ 24.46875 -20.796875 20.265625 -20.09375 \nQ 16.0625 -19.390625 12.109375 -17.921875 \nL 12.109375 -9.1875 \nQ 16.0625 -11.328125 19.921875 -12.34375 \nQ 23.78125 -13.375 27.78125 -13.375 \nQ 36.625 -13.375 41.015625 -8.765625 \nQ 45.40625 -4.15625 45.40625 5.171875 \nL 45.40625 9.625 \nQ 42.625 4.78125 38.28125 2.390625 \nQ 33.9375 0 27.875 0 \nQ 17.828125 0 11.671875 7.65625 \nQ 5.515625 15.328125 5.515625 27.984375 \nQ 5.515625 40.671875 11.671875 48.328125 \nQ 17.828125 56 27.875 56 \nQ 33.9375 56 38.28125 53.609375 \nQ 42.625 51.21875 45.40625 46.390625 \nL 45.40625 54.6875 \nL 54.390625 54.6875 \nz\n\" id=\"DejaVuSans-103\"/>\n        <path d=\"M 34.28125 27.484375 \nQ 23.390625 27.484375 19.1875 25 \nQ 14.984375 22.515625 14.984375 16.5 \nQ 14.984375 11.71875 18.140625 8.90625 \nQ 21.296875 6.109375 26.703125 6.109375 \nQ 34.1875 6.109375 38.703125 11.40625 \nQ 43.21875 16.703125 43.21875 25.484375 \nL 43.21875 27.484375 \nz\nM 52.203125 31.203125 \nL 52.203125 0 \nL 43.21875 0 \nL 43.21875 8.296875 \nQ 40.140625 3.328125 35.546875 0.953125 \nQ 30.953125 -1.421875 24.3125 -1.421875 \nQ 15.921875 -1.421875 10.953125 3.296875 \nQ 6 8.015625 6 15.921875 \nQ 6 25.140625 12.171875 29.828125 \nQ 18.359375 34.515625 30.609375 34.515625 \nL 43.21875 34.515625 \nL 43.21875 35.40625 \nQ 43.21875 41.609375 39.140625 45 \nQ 35.0625 48.390625 27.6875 48.390625 \nQ 23 48.390625 18.546875 47.265625 \nQ 14.109375 46.140625 10.015625 43.890625 \nL 10.015625 52.203125 \nQ 14.9375 54.109375 19.578125 55.046875 \nQ 24.21875 56 28.609375 56 \nQ 40.484375 56 46.34375 49.84375 \nQ 52.203125 43.703125 52.203125 31.203125 \nz\n\" id=\"DejaVuSans-97\"/>\n        <path d=\"M 18.3125 70.21875 \nL 18.3125 54.6875 \nL 36.8125 54.6875 \nL 36.8125 47.703125 \nL 18.3125 47.703125 \nL 18.3125 18.015625 \nQ 18.3125 11.328125 20.140625 9.421875 \nQ 21.96875 7.515625 27.59375 7.515625 \nL 36.8125 7.515625 \nL 36.8125 0 \nL 27.59375 0 \nQ 17.1875 0 13.234375 3.875 \nQ 9.28125 7.765625 9.28125 18.015625 \nL 9.28125 47.703125 \nL 2.6875 47.703125 \nL 2.6875 54.6875 \nL 9.28125 54.6875 \nL 9.28125 70.21875 \nz\n\" id=\"DejaVuSans-116\"/>\n        <path d=\"M 9.421875 54.6875 \nL 18.40625 54.6875 \nL 18.40625 0 \nL 9.421875 0 \nz\nM 9.421875 75.984375 \nL 18.40625 75.984375 \nL 18.40625 64.59375 \nL 9.421875 64.59375 \nz\n\" id=\"DejaVuSans-105\"/>\n        <path d=\"M 2.984375 54.6875 \nL 12.5 54.6875 \nL 29.59375 8.796875 \nL 46.6875 54.6875 \nL 56.203125 54.6875 \nL 35.6875 0 \nL 23.484375 0 \nz\n\" id=\"DejaVuSans-118\"/>\n       </defs>\n       <use xlink:href=\"#DejaVuSans-78\"/>\n       <use x=\"74.804688\" xlink:href=\"#DejaVuSans-101\"/>\n       <use x=\"136.328125\" xlink:href=\"#DejaVuSans-103\"/>\n       <use x=\"199.804688\" xlink:href=\"#DejaVuSans-97\"/>\n       <use x=\"261.083984\" xlink:href=\"#DejaVuSans-116\"/>\n       <use x=\"300.292969\" xlink:href=\"#DejaVuSans-105\"/>\n       <use x=\"328.076172\" xlink:href=\"#DejaVuSans-118\"/>\n       <use x=\"387.255859\" xlink:href=\"#DejaVuSans-101\"/>\n      </g>\n     </g>\n    </g>\n    <g id=\"xtick_2\">\n     <g id=\"line2d_2\">\n      <g>\n       <use style=\"stroke:#000000;stroke-width:0.8;\" x=\"181.479375\" xlink:href=\"#md9f0ca666a\" y=\"239.758125\"/>\n      </g>\n     </g>\n     <g id=\"text_2\">\n      <!-- Neutral -->\n      <g transform=\"translate(163.024687 254.356562)scale(0.1 -0.1)\">\n       <defs>\n        <path d=\"M 8.5 21.578125 \nL 8.5 54.6875 \nL 17.484375 54.6875 \nL 17.484375 21.921875 \nQ 17.484375 14.15625 20.5 10.265625 \nQ 23.53125 6.390625 29.59375 6.390625 \nQ 36.859375 6.390625 41.078125 11.03125 \nQ 45.3125 15.671875 45.3125 23.6875 \nL 45.3125 54.6875 \nL 54.296875 54.6875 \nL 54.296875 0 \nL 45.3125 0 \nL 45.3125 8.40625 \nQ 42.046875 3.421875 37.71875 1 \nQ 33.40625 -1.421875 27.6875 -1.421875 \nQ 18.265625 -1.421875 13.375 4.4375 \nQ 8.5 10.296875 8.5 21.578125 \nz\nM 31.109375 56 \nz\n\" id=\"DejaVuSans-117\"/>\n        <path d=\"M 41.109375 46.296875 \nQ 39.59375 47.171875 37.8125 47.578125 \nQ 36.03125 48 33.890625 48 \nQ 26.265625 48 22.1875 43.046875 \nQ 18.109375 38.09375 18.109375 28.8125 \nL 18.109375 0 \nL 9.078125 0 \nL 9.078125 54.6875 \nL 18.109375 54.6875 \nL 18.109375 46.1875 \nQ 20.953125 51.171875 25.484375 53.578125 \nQ 30.03125 56 36.53125 56 \nQ 37.453125 56 38.578125 55.875 \nQ 39.703125 55.765625 41.0625 55.515625 \nz\n\" id=\"DejaVuSans-114\"/>\n        <path d=\"M 9.421875 75.984375 \nL 18.40625 75.984375 \nL 18.40625 0 \nL 9.421875 0 \nz\n\" id=\"DejaVuSans-108\"/>\n       </defs>\n       <use xlink:href=\"#DejaVuSans-78\"/>\n       <use x=\"74.804688\" xlink:href=\"#DejaVuSans-101\"/>\n       <use x=\"136.328125\" xlink:href=\"#DejaVuSans-117\"/>\n       <use x=\"199.707031\" xlink:href=\"#DejaVuSans-116\"/>\n       <use x=\"238.916016\" xlink:href=\"#DejaVuSans-114\"/>\n       <use x=\"280.029297\" xlink:href=\"#DejaVuSans-97\"/>\n       <use x=\"341.308594\" xlink:href=\"#DejaVuSans-108\"/>\n      </g>\n     </g>\n    </g>\n    <g id=\"xtick_3\">\n     <g id=\"line2d_3\">\n      <g>\n       <use style=\"stroke:#000000;stroke-width:0.8;\" x=\"253.959375\" xlink:href=\"#md9f0ca666a\" y=\"239.758125\"/>\n      </g>\n     </g>\n     <g id=\"text_3\">\n      <!-- Positive -->\n      <g transform=\"translate(234.6875 254.356562)scale(0.1 -0.1)\">\n       <defs>\n        <path d=\"M 19.671875 64.796875 \nL 19.671875 37.40625 \nL 32.078125 37.40625 \nQ 38.96875 37.40625 42.71875 40.96875 \nQ 46.484375 44.53125 46.484375 51.125 \nQ 46.484375 57.671875 42.71875 61.234375 \nQ 38.96875 64.796875 32.078125 64.796875 \nz\nM 9.8125 72.90625 \nL 32.078125 72.90625 \nQ 44.34375 72.90625 50.609375 67.359375 \nQ 56.890625 61.8125 56.890625 51.125 \nQ 56.890625 40.328125 50.609375 34.8125 \nQ 44.34375 29.296875 32.078125 29.296875 \nL 19.671875 29.296875 \nL 19.671875 0 \nL 9.8125 0 \nz\n\" id=\"DejaVuSans-80\"/>\n        <path d=\"M 30.609375 48.390625 \nQ 23.390625 48.390625 19.1875 42.75 \nQ 14.984375 37.109375 14.984375 27.296875 \nQ 14.984375 17.484375 19.15625 11.84375 \nQ 23.34375 6.203125 30.609375 6.203125 \nQ 37.796875 6.203125 41.984375 11.859375 \nQ 46.1875 17.53125 46.1875 27.296875 \nQ 46.1875 37.015625 41.984375 42.703125 \nQ 37.796875 48.390625 30.609375 48.390625 \nz\nM 30.609375 56 \nQ 42.328125 56 49.015625 48.375 \nQ 55.71875 40.765625 55.71875 27.296875 \nQ 55.71875 13.875 49.015625 6.21875 \nQ 42.328125 -1.421875 30.609375 -1.421875 \nQ 18.84375 -1.421875 12.171875 6.21875 \nQ 5.515625 13.875 5.515625 27.296875 \nQ 5.515625 40.765625 12.171875 48.375 \nQ 18.84375 56 30.609375 56 \nz\n\" id=\"DejaVuSans-111\"/>\n        <path d=\"M 44.28125 53.078125 \nL 44.28125 44.578125 \nQ 40.484375 46.53125 36.375 47.5 \nQ 32.28125 48.484375 27.875 48.484375 \nQ 21.1875 48.484375 17.84375 46.4375 \nQ 14.5 44.390625 14.5 40.28125 \nQ 14.5 37.15625 16.890625 35.375 \nQ 19.28125 33.59375 26.515625 31.984375 \nL 29.59375 31.296875 \nQ 39.15625 29.25 43.1875 25.515625 \nQ 47.21875 21.78125 47.21875 15.09375 \nQ 47.21875 7.46875 41.1875 3.015625 \nQ 35.15625 -1.421875 24.609375 -1.421875 \nQ 20.21875 -1.421875 15.453125 -0.5625 \nQ 10.6875 0.296875 5.421875 2 \nL 5.421875 11.28125 \nQ 10.40625 8.6875 15.234375 7.390625 \nQ 20.0625 6.109375 24.8125 6.109375 \nQ 31.15625 6.109375 34.5625 8.28125 \nQ 37.984375 10.453125 37.984375 14.40625 \nQ 37.984375 18.0625 35.515625 20.015625 \nQ 33.0625 21.96875 24.703125 23.78125 \nL 21.578125 24.515625 \nQ 13.234375 26.265625 9.515625 29.90625 \nQ 5.8125 33.546875 5.8125 39.890625 \nQ 5.8125 47.609375 11.28125 51.796875 \nQ 16.75 56 26.8125 56 \nQ 31.78125 56 36.171875 55.265625 \nQ 40.578125 54.546875 44.28125 53.078125 \nz\n\" id=\"DejaVuSans-115\"/>\n       </defs>\n       <use xlink:href=\"#DejaVuSans-80\"/>\n       <use x=\"56.677734\" xlink:href=\"#DejaVuSans-111\"/>\n       <use x=\"117.859375\" xlink:href=\"#DejaVuSans-115\"/>\n       <use x=\"169.958984\" xlink:href=\"#DejaVuSans-105\"/>\n       <use x=\"197.742188\" xlink:href=\"#DejaVuSans-116\"/>\n       <use x=\"236.951172\" xlink:href=\"#DejaVuSans-105\"/>\n       <use x=\"264.734375\" xlink:href=\"#DejaVuSans-118\"/>\n       <use x=\"323.914062\" xlink:href=\"#DejaVuSans-101\"/>\n      </g>\n     </g>\n    </g>\n    <g id=\"text_4\">\n     <!-- Predicted label -->\n     <g transform=\"translate(144.327031 268.034687)scale(0.1 -0.1)\">\n      <defs>\n       <path d=\"M 45.40625 46.390625 \nL 45.40625 75.984375 \nL 54.390625 75.984375 \nL 54.390625 0 \nL 45.40625 0 \nL 45.40625 8.203125 \nQ 42.578125 3.328125 38.25 0.953125 \nQ 33.9375 -1.421875 27.875 -1.421875 \nQ 17.96875 -1.421875 11.734375 6.484375 \nQ 5.515625 14.40625 5.515625 27.296875 \nQ 5.515625 40.1875 11.734375 48.09375 \nQ 17.96875 56 27.875 56 \nQ 33.9375 56 38.25 53.625 \nQ 42.578125 51.265625 45.40625 46.390625 \nz\nM 14.796875 27.296875 \nQ 14.796875 17.390625 18.875 11.75 \nQ 22.953125 6.109375 30.078125 6.109375 \nQ 37.203125 6.109375 41.296875 11.75 \nQ 45.40625 17.390625 45.40625 27.296875 \nQ 45.40625 37.203125 41.296875 42.84375 \nQ 37.203125 48.484375 30.078125 48.484375 \nQ 22.953125 48.484375 18.875 42.84375 \nQ 14.796875 37.203125 14.796875 27.296875 \nz\n\" id=\"DejaVuSans-100\"/>\n       <path d=\"M 48.78125 52.59375 \nL 48.78125 44.1875 \nQ 44.96875 46.296875 41.140625 47.34375 \nQ 37.3125 48.390625 33.40625 48.390625 \nQ 24.65625 48.390625 19.8125 42.84375 \nQ 14.984375 37.3125 14.984375 27.296875 \nQ 14.984375 17.28125 19.8125 11.734375 \nQ 24.65625 6.203125 33.40625 6.203125 \nQ 37.3125 6.203125 41.140625 7.25 \nQ 44.96875 8.296875 48.78125 10.40625 \nL 48.78125 2.09375 \nQ 45.015625 0.34375 40.984375 -0.53125 \nQ 36.96875 -1.421875 32.421875 -1.421875 \nQ 20.0625 -1.421875 12.78125 6.34375 \nQ 5.515625 14.109375 5.515625 27.296875 \nQ 5.515625 40.671875 12.859375 48.328125 \nQ 20.21875 56 33.015625 56 \nQ 37.15625 56 41.109375 55.140625 \nQ 45.0625 54.296875 48.78125 52.59375 \nz\n\" id=\"DejaVuSans-99\"/>\n       <path id=\"DejaVuSans-32\"/>\n       <path d=\"M 48.6875 27.296875 \nQ 48.6875 37.203125 44.609375 42.84375 \nQ 40.53125 48.484375 33.40625 48.484375 \nQ 26.265625 48.484375 22.1875 42.84375 \nQ 18.109375 37.203125 18.109375 27.296875 \nQ 18.109375 17.390625 22.1875 11.75 \nQ 26.265625 6.109375 33.40625 6.109375 \nQ 40.53125 6.109375 44.609375 11.75 \nQ 48.6875 17.390625 48.6875 27.296875 \nz\nM 18.109375 46.390625 \nQ 20.953125 51.265625 25.265625 53.625 \nQ 29.59375 56 35.59375 56 \nQ 45.5625 56 51.78125 48.09375 \nQ 58.015625 40.1875 58.015625 27.296875 \nQ 58.015625 14.40625 51.78125 6.484375 \nQ 45.5625 -1.421875 35.59375 -1.421875 \nQ 29.59375 -1.421875 25.265625 0.953125 \nQ 20.953125 3.328125 18.109375 8.203125 \nL 18.109375 0 \nL 9.078125 0 \nL 9.078125 75.984375 \nL 18.109375 75.984375 \nz\n\" id=\"DejaVuSans-98\"/>\n      </defs>\n      <use xlink:href=\"#DejaVuSans-80\"/>\n      <use x=\"58.552734\" xlink:href=\"#DejaVuSans-114\"/>\n      <use x=\"97.416016\" xlink:href=\"#DejaVuSans-101\"/>\n      <use x=\"158.939453\" xlink:href=\"#DejaVuSans-100\"/>\n      <use x=\"222.416016\" xlink:href=\"#DejaVuSans-105\"/>\n      <use x=\"250.199219\" xlink:href=\"#DejaVuSans-99\"/>\n      <use x=\"305.179688\" xlink:href=\"#DejaVuSans-116\"/>\n      <use x=\"344.388672\" xlink:href=\"#DejaVuSans-101\"/>\n      <use x=\"405.912109\" xlink:href=\"#DejaVuSans-100\"/>\n      <use x=\"469.388672\" xlink:href=\"#DejaVuSans-32\"/>\n      <use x=\"501.175781\" xlink:href=\"#DejaVuSans-108\"/>\n      <use x=\"528.958984\" xlink:href=\"#DejaVuSans-97\"/>\n      <use x=\"590.238281\" xlink:href=\"#DejaVuSans-98\"/>\n      <use x=\"653.714844\" xlink:href=\"#DejaVuSans-101\"/>\n      <use x=\"715.238281\" xlink:href=\"#DejaVuSans-108\"/>\n     </g>\n    </g>\n   </g>\n   <g id=\"matplotlib.axis_2\">\n    <g id=\"ytick_1\">\n     <g id=\"line2d_4\">\n      <defs>\n       <path d=\"M 0 0 \nL -3.5 0 \n\" id=\"m5f73b75d50\" style=\"stroke:#000000;stroke-width:0.8;\"/>\n      </defs>\n      <g>\n       <use style=\"stroke:#000000;stroke-width:0.8;\" x=\"72.759375\" xlink:href=\"#m5f73b75d50\" y=\"58.558125\"/>\n      </g>\n     </g>\n     <g id=\"text_5\">\n      <!-- Negative -->\n      <g transform=\"translate(20.878125 62.357344)scale(0.1 -0.1)\">\n       <use xlink:href=\"#DejaVuSans-78\"/>\n       <use x=\"74.804688\" xlink:href=\"#DejaVuSans-101\"/>\n       <use x=\"136.328125\" xlink:href=\"#DejaVuSans-103\"/>\n       <use x=\"199.804688\" xlink:href=\"#DejaVuSans-97\"/>\n       <use x=\"261.083984\" xlink:href=\"#DejaVuSans-116\"/>\n       <use x=\"300.292969\" xlink:href=\"#DejaVuSans-105\"/>\n       <use x=\"328.076172\" xlink:href=\"#DejaVuSans-118\"/>\n       <use x=\"387.255859\" xlink:href=\"#DejaVuSans-101\"/>\n      </g>\n     </g>\n    </g>\n    <g id=\"ytick_2\">\n     <g id=\"line2d_5\">\n      <g>\n       <use style=\"stroke:#000000;stroke-width:0.8;\" x=\"72.759375\" xlink:href=\"#m5f73b75d50\" y=\"131.038125\"/>\n      </g>\n     </g>\n     <g id=\"text_6\">\n      <!-- Neutral -->\n      <g transform=\"translate(28.85 134.837344)scale(0.1 -0.1)\">\n       <use xlink:href=\"#DejaVuSans-78\"/>\n       <use x=\"74.804688\" xlink:href=\"#DejaVuSans-101\"/>\n       <use x=\"136.328125\" xlink:href=\"#DejaVuSans-117\"/>\n       <use x=\"199.707031\" xlink:href=\"#DejaVuSans-116\"/>\n       <use x=\"238.916016\" xlink:href=\"#DejaVuSans-114\"/>\n       <use x=\"280.029297\" xlink:href=\"#DejaVuSans-97\"/>\n       <use x=\"341.308594\" xlink:href=\"#DejaVuSans-108\"/>\n      </g>\n     </g>\n    </g>\n    <g id=\"ytick_3\">\n     <g id=\"line2d_6\">\n      <g>\n       <use style=\"stroke:#000000;stroke-width:0.8;\" x=\"72.759375\" xlink:href=\"#m5f73b75d50\" y=\"203.518125\"/>\n      </g>\n     </g>\n     <g id=\"text_7\">\n      <!-- Positive -->\n      <g transform=\"translate(27.215625 207.317344)scale(0.1 -0.1)\">\n       <use xlink:href=\"#DejaVuSans-80\"/>\n       <use x=\"56.677734\" xlink:href=\"#DejaVuSans-111\"/>\n       <use x=\"117.859375\" xlink:href=\"#DejaVuSans-115\"/>\n       <use x=\"169.958984\" xlink:href=\"#DejaVuSans-105\"/>\n       <use x=\"197.742188\" xlink:href=\"#DejaVuSans-116\"/>\n       <use x=\"236.951172\" xlink:href=\"#DejaVuSans-105\"/>\n       <use x=\"264.734375\" xlink:href=\"#DejaVuSans-118\"/>\n       <use x=\"323.914062\" xlink:href=\"#DejaVuSans-101\"/>\n      </g>\n     </g>\n    </g>\n    <g id=\"text_8\">\n     <!-- True label -->\n     <g transform=\"translate(14.798438 155.337344)rotate(-90)scale(0.1 -0.1)\">\n      <defs>\n       <path d=\"M -0.296875 72.90625 \nL 61.375 72.90625 \nL 61.375 64.59375 \nL 35.5 64.59375 \nL 35.5 0 \nL 25.59375 0 \nL 25.59375 64.59375 \nL -0.296875 64.59375 \nz\n\" id=\"DejaVuSans-84\"/>\n      </defs>\n      <use xlink:href=\"#DejaVuSans-84\"/>\n      <use x=\"46.333984\" xlink:href=\"#DejaVuSans-114\"/>\n      <use x=\"87.447266\" xlink:href=\"#DejaVuSans-117\"/>\n      <use x=\"150.826172\" xlink:href=\"#DejaVuSans-101\"/>\n      <use x=\"212.349609\" xlink:href=\"#DejaVuSans-32\"/>\n      <use x=\"244.136719\" xlink:href=\"#DejaVuSans-108\"/>\n      <use x=\"271.919922\" xlink:href=\"#DejaVuSans-97\"/>\n      <use x=\"333.199219\" xlink:href=\"#DejaVuSans-98\"/>\n      <use x=\"396.675781\" xlink:href=\"#DejaVuSans-101\"/>\n      <use x=\"458.199219\" xlink:href=\"#DejaVuSans-108\"/>\n     </g>\n    </g>\n   </g>\n   <g id=\"patch_3\">\n    <path d=\"M 72.759375 239.758125 \nL 72.759375 22.318125 \n\" style=\"fill:none;stroke:#000000;stroke-linecap:square;stroke-linejoin:miter;stroke-width:0.8;\"/>\n   </g>\n   <g id=\"patch_4\">\n    <path d=\"M 290.199375 239.758125 \nL 290.199375 22.318125 \n\" style=\"fill:none;stroke:#000000;stroke-linecap:square;stroke-linejoin:miter;stroke-width:0.8;\"/>\n   </g>\n   <g id=\"patch_5\">\n    <path d=\"M 72.759375 239.758125 \nL 290.199375 239.758125 \n\" style=\"fill:none;stroke:#000000;stroke-linecap:square;stroke-linejoin:miter;stroke-width:0.8;\"/>\n   </g>\n   <g id=\"patch_6\">\n    <path d=\"M 72.759375 22.318125 \nL 290.199375 22.318125 \n\" style=\"fill:none;stroke:#000000;stroke-linecap:square;stroke-linejoin:miter;stroke-width:0.8;\"/>\n   </g>\n   <g id=\"text_9\">\n    <!-- 205 -->\n    <g style=\"fill:#fde725;\" transform=\"translate(99.455625 61.3175)scale(0.1 -0.1)\">\n     <defs>\n      <path d=\"M 19.1875 8.296875 \nL 53.609375 8.296875 \nL 53.609375 0 \nL 7.328125 0 \nL 7.328125 8.296875 \nQ 12.9375 14.109375 22.625 23.890625 \nQ 32.328125 33.6875 34.8125 36.53125 \nQ 39.546875 41.84375 41.421875 45.53125 \nQ 43.3125 49.21875 43.3125 52.78125 \nQ 43.3125 58.59375 39.234375 62.25 \nQ 35.15625 65.921875 28.609375 65.921875 \nQ 23.96875 65.921875 18.8125 64.3125 \nQ 13.671875 62.703125 7.8125 59.421875 \nL 7.8125 69.390625 \nQ 13.765625 71.78125 18.9375 73 \nQ 24.125 74.21875 28.421875 74.21875 \nQ 39.75 74.21875 46.484375 68.546875 \nQ 53.21875 62.890625 53.21875 53.421875 \nQ 53.21875 48.921875 51.53125 44.890625 \nQ 49.859375 40.875 45.40625 35.40625 \nQ 44.1875 33.984375 37.640625 27.21875 \nQ 31.109375 20.453125 19.1875 8.296875 \nz\n\" id=\"DejaVuSans-50\"/>\n      <path d=\"M 31.78125 66.40625 \nQ 24.171875 66.40625 20.328125 58.90625 \nQ 16.5 51.421875 16.5 36.375 \nQ 16.5 21.390625 20.328125 13.890625 \nQ 24.171875 6.390625 31.78125 6.390625 \nQ 39.453125 6.390625 43.28125 13.890625 \nQ 47.125 21.390625 47.125 36.375 \nQ 47.125 51.421875 43.28125 58.90625 \nQ 39.453125 66.40625 31.78125 66.40625 \nz\nM 31.78125 74.21875 \nQ 44.046875 74.21875 50.515625 64.515625 \nQ 56.984375 54.828125 56.984375 36.375 \nQ 56.984375 17.96875 50.515625 8.265625 \nQ 44.046875 -1.421875 31.78125 -1.421875 \nQ 19.53125 -1.421875 13.0625 8.265625 \nQ 6.59375 17.96875 6.59375 36.375 \nQ 6.59375 54.828125 13.0625 64.515625 \nQ 19.53125 74.21875 31.78125 74.21875 \nz\n\" id=\"DejaVuSans-48\"/>\n      <path d=\"M 10.796875 72.90625 \nL 49.515625 72.90625 \nL 49.515625 64.59375 \nL 19.828125 64.59375 \nL 19.828125 46.734375 \nQ 21.96875 47.46875 24.109375 47.828125 \nQ 26.265625 48.1875 28.421875 48.1875 \nQ 40.625 48.1875 47.75 41.5 \nQ 54.890625 34.8125 54.890625 23.390625 \nQ 54.890625 11.625 47.5625 5.09375 \nQ 40.234375 -1.421875 26.90625 -1.421875 \nQ 22.3125 -1.421875 17.546875 -0.640625 \nQ 12.796875 0.140625 7.71875 1.703125 \nL 7.71875 11.625 \nQ 12.109375 9.234375 16.796875 8.0625 \nQ 21.484375 6.890625 26.703125 6.890625 \nQ 35.15625 6.890625 40.078125 11.328125 \nQ 45.015625 15.765625 45.015625 23.390625 \nQ 45.015625 31 40.078125 35.4375 \nQ 35.15625 39.890625 26.703125 39.890625 \nQ 22.75 39.890625 18.8125 39.015625 \nQ 14.890625 38.140625 10.796875 36.28125 \nz\n\" id=\"DejaVuSans-53\"/>\n     </defs>\n     <use xlink:href=\"#DejaVuSans-50\"/>\n     <use x=\"63.623047\" xlink:href=\"#DejaVuSans-48\"/>\n     <use x=\"127.246094\" xlink:href=\"#DejaVuSans-53\"/>\n    </g>\n   </g>\n   <g id=\"text_10\">\n    <!-- 79 -->\n    <g style=\"fill:#fde725;\" transform=\"translate(175.116875 61.3175)scale(0.1 -0.1)\">\n     <defs>\n      <path d=\"M 8.203125 72.90625 \nL 55.078125 72.90625 \nL 55.078125 68.703125 \nL 28.609375 0 \nL 18.3125 0 \nL 43.21875 64.59375 \nL 8.203125 64.59375 \nz\n\" id=\"DejaVuSans-55\"/>\n      <path d=\"M 10.984375 1.515625 \nL 10.984375 10.5 \nQ 14.703125 8.734375 18.5 7.8125 \nQ 22.3125 6.890625 25.984375 6.890625 \nQ 35.75 6.890625 40.890625 13.453125 \nQ 46.046875 20.015625 46.78125 33.40625 \nQ 43.953125 29.203125 39.59375 26.953125 \nQ 35.25 24.703125 29.984375 24.703125 \nQ 19.046875 24.703125 12.671875 31.3125 \nQ 6.296875 37.9375 6.296875 49.421875 \nQ 6.296875 60.640625 12.9375 67.421875 \nQ 19.578125 74.21875 30.609375 74.21875 \nQ 43.265625 74.21875 49.921875 64.515625 \nQ 56.59375 54.828125 56.59375 36.375 \nQ 56.59375 19.140625 48.40625 8.859375 \nQ 40.234375 -1.421875 26.421875 -1.421875 \nQ 22.703125 -1.421875 18.890625 -0.6875 \nQ 15.09375 0.046875 10.984375 1.515625 \nz\nM 30.609375 32.421875 \nQ 37.25 32.421875 41.125 36.953125 \nQ 45.015625 41.5 45.015625 49.421875 \nQ 45.015625 57.28125 41.125 61.84375 \nQ 37.25 66.40625 30.609375 66.40625 \nQ 23.96875 66.40625 20.09375 61.84375 \nQ 16.21875 57.28125 16.21875 49.421875 \nQ 16.21875 41.5 20.09375 36.953125 \nQ 23.96875 32.421875 30.609375 32.421875 \nz\n\" id=\"DejaVuSans-57\"/>\n     </defs>\n     <use xlink:href=\"#DejaVuSans-55\"/>\n     <use x=\"63.623047\" xlink:href=\"#DejaVuSans-57\"/>\n    </g>\n   </g>\n   <g id=\"text_11\">\n    <!-- 28 -->\n    <g style=\"fill:#fde725;\" transform=\"translate(247.596875 61.3175)scale(0.1 -0.1)\">\n     <defs>\n      <path d=\"M 31.78125 34.625 \nQ 24.75 34.625 20.71875 30.859375 \nQ 16.703125 27.09375 16.703125 20.515625 \nQ 16.703125 13.921875 20.71875 10.15625 \nQ 24.75 6.390625 31.78125 6.390625 \nQ 38.8125 6.390625 42.859375 10.171875 \nQ 46.921875 13.96875 46.921875 20.515625 \nQ 46.921875 27.09375 42.890625 30.859375 \nQ 38.875 34.625 31.78125 34.625 \nz\nM 21.921875 38.8125 \nQ 15.578125 40.375 12.03125 44.71875 \nQ 8.5 49.078125 8.5 55.328125 \nQ 8.5 64.0625 14.71875 69.140625 \nQ 20.953125 74.21875 31.78125 74.21875 \nQ 42.671875 74.21875 48.875 69.140625 \nQ 55.078125 64.0625 55.078125 55.328125 \nQ 55.078125 49.078125 51.53125 44.71875 \nQ 48 40.375 41.703125 38.8125 \nQ 48.828125 37.15625 52.796875 32.3125 \nQ 56.78125 27.484375 56.78125 20.515625 \nQ 56.78125 9.90625 50.3125 4.234375 \nQ 43.84375 -1.421875 31.78125 -1.421875 \nQ 19.734375 -1.421875 13.25 4.234375 \nQ 6.78125 9.90625 6.78125 20.515625 \nQ 6.78125 27.484375 10.78125 32.3125 \nQ 14.796875 37.15625 21.921875 38.8125 \nz\nM 18.3125 54.390625 \nQ 18.3125 48.734375 21.84375 45.5625 \nQ 25.390625 42.390625 31.78125 42.390625 \nQ 38.140625 42.390625 41.71875 45.5625 \nQ 45.3125 48.734375 45.3125 54.390625 \nQ 45.3125 60.0625 41.71875 63.234375 \nQ 38.140625 66.40625 31.78125 66.40625 \nQ 25.390625 66.40625 21.84375 63.234375 \nQ 18.3125 60.0625 18.3125 54.390625 \nz\n\" id=\"DejaVuSans-56\"/>\n     </defs>\n     <use xlink:href=\"#DejaVuSans-50\"/>\n     <use x=\"63.623047\" xlink:href=\"#DejaVuSans-56\"/>\n    </g>\n   </g>\n   <g id=\"text_12\">\n    <!-- 194 -->\n    <g style=\"fill:#fde725;\" transform=\"translate(99.455625 133.7975)scale(0.1 -0.1)\">\n     <defs>\n      <path d=\"M 12.40625 8.296875 \nL 28.515625 8.296875 \nL 28.515625 63.921875 \nL 10.984375 60.40625 \nL 10.984375 69.390625 \nL 28.421875 72.90625 \nL 38.28125 72.90625 \nL 38.28125 8.296875 \nL 54.390625 8.296875 \nL 54.390625 0 \nL 12.40625 0 \nz\n\" id=\"DejaVuSans-49\"/>\n      <path d=\"M 37.796875 64.3125 \nL 12.890625 25.390625 \nL 37.796875 25.390625 \nz\nM 35.203125 72.90625 \nL 47.609375 72.90625 \nL 47.609375 25.390625 \nL 58.015625 25.390625 \nL 58.015625 17.1875 \nL 47.609375 17.1875 \nL 47.609375 0 \nL 37.796875 0 \nL 37.796875 17.1875 \nL 4.890625 17.1875 \nL 4.890625 26.703125 \nz\n\" id=\"DejaVuSans-52\"/>\n     </defs>\n     <use xlink:href=\"#DejaVuSans-49\"/>\n     <use x=\"63.623047\" xlink:href=\"#DejaVuSans-57\"/>\n     <use x=\"127.246094\" xlink:href=\"#DejaVuSans-52\"/>\n    </g>\n   </g>\n   <g id=\"text_13\">\n    <!-- 536 -->\n    <g style=\"fill:#440154;\" transform=\"translate(171.935625 133.7975)scale(0.1 -0.1)\">\n     <defs>\n      <path d=\"M 40.578125 39.3125 \nQ 47.65625 37.796875 51.625 33 \nQ 55.609375 28.21875 55.609375 21.1875 \nQ 55.609375 10.40625 48.1875 4.484375 \nQ 40.765625 -1.421875 27.09375 -1.421875 \nQ 22.515625 -1.421875 17.65625 -0.515625 \nQ 12.796875 0.390625 7.625 2.203125 \nL 7.625 11.71875 \nQ 11.71875 9.328125 16.59375 8.109375 \nQ 21.484375 6.890625 26.8125 6.890625 \nQ 36.078125 6.890625 40.9375 10.546875 \nQ 45.796875 14.203125 45.796875 21.1875 \nQ 45.796875 27.640625 41.28125 31.265625 \nQ 36.765625 34.90625 28.71875 34.90625 \nL 20.21875 34.90625 \nL 20.21875 43.015625 \nL 29.109375 43.015625 \nQ 36.375 43.015625 40.234375 45.921875 \nQ 44.09375 48.828125 44.09375 54.296875 \nQ 44.09375 59.90625 40.109375 62.90625 \nQ 36.140625 65.921875 28.71875 65.921875 \nQ 24.65625 65.921875 20.015625 65.03125 \nQ 15.375 64.15625 9.8125 62.3125 \nL 9.8125 71.09375 \nQ 15.4375 72.65625 20.34375 73.4375 \nQ 25.25 74.21875 29.59375 74.21875 \nQ 40.828125 74.21875 47.359375 69.109375 \nQ 53.90625 64.015625 53.90625 55.328125 \nQ 53.90625 49.265625 50.4375 45.09375 \nQ 46.96875 40.921875 40.578125 39.3125 \nz\n\" id=\"DejaVuSans-51\"/>\n      <path d=\"M 33.015625 40.375 \nQ 26.375 40.375 22.484375 35.828125 \nQ 18.609375 31.296875 18.609375 23.390625 \nQ 18.609375 15.53125 22.484375 10.953125 \nQ 26.375 6.390625 33.015625 6.390625 \nQ 39.65625 6.390625 43.53125 10.953125 \nQ 47.40625 15.53125 47.40625 23.390625 \nQ 47.40625 31.296875 43.53125 35.828125 \nQ 39.65625 40.375 33.015625 40.375 \nz\nM 52.59375 71.296875 \nL 52.59375 62.3125 \nQ 48.875 64.0625 45.09375 64.984375 \nQ 41.3125 65.921875 37.59375 65.921875 \nQ 27.828125 65.921875 22.671875 59.328125 \nQ 17.53125 52.734375 16.796875 39.40625 \nQ 19.671875 43.65625 24.015625 45.921875 \nQ 28.375 48.1875 33.59375 48.1875 \nQ 44.578125 48.1875 50.953125 41.515625 \nQ 57.328125 34.859375 57.328125 23.390625 \nQ 57.328125 12.15625 50.6875 5.359375 \nQ 44.046875 -1.421875 33.015625 -1.421875 \nQ 20.359375 -1.421875 13.671875 8.265625 \nQ 6.984375 17.96875 6.984375 36.375 \nQ 6.984375 53.65625 15.1875 63.9375 \nQ 23.390625 74.21875 37.203125 74.21875 \nQ 40.921875 74.21875 44.703125 73.484375 \nQ 48.484375 72.75 52.59375 71.296875 \nz\n\" id=\"DejaVuSans-54\"/>\n     </defs>\n     <use xlink:href=\"#DejaVuSans-53\"/>\n     <use x=\"63.623047\" xlink:href=\"#DejaVuSans-51\"/>\n     <use x=\"127.246094\" xlink:href=\"#DejaVuSans-54\"/>\n    </g>\n   </g>\n   <g id=\"text_14\">\n    <!-- 139 -->\n    <g style=\"fill:#fde725;\" transform=\"translate(244.415625 133.7975)scale(0.1 -0.1)\">\n     <use xlink:href=\"#DejaVuSans-49\"/>\n     <use x=\"63.623047\" xlink:href=\"#DejaVuSans-51\"/>\n     <use x=\"127.246094\" xlink:href=\"#DejaVuSans-57\"/>\n    </g>\n   </g>\n   <g id=\"text_15\">\n    <!-- 94 -->\n    <g style=\"fill:#fde725;\" transform=\"translate(102.636875 206.2775)scale(0.1 -0.1)\">\n     <use xlink:href=\"#DejaVuSans-57\"/>\n     <use x=\"63.623047\" xlink:href=\"#DejaVuSans-52\"/>\n    </g>\n   </g>\n   <g id=\"text_16\">\n    <!-- 232 -->\n    <g style=\"fill:#fde725;\" transform=\"translate(171.935625 206.2775)scale(0.1 -0.1)\">\n     <use xlink:href=\"#DejaVuSans-50\"/>\n     <use x=\"63.623047\" xlink:href=\"#DejaVuSans-51\"/>\n     <use x=\"127.246094\" xlink:href=\"#DejaVuSans-50\"/>\n    </g>\n   </g>\n   <g id=\"text_17\">\n    <!-- 493 -->\n    <g style=\"fill:#440154;\" transform=\"translate(244.415625 206.2775)scale(0.1 -0.1)\">\n     <use xlink:href=\"#DejaVuSans-52\"/>\n     <use x=\"63.623047\" xlink:href=\"#DejaVuSans-57\"/>\n     <use x=\"127.246094\" xlink:href=\"#DejaVuSans-51\"/>\n    </g>\n   </g>\n   <g id=\"text_18\">\n    <!-- SVM Confusion matrix without normalisation -->\n    <g transform=\"translate(47.819063 16.318125)scale(0.12 -0.12)\">\n     <defs>\n      <path d=\"M 53.515625 70.515625 \nL 53.515625 60.890625 \nQ 47.90625 63.578125 42.921875 64.890625 \nQ 37.9375 66.21875 33.296875 66.21875 \nQ 25.25 66.21875 20.875 63.09375 \nQ 16.5 59.96875 16.5 54.203125 \nQ 16.5 49.359375 19.40625 46.890625 \nQ 22.3125 44.4375 30.421875 42.921875 \nL 36.375 41.703125 \nQ 47.40625 39.59375 52.65625 34.296875 \nQ 57.90625 29 57.90625 20.125 \nQ 57.90625 9.515625 50.796875 4.046875 \nQ 43.703125 -1.421875 29.984375 -1.421875 \nQ 24.8125 -1.421875 18.96875 -0.25 \nQ 13.140625 0.921875 6.890625 3.21875 \nL 6.890625 13.375 \nQ 12.890625 10.015625 18.65625 8.296875 \nQ 24.421875 6.59375 29.984375 6.59375 \nQ 38.421875 6.59375 43.015625 9.90625 \nQ 47.609375 13.234375 47.609375 19.390625 \nQ 47.609375 24.75 44.3125 27.78125 \nQ 41.015625 30.8125 33.5 32.328125 \nL 27.484375 33.5 \nQ 16.453125 35.6875 11.515625 40.375 \nQ 6.59375 45.0625 6.59375 53.421875 \nQ 6.59375 63.09375 13.40625 68.65625 \nQ 20.21875 74.21875 32.171875 74.21875 \nQ 37.3125 74.21875 42.625 73.28125 \nQ 47.953125 72.359375 53.515625 70.515625 \nz\n\" id=\"DejaVuSans-83\"/>\n      <path d=\"M 28.609375 0 \nL 0.78125 72.90625 \nL 11.078125 72.90625 \nL 34.1875 11.53125 \nL 57.328125 72.90625 \nL 67.578125 72.90625 \nL 39.796875 0 \nz\n\" id=\"DejaVuSans-86\"/>\n      <path d=\"M 9.8125 72.90625 \nL 24.515625 72.90625 \nL 43.109375 23.296875 \nL 61.8125 72.90625 \nL 76.515625 72.90625 \nL 76.515625 0 \nL 66.890625 0 \nL 66.890625 64.015625 \nL 48.09375 14.015625 \nL 38.1875 14.015625 \nL 19.390625 64.015625 \nL 19.390625 0 \nL 9.8125 0 \nz\n\" id=\"DejaVuSans-77\"/>\n      <path d=\"M 64.40625 67.28125 \nL 64.40625 56.890625 \nQ 59.421875 61.53125 53.78125 63.8125 \nQ 48.140625 66.109375 41.796875 66.109375 \nQ 29.296875 66.109375 22.65625 58.46875 \nQ 16.015625 50.828125 16.015625 36.375 \nQ 16.015625 21.96875 22.65625 14.328125 \nQ 29.296875 6.6875 41.796875 6.6875 \nQ 48.140625 6.6875 53.78125 8.984375 \nQ 59.421875 11.28125 64.40625 15.921875 \nL 64.40625 5.609375 \nQ 59.234375 2.09375 53.4375 0.328125 \nQ 47.65625 -1.421875 41.21875 -1.421875 \nQ 24.65625 -1.421875 15.125 8.703125 \nQ 5.609375 18.84375 5.609375 36.375 \nQ 5.609375 53.953125 15.125 64.078125 \nQ 24.65625 74.21875 41.21875 74.21875 \nQ 47.75 74.21875 53.53125 72.484375 \nQ 59.328125 70.75 64.40625 67.28125 \nz\n\" id=\"DejaVuSans-67\"/>\n      <path d=\"M 54.890625 33.015625 \nL 54.890625 0 \nL 45.90625 0 \nL 45.90625 32.71875 \nQ 45.90625 40.484375 42.875 44.328125 \nQ 39.84375 48.1875 33.796875 48.1875 \nQ 26.515625 48.1875 22.3125 43.546875 \nQ 18.109375 38.921875 18.109375 30.90625 \nL 18.109375 0 \nL 9.078125 0 \nL 9.078125 54.6875 \nL 18.109375 54.6875 \nL 18.109375 46.1875 \nQ 21.34375 51.125 25.703125 53.5625 \nQ 30.078125 56 35.796875 56 \nQ 45.21875 56 50.046875 50.171875 \nQ 54.890625 44.34375 54.890625 33.015625 \nz\n\" id=\"DejaVuSans-110\"/>\n      <path d=\"M 37.109375 75.984375 \nL 37.109375 68.5 \nL 28.515625 68.5 \nQ 23.6875 68.5 21.796875 66.546875 \nQ 19.921875 64.59375 19.921875 59.515625 \nL 19.921875 54.6875 \nL 34.71875 54.6875 \nL 34.71875 47.703125 \nL 19.921875 47.703125 \nL 19.921875 0 \nL 10.890625 0 \nL 10.890625 47.703125 \nL 2.296875 47.703125 \nL 2.296875 54.6875 \nL 10.890625 54.6875 \nL 10.890625 58.5 \nQ 10.890625 67.625 15.140625 71.796875 \nQ 19.390625 75.984375 28.609375 75.984375 \nz\n\" id=\"DejaVuSans-102\"/>\n      <path d=\"M 52 44.1875 \nQ 55.375 50.25 60.0625 53.125 \nQ 64.75 56 71.09375 56 \nQ 79.640625 56 84.28125 50.015625 \nQ 88.921875 44.046875 88.921875 33.015625 \nL 88.921875 0 \nL 79.890625 0 \nL 79.890625 32.71875 \nQ 79.890625 40.578125 77.09375 44.375 \nQ 74.3125 48.1875 68.609375 48.1875 \nQ 61.625 48.1875 57.5625 43.546875 \nQ 53.515625 38.921875 53.515625 30.90625 \nL 53.515625 0 \nL 44.484375 0 \nL 44.484375 32.71875 \nQ 44.484375 40.625 41.703125 44.40625 \nQ 38.921875 48.1875 33.109375 48.1875 \nQ 26.21875 48.1875 22.15625 43.53125 \nQ 18.109375 38.875 18.109375 30.90625 \nL 18.109375 0 \nL 9.078125 0 \nL 9.078125 54.6875 \nL 18.109375 54.6875 \nL 18.109375 46.1875 \nQ 21.1875 51.21875 25.484375 53.609375 \nQ 29.78125 56 35.6875 56 \nQ 41.65625 56 45.828125 52.96875 \nQ 50 49.953125 52 44.1875 \nz\n\" id=\"DejaVuSans-109\"/>\n      <path d=\"M 54.890625 54.6875 \nL 35.109375 28.078125 \nL 55.90625 0 \nL 45.3125 0 \nL 29.390625 21.484375 \nL 13.484375 0 \nL 2.875 0 \nL 24.125 28.609375 \nL 4.6875 54.6875 \nL 15.28125 54.6875 \nL 29.78125 35.203125 \nL 44.28125 54.6875 \nz\n\" id=\"DejaVuSans-120\"/>\n      <path d=\"M 4.203125 54.6875 \nL 13.1875 54.6875 \nL 24.421875 12.015625 \nL 35.59375 54.6875 \nL 46.1875 54.6875 \nL 57.421875 12.015625 \nL 68.609375 54.6875 \nL 77.59375 54.6875 \nL 63.28125 0 \nL 52.6875 0 \nL 40.921875 44.828125 \nL 29.109375 0 \nL 18.5 0 \nz\n\" id=\"DejaVuSans-119\"/>\n      <path d=\"M 54.890625 33.015625 \nL 54.890625 0 \nL 45.90625 0 \nL 45.90625 32.71875 \nQ 45.90625 40.484375 42.875 44.328125 \nQ 39.84375 48.1875 33.796875 48.1875 \nQ 26.515625 48.1875 22.3125 43.546875 \nQ 18.109375 38.921875 18.109375 30.90625 \nL 18.109375 0 \nL 9.078125 0 \nL 9.078125 75.984375 \nL 18.109375 75.984375 \nL 18.109375 46.1875 \nQ 21.34375 51.125 25.703125 53.5625 \nQ 30.078125 56 35.796875 56 \nQ 45.21875 56 50.046875 50.171875 \nQ 54.890625 44.34375 54.890625 33.015625 \nz\n\" id=\"DejaVuSans-104\"/>\n     </defs>\n     <use xlink:href=\"#DejaVuSans-83\"/>\n     <use x=\"63.476562\" xlink:href=\"#DejaVuSans-86\"/>\n     <use x=\"131.884766\" xlink:href=\"#DejaVuSans-77\"/>\n     <use x=\"218.164062\" xlink:href=\"#DejaVuSans-32\"/>\n     <use x=\"249.951172\" xlink:href=\"#DejaVuSans-67\"/>\n     <use x=\"319.775391\" xlink:href=\"#DejaVuSans-111\"/>\n     <use x=\"380.957031\" xlink:href=\"#DejaVuSans-110\"/>\n     <use x=\"444.335938\" xlink:href=\"#DejaVuSans-102\"/>\n     <use x=\"479.541016\" xlink:href=\"#DejaVuSans-117\"/>\n     <use x=\"542.919922\" xlink:href=\"#DejaVuSans-115\"/>\n     <use x=\"595.019531\" xlink:href=\"#DejaVuSans-105\"/>\n     <use x=\"622.802734\" xlink:href=\"#DejaVuSans-111\"/>\n     <use x=\"683.984375\" xlink:href=\"#DejaVuSans-110\"/>\n     <use x=\"747.363281\" xlink:href=\"#DejaVuSans-32\"/>\n     <use x=\"779.150391\" xlink:href=\"#DejaVuSans-109\"/>\n     <use x=\"876.5625\" xlink:href=\"#DejaVuSans-97\"/>\n     <use x=\"937.841797\" xlink:href=\"#DejaVuSans-116\"/>\n     <use x=\"977.050781\" xlink:href=\"#DejaVuSans-114\"/>\n     <use x=\"1018.164062\" xlink:href=\"#DejaVuSans-105\"/>\n     <use x=\"1045.947266\" xlink:href=\"#DejaVuSans-120\"/>\n     <use x=\"1105.126953\" xlink:href=\"#DejaVuSans-32\"/>\n     <use x=\"1136.914062\" xlink:href=\"#DejaVuSans-119\"/>\n     <use x=\"1218.701172\" xlink:href=\"#DejaVuSans-105\"/>\n     <use x=\"1246.484375\" xlink:href=\"#DejaVuSans-116\"/>\n     <use x=\"1285.693359\" xlink:href=\"#DejaVuSans-104\"/>\n     <use x=\"1349.072266\" xlink:href=\"#DejaVuSans-111\"/>\n     <use x=\"1410.253906\" xlink:href=\"#DejaVuSans-117\"/>\n     <use x=\"1473.632812\" xlink:href=\"#DejaVuSans-116\"/>\n     <use x=\"1512.841797\" xlink:href=\"#DejaVuSans-32\"/>\n     <use x=\"1544.628906\" xlink:href=\"#DejaVuSans-110\"/>\n     <use x=\"1608.007812\" xlink:href=\"#DejaVuSans-111\"/>\n     <use x=\"1669.189453\" xlink:href=\"#DejaVuSans-114\"/>\n     <use x=\"1708.552734\" xlink:href=\"#DejaVuSans-109\"/>\n     <use x=\"1805.964844\" xlink:href=\"#DejaVuSans-97\"/>\n     <use x=\"1867.244141\" xlink:href=\"#DejaVuSans-108\"/>\n     <use x=\"1895.027344\" xlink:href=\"#DejaVuSans-105\"/>\n     <use x=\"1922.810547\" xlink:href=\"#DejaVuSans-115\"/>\n     <use x=\"1974.910156\" xlink:href=\"#DejaVuSans-97\"/>\n     <use x=\"2036.189453\" xlink:href=\"#DejaVuSans-116\"/>\n     <use x=\"2075.398438\" xlink:href=\"#DejaVuSans-105\"/>\n     <use x=\"2103.181641\" xlink:href=\"#DejaVuSans-111\"/>\n     <use x=\"2164.363281\" xlink:href=\"#DejaVuSans-110\"/>\n    </g>\n   </g>\n  </g>\n  <g id=\"axes_2\">\n   <g id=\"patch_7\">\n    <path clip-path=\"url(#pf789a62c2d)\" d=\"M 306.939375 239.758125 \nL 306.939375 238.90875 \nL 306.939375 23.1675 \nL 306.939375 22.318125 \nL 317.811375 22.318125 \nL 317.811375 23.1675 \nL 317.811375 238.90875 \nL 317.811375 239.758125 \nz\n\" style=\"fill:#ffffff;stroke:#ffffff;stroke-linejoin:miter;stroke-width:0.01;\"/>\n   </g>\n   <image height=\"217\" id=\"image33fef8b37c\" transform=\"scale(1 -1)translate(0 -217)\" width=\"11\" x=\"307\" xlink:href=\"data:image/png;base64,\niVBORw0KGgoAAAANSUhEUgAAAAsAAADZCAYAAAD2WsoCAAABYUlEQVR4nO3aQW7DMBBDUWkk52Q9Q+9/kLbptkA2egsC4yJZE8QnZ2Q7TuZHfT7H4WfPmqfaseda5+IxC8SCMaYwl2CI86A2qOce1VlAcs6J3238FcfaeK4eAYnZxt0D4/xKkMUQ5yBzynmIMy2/9UwYsTZsgrQbxgziJm0EMXLVUcAupxvE5IwBUxjoHLvI3LKNmPMd2zjX4vPGHSf4/8dNzi3GDRDv0/0iPj/fd9yNNm0Exw3MweoqhdGkDXhESrYxRi4gOM9YQOuZmE0MGNSGYZxTcMBUG6t+OmBUrI0l4hxGE+c1Ydzk3ES87xhQbhPWRn13wCgZih1YYaY2lrWR2jpqY08KmGMWZ+mZnC9pw1Y0thu5oTzmFzjHhlISkJb/koDUM16RyDm1G7T8ts/BgKkb0GPQpUCWn06KBTzWjn3ZgQXnBV8It7zd20t+yCjBuOB9lmKAMzEv+SOQYPwCBCyBaHjgE4oAAAAASUVORK5CYII=\" y=\"-22\"/>\n   <g id=\"matplotlib.axis_3\"/>\n   <g id=\"matplotlib.axis_4\">\n    <g id=\"ytick_4\">\n     <g id=\"line2d_7\">\n      <defs>\n       <path d=\"M 0 0 \nL 3.5 0 \n\" id=\"m388b21190f\" style=\"stroke:#000000;stroke-width:0.8;\"/>\n      </defs>\n      <g>\n       <use style=\"stroke:#000000;stroke-width:0.8;\" x=\"317.811375\" xlink:href=\"#m388b21190f\" y=\"208.939857\"/>\n      </g>\n     </g>\n     <g id=\"text_19\">\n      <!-- 100 -->\n      <g transform=\"translate(324.811375 212.739076)scale(0.1 -0.1)\">\n       <use xlink:href=\"#DejaVuSans-49\"/>\n       <use x=\"63.623047\" xlink:href=\"#DejaVuSans-48\"/>\n       <use x=\"127.246094\" xlink:href=\"#DejaVuSans-48\"/>\n      </g>\n     </g>\n    </g>\n    <g id=\"ytick_5\">\n     <g id=\"line2d_8\">\n      <g>\n       <use style=\"stroke:#000000;stroke-width:0.8;\" x=\"317.811375\" xlink:href=\"#m388b21190f\" y=\"166.136708\"/>\n      </g>\n     </g>\n     <g id=\"text_20\">\n      <!-- 200 -->\n      <g transform=\"translate(324.811375 169.935926)scale(0.1 -0.1)\">\n       <use xlink:href=\"#DejaVuSans-50\"/>\n       <use x=\"63.623047\" xlink:href=\"#DejaVuSans-48\"/>\n       <use x=\"127.246094\" xlink:href=\"#DejaVuSans-48\"/>\n      </g>\n     </g>\n    </g>\n    <g id=\"ytick_6\">\n     <g id=\"line2d_9\">\n      <g>\n       <use style=\"stroke:#000000;stroke-width:0.8;\" x=\"317.811375\" xlink:href=\"#m388b21190f\" y=\"123.333558\"/>\n      </g>\n     </g>\n     <g id=\"text_21\">\n      <!-- 300 -->\n      <g transform=\"translate(324.811375 127.132777)scale(0.1 -0.1)\">\n       <use xlink:href=\"#DejaVuSans-51\"/>\n       <use x=\"63.623047\" xlink:href=\"#DejaVuSans-48\"/>\n       <use x=\"127.246094\" xlink:href=\"#DejaVuSans-48\"/>\n      </g>\n     </g>\n    </g>\n    <g id=\"ytick_7\">\n     <g id=\"line2d_10\">\n      <g>\n       <use style=\"stroke:#000000;stroke-width:0.8;\" x=\"317.811375\" xlink:href=\"#m388b21190f\" y=\"80.530408\"/>\n      </g>\n     </g>\n     <g id=\"text_22\">\n      <!-- 400 -->\n      <g transform=\"translate(324.811375 84.329627)scale(0.1 -0.1)\">\n       <use xlink:href=\"#DejaVuSans-52\"/>\n       <use x=\"63.623047\" xlink:href=\"#DejaVuSans-48\"/>\n       <use x=\"127.246094\" xlink:href=\"#DejaVuSans-48\"/>\n      </g>\n     </g>\n    </g>\n    <g id=\"ytick_8\">\n     <g id=\"line2d_11\">\n      <g>\n       <use style=\"stroke:#000000;stroke-width:0.8;\" x=\"317.811375\" xlink:href=\"#m388b21190f\" y=\"37.727259\"/>\n      </g>\n     </g>\n     <g id=\"text_23\">\n      <!-- 500 -->\n      <g transform=\"translate(324.811375 41.526478)scale(0.1 -0.1)\">\n       <use xlink:href=\"#DejaVuSans-53\"/>\n       <use x=\"63.623047\" xlink:href=\"#DejaVuSans-48\"/>\n       <use x=\"127.246094\" xlink:href=\"#DejaVuSans-48\"/>\n      </g>\n     </g>\n    </g>\n   </g>\n   <g id=\"patch_8\">\n    <path d=\"M 306.939375 239.758125 \nL 306.939375 238.90875 \nL 306.939375 23.1675 \nL 306.939375 22.318125 \nL 317.811375 22.318125 \nL 317.811375 23.1675 \nL 317.811375 238.90875 \nL 317.811375 239.758125 \nz\n\" style=\"fill:none;stroke:#000000;stroke-linejoin:miter;stroke-width:0.8;\"/>\n   </g>\n  </g>\n </g>\n <defs>\n  <clipPath id=\"p2fdac5dcab\">\n   <rect height=\"217.44\" width=\"217.44\" x=\"72.759375\" y=\"22.318125\"/>\n  </clipPath>\n  <clipPath id=\"pf789a62c2d\">\n   <rect height=\"217.44\" width=\"10.872\" x=\"306.939375\" y=\"22.318125\"/>\n  </clipPath>\n </defs>\n</svg>\n",
      "image/png": "[encoded data removed]"
     },
     "metadata": {
      "needs_background": "light"
     }
    },
    {
     "output_type": "display_data",
     "data": {
      "text/plain": "<Figure size 432x288 with 2 Axes>",
      "image/svg+xml": "<?xml version=\"1.0\" encoding=\"utf-8\" standalone=\"no\"?>\n<!DOCTYPE svg PUBLIC \"-//W3C//DTD SVG 1.1//EN\"\n  \"http://www.w3.org/Graphics/SVG/1.1/DTD/svg11.dtd\">\n<!-- Created with matplotlib (https://matplotlib.org/) -->\n<svg height=\"277.314375pt\" version=\"1.1\" viewBox=\"0 0 347.9145 277.314375\" width=\"347.9145pt\" xmlns=\"http://www.w3.org/2000/svg\" xmlns:xlink=\"http://www.w3.org/1999/xlink\">\n <metadata>\n  <rdf:RDF xmlns:cc=\"http://creativecommons.org/ns#\" xmlns:dc=\"http://purl.org/dc/elements/1.1/\" xmlns:rdf=\"http://www.w3.org/1999/02/22-rdf-syntax-ns#\">\n   <cc:Work>\n    <dc:type rdf:resource=\"http://purl.org/dc/dcmitype/StillImage\"/>\n    <dc:date>2021-05-28T19:17:55.773508</dc:date>\n    <dc:format>image/svg+xml</dc:format>\n    <dc:creator>\n     <cc:Agent>\n      <dc:title>Matplotlib v3.3.4, https://matplotlib.org/</dc:title>\n     </cc:Agent>\n    </dc:creator>\n   </cc:Work>\n  </rdf:RDF>\n </metadata>\n <defs>\n  <style type=\"text/css\">*{stroke-linecap:butt;stroke-linejoin:round;}</style>\n </defs>\n <g id=\"figure_1\">\n  <g id=\"patch_1\">\n   <path d=\"M -0 277.314375 \nL 347.9145 277.314375 \nL 347.9145 0 \nL -0 0 \nz\n\" style=\"fill:none;\"/>\n  </g>\n  <g id=\"axes_1\">\n   <g id=\"patch_2\">\n    <path d=\"M 72.759375 239.758125 \nL 290.199375 239.758125 \nL 290.199375 22.318125 \nL 72.759375 22.318125 \nz\n\" style=\"fill:#ffffff;\"/>\n   </g>\n   <g clip-path=\"url(#pdfdd25370d)\">\n    <image height=\"218\" id=\"image71d0130196\" transform=\"scale(1 -1)translate(0 -218)\" width=\"218\" x=\"72.759375\" xlink:href=\"data:image/png;base64,\niVBORw0KGgoAAAANSUhEUgAAANoAAADaCAYAAADAHVzbAAACyElEQVR4nO3VsUkDYBhFUSPWgjsIghsI9oITWNmkcYAQsoV2tlbO4ia6gKXECWzv94PnTPCay9vcXWyPJ/zp6+F6esLyXvav0xOWdzo9AP4DoUFAaBAQGgSEBgGhQUBoEBAaBIQGAaFBQGgQEBoEhAYBoUFAaBAQGgSEBgGhQUBoEBAaBIQGAaFBQGgQEBoEhAYBoUFAaBAQGgSEBgGhQUBoEBAaBIQGAaFBQGgQEBoEhAYBoUFAaBAQGgSEBgGhQUBoEBAaBIQGAaFBQGgQEBoEhAYBoUFAaBAQGgSEBgGhQUBoEBAaBIQGAaFBQGgQEBoEhAYBoUFAaBAQGgSEBgGhQUBoEBAaBIQGAaFBQGgQEBoEzr5vr6Y3LO3t8Dw9YXmH+8fpCcvzaBAQGgSEBgGhQUBoEBAaBIQGAaFBQGgQEBoEhAYBoUFAaBAQGgSEBgGhQUBoEBAaBIQGAaFBQGgQEBoEhAYBoUFAaBAQGgSEBgGhQUBoEBAaBIQGAaFBQGgQEBoEhAYBoUFAaBAQGgSEBgGhQUBoEBAaBIQGAaFBQGgQEBoEhAYBoUFAaBAQGgSEBgGhQUBoEBAaBIQGAaFBQGgQEBoEhAYBoUFAaBAQGgSEBgGhQUBoEBAaBIQGAaFBQGgQEBoEhAaBzc/n5XF6xMpudk/TE5Z3/v4xPWF5Hg0CQoOA0CAgNAgIDQJCg4DQICA0CAgNAkKDgNAgIDQICA0CQoOA0CAgNAgIDQJCg4DQICA0CAgNAkKDgNAgIDQICA0CQoOA0CAgNAgIDQJCg4DQICA0CAgNAkKDgNAgIDQICA0CQoOA0CAgNAgIDQJCg4DQICA0CAgNAkKDgNAgIDQICA0CQoOA0CAgNAgIDQJCg4DQICA0CAgNAkKDgNAgIDQICA0CQoOA0CAgNAgIDQJCg4DQICA0CAgNAkKDgNAgIDQI/AKkxhAtcCGugwAAAABJRU5ErkJggg==\" y=\"-21.758125\"/>\n   </g>\n   <g id=\"matplotlib.axis_1\">\n    <g id=\"xtick_1\">\n     <g id=\"line2d_1\">\n      <defs>\n       <path d=\"M 0 0 \nL 0 3.5 \n\" id=\"mb23ba71386\" style=\"stroke:#000000;stroke-width:0.8;\"/>\n      </defs>\n      <g>\n       <use style=\"stroke:#000000;stroke-width:0.8;\" x=\"108.999375\" xlink:href=\"#mb23ba71386\" y=\"239.758125\"/>\n      </g>\n     </g>\n     <g id=\"text_1\">\n      <!-- Negative -->\n      <g transform=\"translate(86.55875 254.356562)scale(0.1 -0.1)\">\n       <defs>\n        <path d=\"M 9.8125 72.90625 \nL 23.09375 72.90625 \nL 55.421875 11.921875 \nL 55.421875 72.90625 \nL 64.984375 72.90625 \nL 64.984375 0 \nL 51.703125 0 \nL 19.390625 60.984375 \nL 19.390625 0 \nL 9.8125 0 \nz\n\" id=\"DejaVuSans-78\"/>\n        <path d=\"M 56.203125 29.59375 \nL 56.203125 25.203125 \nL 14.890625 25.203125 \nQ 15.484375 15.921875 20.484375 11.0625 \nQ 25.484375 6.203125 34.421875 6.203125 \nQ 39.59375 6.203125 44.453125 7.46875 \nQ 49.3125 8.734375 54.109375 11.28125 \nL 54.109375 2.78125 \nQ 49.265625 0.734375 44.1875 -0.34375 \nQ 39.109375 -1.421875 33.890625 -1.421875 \nQ 20.796875 -1.421875 13.15625 6.1875 \nQ 5.515625 13.8125 5.515625 26.8125 \nQ 5.515625 40.234375 12.765625 48.109375 \nQ 20.015625 56 32.328125 56 \nQ 43.359375 56 49.78125 48.890625 \nQ 56.203125 41.796875 56.203125 29.59375 \nz\nM 47.21875 32.234375 \nQ 47.125 39.59375 43.09375 43.984375 \nQ 39.0625 48.390625 32.421875 48.390625 \nQ 24.90625 48.390625 20.390625 44.140625 \nQ 15.875 39.890625 15.1875 32.171875 \nz\n\" id=\"DejaVuSans-101\"/>\n        <path d=\"M 45.40625 27.984375 \nQ 45.40625 37.75 41.375 43.109375 \nQ 37.359375 48.484375 30.078125 48.484375 \nQ 22.859375 48.484375 18.828125 43.109375 \nQ 14.796875 37.75 14.796875 27.984375 \nQ 14.796875 18.265625 18.828125 12.890625 \nQ 22.859375 7.515625 30.078125 7.515625 \nQ 37.359375 7.515625 41.375 12.890625 \nQ 45.40625 18.265625 45.40625 27.984375 \nz\nM 54.390625 6.78125 \nQ 54.390625 -7.171875 48.1875 -13.984375 \nQ 42 -20.796875 29.203125 -20.796875 \nQ 24.46875 -20.796875 20.265625 -20.09375 \nQ 16.0625 -19.390625 12.109375 -17.921875 \nL 12.109375 -9.1875 \nQ 16.0625 -11.328125 19.921875 -12.34375 \nQ 23.78125 -13.375 27.78125 -13.375 \nQ 36.625 -13.375 41.015625 -8.765625 \nQ 45.40625 -4.15625 45.40625 5.171875 \nL 45.40625 9.625 \nQ 42.625 4.78125 38.28125 2.390625 \nQ 33.9375 0 27.875 0 \nQ 17.828125 0 11.671875 7.65625 \nQ 5.515625 15.328125 5.515625 27.984375 \nQ 5.515625 40.671875 11.671875 48.328125 \nQ 17.828125 56 27.875 56 \nQ 33.9375 56 38.28125 53.609375 \nQ 42.625 51.21875 45.40625 46.390625 \nL 45.40625 54.6875 \nL 54.390625 54.6875 \nz\n\" id=\"DejaVuSans-103\"/>\n        <path d=\"M 34.28125 27.484375 \nQ 23.390625 27.484375 19.1875 25 \nQ 14.984375 22.515625 14.984375 16.5 \nQ 14.984375 11.71875 18.140625 8.90625 \nQ 21.296875 6.109375 26.703125 6.109375 \nQ 34.1875 6.109375 38.703125 11.40625 \nQ 43.21875 16.703125 43.21875 25.484375 \nL 43.21875 27.484375 \nz\nM 52.203125 31.203125 \nL 52.203125 0 \nL 43.21875 0 \nL 43.21875 8.296875 \nQ 40.140625 3.328125 35.546875 0.953125 \nQ 30.953125 -1.421875 24.3125 -1.421875 \nQ 15.921875 -1.421875 10.953125 3.296875 \nQ 6 8.015625 6 15.921875 \nQ 6 25.140625 12.171875 29.828125 \nQ 18.359375 34.515625 30.609375 34.515625 \nL 43.21875 34.515625 \nL 43.21875 35.40625 \nQ 43.21875 41.609375 39.140625 45 \nQ 35.0625 48.390625 27.6875 48.390625 \nQ 23 48.390625 18.546875 47.265625 \nQ 14.109375 46.140625 10.015625 43.890625 \nL 10.015625 52.203125 \nQ 14.9375 54.109375 19.578125 55.046875 \nQ 24.21875 56 28.609375 56 \nQ 40.484375 56 46.34375 49.84375 \nQ 52.203125 43.703125 52.203125 31.203125 \nz\n\" id=\"DejaVuSans-97\"/>\n        <path d=\"M 18.3125 70.21875 \nL 18.3125 54.6875 \nL 36.8125 54.6875 \nL 36.8125 47.703125 \nL 18.3125 47.703125 \nL 18.3125 18.015625 \nQ 18.3125 11.328125 20.140625 9.421875 \nQ 21.96875 7.515625 27.59375 7.515625 \nL 36.8125 7.515625 \nL 36.8125 0 \nL 27.59375 0 \nQ 17.1875 0 13.234375 3.875 \nQ 9.28125 7.765625 9.28125 18.015625 \nL 9.28125 47.703125 \nL 2.6875 47.703125 \nL 2.6875 54.6875 \nL 9.28125 54.6875 \nL 9.28125 70.21875 \nz\n\" id=\"DejaVuSans-116\"/>\n        <path d=\"M 9.421875 54.6875 \nL 18.40625 54.6875 \nL 18.40625 0 \nL 9.421875 0 \nz\nM 9.421875 75.984375 \nL 18.40625 75.984375 \nL 18.40625 64.59375 \nL 9.421875 64.59375 \nz\n\" id=\"DejaVuSans-105\"/>\n        <path d=\"M 2.984375 54.6875 \nL 12.5 54.6875 \nL 29.59375 8.796875 \nL 46.6875 54.6875 \nL 56.203125 54.6875 \nL 35.6875 0 \nL 23.484375 0 \nz\n\" id=\"DejaVuSans-118\"/>\n       </defs>\n       <use xlink:href=\"#DejaVuSans-78\"/>\n       <use x=\"74.804688\" xlink:href=\"#DejaVuSans-101\"/>\n       <use x=\"136.328125\" xlink:href=\"#DejaVuSans-103\"/>\n       <use x=\"199.804688\" xlink:href=\"#DejaVuSans-97\"/>\n       <use x=\"261.083984\" xlink:href=\"#DejaVuSans-116\"/>\n       <use x=\"300.292969\" xlink:href=\"#DejaVuSans-105\"/>\n       <use x=\"328.076172\" xlink:href=\"#DejaVuSans-118\"/>\n       <use x=\"387.255859\" xlink:href=\"#DejaVuSans-101\"/>\n      </g>\n     </g>\n    </g>\n    <g id=\"xtick_2\">\n     <g id=\"line2d_2\">\n      <g>\n       <use style=\"stroke:#000000;stroke-width:0.8;\" x=\"181.479375\" xlink:href=\"#mb23ba71386\" y=\"239.758125\"/>\n      </g>\n     </g>\n     <g id=\"text_2\">\n      <!-- Neutral -->\n      <g transform=\"translate(163.024687 254.356562)scale(0.1 -0.1)\">\n       <defs>\n        <path d=\"M 8.5 21.578125 \nL 8.5 54.6875 \nL 17.484375 54.6875 \nL 17.484375 21.921875 \nQ 17.484375 14.15625 20.5 10.265625 \nQ 23.53125 6.390625 29.59375 6.390625 \nQ 36.859375 6.390625 41.078125 11.03125 \nQ 45.3125 15.671875 45.3125 23.6875 \nL 45.3125 54.6875 \nL 54.296875 54.6875 \nL 54.296875 0 \nL 45.3125 0 \nL 45.3125 8.40625 \nQ 42.046875 3.421875 37.71875 1 \nQ 33.40625 -1.421875 27.6875 -1.421875 \nQ 18.265625 -1.421875 13.375 4.4375 \nQ 8.5 10.296875 8.5 21.578125 \nz\nM 31.109375 56 \nz\n\" id=\"DejaVuSans-117\"/>\n        <path d=\"M 41.109375 46.296875 \nQ 39.59375 47.171875 37.8125 47.578125 \nQ 36.03125 48 33.890625 48 \nQ 26.265625 48 22.1875 43.046875 \nQ 18.109375 38.09375 18.109375 28.8125 \nL 18.109375 0 \nL 9.078125 0 \nL 9.078125 54.6875 \nL 18.109375 54.6875 \nL 18.109375 46.1875 \nQ 20.953125 51.171875 25.484375 53.578125 \nQ 30.03125 56 36.53125 56 \nQ 37.453125 56 38.578125 55.875 \nQ 39.703125 55.765625 41.0625 55.515625 \nz\n\" id=\"DejaVuSans-114\"/>\n        <path d=\"M 9.421875 75.984375 \nL 18.40625 75.984375 \nL 18.40625 0 \nL 9.421875 0 \nz\n\" id=\"DejaVuSans-108\"/>\n       </defs>\n       <use xlink:href=\"#DejaVuSans-78\"/>\n       <use x=\"74.804688\" xlink:href=\"#DejaVuSans-101\"/>\n       <use x=\"136.328125\" xlink:href=\"#DejaVuSans-117\"/>\n       <use x=\"199.707031\" xlink:href=\"#DejaVuSans-116\"/>\n       <use x=\"238.916016\" xlink:href=\"#DejaVuSans-114\"/>\n       <use x=\"280.029297\" xlink:href=\"#DejaVuSans-97\"/>\n       <use x=\"341.308594\" xlink:href=\"#DejaVuSans-108\"/>\n      </g>\n     </g>\n    </g>\n    <g id=\"xtick_3\">\n     <g id=\"line2d_3\">\n      <g>\n       <use style=\"stroke:#000000;stroke-width:0.8;\" x=\"253.959375\" xlink:href=\"#mb23ba71386\" y=\"239.758125\"/>\n      </g>\n     </g>\n     <g id=\"text_3\">\n      <!-- Positive -->\n      <g transform=\"translate(234.6875 254.356562)scale(0.1 -0.1)\">\n       <defs>\n        <path d=\"M 19.671875 64.796875 \nL 19.671875 37.40625 \nL 32.078125 37.40625 \nQ 38.96875 37.40625 42.71875 40.96875 \nQ 46.484375 44.53125 46.484375 51.125 \nQ 46.484375 57.671875 42.71875 61.234375 \nQ 38.96875 64.796875 32.078125 64.796875 \nz\nM 9.8125 72.90625 \nL 32.078125 72.90625 \nQ 44.34375 72.90625 50.609375 67.359375 \nQ 56.890625 61.8125 56.890625 51.125 \nQ 56.890625 40.328125 50.609375 34.8125 \nQ 44.34375 29.296875 32.078125 29.296875 \nL 19.671875 29.296875 \nL 19.671875 0 \nL 9.8125 0 \nz\n\" id=\"DejaVuSans-80\"/>\n        <path d=\"M 30.609375 48.390625 \nQ 23.390625 48.390625 19.1875 42.75 \nQ 14.984375 37.109375 14.984375 27.296875 \nQ 14.984375 17.484375 19.15625 11.84375 \nQ 23.34375 6.203125 30.609375 6.203125 \nQ 37.796875 6.203125 41.984375 11.859375 \nQ 46.1875 17.53125 46.1875 27.296875 \nQ 46.1875 37.015625 41.984375 42.703125 \nQ 37.796875 48.390625 30.609375 48.390625 \nz\nM 30.609375 56 \nQ 42.328125 56 49.015625 48.375 \nQ 55.71875 40.765625 55.71875 27.296875 \nQ 55.71875 13.875 49.015625 6.21875 \nQ 42.328125 -1.421875 30.609375 -1.421875 \nQ 18.84375 -1.421875 12.171875 6.21875 \nQ 5.515625 13.875 5.515625 27.296875 \nQ 5.515625 40.765625 12.171875 48.375 \nQ 18.84375 56 30.609375 56 \nz\n\" id=\"DejaVuSans-111\"/>\n        <path d=\"M 44.28125 53.078125 \nL 44.28125 44.578125 \nQ 40.484375 46.53125 36.375 47.5 \nQ 32.28125 48.484375 27.875 48.484375 \nQ 21.1875 48.484375 17.84375 46.4375 \nQ 14.5 44.390625 14.5 40.28125 \nQ 14.5 37.15625 16.890625 35.375 \nQ 19.28125 33.59375 26.515625 31.984375 \nL 29.59375 31.296875 \nQ 39.15625 29.25 43.1875 25.515625 \nQ 47.21875 21.78125 47.21875 15.09375 \nQ 47.21875 7.46875 41.1875 3.015625 \nQ 35.15625 -1.421875 24.609375 -1.421875 \nQ 20.21875 -1.421875 15.453125 -0.5625 \nQ 10.6875 0.296875 5.421875 2 \nL 5.421875 11.28125 \nQ 10.40625 8.6875 15.234375 7.390625 \nQ 20.0625 6.109375 24.8125 6.109375 \nQ 31.15625 6.109375 34.5625 8.28125 \nQ 37.984375 10.453125 37.984375 14.40625 \nQ 37.984375 18.0625 35.515625 20.015625 \nQ 33.0625 21.96875 24.703125 23.78125 \nL 21.578125 24.515625 \nQ 13.234375 26.265625 9.515625 29.90625 \nQ 5.8125 33.546875 5.8125 39.890625 \nQ 5.8125 47.609375 11.28125 51.796875 \nQ 16.75 56 26.8125 56 \nQ 31.78125 56 36.171875 55.265625 \nQ 40.578125 54.546875 44.28125 53.078125 \nz\n\" id=\"DejaVuSans-115\"/>\n       </defs>\n       <use xlink:href=\"#DejaVuSans-80\"/>\n       <use x=\"56.677734\" xlink:href=\"#DejaVuSans-111\"/>\n       <use x=\"117.859375\" xlink:href=\"#DejaVuSans-115\"/>\n       <use x=\"169.958984\" xlink:href=\"#DejaVuSans-105\"/>\n       <use x=\"197.742188\" xlink:href=\"#DejaVuSans-116\"/>\n       <use x=\"236.951172\" xlink:href=\"#DejaVuSans-105\"/>\n       <use x=\"264.734375\" xlink:href=\"#DejaVuSans-118\"/>\n       <use x=\"323.914062\" xlink:href=\"#DejaVuSans-101\"/>\n      </g>\n     </g>\n    </g>\n    <g id=\"text_4\">\n     <!-- Predicted label -->\n     <g transform=\"translate(144.327031 268.034687)scale(0.1 -0.1)\">\n      <defs>\n       <path d=\"M 45.40625 46.390625 \nL 45.40625 75.984375 \nL 54.390625 75.984375 \nL 54.390625 0 \nL 45.40625 0 \nL 45.40625 8.203125 \nQ 42.578125 3.328125 38.25 0.953125 \nQ 33.9375 -1.421875 27.875 -1.421875 \nQ 17.96875 -1.421875 11.734375 6.484375 \nQ 5.515625 14.40625 5.515625 27.296875 \nQ 5.515625 40.1875 11.734375 48.09375 \nQ 17.96875 56 27.875 56 \nQ 33.9375 56 38.25 53.625 \nQ 42.578125 51.265625 45.40625 46.390625 \nz\nM 14.796875 27.296875 \nQ 14.796875 17.390625 18.875 11.75 \nQ 22.953125 6.109375 30.078125 6.109375 \nQ 37.203125 6.109375 41.296875 11.75 \nQ 45.40625 17.390625 45.40625 27.296875 \nQ 45.40625 37.203125 41.296875 42.84375 \nQ 37.203125 48.484375 30.078125 48.484375 \nQ 22.953125 48.484375 18.875 42.84375 \nQ 14.796875 37.203125 14.796875 27.296875 \nz\n\" id=\"DejaVuSans-100\"/>\n       <path d=\"M 48.78125 52.59375 \nL 48.78125 44.1875 \nQ 44.96875 46.296875 41.140625 47.34375 \nQ 37.3125 48.390625 33.40625 48.390625 \nQ 24.65625 48.390625 19.8125 42.84375 \nQ 14.984375 37.3125 14.984375 27.296875 \nQ 14.984375 17.28125 19.8125 11.734375 \nQ 24.65625 6.203125 33.40625 6.203125 \nQ 37.3125 6.203125 41.140625 7.25 \nQ 44.96875 8.296875 48.78125 10.40625 \nL 48.78125 2.09375 \nQ 45.015625 0.34375 40.984375 -0.53125 \nQ 36.96875 -1.421875 32.421875 -1.421875 \nQ 20.0625 -1.421875 12.78125 6.34375 \nQ 5.515625 14.109375 5.515625 27.296875 \nQ 5.515625 40.671875 12.859375 48.328125 \nQ 20.21875 56 33.015625 56 \nQ 37.15625 56 41.109375 55.140625 \nQ 45.0625 54.296875 48.78125 52.59375 \nz\n\" id=\"DejaVuSans-99\"/>\n       <path id=\"DejaVuSans-32\"/>\n       <path d=\"M 48.6875 27.296875 \nQ 48.6875 37.203125 44.609375 42.84375 \nQ 40.53125 48.484375 33.40625 48.484375 \nQ 26.265625 48.484375 22.1875 42.84375 \nQ 18.109375 37.203125 18.109375 27.296875 \nQ 18.109375 17.390625 22.1875 11.75 \nQ 26.265625 6.109375 33.40625 6.109375 \nQ 40.53125 6.109375 44.609375 11.75 \nQ 48.6875 17.390625 48.6875 27.296875 \nz\nM 18.109375 46.390625 \nQ 20.953125 51.265625 25.265625 53.625 \nQ 29.59375 56 35.59375 56 \nQ 45.5625 56 51.78125 48.09375 \nQ 58.015625 40.1875 58.015625 27.296875 \nQ 58.015625 14.40625 51.78125 6.484375 \nQ 45.5625 -1.421875 35.59375 -1.421875 \nQ 29.59375 -1.421875 25.265625 0.953125 \nQ 20.953125 3.328125 18.109375 8.203125 \nL 18.109375 0 \nL 9.078125 0 \nL 9.078125 75.984375 \nL 18.109375 75.984375 \nz\n\" id=\"DejaVuSans-98\"/>\n      </defs>\n      <use xlink:href=\"#DejaVuSans-80\"/>\n      <use x=\"58.552734\" xlink:href=\"#DejaVuSans-114\"/>\n      <use x=\"97.416016\" xlink:href=\"#DejaVuSans-101\"/>\n      <use x=\"158.939453\" xlink:href=\"#DejaVuSans-100\"/>\n      <use x=\"222.416016\" xlink:href=\"#DejaVuSans-105\"/>\n      <use x=\"250.199219\" xlink:href=\"#DejaVuSans-99\"/>\n      <use x=\"305.179688\" xlink:href=\"#DejaVuSans-116\"/>\n      <use x=\"344.388672\" xlink:href=\"#DejaVuSans-101\"/>\n      <use x=\"405.912109\" xlink:href=\"#DejaVuSans-100\"/>\n      <use x=\"469.388672\" xlink:href=\"#DejaVuSans-32\"/>\n      <use x=\"501.175781\" xlink:href=\"#DejaVuSans-108\"/>\n      <use x=\"528.958984\" xlink:href=\"#DejaVuSans-97\"/>\n      <use x=\"590.238281\" xlink:href=\"#DejaVuSans-98\"/>\n      <use x=\"653.714844\" xlink:href=\"#DejaVuSans-101\"/>\n      <use x=\"715.238281\" xlink:href=\"#DejaVuSans-108\"/>\n     </g>\n    </g>\n   </g>\n   <g id=\"matplotlib.axis_2\">\n    <g id=\"ytick_1\">\n     <g id=\"line2d_4\">\n      <defs>\n       <path d=\"M 0 0 \nL -3.5 0 \n\" id=\"m91f5624f9e\" style=\"stroke:#000000;stroke-width:0.8;\"/>\n      </defs>\n      <g>\n       <use style=\"stroke:#000000;stroke-width:0.8;\" x=\"72.759375\" xlink:href=\"#m91f5624f9e\" y=\"58.558125\"/>\n      </g>\n     </g>\n     <g id=\"text_5\">\n      <!-- Negative -->\n      <g transform=\"translate(20.878125 62.357344)scale(0.1 -0.1)\">\n       <use xlink:href=\"#DejaVuSans-78\"/>\n       <use x=\"74.804688\" xlink:href=\"#DejaVuSans-101\"/>\n       <use x=\"136.328125\" xlink:href=\"#DejaVuSans-103\"/>\n       <use x=\"199.804688\" xlink:href=\"#DejaVuSans-97\"/>\n       <use x=\"261.083984\" xlink:href=\"#DejaVuSans-116\"/>\n       <use x=\"300.292969\" xlink:href=\"#DejaVuSans-105\"/>\n       <use x=\"328.076172\" xlink:href=\"#DejaVuSans-118\"/>\n       <use x=\"387.255859\" xlink:href=\"#DejaVuSans-101\"/>\n      </g>\n     </g>\n    </g>\n    <g id=\"ytick_2\">\n     <g id=\"line2d_5\">\n      <g>\n       <use style=\"stroke:#000000;stroke-width:0.8;\" x=\"72.759375\" xlink:href=\"#m91f5624f9e\" y=\"131.038125\"/>\n      </g>\n     </g>\n     <g id=\"text_6\">\n      <!-- Neutral -->\n      <g transform=\"translate(28.85 134.837344)scale(0.1 -0.1)\">\n       <use xlink:href=\"#DejaVuSans-78\"/>\n       <use x=\"74.804688\" xlink:href=\"#DejaVuSans-101\"/>\n       <use x=\"136.328125\" xlink:href=\"#DejaVuSans-117\"/>\n       <use x=\"199.707031\" xlink:href=\"#DejaVuSans-116\"/>\n       <use x=\"238.916016\" xlink:href=\"#DejaVuSans-114\"/>\n       <use x=\"280.029297\" xlink:href=\"#DejaVuSans-97\"/>\n       <use x=\"341.308594\" xlink:href=\"#DejaVuSans-108\"/>\n      </g>\n     </g>\n    </g>\n    <g id=\"ytick_3\">\n     <g id=\"line2d_6\">\n      <g>\n       <use style=\"stroke:#000000;stroke-width:0.8;\" x=\"72.759375\" xlink:href=\"#m91f5624f9e\" y=\"203.518125\"/>\n      </g>\n     </g>\n     <g id=\"text_7\">\n      <!-- Positive -->\n      <g transform=\"translate(27.215625 207.317344)scale(0.1 -0.1)\">\n       <use xlink:href=\"#DejaVuSans-80\"/>\n       <use x=\"56.677734\" xlink:href=\"#DejaVuSans-111\"/>\n       <use x=\"117.859375\" xlink:href=\"#DejaVuSans-115\"/>\n       <use x=\"169.958984\" xlink:href=\"#DejaVuSans-105\"/>\n       <use x=\"197.742188\" xlink:href=\"#DejaVuSans-116\"/>\n       <use x=\"236.951172\" xlink:href=\"#DejaVuSans-105\"/>\n       <use x=\"264.734375\" xlink:href=\"#DejaVuSans-118\"/>\n       <use x=\"323.914062\" xlink:href=\"#DejaVuSans-101\"/>\n      </g>\n     </g>\n    </g>\n    <g id=\"text_8\">\n     <!-- True label -->\n     <g transform=\"translate(14.798438 155.337344)rotate(-90)scale(0.1 -0.1)\">\n      <defs>\n       <path d=\"M -0.296875 72.90625 \nL 61.375 72.90625 \nL 61.375 64.59375 \nL 35.5 64.59375 \nL 35.5 0 \nL 25.59375 0 \nL 25.59375 64.59375 \nL -0.296875 64.59375 \nz\n\" id=\"DejaVuSans-84\"/>\n      </defs>\n      <use xlink:href=\"#DejaVuSans-84\"/>\n      <use x=\"46.333984\" xlink:href=\"#DejaVuSans-114\"/>\n      <use x=\"87.447266\" xlink:href=\"#DejaVuSans-117\"/>\n      <use x=\"150.826172\" xlink:href=\"#DejaVuSans-101\"/>\n      <use x=\"212.349609\" xlink:href=\"#DejaVuSans-32\"/>\n      <use x=\"244.136719\" xlink:href=\"#DejaVuSans-108\"/>\n      <use x=\"271.919922\" xlink:href=\"#DejaVuSans-97\"/>\n      <use x=\"333.199219\" xlink:href=\"#DejaVuSans-98\"/>\n      <use x=\"396.675781\" xlink:href=\"#DejaVuSans-101\"/>\n      <use x=\"458.199219\" xlink:href=\"#DejaVuSans-108\"/>\n     </g>\n    </g>\n   </g>\n   <g id=\"patch_3\">\n    <path d=\"M 72.759375 239.758125 \nL 72.759375 22.318125 \n\" style=\"fill:none;stroke:#000000;stroke-linecap:square;stroke-linejoin:miter;stroke-width:0.8;\"/>\n   </g>\n   <g id=\"patch_4\">\n    <path d=\"M 290.199375 239.758125 \nL 290.199375 22.318125 \n\" style=\"fill:none;stroke:#000000;stroke-linecap:square;stroke-linejoin:miter;stroke-width:0.8;\"/>\n   </g>\n   <g id=\"patch_5\">\n    <path d=\"M 72.759375 239.758125 \nL 290.199375 239.758125 \n\" style=\"fill:none;stroke:#000000;stroke-linecap:square;stroke-linejoin:miter;stroke-width:0.8;\"/>\n   </g>\n   <g id=\"patch_6\">\n    <path d=\"M 72.759375 22.318125 \nL 290.199375 22.318125 \n\" style=\"fill:none;stroke:#000000;stroke-linecap:square;stroke-linejoin:miter;stroke-width:0.8;\"/>\n   </g>\n   <g id=\"text_9\">\n    <!-- 0.66 -->\n    <g style=\"fill:#440154;\" transform=\"translate(97.866563 61.3175)scale(0.1 -0.1)\">\n     <defs>\n      <path d=\"M 31.78125 66.40625 \nQ 24.171875 66.40625 20.328125 58.90625 \nQ 16.5 51.421875 16.5 36.375 \nQ 16.5 21.390625 20.328125 13.890625 \nQ 24.171875 6.390625 31.78125 6.390625 \nQ 39.453125 6.390625 43.28125 13.890625 \nQ 47.125 21.390625 47.125 36.375 \nQ 47.125 51.421875 43.28125 58.90625 \nQ 39.453125 66.40625 31.78125 66.40625 \nz\nM 31.78125 74.21875 \nQ 44.046875 74.21875 50.515625 64.515625 \nQ 56.984375 54.828125 56.984375 36.375 \nQ 56.984375 17.96875 50.515625 8.265625 \nQ 44.046875 -1.421875 31.78125 -1.421875 \nQ 19.53125 -1.421875 13.0625 8.265625 \nQ 6.59375 17.96875 6.59375 36.375 \nQ 6.59375 54.828125 13.0625 64.515625 \nQ 19.53125 74.21875 31.78125 74.21875 \nz\n\" id=\"DejaVuSans-48\"/>\n      <path d=\"M 10.6875 12.40625 \nL 21 12.40625 \nL 21 0 \nL 10.6875 0 \nz\n\" id=\"DejaVuSans-46\"/>\n      <path d=\"M 33.015625 40.375 \nQ 26.375 40.375 22.484375 35.828125 \nQ 18.609375 31.296875 18.609375 23.390625 \nQ 18.609375 15.53125 22.484375 10.953125 \nQ 26.375 6.390625 33.015625 6.390625 \nQ 39.65625 6.390625 43.53125 10.953125 \nQ 47.40625 15.53125 47.40625 23.390625 \nQ 47.40625 31.296875 43.53125 35.828125 \nQ 39.65625 40.375 33.015625 40.375 \nz\nM 52.59375 71.296875 \nL 52.59375 62.3125 \nQ 48.875 64.0625 45.09375 64.984375 \nQ 41.3125 65.921875 37.59375 65.921875 \nQ 27.828125 65.921875 22.671875 59.328125 \nQ 17.53125 52.734375 16.796875 39.40625 \nQ 19.671875 43.65625 24.015625 45.921875 \nQ 28.375 48.1875 33.59375 48.1875 \nQ 44.578125 48.1875 50.953125 41.515625 \nQ 57.328125 34.859375 57.328125 23.390625 \nQ 57.328125 12.15625 50.6875 5.359375 \nQ 44.046875 -1.421875 33.015625 -1.421875 \nQ 20.359375 -1.421875 13.671875 8.265625 \nQ 6.984375 17.96875 6.984375 36.375 \nQ 6.984375 53.65625 15.1875 63.9375 \nQ 23.390625 74.21875 37.203125 74.21875 \nQ 40.921875 74.21875 44.703125 73.484375 \nQ 48.484375 72.75 52.59375 71.296875 \nz\n\" id=\"DejaVuSans-54\"/>\n     </defs>\n     <use xlink:href=\"#DejaVuSans-48\"/>\n     <use x=\"63.623047\" xlink:href=\"#DejaVuSans-46\"/>\n     <use x=\"95.410156\" xlink:href=\"#DejaVuSans-54\"/>\n     <use x=\"159.033203\" xlink:href=\"#DejaVuSans-54\"/>\n    </g>\n   </g>\n   <g id=\"text_10\">\n    <!-- 0.25 -->\n    <g style=\"fill:#fde725;\" transform=\"translate(170.346563 61.3175)scale(0.1 -0.1)\">\n     <defs>\n      <path d=\"M 19.1875 8.296875 \nL 53.609375 8.296875 \nL 53.609375 0 \nL 7.328125 0 \nL 7.328125 8.296875 \nQ 12.9375 14.109375 22.625 23.890625 \nQ 32.328125 33.6875 34.8125 36.53125 \nQ 39.546875 41.84375 41.421875 45.53125 \nQ 43.3125 49.21875 43.3125 52.78125 \nQ 43.3125 58.59375 39.234375 62.25 \nQ 35.15625 65.921875 28.609375 65.921875 \nQ 23.96875 65.921875 18.8125 64.3125 \nQ 13.671875 62.703125 7.8125 59.421875 \nL 7.8125 69.390625 \nQ 13.765625 71.78125 18.9375 73 \nQ 24.125 74.21875 28.421875 74.21875 \nQ 39.75 74.21875 46.484375 68.546875 \nQ 53.21875 62.890625 53.21875 53.421875 \nQ 53.21875 48.921875 51.53125 44.890625 \nQ 49.859375 40.875 45.40625 35.40625 \nQ 44.1875 33.984375 37.640625 27.21875 \nQ 31.109375 20.453125 19.1875 8.296875 \nz\n\" id=\"DejaVuSans-50\"/>\n      <path d=\"M 10.796875 72.90625 \nL 49.515625 72.90625 \nL 49.515625 64.59375 \nL 19.828125 64.59375 \nL 19.828125 46.734375 \nQ 21.96875 47.46875 24.109375 47.828125 \nQ 26.265625 48.1875 28.421875 48.1875 \nQ 40.625 48.1875 47.75 41.5 \nQ 54.890625 34.8125 54.890625 23.390625 \nQ 54.890625 11.625 47.5625 5.09375 \nQ 40.234375 -1.421875 26.90625 -1.421875 \nQ 22.3125 -1.421875 17.546875 -0.640625 \nQ 12.796875 0.140625 7.71875 1.703125 \nL 7.71875 11.625 \nQ 12.109375 9.234375 16.796875 8.0625 \nQ 21.484375 6.890625 26.703125 6.890625 \nQ 35.15625 6.890625 40.078125 11.328125 \nQ 45.015625 15.765625 45.015625 23.390625 \nQ 45.015625 31 40.078125 35.4375 \nQ 35.15625 39.890625 26.703125 39.890625 \nQ 22.75 39.890625 18.8125 39.015625 \nQ 14.890625 38.140625 10.796875 36.28125 \nz\n\" id=\"DejaVuSans-53\"/>\n     </defs>\n     <use xlink:href=\"#DejaVuSans-48\"/>\n     <use x=\"63.623047\" xlink:href=\"#DejaVuSans-46\"/>\n     <use x=\"95.410156\" xlink:href=\"#DejaVuSans-50\"/>\n     <use x=\"159.033203\" xlink:href=\"#DejaVuSans-53\"/>\n    </g>\n   </g>\n   <g id=\"text_11\">\n    <!-- 0.09 -->\n    <g style=\"fill:#fde725;\" transform=\"translate(242.826562 61.3175)scale(0.1 -0.1)\">\n     <defs>\n      <path d=\"M 10.984375 1.515625 \nL 10.984375 10.5 \nQ 14.703125 8.734375 18.5 7.8125 \nQ 22.3125 6.890625 25.984375 6.890625 \nQ 35.75 6.890625 40.890625 13.453125 \nQ 46.046875 20.015625 46.78125 33.40625 \nQ 43.953125 29.203125 39.59375 26.953125 \nQ 35.25 24.703125 29.984375 24.703125 \nQ 19.046875 24.703125 12.671875 31.3125 \nQ 6.296875 37.9375 6.296875 49.421875 \nQ 6.296875 60.640625 12.9375 67.421875 \nQ 19.578125 74.21875 30.609375 74.21875 \nQ 43.265625 74.21875 49.921875 64.515625 \nQ 56.59375 54.828125 56.59375 36.375 \nQ 56.59375 19.140625 48.40625 8.859375 \nQ 40.234375 -1.421875 26.421875 -1.421875 \nQ 22.703125 -1.421875 18.890625 -0.6875 \nQ 15.09375 0.046875 10.984375 1.515625 \nz\nM 30.609375 32.421875 \nQ 37.25 32.421875 41.125 36.953125 \nQ 45.015625 41.5 45.015625 49.421875 \nQ 45.015625 57.28125 41.125 61.84375 \nQ 37.25 66.40625 30.609375 66.40625 \nQ 23.96875 66.40625 20.09375 61.84375 \nQ 16.21875 57.28125 16.21875 49.421875 \nQ 16.21875 41.5 20.09375 36.953125 \nQ 23.96875 32.421875 30.609375 32.421875 \nz\n\" id=\"DejaVuSans-57\"/>\n     </defs>\n     <use xlink:href=\"#DejaVuSans-48\"/>\n     <use x=\"63.623047\" xlink:href=\"#DejaVuSans-46\"/>\n     <use x=\"95.410156\" xlink:href=\"#DejaVuSans-48\"/>\n     <use x=\"159.033203\" xlink:href=\"#DejaVuSans-57\"/>\n    </g>\n   </g>\n   <g id=\"text_12\">\n    <!-- 0.22 -->\n    <g style=\"fill:#fde725;\" transform=\"translate(97.866563 133.7975)scale(0.1 -0.1)\">\n     <use xlink:href=\"#DejaVuSans-48\"/>\n     <use x=\"63.623047\" xlink:href=\"#DejaVuSans-46\"/>\n     <use x=\"95.410156\" xlink:href=\"#DejaVuSans-50\"/>\n     <use x=\"159.033203\" xlink:href=\"#DejaVuSans-50\"/>\n    </g>\n   </g>\n   <g id=\"text_13\">\n    <!-- 0.62 -->\n    <g style=\"fill:#440154;\" transform=\"translate(170.346563 133.7975)scale(0.1 -0.1)\">\n     <use xlink:href=\"#DejaVuSans-48\"/>\n     <use x=\"63.623047\" xlink:href=\"#DejaVuSans-46\"/>\n     <use x=\"95.410156\" xlink:href=\"#DejaVuSans-54\"/>\n     <use x=\"159.033203\" xlink:href=\"#DejaVuSans-50\"/>\n    </g>\n   </g>\n   <g id=\"text_14\">\n    <!-- 0.16 -->\n    <g style=\"fill:#fde725;\" transform=\"translate(242.826562 133.7975)scale(0.1 -0.1)\">\n     <defs>\n      <path d=\"M 12.40625 8.296875 \nL 28.515625 8.296875 \nL 28.515625 63.921875 \nL 10.984375 60.40625 \nL 10.984375 69.390625 \nL 28.421875 72.90625 \nL 38.28125 72.90625 \nL 38.28125 8.296875 \nL 54.390625 8.296875 \nL 54.390625 0 \nL 12.40625 0 \nz\n\" id=\"DejaVuSans-49\"/>\n     </defs>\n     <use xlink:href=\"#DejaVuSans-48\"/>\n     <use x=\"63.623047\" xlink:href=\"#DejaVuSans-46\"/>\n     <use x=\"95.410156\" xlink:href=\"#DejaVuSans-49\"/>\n     <use x=\"159.033203\" xlink:href=\"#DejaVuSans-54\"/>\n    </g>\n   </g>\n   <g id=\"text_15\">\n    <!-- 0.11 -->\n    <g style=\"fill:#fde725;\" transform=\"translate(97.866563 206.2775)scale(0.1 -0.1)\">\n     <use xlink:href=\"#DejaVuSans-48\"/>\n     <use x=\"63.623047\" xlink:href=\"#DejaVuSans-46\"/>\n     <use x=\"95.410156\" xlink:href=\"#DejaVuSans-49\"/>\n     <use x=\"159.033203\" xlink:href=\"#DejaVuSans-49\"/>\n    </g>\n   </g>\n   <g id=\"text_16\">\n    <!-- 0.28 -->\n    <g style=\"fill:#fde725;\" transform=\"translate(170.346563 206.2775)scale(0.1 -0.1)\">\n     <defs>\n      <path d=\"M 31.78125 34.625 \nQ 24.75 34.625 20.71875 30.859375 \nQ 16.703125 27.09375 16.703125 20.515625 \nQ 16.703125 13.921875 20.71875 10.15625 \nQ 24.75 6.390625 31.78125 6.390625 \nQ 38.8125 6.390625 42.859375 10.171875 \nQ 46.921875 13.96875 46.921875 20.515625 \nQ 46.921875 27.09375 42.890625 30.859375 \nQ 38.875 34.625 31.78125 34.625 \nz\nM 21.921875 38.8125 \nQ 15.578125 40.375 12.03125 44.71875 \nQ 8.5 49.078125 8.5 55.328125 \nQ 8.5 64.0625 14.71875 69.140625 \nQ 20.953125 74.21875 31.78125 74.21875 \nQ 42.671875 74.21875 48.875 69.140625 \nQ 55.078125 64.0625 55.078125 55.328125 \nQ 55.078125 49.078125 51.53125 44.71875 \nQ 48 40.375 41.703125 38.8125 \nQ 48.828125 37.15625 52.796875 32.3125 \nQ 56.78125 27.484375 56.78125 20.515625 \nQ 56.78125 9.90625 50.3125 4.234375 \nQ 43.84375 -1.421875 31.78125 -1.421875 \nQ 19.734375 -1.421875 13.25 4.234375 \nQ 6.78125 9.90625 6.78125 20.515625 \nQ 6.78125 27.484375 10.78125 32.3125 \nQ 14.796875 37.15625 21.921875 38.8125 \nz\nM 18.3125 54.390625 \nQ 18.3125 48.734375 21.84375 45.5625 \nQ 25.390625 42.390625 31.78125 42.390625 \nQ 38.140625 42.390625 41.71875 45.5625 \nQ 45.3125 48.734375 45.3125 54.390625 \nQ 45.3125 60.0625 41.71875 63.234375 \nQ 38.140625 66.40625 31.78125 66.40625 \nQ 25.390625 66.40625 21.84375 63.234375 \nQ 18.3125 60.0625 18.3125 54.390625 \nz\n\" id=\"DejaVuSans-56\"/>\n     </defs>\n     <use xlink:href=\"#DejaVuSans-48\"/>\n     <use x=\"63.623047\" xlink:href=\"#DejaVuSans-46\"/>\n     <use x=\"95.410156\" xlink:href=\"#DejaVuSans-50\"/>\n     <use x=\"159.033203\" xlink:href=\"#DejaVuSans-56\"/>\n    </g>\n   </g>\n   <g id=\"text_17\">\n    <!-- 0.6 -->\n    <g style=\"fill:#440154;\" transform=\"translate(246.007812 206.2775)scale(0.1 -0.1)\">\n     <use xlink:href=\"#DejaVuSans-48\"/>\n     <use x=\"63.623047\" xlink:href=\"#DejaVuSans-46\"/>\n     <use x=\"95.410156\" xlink:href=\"#DejaVuSans-54\"/>\n    </g>\n   </g>\n   <g id=\"text_18\">\n    <!-- SVM Normalised confusion matrix -->\n    <g transform=\"translate(80.153438 16.318125)scale(0.12 -0.12)\">\n     <defs>\n      <path d=\"M 53.515625 70.515625 \nL 53.515625 60.890625 \nQ 47.90625 63.578125 42.921875 64.890625 \nQ 37.9375 66.21875 33.296875 66.21875 \nQ 25.25 66.21875 20.875 63.09375 \nQ 16.5 59.96875 16.5 54.203125 \nQ 16.5 49.359375 19.40625 46.890625 \nQ 22.3125 44.4375 30.421875 42.921875 \nL 36.375 41.703125 \nQ 47.40625 39.59375 52.65625 34.296875 \nQ 57.90625 29 57.90625 20.125 \nQ 57.90625 9.515625 50.796875 4.046875 \nQ 43.703125 -1.421875 29.984375 -1.421875 \nQ 24.8125 -1.421875 18.96875 -0.25 \nQ 13.140625 0.921875 6.890625 3.21875 \nL 6.890625 13.375 \nQ 12.890625 10.015625 18.65625 8.296875 \nQ 24.421875 6.59375 29.984375 6.59375 \nQ 38.421875 6.59375 43.015625 9.90625 \nQ 47.609375 13.234375 47.609375 19.390625 \nQ 47.609375 24.75 44.3125 27.78125 \nQ 41.015625 30.8125 33.5 32.328125 \nL 27.484375 33.5 \nQ 16.453125 35.6875 11.515625 40.375 \nQ 6.59375 45.0625 6.59375 53.421875 \nQ 6.59375 63.09375 13.40625 68.65625 \nQ 20.21875 74.21875 32.171875 74.21875 \nQ 37.3125 74.21875 42.625 73.28125 \nQ 47.953125 72.359375 53.515625 70.515625 \nz\n\" id=\"DejaVuSans-83\"/>\n      <path d=\"M 28.609375 0 \nL 0.78125 72.90625 \nL 11.078125 72.90625 \nL 34.1875 11.53125 \nL 57.328125 72.90625 \nL 67.578125 72.90625 \nL 39.796875 0 \nz\n\" id=\"DejaVuSans-86\"/>\n      <path d=\"M 9.8125 72.90625 \nL 24.515625 72.90625 \nL 43.109375 23.296875 \nL 61.8125 72.90625 \nL 76.515625 72.90625 \nL 76.515625 0 \nL 66.890625 0 \nL 66.890625 64.015625 \nL 48.09375 14.015625 \nL 38.1875 14.015625 \nL 19.390625 64.015625 \nL 19.390625 0 \nL 9.8125 0 \nz\n\" id=\"DejaVuSans-77\"/>\n      <path d=\"M 52 44.1875 \nQ 55.375 50.25 60.0625 53.125 \nQ 64.75 56 71.09375 56 \nQ 79.640625 56 84.28125 50.015625 \nQ 88.921875 44.046875 88.921875 33.015625 \nL 88.921875 0 \nL 79.890625 0 \nL 79.890625 32.71875 \nQ 79.890625 40.578125 77.09375 44.375 \nQ 74.3125 48.1875 68.609375 48.1875 \nQ 61.625 48.1875 57.5625 43.546875 \nQ 53.515625 38.921875 53.515625 30.90625 \nL 53.515625 0 \nL 44.484375 0 \nL 44.484375 32.71875 \nQ 44.484375 40.625 41.703125 44.40625 \nQ 38.921875 48.1875 33.109375 48.1875 \nQ 26.21875 48.1875 22.15625 43.53125 \nQ 18.109375 38.875 18.109375 30.90625 \nL 18.109375 0 \nL 9.078125 0 \nL 9.078125 54.6875 \nL 18.109375 54.6875 \nL 18.109375 46.1875 \nQ 21.1875 51.21875 25.484375 53.609375 \nQ 29.78125 56 35.6875 56 \nQ 41.65625 56 45.828125 52.96875 \nQ 50 49.953125 52 44.1875 \nz\n\" id=\"DejaVuSans-109\"/>\n      <path d=\"M 54.890625 33.015625 \nL 54.890625 0 \nL 45.90625 0 \nL 45.90625 32.71875 \nQ 45.90625 40.484375 42.875 44.328125 \nQ 39.84375 48.1875 33.796875 48.1875 \nQ 26.515625 48.1875 22.3125 43.546875 \nQ 18.109375 38.921875 18.109375 30.90625 \nL 18.109375 0 \nL 9.078125 0 \nL 9.078125 54.6875 \nL 18.109375 54.6875 \nL 18.109375 46.1875 \nQ 21.34375 51.125 25.703125 53.5625 \nQ 30.078125 56 35.796875 56 \nQ 45.21875 56 50.046875 50.171875 \nQ 54.890625 44.34375 54.890625 33.015625 \nz\n\" id=\"DejaVuSans-110\"/>\n      <path d=\"M 37.109375 75.984375 \nL 37.109375 68.5 \nL 28.515625 68.5 \nQ 23.6875 68.5 21.796875 66.546875 \nQ 19.921875 64.59375 19.921875 59.515625 \nL 19.921875 54.6875 \nL 34.71875 54.6875 \nL 34.71875 47.703125 \nL 19.921875 47.703125 \nL 19.921875 0 \nL 10.890625 0 \nL 10.890625 47.703125 \nL 2.296875 47.703125 \nL 2.296875 54.6875 \nL 10.890625 54.6875 \nL 10.890625 58.5 \nQ 10.890625 67.625 15.140625 71.796875 \nQ 19.390625 75.984375 28.609375 75.984375 \nz\n\" id=\"DejaVuSans-102\"/>\n      <path d=\"M 54.890625 54.6875 \nL 35.109375 28.078125 \nL 55.90625 0 \nL 45.3125 0 \nL 29.390625 21.484375 \nL 13.484375 0 \nL 2.875 0 \nL 24.125 28.609375 \nL 4.6875 54.6875 \nL 15.28125 54.6875 \nL 29.78125 35.203125 \nL 44.28125 54.6875 \nz\n\" id=\"DejaVuSans-120\"/>\n     </defs>\n     <use xlink:href=\"#DejaVuSans-83\"/>\n     <use x=\"63.476562\" xlink:href=\"#DejaVuSans-86\"/>\n     <use x=\"131.884766\" xlink:href=\"#DejaVuSans-77\"/>\n     <use x=\"218.164062\" xlink:href=\"#DejaVuSans-32\"/>\n     <use x=\"249.951172\" xlink:href=\"#DejaVuSans-78\"/>\n     <use x=\"324.755859\" xlink:href=\"#DejaVuSans-111\"/>\n     <use x=\"385.9375\" xlink:href=\"#DejaVuSans-114\"/>\n     <use x=\"425.300781\" xlink:href=\"#DejaVuSans-109\"/>\n     <use x=\"522.712891\" xlink:href=\"#DejaVuSans-97\"/>\n     <use x=\"583.992188\" xlink:href=\"#DejaVuSans-108\"/>\n     <use x=\"611.775391\" xlink:href=\"#DejaVuSans-105\"/>\n     <use x=\"639.558594\" xlink:href=\"#DejaVuSans-115\"/>\n     <use x=\"691.658203\" xlink:href=\"#DejaVuSans-101\"/>\n     <use x=\"753.181641\" xlink:href=\"#DejaVuSans-100\"/>\n     <use x=\"816.658203\" xlink:href=\"#DejaVuSans-32\"/>\n     <use x=\"848.445312\" xlink:href=\"#DejaVuSans-99\"/>\n     <use x=\"903.425781\" xlink:href=\"#DejaVuSans-111\"/>\n     <use x=\"964.607422\" xlink:href=\"#DejaVuSans-110\"/>\n     <use x=\"1027.986328\" xlink:href=\"#DejaVuSans-102\"/>\n     <use x=\"1063.191406\" xlink:href=\"#DejaVuSans-117\"/>\n     <use x=\"1126.570312\" xlink:href=\"#DejaVuSans-115\"/>\n     <use x=\"1178.669922\" xlink:href=\"#DejaVuSans-105\"/>\n     <use x=\"1206.453125\" xlink:href=\"#DejaVuSans-111\"/>\n     <use x=\"1267.634766\" xlink:href=\"#DejaVuSans-110\"/>\n     <use x=\"1331.013672\" xlink:href=\"#DejaVuSans-32\"/>\n     <use x=\"1362.800781\" xlink:href=\"#DejaVuSans-109\"/>\n     <use x=\"1460.212891\" xlink:href=\"#DejaVuSans-97\"/>\n     <use x=\"1521.492188\" xlink:href=\"#DejaVuSans-116\"/>\n     <use x=\"1560.701172\" xlink:href=\"#DejaVuSans-114\"/>\n     <use x=\"1601.814453\" xlink:href=\"#DejaVuSans-105\"/>\n     <use x=\"1629.597656\" xlink:href=\"#DejaVuSans-120\"/>\n    </g>\n   </g>\n  </g>\n  <g id=\"axes_2\">\n   <g id=\"patch_7\">\n    <path clip-path=\"url(#pcfddf52bb1)\" d=\"M 306.939375 239.758125 \nL 306.939375 238.90875 \nL 306.939375 23.1675 \nL 306.939375 22.318125 \nL 317.811375 22.318125 \nL 317.811375 23.1675 \nL 317.811375 238.90875 \nL 317.811375 239.758125 \nz\n\" style=\"fill:#ffffff;stroke:#ffffff;stroke-linejoin:miter;stroke-width:0.01;\"/>\n   </g>\n   <image height=\"217\" id=\"image47c6ee6d58\" transform=\"scale(1 -1)translate(0 -217)\" width=\"11\" x=\"307\" xlink:href=\"data:image/png;base64,\niVBORw0KGgoAAAANSUhEUgAAAAsAAADZCAYAAAD2WsoCAAABYUlEQVR4nO3aQW7DMBBDUWkk52Q9Q+9/kLbptkA2egsC4yJZE8QnZ2Q7TuZHfT7H4WfPmqfaseda5+IxC8SCMaYwl2CI86A2qOce1VlAcs6J3238FcfaeK4eAYnZxt0D4/xKkMUQ5yBzynmIMy2/9UwYsTZsgrQbxgziJm0EMXLVUcAupxvE5IwBUxjoHLvI3LKNmPMd2zjX4vPGHSf4/8dNzi3GDRDv0/0iPj/fd9yNNm0Exw3MweoqhdGkDXhESrYxRi4gOM9YQOuZmE0MGNSGYZxTcMBUG6t+OmBUrI0l4hxGE+c1Ydzk3ES87xhQbhPWRn13wCgZih1YYaY2lrWR2jpqY08KmGMWZ+mZnC9pw1Y0thu5oTzmFzjHhlISkJb/koDUM16RyDm1G7T8ts/BgKkb0GPQpUCWn06KBTzWjn3ZgQXnBV8It7zd20t+yCjBuOB9lmKAMzEv+SOQYPwCBCyBaHjgE4oAAAAASUVORK5CYII=\" y=\"-22\"/>\n   <g id=\"matplotlib.axis_3\"/>\n   <g id=\"matplotlib.axis_4\">\n    <g id=\"ytick_4\">\n     <g id=\"line2d_7\">\n      <defs>\n       <path d=\"M 0 0 \nL 3.5 0 \n\" id=\"m86a9491f2f\" style=\"stroke:#000000;stroke-width:0.8;\"/>\n      </defs>\n      <g>\n       <use style=\"stroke:#000000;stroke-width:0.8;\" x=\"317.811375\" xlink:href=\"#m86a9491f2f\" y=\"235.827006\"/>\n      </g>\n     </g>\n     <g id=\"text_19\">\n      <!-- 0.1 -->\n      <g transform=\"translate(324.811375 239.626225)scale(0.1 -0.1)\">\n       <use xlink:href=\"#DejaVuSans-48\"/>\n       <use x=\"63.623047\" xlink:href=\"#DejaVuSans-46\"/>\n       <use x=\"95.410156\" xlink:href=\"#DejaVuSans-49\"/>\n      </g>\n     </g>\n    </g>\n    <g id=\"ytick_5\">\n     <g id=\"line2d_8\">\n      <g>\n       <use style=\"stroke:#000000;stroke-width:0.8;\" x=\"317.811375\" xlink:href=\"#m86a9491f2f\" y=\"197.4986\"/>\n      </g>\n     </g>\n     <g id=\"text_20\">\n      <!-- 0.2 -->\n      <g transform=\"translate(324.811375 201.297818)scale(0.1 -0.1)\">\n       <use xlink:href=\"#DejaVuSans-48\"/>\n       <use x=\"63.623047\" xlink:href=\"#DejaVuSans-46\"/>\n       <use x=\"95.410156\" xlink:href=\"#DejaVuSans-50\"/>\n      </g>\n     </g>\n    </g>\n    <g id=\"ytick_6\">\n     <g id=\"line2d_9\">\n      <g>\n       <use style=\"stroke:#000000;stroke-width:0.8;\" x=\"317.811375\" xlink:href=\"#m86a9491f2f\" y=\"159.170193\"/>\n      </g>\n     </g>\n     <g id=\"text_21\">\n      <!-- 0.3 -->\n      <g transform=\"translate(324.811375 162.969412)scale(0.1 -0.1)\">\n       <defs>\n        <path d=\"M 40.578125 39.3125 \nQ 47.65625 37.796875 51.625 33 \nQ 55.609375 28.21875 55.609375 21.1875 \nQ 55.609375 10.40625 48.1875 4.484375 \nQ 40.765625 -1.421875 27.09375 -1.421875 \nQ 22.515625 -1.421875 17.65625 -0.515625 \nQ 12.796875 0.390625 7.625 2.203125 \nL 7.625 11.71875 \nQ 11.71875 9.328125 16.59375 8.109375 \nQ 21.484375 6.890625 26.8125 6.890625 \nQ 36.078125 6.890625 40.9375 10.546875 \nQ 45.796875 14.203125 45.796875 21.1875 \nQ 45.796875 27.640625 41.28125 31.265625 \nQ 36.765625 34.90625 28.71875 34.90625 \nL 20.21875 34.90625 \nL 20.21875 43.015625 \nL 29.109375 43.015625 \nQ 36.375 43.015625 40.234375 45.921875 \nQ 44.09375 48.828125 44.09375 54.296875 \nQ 44.09375 59.90625 40.109375 62.90625 \nQ 36.140625 65.921875 28.71875 65.921875 \nQ 24.65625 65.921875 20.015625 65.03125 \nQ 15.375 64.15625 9.8125 62.3125 \nL 9.8125 71.09375 \nQ 15.4375 72.65625 20.34375 73.4375 \nQ 25.25 74.21875 29.59375 74.21875 \nQ 40.828125 74.21875 47.359375 69.109375 \nQ 53.90625 64.015625 53.90625 55.328125 \nQ 53.90625 49.265625 50.4375 45.09375 \nQ 46.96875 40.921875 40.578125 39.3125 \nz\n\" id=\"DejaVuSans-51\"/>\n       </defs>\n       <use xlink:href=\"#DejaVuSans-48\"/>\n       <use x=\"63.623047\" xlink:href=\"#DejaVuSans-46\"/>\n       <use x=\"95.410156\" xlink:href=\"#DejaVuSans-51\"/>\n      </g>\n     </g>\n    </g>\n    <g id=\"ytick_7\">\n     <g id=\"line2d_10\">\n      <g>\n       <use style=\"stroke:#000000;stroke-width:0.8;\" x=\"317.811375\" xlink:href=\"#m86a9491f2f\" y=\"120.841786\"/>\n      </g>\n     </g>\n     <g id=\"text_22\">\n      <!-- 0.4 -->\n      <g transform=\"translate(324.811375 124.641005)scale(0.1 -0.1)\">\n       <defs>\n        <path d=\"M 37.796875 64.3125 \nL 12.890625 25.390625 \nL 37.796875 25.390625 \nz\nM 35.203125 72.90625 \nL 47.609375 72.90625 \nL 47.609375 25.390625 \nL 58.015625 25.390625 \nL 58.015625 17.1875 \nL 47.609375 17.1875 \nL 47.609375 0 \nL 37.796875 0 \nL 37.796875 17.1875 \nL 4.890625 17.1875 \nL 4.890625 26.703125 \nz\n\" id=\"DejaVuSans-52\"/>\n       </defs>\n       <use xlink:href=\"#DejaVuSans-48\"/>\n       <use x=\"63.623047\" xlink:href=\"#DejaVuSans-46\"/>\n       <use x=\"95.410156\" xlink:href=\"#DejaVuSans-52\"/>\n      </g>\n     </g>\n    </g>\n    <g id=\"ytick_8\">\n     <g id=\"line2d_11\">\n      <g>\n       <use style=\"stroke:#000000;stroke-width:0.8;\" x=\"317.811375\" xlink:href=\"#m86a9491f2f\" y=\"82.513379\"/>\n      </g>\n     </g>\n     <g id=\"text_23\">\n      <!-- 0.5 -->\n      <g transform=\"translate(324.811375 86.312598)scale(0.1 -0.1)\">\n       <use xlink:href=\"#DejaVuSans-48\"/>\n       <use x=\"63.623047\" xlink:href=\"#DejaVuSans-46\"/>\n       <use x=\"95.410156\" xlink:href=\"#DejaVuSans-53\"/>\n      </g>\n     </g>\n    </g>\n    <g id=\"ytick_9\">\n     <g id=\"line2d_12\">\n      <g>\n       <use style=\"stroke:#000000;stroke-width:0.8;\" x=\"317.811375\" xlink:href=\"#m86a9491f2f\" y=\"44.184972\"/>\n      </g>\n     </g>\n     <g id=\"text_24\">\n      <!-- 0.6 -->\n      <g transform=\"translate(324.811375 47.984191)scale(0.1 -0.1)\">\n       <use xlink:href=\"#DejaVuSans-48\"/>\n       <use x=\"63.623047\" xlink:href=\"#DejaVuSans-46\"/>\n       <use x=\"95.410156\" xlink:href=\"#DejaVuSans-54\"/>\n      </g>\n     </g>\n    </g>\n   </g>\n   <g id=\"patch_8\">\n    <path d=\"M 306.939375 239.758125 \nL 306.939375 238.90875 \nL 306.939375 23.1675 \nL 306.939375 22.318125 \nL 317.811375 22.318125 \nL 317.811375 23.1675 \nL 317.811375 238.90875 \nL 317.811375 239.758125 \nz\n\" style=\"fill:none;stroke:#000000;stroke-linejoin:miter;stroke-width:0.8;\"/>\n   </g>\n  </g>\n </g>\n <defs>\n  <clipPath id=\"pdfdd25370d\">\n   <rect height=\"217.44\" width=\"217.44\" x=\"72.759375\" y=\"22.318125\"/>\n  </clipPath>\n  <clipPath id=\"pcfddf52bb1\">\n   <rect height=\"217.44\" width=\"10.872\" x=\"306.939375\" y=\"22.318125\"/>\n  </clipPath>\n </defs>\n</svg>\n",
      "image/png": "[encoded data removed]"
     },
     "metadata": {
      "needs_background": "light"
     }
    }
   ],
   "source": [
    "titles_options = [(\"SVM Confusion matrix without normalisation\", None),\n",
    "                  (\"SVM Normalised confusion matrix\", 'true')]\n",
    "display_labels = ['Negative','Neutral','Positive']\n",
    "labels = [0,1,2]\n",
    "for title, normalize in titles_options:\n",
    "  cm = confusion_matrix(v_y, Y_text_predictions_SVM, labels=labels, normalize=normalize)\n",
    "  disp = ConfusionMatrixDisplay(confusion_matrix=cm, display_labels=display_labels)\n",
    "  disp.plot()\n",
    "  disp.ax_.set_title(title)\n"
   ]
  },
  {
   "cell_type": "code",
   "execution_count": 13,
   "metadata": {},
   "outputs": [
    {
     "output_type": "display_data",
     "data": {
      "text/plain": "@user @user @user @user @user ok thank you Curtis, mum is away Saturday but Ella &amp; Owen \nare here all wk end\" \n \u001b[1;36m1\u001b[0m \u001b[1;36m2\u001b[0m\n",
      "text/html": "<pre style=\"white-space:pre;overflow-x:auto;line-height:normal;font-family:Menlo,'DejaVu Sans Mono',consolas,'Courier New',monospace\">@user @user @user @user @user ok thank you Curtis, mum is away Saturday but Ella &amp;amp; Owen \nare here all wk end\" \n <span style=\"color: #008080; text-decoration-color: #008080; font-weight: bold\">1</span> <span style=\"color: #008080; text-decoration-color: #008080; font-weight: bold\">2</span>\n</pre>\n"
     },
     "metadata": {}
    },
    {
     "output_type": "display_data",
     "data": {
      "text/plain": "\"Her is a Chevy Spark in Dons favorite color.  I may joke, but this color sells out as soon \nas the dealer gets\u001b[33m...\u001b[0m \n \u001b[1;36m2\u001b[0m \u001b[1;36m1\u001b[0m\n",
      "text/html": "<pre style=\"white-space:pre;overflow-x:auto;line-height:normal;font-family:Menlo,'DejaVu Sans Mono',consolas,'Courier New',monospace\">\"Her is a Chevy Spark in Dons favorite color.  I may joke, but this color sells out as soon \nas the dealer gets<span style=\"color: #808000; text-decoration-color: #808000\">...</span> \n <span style=\"color: #008080; text-decoration-color: #008080; font-weight: bold\">2</span> <span style=\"color: #008080; text-decoration-color: #008080; font-weight: bold\">1</span>\n</pre>\n"
     },
     "metadata": {}
    },
    {
     "output_type": "display_data",
     "data": {
      "text/plain": "@user I'm right in thinking you're at Whooverville in Derby on September 3rd aren't I? If so \nI'll see you there :\u001b[1m)\u001b[0m x \n \u001b[1;36m1\u001b[0m \u001b[1;36m2\u001b[0m\n",
      "text/html": "<pre style=\"white-space:pre;overflow-x:auto;line-height:normal;font-family:Menlo,'DejaVu Sans Mono',consolas,'Courier New',monospace\">@user I'm right in thinking you're at Whooverville in Derby on September 3rd aren't I? If so \nI'll see you there :<span style=\"font-weight: bold\">)</span> x \n <span style=\"color: #008080; text-decoration-color: #008080; font-weight: bold\">1</span> <span style=\"color: #008080; text-decoration-color: #008080; font-weight: bold\">2</span>\n</pre>\n"
     },
     "metadata": {}
    },
    {
     "output_type": "display_data",
     "data": {
      "text/plain": "\u001b[32m\"this may be the one time, i'm disappointed Ye is performing at a show on such short \u001b[0m\n\u001b[32mnotice...thanks a lot Frank Ocean.\"\u001b[0m \n \u001b[1;36m1\u001b[0m \u001b[1;36m0\u001b[0m\n",
      "text/html": "<pre style=\"white-space:pre;overflow-x:auto;line-height:normal;font-family:Menlo,'DejaVu Sans Mono',consolas,'Courier New',monospace\"><span style=\"color: #008000; text-decoration-color: #008000\">\"this may be the one time, i'm disappointed Ye is performing at a show on such short </span>\n<span style=\"color: #008000; text-decoration-color: #008000\">notice...thanks a lot Frank Ocean.\"</span> \n <span style=\"color: #008080; text-decoration-color: #008080; font-weight: bold\">1</span> <span style=\"color: #008080; text-decoration-color: #008080; font-weight: bold\">0</span>\n</pre>\n"
     },
     "metadata": {}
    },
    {
     "output_type": "display_data",
     "data": {
      "text/plain": "@user   Suge is right, that movie is exaggerated. It's almost like Ice Cube wrote the \nscreenplay, just like he wrote Friday by himself.\" \n \u001b[1;36m0\u001b[0m \u001b[1;36m1\u001b[0m\n",
      "text/html": "<pre style=\"white-space:pre;overflow-x:auto;line-height:normal;font-family:Menlo,'DejaVu Sans Mono',consolas,'Courier New',monospace\">@user   Suge is right, that movie is exaggerated. It's almost like Ice Cube wrote the \nscreenplay, just like he wrote Friday by himself.\" \n <span style=\"color: #008080; text-decoration-color: #008080; font-weight: bold\">0</span> <span style=\"color: #008080; text-decoration-color: #008080; font-weight: bold\">1</span>\n</pre>\n"
     },
     "metadata": {}
    },
    {
     "output_type": "display_data",
     "data": {
      "text/plain": "Shammi Kapoor funeral on Monday as tirbutes pour in - Channel NewsAsia: Known as the Elvis \nPresley\u001b[33m...\u001b[0m #ElvisPresley \n \u001b[1;36m0\u001b[0m \u001b[1;36m1\u001b[0m\n",
      "text/html": "<pre style=\"white-space:pre;overflow-x:auto;line-height:normal;font-family:Menlo,'DejaVu Sans Mono',consolas,'Courier New',monospace\">Shammi Kapoor funeral on Monday as tirbutes pour in - Channel NewsAsia: Known as the Elvis \nPresley<span style=\"color: #808000; text-decoration-color: #808000\">...</span> #ElvisPresley \n <span style=\"color: #008080; text-decoration-color: #008080; font-weight: bold\">0</span> <span style=\"color: #008080; text-decoration-color: #008080; font-weight: bold\">1</span>\n</pre>\n"
     },
     "metadata": {}
    },
    {
     "output_type": "display_data",
     "data": {
      "text/plain": "@user @user perhaps Russia doesn't want to alienate Israel&amp;its mafias, but then they may \nlose huge opportunities with Iran in future\" \n \u001b[1;36m1\u001b[0m \u001b[1;36m0\u001b[0m\n",
      "text/html": "<pre style=\"white-space:pre;overflow-x:auto;line-height:normal;font-family:Menlo,'DejaVu Sans Mono',consolas,'Courier New',monospace\">@user @user perhaps Russia doesn't want to alienate Israel&amp;amp;its mafias, but then they may \nlose huge opportunities with Iran in future\" \n <span style=\"color: #008080; text-decoration-color: #008080; font-weight: bold\">1</span> <span style=\"color: #008080; text-decoration-color: #008080; font-weight: bold\">0</span>\n</pre>\n"
     },
     "metadata": {}
    },
    {
     "output_type": "display_data",
     "data": {
      "text/plain": "Shorty with the wolf pussy off Friday After Next on Martin \n \u001b[1;36m1\u001b[0m \u001b[1;36m0\u001b[0m\n",
      "text/html": "<pre style=\"white-space:pre;overflow-x:auto;line-height:normal;font-family:Menlo,'DejaVu Sans Mono',consolas,'Courier New',monospace\">Shorty with the wolf pussy off Friday After Next on Martin \n <span style=\"color: #008080; text-decoration-color: #008080; font-weight: bold\">1</span> <span style=\"color: #008080; text-decoration-color: #008080; font-weight: bold\">0</span>\n</pre>\n"
     },
     "metadata": {}
    },
    {
     "output_type": "display_data",
     "data": {
      "text/plain": "David Cameron's statement on camera on Thursday \u001b[1;36m03\u001b[0m September \u001b[1;36m2015\u001b[0m: he will  take in \u001b[32m'more'\u001b[0m of\nthe refugees: was he speaking TO TV Cameras? \n \u001b[1;36m0\u001b[0m \u001b[1;36m1\u001b[0m\n",
      "text/html": "<pre style=\"white-space:pre;overflow-x:auto;line-height:normal;font-family:Menlo,'DejaVu Sans Mono',consolas,'Courier New',monospace\">David Cameron's statement on camera on Thursday <span style=\"color: #008080; text-decoration-color: #008080; font-weight: bold\">03</span> September <span style=\"color: #008080; text-decoration-color: #008080; font-weight: bold\">2015</span>: he will  take in <span style=\"color: #008000; text-decoration-color: #008000\">'more'</span> of\nthe refugees: was he speaking TO TV Cameras? \n <span style=\"color: #008080; text-decoration-color: #008080; font-weight: bold\">0</span> <span style=\"color: #008080; text-decoration-color: #008080; font-weight: bold\">1</span>\n</pre>\n"
     },
     "metadata": {}
    },
    {
     "output_type": "display_data",
     "data": {
      "text/plain": "\u001b[32m\"But Justin Bieber may be, but her real taste if you call _catching him._ It will always \u001b[0m\n\u001b[32mremain-- \"\u001b[0m\u001b[32m\"Your promise to hope for\"\u001b[0m \n \u001b[1;36m2\u001b[0m \u001b[1;36m1\u001b[0m\n",
      "text/html": "<pre style=\"white-space:pre;overflow-x:auto;line-height:normal;font-family:Menlo,'DejaVu Sans Mono',consolas,'Courier New',monospace\"><span style=\"color: #008000; text-decoration-color: #008000\">\"But Justin Bieber may be, but her real taste if you call _catching him._ It will always </span>\n<span style=\"color: #008000; text-decoration-color: #008000\">remain-- \"\"Your promise to hope for\"</span> \n <span style=\"color: #008080; text-decoration-color: #008080; font-weight: bold\">2</span> <span style=\"color: #008080; text-decoration-color: #008080; font-weight: bold\">1</span>\n</pre>\n"
     },
     "metadata": {}
    },
    {
     "output_type": "display_data",
     "data": {
      "text/plain": "Don;t forget to go the CVS tomorrow and get the Viagara. We both know you need all the \nencouragement you can get!!!Dreams and Visions boo:\u001b[1m(\u001b[0m \n \u001b[1;36m1\u001b[0m \u001b[1;36m2\u001b[0m\n",
      "text/html": "<pre style=\"white-space:pre;overflow-x:auto;line-height:normal;font-family:Menlo,'DejaVu Sans Mono',consolas,'Courier New',monospace\">Don;t forget to go the CVS tomorrow and get the Viagara. We both know you need all the \nencouragement you can get!!!Dreams and Visions boo:<span style=\"font-weight: bold\">(</span> \n <span style=\"color: #008080; text-decoration-color: #008080; font-weight: bold\">1</span> <span style=\"color: #008080; text-decoration-color: #008080; font-weight: bold\">2</span>\n</pre>\n"
     },
     "metadata": {}
    },
    {
     "output_type": "display_data",
     "data": {
      "text/plain": "I have a ticket for sale to Ed Sheeran's Melbourne concert on the 6th of December if anyone \nis interested or knows anyone who wants one? :\u001b[1m)\u001b[0m \n \u001b[1;36m1\u001b[0m \u001b[1;36m2\u001b[0m\n",
      "text/html": "<pre style=\"white-space:pre;overflow-x:auto;line-height:normal;font-family:Menlo,'DejaVu Sans Mono',consolas,'Courier New',monospace\">I have a ticket for sale to Ed Sheeran's Melbourne concert on the 6th of December if anyone \nis interested or knows anyone who wants one? :<span style=\"font-weight: bold\">)</span> \n <span style=\"color: #008080; text-decoration-color: #008080; font-weight: bold\">1</span> <span style=\"color: #008080; text-decoration-color: #008080; font-weight: bold\">2</span>\n</pre>\n"
     },
     "metadata": {}
    },
    {
     "output_type": "display_data",
     "data": {
      "text/plain": "\u001b[32m\"Two cans of Red Bull may give you x-ray vision, but five cans give you the ability to hear \u001b[0m\n\u001b[32moxygen.\"\u001b[0m \n \u001b[1;36m2\u001b[0m \u001b[1;36m1\u001b[0m\n",
      "text/html": "<pre style=\"white-space:pre;overflow-x:auto;line-height:normal;font-family:Menlo,'DejaVu Sans Mono',consolas,'Courier New',monospace\"><span style=\"color: #008000; text-decoration-color: #008000\">\"Two cans of Red Bull may give you x-ray vision, but five cans give you the ability to hear </span>\n<span style=\"color: #008000; text-decoration-color: #008000\">oxygen.\"</span> \n <span style=\"color: #008080; text-decoration-color: #008080; font-weight: bold\">2</span> <span style=\"color: #008080; text-decoration-color: #008080; font-weight: bold\">1</span>\n</pre>\n"
     },
     "metadata": {}
    },
    {
     "output_type": "display_data",
     "data": {
      "text/plain": "You lot may want to mute or unfollow for the next goodness knows how long this Apple event is\ngoing to last.  I fear a rant may come on. \n \u001b[1;36m1\u001b[0m \u001b[1;36m0\u001b[0m\n",
      "text/html": "<pre style=\"white-space:pre;overflow-x:auto;line-height:normal;font-family:Menlo,'DejaVu Sans Mono',consolas,'Courier New',monospace\">You lot may want to mute or unfollow for the next goodness knows how long this Apple event is\ngoing to last.  I fear a rant may come on. \n <span style=\"color: #008080; text-decoration-color: #008080; font-weight: bold\">1</span> <span style=\"color: #008080; text-decoration-color: #008080; font-weight: bold\">0</span>\n</pre>\n"
     },
     "metadata": {}
    },
    {
     "output_type": "display_data",
     "data": {
      "text/plain": "\"FRIDAY Get out of the cold &amp; join us at Rum Runners in Dennisport, 9pm. Then bundle up \nSATURDAY and join George &amp;\u001b[33m...\u001b[0m \n \u001b[1;36m2\u001b[0m \u001b[1;36m1\u001b[0m\n",
      "text/html": "<pre style=\"white-space:pre;overflow-x:auto;line-height:normal;font-family:Menlo,'DejaVu Sans Mono',consolas,'Courier New',monospace\">\"FRIDAY Get out of the cold &amp;amp; join us at Rum Runners in Dennisport, 9pm. Then bundle up \nSATURDAY and join George &amp;amp;<span style=\"color: #808000; text-decoration-color: #808000\">...</span> \n <span style=\"color: #008080; text-decoration-color: #008080; font-weight: bold\">2</span> <span style=\"color: #008080; text-decoration-color: #008080; font-weight: bold\">1</span>\n</pre>\n"
     },
     "metadata": {}
    },
    {
     "output_type": "display_data",
     "data": {
      "text/plain": "I have an issue driving slow. So im gonna try to make it from AZ to LV in \u001b[1;36m3\u001b[0m hrs. Tomorrow. \n \u001b[1;36m1\u001b[0m \u001b[1;36m0\u001b[0m\n",
      "text/html": "<pre style=\"white-space:pre;overflow-x:auto;line-height:normal;font-family:Menlo,'DejaVu Sans Mono',consolas,'Courier New',monospace\">I have an issue driving slow. So im gonna try to make it from AZ to LV in <span style=\"color: #008080; text-decoration-color: #008080; font-weight: bold\">3</span> hrs. Tomorrow. \n <span style=\"color: #008080; text-decoration-color: #008080; font-weight: bold\">1</span> <span style=\"color: #008080; text-decoration-color: #008080; font-weight: bold\">0</span>\n</pre>\n"
     },
     "metadata": {}
    },
    {
     "output_type": "display_data",
     "data": {
      "text/plain": "Tomorrow @ 5pm in GSC buy tickets to Ed Sheeran in concert at Riverbend on \u001b[1;36m9\u001b[0m/\u001b[1;36m17\u001b[0m. Tickets are \n$\u001b[1;36m20\u001b[0m cash. See you there! \n \u001b[1;36m2\u001b[0m \u001b[1;36m1\u001b[0m\n",
      "text/html": "<pre style=\"white-space:pre;overflow-x:auto;line-height:normal;font-family:Menlo,'DejaVu Sans Mono',consolas,'Courier New',monospace\">Tomorrow @ 5pm in GSC buy tickets to Ed Sheeran in concert at Riverbend on <span style=\"color: #008080; text-decoration-color: #008080; font-weight: bold\">9</span>/<span style=\"color: #008080; text-decoration-color: #008080; font-weight: bold\">17</span>. Tickets are \n$<span style=\"color: #008080; text-decoration-color: #008080; font-weight: bold\">20</span> cash. See you there! \n <span style=\"color: #008080; text-decoration-color: #008080; font-weight: bold\">2</span> <span style=\"color: #008080; text-decoration-color: #008080; font-weight: bold\">1</span>\n</pre>\n"
     },
     "metadata": {}
    },
    {
     "output_type": "display_data",
     "data": {
      "text/plain": "Presidency: Military may wipe out Boko Haram insurgents ahead deadline: The Nigeria military \ncould wipe the in\u001b[33m...\u001b[0m \n \u001b[1;36m2\u001b[0m \u001b[1;36m1\u001b[0m\n",
      "text/html": "<pre style=\"white-space:pre;overflow-x:auto;line-height:normal;font-family:Menlo,'DejaVu Sans Mono',consolas,'Courier New',monospace\">Presidency: Military may wipe out Boko Haram insurgents ahead deadline: The Nigeria military \ncould wipe the in<span style=\"color: #808000; text-decoration-color: #808000\">...</span> \n <span style=\"color: #008080; text-decoration-color: #008080; font-weight: bold\">2</span> <span style=\"color: #008080; text-decoration-color: #008080; font-weight: bold\">1</span>\n</pre>\n"
     },
     "metadata": {}
    },
    {
     "output_type": "display_data",
     "data": {
      "text/plain": "\u001b[32m\"Five weeks of intense rehearsals almost complete! Last rehearsal day tomorrow before the \u001b[0m\n\u001b[32mJBSA cast travels to Singapore! \\\"\"\u001b[0mTake a bow!!\" \n \u001b[1;36m2\u001b[0m \u001b[1;36m1\u001b[0m\n",
      "text/html": "<pre style=\"white-space:pre;overflow-x:auto;line-height:normal;font-family:Menlo,'DejaVu Sans Mono',consolas,'Courier New',monospace\"><span style=\"color: #008000; text-decoration-color: #008000\">\"Five weeks of intense rehearsals almost complete! Last rehearsal day tomorrow before the </span>\n<span style=\"color: #008000; text-decoration-color: #008000\">JBSA cast travels to Singapore! \\\"\"</span>Take a bow!!\" \n <span style=\"color: #008080; text-decoration-color: #008080; font-weight: bold\">2</span> <span style=\"color: #008080; text-decoration-color: #008080; font-weight: bold\">1</span>\n</pre>\n"
     },
     "metadata": {}
    },
    {
     "output_type": "display_data",
     "data": {
      "text/plain": "@user @user If it\\u2019s the Iowa vs. Indiana game\\u002c we may be the only two there! \n#TicketsAreProbablyFree \n \u001b[1;36m1\u001b[0m \u001b[1;36m2\u001b[0m\n",
      "text/html": "<pre style=\"white-space:pre;overflow-x:auto;line-height:normal;font-family:Menlo,'DejaVu Sans Mono',consolas,'Courier New',monospace\">@user @user If it\\u2019s the Iowa vs. Indiana game\\u002c we may be the only two there! \n#TicketsAreProbablyFree \n <span style=\"color: #008080; text-decoration-color: #008080; font-weight: bold\">1</span> <span style=\"color: #008080; text-decoration-color: #008080; font-weight: bold\">2</span>\n</pre>\n"
     },
     "metadata": {}
    },
    {
     "output_type": "display_data",
     "data": {
      "text/plain": "I just want tomorrow to be here so I can see Jurassic World again \n \u001b[1;36m1\u001b[0m \u001b[1;36m2\u001b[0m\n",
      "text/html": "<pre style=\"white-space:pre;overflow-x:auto;line-height:normal;font-family:Menlo,'DejaVu Sans Mono',consolas,'Courier New',monospace\">I just want tomorrow to be here so I can see Jurassic World again \n <span style=\"color: #008080; text-decoration-color: #008080; font-weight: bold\">1</span> <span style=\"color: #008080; text-decoration-color: #008080; font-weight: bold\">2</span>\n</pre>\n"
     },
     "metadata": {}
    },
    {
     "output_type": "display_data",
     "data": {
      "text/plain": "I just offered to bring someone Taco Bell for lunch tomorrow & they denied me #WhoDoesThat!? \nYou should always accept Taco Bell! #Always \n \u001b[1;36m0\u001b[0m \u001b[1;36m1\u001b[0m\n",
      "text/html": "<pre style=\"white-space:pre;overflow-x:auto;line-height:normal;font-family:Menlo,'DejaVu Sans Mono',consolas,'Courier New',monospace\">I just offered to bring someone Taco Bell for lunch tomorrow &amp; they denied me #WhoDoesThat!? \nYou should always accept Taco Bell! #Always \n <span style=\"color: #008080; text-decoration-color: #008080; font-weight: bold\">0</span> <span style=\"color: #008080; text-decoration-color: #008080; font-weight: bold\">1</span>\n</pre>\n"
     },
     "metadata": {}
    },
    {
     "output_type": "display_data",
     "data": {
      "text/plain": "@user noooo like he sang that song! The 1st op of naruto! \n \u001b[1;36m2\u001b[0m \u001b[1;36m1\u001b[0m\n",
      "text/html": "<pre style=\"white-space:pre;overflow-x:auto;line-height:normal;font-family:Menlo,'DejaVu Sans Mono',consolas,'Courier New',monospace\">@user noooo like he sang that song! The 1st op of naruto! \n <span style=\"color: #008080; text-decoration-color: #008080; font-weight: bold\">2</span> <span style=\"color: #008080; text-decoration-color: #008080; font-weight: bold\">1</span>\n</pre>\n"
     },
     "metadata": {}
    },
    {
     "output_type": "display_data",
     "data": {
      "text/plain": "If you're coming to Snoop Dogg this Saturday, please screenshot your receipt. If it's \npurchased today, YOU GET\u001b[33m...\u001b[0m \n \u001b[1;36m2\u001b[0m \u001b[1;36m1\u001b[0m\n",
      "text/html": "<pre style=\"white-space:pre;overflow-x:auto;line-height:normal;font-family:Menlo,'DejaVu Sans Mono',consolas,'Courier New',monospace\">If you're coming to Snoop Dogg this Saturday, please screenshot your receipt. If it's \npurchased today, YOU GET<span style=\"color: #808000; text-decoration-color: #808000\">...</span> \n <span style=\"color: #008080; text-decoration-color: #008080; font-weight: bold\">2</span> <span style=\"color: #008080; text-decoration-color: #008080; font-weight: bold\">1</span>\n</pre>\n"
     },
     "metadata": {}
    },
    {
     "output_type": "display_data",
     "data": {
      "text/plain": "Take Welbeck being unable for the Euros with a pinch of salt. Pretty sure we'll see him in an\nArsenal shirt come May. \n \u001b[1;36m2\u001b[0m \u001b[1;36m1\u001b[0m\n",
      "text/html": "<pre style=\"white-space:pre;overflow-x:auto;line-height:normal;font-family:Menlo,'DejaVu Sans Mono',consolas,'Courier New',monospace\">Take Welbeck being unable for the Euros with a pinch of salt. Pretty sure we'll see him in an\nArsenal shirt come May. \n <span style=\"color: #008080; text-decoration-color: #008080; font-weight: bold\">2</span> <span style=\"color: #008080; text-decoration-color: #008080; font-weight: bold\">1</span>\n</pre>\n"
     },
     "metadata": {}
    },
    {
     "output_type": "display_data",
     "data": {
      "text/plain": "In this second time I've watched Ant-Man and this time I was the only one that stayed for the\n2nd after credits scene \n \u001b[1;36m1\u001b[0m \u001b[1;36m2\u001b[0m\n",
      "text/html": "<pre style=\"white-space:pre;overflow-x:auto;line-height:normal;font-family:Menlo,'DejaVu Sans Mono',consolas,'Courier New',monospace\">In this second time I've watched Ant-Man and this time I was the only one that stayed for the\n2nd after credits scene \n <span style=\"color: #008080; text-decoration-color: #008080; font-weight: bold\">1</span> <span style=\"color: #008080; text-decoration-color: #008080; font-weight: bold\">2</span>\n</pre>\n"
     },
     "metadata": {}
    },
    {
     "output_type": "display_data",
     "data": {
      "text/plain": "when I go to the Foo Fighters concert in October in Atlanta I'm gonna be so sad if don't get \nto meet Dave Grohl somehow \n \u001b[1;36m1\u001b[0m \u001b[1;36m0\u001b[0m\n",
      "text/html": "<pre style=\"white-space:pre;overflow-x:auto;line-height:normal;font-family:Menlo,'DejaVu Sans Mono',consolas,'Courier New',monospace\">when I go to the Foo Fighters concert in October in Atlanta I'm gonna be so sad if don't get \nto meet Dave Grohl somehow \n <span style=\"color: #008080; text-decoration-color: #008080; font-weight: bold\">1</span> <span style=\"color: #008080; text-decoration-color: #008080; font-weight: bold\">0</span>\n</pre>\n"
     },
     "metadata": {}
    },
    {
     "output_type": "display_data",
     "data": {
      "text/plain": "@user 3rd party logic dictates: \u001b[32m\"That if it makes too much sense and a Nintendo platform is \u001b[0m\n\u001b[32minvolved, it's simply not worth it!\"\u001b[0m \n \u001b[1;36m1\u001b[0m \u001b[1;36m0\u001b[0m\n",
      "text/html": "<pre style=\"white-space:pre;overflow-x:auto;line-height:normal;font-family:Menlo,'DejaVu Sans Mono',consolas,'Courier New',monospace\">@user 3rd party logic dictates: <span style=\"color: #008000; text-decoration-color: #008000\">\"That if it makes too much sense and a Nintendo platform is </span>\n<span style=\"color: #008000; text-decoration-color: #008000\">involved, it's simply not worth it!\"</span> \n <span style=\"color: #008080; text-decoration-color: #008080; font-weight: bold\">1</span> <span style=\"color: #008080; text-decoration-color: #008080; font-weight: bold\">0</span>\n</pre>\n"
     },
     "metadata": {}
    },
    {
     "output_type": "display_data",
     "data": {
      "text/plain": "@user come party with us tomorrow night in Naples Maine at Ricks cafe!! \n \u001b[1;36m1\u001b[0m \u001b[1;36m2\u001b[0m\n",
      "text/html": "<pre style=\"white-space:pre;overflow-x:auto;line-height:normal;font-family:Menlo,'DejaVu Sans Mono',consolas,'Courier New',monospace\">@user come party with us tomorrow night in Naples Maine at Ricks cafe!! \n <span style=\"color: #008080; text-decoration-color: #008080; font-weight: bold\">1</span> <span style=\"color: #008080; text-decoration-color: #008080; font-weight: bold\">2</span>\n</pre>\n"
     },
     "metadata": {}
    },
    {
     "output_type": "display_data",
     "data": {
      "text/plain": "We always mess up when we get the chance to go up the table when Atleti or Barca mess up. \nPLEASE WIN TOMORROW :\u001b[1m)\u001b[0m @user \n \u001b[1;36m2\u001b[0m \u001b[1;36m1\u001b[0m\n",
      "text/html": "<pre style=\"white-space:pre;overflow-x:auto;line-height:normal;font-family:Menlo,'DejaVu Sans Mono',consolas,'Courier New',monospace\">We always mess up when we get the chance to go up the table when Atleti or Barca mess up. \nPLEASE WIN TOMORROW :<span style=\"font-weight: bold\">)</span> @user \n <span style=\"color: #008080; text-decoration-color: #008080; font-weight: bold\">2</span> <span style=\"color: #008080; text-decoration-color: #008080; font-weight: bold\">1</span>\n</pre>\n"
     },
     "metadata": {}
    },
    {
     "output_type": "display_data",
     "data": {
      "text/plain": "date: august 11th still no sign of frank ocean's new album. the world is turning on itself. \nbuildings are burning. god refuses to comment. \n \u001b[1;36m1\u001b[0m \u001b[1;36m0\u001b[0m\n",
      "text/html": "<pre style=\"white-space:pre;overflow-x:auto;line-height:normal;font-family:Menlo,'DejaVu Sans Mono',consolas,'Courier New',monospace\">date: august 11th still no sign of frank ocean's new album. the world is turning on itself. \nbuildings are burning. god refuses to comment. \n <span style=\"color: #008080; text-decoration-color: #008080; font-weight: bold\">1</span> <span style=\"color: #008080; text-decoration-color: #008080; font-weight: bold\">0</span>\n</pre>\n"
     },
     "metadata": {}
    },
    {
     "output_type": "display_data",
     "data": {
      "text/plain": "I'm going to research this John Kasich fellow tomorrow. He has my attention. \n \u001b[1;36m1\u001b[0m \u001b[1;36m2\u001b[0m\n",
      "text/html": "<pre style=\"white-space:pre;overflow-x:auto;line-height:normal;font-family:Menlo,'DejaVu Sans Mono',consolas,'Courier New',monospace\">I'm going to research this John Kasich fellow tomorrow. He has my attention. \n <span style=\"color: #008080; text-decoration-color: #008080; font-weight: bold\">1</span> <span style=\"color: #008080; text-decoration-color: #008080; font-weight: bold\">2</span>\n</pre>\n"
     },
     "metadata": {}
    },
    {
     "output_type": "display_data",
     "data": {
      "text/plain": "UK: Chancellor Osborne try to sneak into 1st class train with standard ticket   - Breaking \nNews Buzz \n \u001b[1;36m0\u001b[0m \u001b[1;36m1\u001b[0m\n",
      "text/html": "<pre style=\"white-space:pre;overflow-x:auto;line-height:normal;font-family:Menlo,'DejaVu Sans Mono',consolas,'Courier New',monospace\">UK: Chancellor Osborne try to sneak into 1st class train with standard ticket   - Breaking \nNews Buzz \n <span style=\"color: #008080; text-decoration-color: #008080; font-weight: bold\">0</span> <span style=\"color: #008080; text-decoration-color: #008080; font-weight: bold\">1</span>\n</pre>\n"
     },
     "metadata": {}
    },
    {
     "output_type": "display_data",
     "data": {
      "text/plain": "Will this really be it for Mayweather?: LAS VEGAS: Floyd Mayweather says he will call it \nquits after Saturday'\u001b[33m...\u001b[0m \n \u001b[1;36m2\u001b[0m \u001b[1;36m1\u001b[0m\n",
      "text/html": "<pre style=\"white-space:pre;overflow-x:auto;line-height:normal;font-family:Menlo,'DejaVu Sans Mono',consolas,'Courier New',monospace\">Will this really be it for Mayweather?: LAS VEGAS: Floyd Mayweather says he will call it \nquits after Saturday'<span style=\"color: #808000; text-decoration-color: #808000\">...</span> \n <span style=\"color: #008080; text-decoration-color: #008080; font-weight: bold\">2</span> <span style=\"color: #008080; text-decoration-color: #008080; font-weight: bold\">1</span>\n</pre>\n"
     },
     "metadata": {}
    },
    {
     "output_type": "display_data",
     "data": {
      "text/plain": "Wth am i supposed to do with my Thursday night with no Grey\\u2019s nor Scandal?! \n \u001b[1;36m1\u001b[0m \u001b[1;36m0\u001b[0m\n",
      "text/html": "<pre style=\"white-space:pre;overflow-x:auto;line-height:normal;font-family:Menlo,'DejaVu Sans Mono',consolas,'Courier New',monospace\">Wth am i supposed to do with my Thursday night with no Grey\\u2019s nor Scandal?! \n <span style=\"color: #008080; text-decoration-color: #008080; font-weight: bold\">1</span> <span style=\"color: #008080; text-decoration-color: #008080; font-weight: bold\">0</span>\n</pre>\n"
     },
     "metadata": {}
    },
    {
     "output_type": "display_data",
     "data": {
      "text/plain": "@user Olivia and I were so confused Curtis was going to be THE move tomorrow \n \u001b[1;36m0\u001b[0m \u001b[1;36m1\u001b[0m\n",
      "text/html": "<pre style=\"white-space:pre;overflow-x:auto;line-height:normal;font-family:Menlo,'DejaVu Sans Mono',consolas,'Courier New',monospace\">@user Olivia and I were so confused Curtis was going to be THE move tomorrow \n <span style=\"color: #008080; text-decoration-color: #008080; font-weight: bold\">0</span> <span style=\"color: #008080; text-decoration-color: #008080; font-weight: bold\">1</span>\n</pre>\n"
     },
     "metadata": {}
    },
    {
     "output_type": "display_data",
     "data": {
      "text/plain": "\"Kevin Sullivan talks about nWo ceding power to Hulk Hogan, Greg Valentine accidentally \nknocking himself out and more! \n \u001b[1;36m2\u001b[0m \u001b[1;36m1\u001b[0m\n",
      "text/html": "<pre style=\"white-space:pre;overflow-x:auto;line-height:normal;font-family:Menlo,'DejaVu Sans Mono',consolas,'Courier New',monospace\">\"Kevin Sullivan talks about nWo ceding power to Hulk Hogan, Greg Valentine accidentally \nknocking himself out and more! \n <span style=\"color: #008080; text-decoration-color: #008080; font-weight: bold\">2</span> <span style=\"color: #008080; text-decoration-color: #008080; font-weight: bold\">1</span>\n</pre>\n"
     },
     "metadata": {}
    },
    {
     "output_type": "display_data",
     "data": {
      "text/plain": "Not to be overlooked by Sandy\\u002c a summery mid-upper 70s with sunshine today in CNY. \nRecord high of \u001b[1;36m79\u001b[0m set in Buffalo. More warmth Friday! \n \u001b[1;36m1\u001b[0m \u001b[1;36m2\u001b[0m\n",
      "text/html": "<pre style=\"white-space:pre;overflow-x:auto;line-height:normal;font-family:Menlo,'DejaVu Sans Mono',consolas,'Courier New',monospace\">Not to be overlooked by Sandy\\u002c a summery mid-upper 70s with sunshine today in CNY. \nRecord high of <span style=\"color: #008080; text-decoration-color: #008080; font-weight: bold\">79</span> set in Buffalo. More warmth Friday! \n <span style=\"color: #008080; text-decoration-color: #008080; font-weight: bold\">1</span> <span style=\"color: #008080; text-decoration-color: #008080; font-weight: bold\">2</span>\n</pre>\n"
     },
     "metadata": {}
    },
    {
     "output_type": "display_data",
     "data": {
      "text/plain": "\u001b[32m\"In the history of Tae Kwon Do, Chuck Norris was the first person from the West to be ranked \u001b[0m\n\u001b[32ma 8th Degree Black Belt Grand Master.\"\u001b[0m \n \u001b[1;36m2\u001b[0m \u001b[1;36m1\u001b[0m\n",
      "text/html": "<pre style=\"white-space:pre;overflow-x:auto;line-height:normal;font-family:Menlo,'DejaVu Sans Mono',consolas,'Courier New',monospace\"><span style=\"color: #008000; text-decoration-color: #008000\">\"In the history of Tae Kwon Do, Chuck Norris was the first person from the West to be ranked </span>\n<span style=\"color: #008000; text-decoration-color: #008000\">a 8th Degree Black Belt Grand Master.\"</span> \n <span style=\"color: #008080; text-decoration-color: #008080; font-weight: bold\">2</span> <span style=\"color: #008080; text-decoration-color: #008080; font-weight: bold\">1</span>\n</pre>\n"
     },
     "metadata": {}
    },
    {
     "output_type": "display_data",
     "data": {
      "text/plain": "Ebola nurse may have been sick before taking the plane \n \u001b[1;36m1\u001b[0m \u001b[1;36m0\u001b[0m\n",
      "text/html": "<pre style=\"white-space:pre;overflow-x:auto;line-height:normal;font-family:Menlo,'DejaVu Sans Mono',consolas,'Courier New',monospace\">Ebola nurse may have been sick before taking the plane \n <span style=\"color: #008080; text-decoration-color: #008080; font-weight: bold\">1</span> <span style=\"color: #008080; text-decoration-color: #008080; font-weight: bold\">0</span>\n</pre>\n"
     },
     "metadata": {}
    },
    {
     "output_type": "display_data",
     "data": {
      "text/plain": "With a 2nd-rd TKO, Conor McGregor backed up the talk vs Chad Mendes &amp; won the interim \nfeatherweight title at #UFC189. \n \u001b[1;36m2\u001b[0m \u001b[1;36m1\u001b[0m\n",
      "text/html": "<pre style=\"white-space:pre;overflow-x:auto;line-height:normal;font-family:Menlo,'DejaVu Sans Mono',consolas,'Courier New',monospace\">With a 2nd-rd TKO, Conor McGregor backed up the talk vs Chad Mendes &amp;amp; won the interim \nfeatherweight title at #UFC189. \n <span style=\"color: #008080; text-decoration-color: #008080; font-weight: bold\">2</span> <span style=\"color: #008080; text-decoration-color: #008080; font-weight: bold\">1</span>\n</pre>\n"
     },
     "metadata": {}
    },
    {
     "output_type": "display_data",
     "data": {
      "text/plain": "Wondering About Carly Fiorina on the 2nd Amendment? Wonder No More. Trump has supported gun \ncontrol. #Carly4President \n \u001b[1;36m2\u001b[0m \u001b[1;36m1\u001b[0m\n",
      "text/html": "<pre style=\"white-space:pre;overflow-x:auto;line-height:normal;font-family:Menlo,'DejaVu Sans Mono',consolas,'Courier New',monospace\">Wondering About Carly Fiorina on the 2nd Amendment? Wonder No More. Trump has supported gun \ncontrol. #Carly4President \n <span style=\"color: #008080; text-decoration-color: #008080; font-weight: bold\">2</span> <span style=\"color: #008080; text-decoration-color: #008080; font-weight: bold\">1</span>\n</pre>\n"
     },
     "metadata": {}
    },
    {
     "output_type": "display_data",
     "data": {
      "text/plain": "I've said all along and still staunchly maintain that the Paris attacks: Charlie Hebdo and \nthe \u001b[1;36m13\u001b[0m November \u001b[1;36m2015\u001b[0m one were both Gladio style \n \u001b[1;36m0\u001b[0m \u001b[1;36m1\u001b[0m\n",
      "text/html": "<pre style=\"white-space:pre;overflow-x:auto;line-height:normal;font-family:Menlo,'DejaVu Sans Mono',consolas,'Courier New',monospace\">I've said all along and still staunchly maintain that the Paris attacks: Charlie Hebdo and \nthe <span style=\"color: #008080; text-decoration-color: #008080; font-weight: bold\">13</span> November <span style=\"color: #008080; text-decoration-color: #008080; font-weight: bold\">2015</span> one were both Gladio style \n <span style=\"color: #008080; text-decoration-color: #008080; font-weight: bold\">0</span> <span style=\"color: #008080; text-decoration-color: #008080; font-weight: bold\">1</span>\n</pre>\n"
     },
     "metadata": {}
    },
    {
     "output_type": "display_data",
     "data": {
      "text/plain": "Peru Wants 1D World Tour let's go trending trending trending till we see the sun \n \u001b[1;36m1\u001b[0m \u001b[1;36m2\u001b[0m\n",
      "text/html": "<pre style=\"white-space:pre;overflow-x:auto;line-height:normal;font-family:Menlo,'DejaVu Sans Mono',consolas,'Courier New',monospace\">Peru Wants 1D World Tour let's go trending trending trending till we see the sun \n <span style=\"color: #008080; text-decoration-color: #008080; font-weight: bold\">1</span> <span style=\"color: #008080; text-decoration-color: #008080; font-weight: bold\">2</span>\n</pre>\n"
     },
     "metadata": {}
    },
    {
     "output_type": "display_data",
     "data": {
      "text/plain": "I am tweeting this video I found as a tribute to George Harrison because today is the 14th \nanniversary of his death: \n \u001b[1;36m2\u001b[0m \u001b[1;36m1\u001b[0m\n",
      "text/html": "<pre style=\"white-space:pre;overflow-x:auto;line-height:normal;font-family:Menlo,'DejaVu Sans Mono',consolas,'Courier New',monospace\">I am tweeting this video I found as a tribute to George Harrison because today is the 14th \nanniversary of his death: \n <span style=\"color: #008080; text-decoration-color: #008080; font-weight: bold\">2</span> <span style=\"color: #008080; text-decoration-color: #008080; font-weight: bold\">1</span>\n</pre>\n"
     },
     "metadata": {}
    },
    {
     "output_type": "display_data",
     "data": {
      "text/plain": "\u001b[32m\"Tomorrow's Charlie Hebdo:  \"\u001b[0m\u001b[32m\"They have weapons. Screw them, we have champagne!\"\u001b[0m\"  The spirit\nof the French is strong. \n \u001b[1;36m2\u001b[0m \u001b[1;36m1\u001b[0m\n",
      "text/html": "<pre style=\"white-space:pre;overflow-x:auto;line-height:normal;font-family:Menlo,'DejaVu Sans Mono',consolas,'Courier New',monospace\"><span style=\"color: #008000; text-decoration-color: #008000\">\"Tomorrow's Charlie Hebdo:  \"\"They have weapons. Screw them, we have champagne!\"</span>\"  The spirit\nof the French is strong. \n <span style=\"color: #008080; text-decoration-color: #008080; font-weight: bold\">2</span> <span style=\"color: #008080; text-decoration-color: #008080; font-weight: bold\">1</span>\n</pre>\n"
     },
     "metadata": {}
    },
    {
     "output_type": "display_data",
     "data": {
      "text/plain": "Do you guys remember that not too long ago Nicki was like one of the most hated artist.. \nDuring her Pink Friday album \n \u001b[1;36m1\u001b[0m \u001b[1;36m0\u001b[0m\n",
      "text/html": "<pre style=\"white-space:pre;overflow-x:auto;line-height:normal;font-family:Menlo,'DejaVu Sans Mono',consolas,'Courier New',monospace\">Do you guys remember that not too long ago Nicki was like one of the most hated artist.. \nDuring her Pink Friday album \n <span style=\"color: #008080; text-decoration-color: #008080; font-weight: bold\">1</span> <span style=\"color: #008080; text-decoration-color: #008080; font-weight: bold\">0</span>\n</pre>\n"
     },
     "metadata": {}
    },
    {
     "output_type": "display_data",
     "data": {
      "text/plain": "\u001b[32m\"Judging by the traffic and complaining, I think I might be best setting for Foo Fighters' \u001b[0m\n\u001b[32mMilton Keynes gig tomorrow right now\"\u001b[0m \n \u001b[1;36m0\u001b[0m \u001b[1;36m1\u001b[0m\n",
      "text/html": "<pre style=\"white-space:pre;overflow-x:auto;line-height:normal;font-family:Menlo,'DejaVu Sans Mono',consolas,'Courier New',monospace\"><span style=\"color: #008000; text-decoration-color: #008000\">\"Judging by the traffic and complaining, I think I might be best setting for Foo Fighters' </span>\n<span style=\"color: #008000; text-decoration-color: #008000\">Milton Keynes gig tomorrow right now\"</span> \n <span style=\"color: #008080; text-decoration-color: #008080; font-weight: bold\">0</span> <span style=\"color: #008080; text-decoration-color: #008080; font-weight: bold\">1</span>\n</pre>\n"
     },
     "metadata": {}
    },
    {
     "output_type": "display_data",
     "data": {
      "text/plain": "\u001b[1;36m2017\u001b[0m Afcon qualifier: Leon Balogun major doubt for Tanzania: Super Eagles right-back Leon \nBalogun sat out the \u001b[33m...\u001b[0m \n \u001b[1;36m1\u001b[0m \u001b[1;36m0\u001b[0m\n",
      "text/html": "<pre style=\"white-space:pre;overflow-x:auto;line-height:normal;font-family:Menlo,'DejaVu Sans Mono',consolas,'Courier New',monospace\"><span style=\"color: #008080; text-decoration-color: #008080; font-weight: bold\">2017</span> Afcon qualifier: Leon Balogun major doubt for Tanzania: Super Eagles right-back Leon \nBalogun sat out the <span style=\"color: #808000; text-decoration-color: #808000\">...</span> \n <span style=\"color: #008080; text-decoration-color: #008080; font-weight: bold\">1</span> <span style=\"color: #008080; text-decoration-color: #008080; font-weight: bold\">0</span>\n</pre>\n"
     },
     "metadata": {}
    },
    {
     "output_type": "display_data",
     "data": {
      "text/plain": "Chris Brown is me when me and my girl on good terms and that dude in blue in the back is when\nwe're not  \n \u001b[1;36m2\u001b[0m \u001b[1;36m1\u001b[0m\n",
      "text/html": "<pre style=\"white-space:pre;overflow-x:auto;line-height:normal;font-family:Menlo,'DejaVu Sans Mono',consolas,'Courier New',monospace\">Chris Brown is me when me and my girl on good terms and that dude in blue in the back is when\nwe're not  \n <span style=\"color: #008080; text-decoration-color: #008080; font-weight: bold\">2</span> <span style=\"color: #008080; text-decoration-color: #008080; font-weight: bold\">1</span>\n</pre>\n"
     },
     "metadata": {}
    },
    {
     "output_type": "display_data",
     "data": {
      "text/plain": "\u001b[1;36m21\u001b[0m to go for Alex Smith! #49ers MT @user Tom Brady wins AFC player of the week for the 22nd \ntime in his career\\u002c tying Peyton Manning. \n \u001b[1;36m1\u001b[0m \u001b[1;36m2\u001b[0m\n",
      "text/html": "<pre style=\"white-space:pre;overflow-x:auto;line-height:normal;font-family:Menlo,'DejaVu Sans Mono',consolas,'Courier New',monospace\"><span style=\"color: #008080; text-decoration-color: #008080; font-weight: bold\">21</span> to go for Alex Smith! #49ers MT @user Tom Brady wins AFC player of the week for the 22nd \ntime in his career\\u002c tying Peyton Manning. \n <span style=\"color: #008080; text-decoration-color: #008080; font-weight: bold\">1</span> <span style=\"color: #008080; text-decoration-color: #008080; font-weight: bold\">2</span>\n</pre>\n"
     },
     "metadata": {}
    },
    {
     "output_type": "display_data",
     "data": {
      "text/plain": "Texas is the Walk-Off State tonight. Josh Hamilton just singled in winner in 9th vs Yankees. \n \u001b[1;36m2\u001b[0m \u001b[1;36m1\u001b[0m\n",
      "text/html": "<pre style=\"white-space:pre;overflow-x:auto;line-height:normal;font-family:Menlo,'DejaVu Sans Mono',consolas,'Courier New',monospace\">Texas is the Walk-Off State tonight. Josh Hamilton just singled in winner in 9th vs Yankees. \n <span style=\"color: #008080; text-decoration-color: #008080; font-weight: bold\">2</span> <span style=\"color: #008080; text-decoration-color: #008080; font-weight: bold\">1</span>\n</pre>\n"
     },
     "metadata": {}
    },
    {
     "output_type": "display_data",
     "data": {
      "text/plain": "@user nobody wants to see you panting in the shadows over Magic Mike XXL at 2pm on a Monday. \n \u001b[1;36m1\u001b[0m \u001b[1;36m0\u001b[0m\n",
      "text/html": "<pre style=\"white-space:pre;overflow-x:auto;line-height:normal;font-family:Menlo,'DejaVu Sans Mono',consolas,'Courier New',monospace\">@user nobody wants to see you panting in the shadows over Magic Mike XXL at 2pm on a Monday. \n <span style=\"color: #008080; text-decoration-color: #008080; font-weight: bold\">1</span> <span style=\"color: #008080; text-decoration-color: #008080; font-weight: bold\">0</span>\n</pre>\n"
     },
     "metadata": {}
    },
    {
     "output_type": "display_data",
     "data": {
      "text/plain": "\u001b[32m\"Ant-Man premieres tomorrow night in Doha. A savior from the atrocity that was \"\u001b[0m\u001b[32m\"Pixels.\"\u001b[0m\u001b[32m\"\"\u001b[0m \n \u001b[1;36m2\u001b[0m \u001b[1;36m1\u001b[0m\n",
      "text/html": "<pre style=\"white-space:pre;overflow-x:auto;line-height:normal;font-family:Menlo,'DejaVu Sans Mono',consolas,'Courier New',monospace\"><span style=\"color: #008000; text-decoration-color: #008000\">\"Ant-Man premieres tomorrow night in Doha. A savior from the atrocity that was \"\"Pixels.\"\"\"</span> \n <span style=\"color: #008080; text-decoration-color: #008080; font-weight: bold\">2</span> <span style=\"color: #008080; text-decoration-color: #008080; font-weight: bold\">1</span>\n</pre>\n"
     },
     "metadata": {}
    },
    {
     "output_type": "display_data",
     "data": {
      "text/plain": "I hope Kanye West is the lead on the 3rd season of true detective. Because this script is \nwriting itself. #MTVVMAs \n \u001b[1;36m2\u001b[0m \u001b[1;36m1\u001b[0m\n",
      "text/html": "<pre style=\"white-space:pre;overflow-x:auto;line-height:normal;font-family:Menlo,'DejaVu Sans Mono',consolas,'Courier New',monospace\">I hope Kanye West is the lead on the 3rd season of true detective. Because this script is \nwriting itself. #MTVVMAs \n <span style=\"color: #008080; text-decoration-color: #008080; font-weight: bold\">2</span> <span style=\"color: #008080; text-decoration-color: #008080; font-weight: bold\">1</span>\n</pre>\n"
     },
     "metadata": {}
    },
    {
     "output_type": "display_data",
     "data": {
      "text/plain": "@user @user michael ball is incredible 10th anniversary with him and colm is sick \n \u001b[1;36m0\u001b[0m \u001b[1;36m2\u001b[0m\n",
      "text/html": "<pre style=\"white-space:pre;overflow-x:auto;line-height:normal;font-family:Menlo,'DejaVu Sans Mono',consolas,'Courier New',monospace\">@user @user michael ball is incredible 10th anniversary with him and colm is sick \n <span style=\"color: #008080; text-decoration-color: #008080; font-weight: bold\">0</span> <span style=\"color: #008080; text-decoration-color: #008080; font-weight: bold\">2</span>\n</pre>\n"
     },
     "metadata": {}
    },
    {
     "output_type": "display_data",
     "data": {
      "text/plain": "@user Front row shot of David Wright on Wednesday night in St.Lucie. Keep up the excellent \nwork, sir! \n \u001b[1;36m1\u001b[0m \u001b[1;36m2\u001b[0m\n",
      "text/html": "<pre style=\"white-space:pre;overflow-x:auto;line-height:normal;font-family:Menlo,'DejaVu Sans Mono',consolas,'Courier New',monospace\">@user Front row shot of David Wright on Wednesday night in St.Lucie. Keep up the excellent \nwork, sir! \n <span style=\"color: #008080; text-decoration-color: #008080; font-weight: bold\">1</span> <span style=\"color: #008080; text-decoration-color: #008080; font-weight: bold\">2</span>\n</pre>\n"
     },
     "metadata": {}
    },
    {
     "output_type": "display_data",
     "data": {
      "text/plain": "@user yea I went to the one at MetLife on August 5th #OTRAMETLIFE \n \u001b[1;36m1\u001b[0m \u001b[1;36m2\u001b[0m\n",
      "text/html": "<pre style=\"white-space:pre;overflow-x:auto;line-height:normal;font-family:Menlo,'DejaVu Sans Mono',consolas,'Courier New',monospace\">@user yea I went to the one at MetLife on August 5th #OTRAMETLIFE \n <span style=\"color: #008080; text-decoration-color: #008080; font-weight: bold\">1</span> <span style=\"color: #008080; text-decoration-color: #008080; font-weight: bold\">2</span>\n</pre>\n"
     },
     "metadata": {}
    },
    {
     "output_type": "display_data",
     "data": {
      "text/plain": "\u001b[32m\"Zayn dedicated his 1st solo award to the boys &amp; the boys' to Zayn :\"\u001b[0m\"\u001b[1m)\u001b[0m  \n#5monthswithoutzayn #MTVHottest One Direction \n \u001b[1;36m2\u001b[0m \u001b[1;36m1\u001b[0m\n",
      "text/html": "<pre style=\"white-space:pre;overflow-x:auto;line-height:normal;font-family:Menlo,'DejaVu Sans Mono',consolas,'Courier New',monospace\"><span style=\"color: #008000; text-decoration-color: #008000\">\"Zayn dedicated his 1st solo award to the boys &amp;amp; the boys' to Zayn :\"</span>\"<span style=\"font-weight: bold\">)</span>  \n#5monthswithoutzayn #MTVHottest One Direction \n <span style=\"color: #008080; text-decoration-color: #008080; font-weight: bold\">2</span> <span style=\"color: #008080; text-decoration-color: #008080; font-weight: bold\">1</span>\n</pre>\n"
     },
     "metadata": {}
    },
    {
     "output_type": "display_data",
     "data": {
      "text/plain": "Iran-Backed Houthis in Yemen Fire Missile Into Saudi Arabia: A missile fired from Yemen \nSaturday struck the Sa\u001b[33m...\u001b[0m  \n \u001b[1;36m0\u001b[0m \u001b[1;36m1\u001b[0m\n",
      "text/html": "<pre style=\"white-space:pre;overflow-x:auto;line-height:normal;font-family:Menlo,'DejaVu Sans Mono',consolas,'Courier New',monospace\">Iran-Backed Houthis in Yemen Fire Missile Into Saudi Arabia: A missile fired from Yemen \nSaturday struck the Sa<span style=\"color: #808000; text-decoration-color: #808000\">...</span>  \n <span style=\"color: #008080; text-decoration-color: #008080; font-weight: bold\">0</span> <span style=\"color: #008080; text-decoration-color: #008080; font-weight: bold\">1</span>\n</pre>\n"
     },
     "metadata": {}
    },
    {
     "output_type": "display_data",
     "data": {
      "text/plain": "\u001b[32m\"Hey, can you set up Apple TV so I can watch Harry Potter while I get fucked up?\"\u001b[0m --ladies \nand gentlemen, may I introduce you to my roomies! \n \u001b[1;36m0\u001b[0m \u001b[1;36m1\u001b[0m\n",
      "text/html": "<pre style=\"white-space:pre;overflow-x:auto;line-height:normal;font-family:Menlo,'DejaVu Sans Mono',consolas,'Courier New',monospace\"><span style=\"color: #008000; text-decoration-color: #008000\">\"Hey, can you set up Apple TV so I can watch Harry Potter while I get fucked up?\"</span> --ladies \nand gentlemen, may I introduce you to my roomies! \n <span style=\"color: #008080; text-decoration-color: #008080; font-weight: bold\">0</span> <span style=\"color: #008080; text-decoration-color: #008080; font-weight: bold\">1</span>\n</pre>\n"
     },
     "metadata": {}
    },
    {
     "output_type": "display_data",
     "data": {
      "text/plain": "Saudi voters elect \u001b[1;36m20\u001b[0m women candidates for the 1st time: Two women were elected in Saudi \nArabia's most conserv\u001b[33m...\u001b[0m \n \u001b[1;36m2\u001b[0m \u001b[1;36m1\u001b[0m\n",
      "text/html": "<pre style=\"white-space:pre;overflow-x:auto;line-height:normal;font-family:Menlo,'DejaVu Sans Mono',consolas,'Courier New',monospace\">Saudi voters elect <span style=\"color: #008080; text-decoration-color: #008080; font-weight: bold\">20</span> women candidates for the 1st time: Two women were elected in Saudi \nArabia's most conserv<span style=\"color: #808000; text-decoration-color: #808000\">...</span> \n <span style=\"color: #008080; text-decoration-color: #008080; font-weight: bold\">2</span> <span style=\"color: #008080; text-decoration-color: #008080; font-weight: bold\">1</span>\n</pre>\n"
     },
     "metadata": {}
    },
    {
     "output_type": "display_data",
     "data": {
      "text/plain": "Joel Obi  may miss out of the Super Eagles team to play Tanzania as reports from Torino say \nhe will undergo more tests on a thigh complaint \n \u001b[1;36m1\u001b[0m \u001b[1;36m0\u001b[0m\n",
      "text/html": "<pre style=\"white-space:pre;overflow-x:auto;line-height:normal;font-family:Menlo,'DejaVu Sans Mono',consolas,'Courier New',monospace\">Joel Obi  may miss out of the Super Eagles team to play Tanzania as reports from Torino say \nhe will undergo more tests on a thigh complaint \n <span style=\"color: #008080; text-decoration-color: #008080; font-weight: bold\">1</span> <span style=\"color: #008080; text-decoration-color: #008080; font-weight: bold\">0</span>\n</pre>\n"
     },
     "metadata": {}
    },
    {
     "output_type": "display_data",
     "data": {
      "text/plain": "One of Android fans' biggest fears about the Galaxy Note \u001b[1;36m5\u001b[0m may be unfounded * \u001b[1;36m52\u001b[0m \n \u001b[1;36m2\u001b[0m \u001b[1;36m1\u001b[0m\n",
      "text/html": "<pre style=\"white-space:pre;overflow-x:auto;line-height:normal;font-family:Menlo,'DejaVu Sans Mono',consolas,'Courier New',monospace\">One of Android fans' biggest fears about the Galaxy Note <span style=\"color: #008080; text-decoration-color: #008080; font-weight: bold\">5</span> may be unfounded * <span style=\"color: #008080; text-decoration-color: #008080; font-weight: bold\">52</span> \n <span style=\"color: #008080; text-decoration-color: #008080; font-weight: bold\">2</span> <span style=\"color: #008080; text-decoration-color: #008080; font-weight: bold\">1</span>\n</pre>\n"
     },
     "metadata": {}
    },
    {
     "output_type": "display_data",
     "data": {
      "text/plain": "@user he waited to long with lennox he should of finished him\\u002c both Klitschko\\u2019s \nseem to wait till the 6th and 7th round to finish people \n \u001b[1;36m1\u001b[0m \u001b[1;36m0\u001b[0m\n",
      "text/html": "<pre style=\"white-space:pre;overflow-x:auto;line-height:normal;font-family:Menlo,'DejaVu Sans Mono',consolas,'Courier New',monospace\">@user he waited to long with lennox he should of finished him\\u002c both Klitschko\\u2019s \nseem to wait till the 6th and 7th round to finish people \n <span style=\"color: #008080; text-decoration-color: #008080; font-weight: bold\">1</span> <span style=\"color: #008080; text-decoration-color: #008080; font-weight: bold\">0</span>\n</pre>\n"
     },
     "metadata": {}
    },
    {
     "output_type": "display_data",
     "data": {
      "text/plain": "\u001b[32m\"RT @user Went looting in Spurs last night, broke into the White Hart Lane cabinet, so left \u001b[0m\n\u001b[32mwith a pile of dust and a Gareth B ...\"\u001b[0m \n \u001b[1;36m1\u001b[0m \u001b[1;36m0\u001b[0m\n",
      "text/html": "<pre style=\"white-space:pre;overflow-x:auto;line-height:normal;font-family:Menlo,'DejaVu Sans Mono',consolas,'Courier New',monospace\"><span style=\"color: #008000; text-decoration-color: #008000\">\"RT @user Went looting in Spurs last night, broke into the White Hart Lane cabinet, so left </span>\n<span style=\"color: #008000; text-decoration-color: #008000\">with a pile of dust and a Gareth B ...\"</span> \n <span style=\"color: #008080; text-decoration-color: #008080; font-weight: bold\">1</span> <span style=\"color: #008080; text-decoration-color: #008080; font-weight: bold\">0</span>\n</pre>\n"
     },
     "metadata": {}
    },
    {
     "output_type": "display_data",
     "data": {
      "text/plain": "All my coworkers go to Brookwood. That\\u2019s the only reason I may go to the game! \n \u001b[1;36m1\u001b[0m \u001b[1;36m2\u001b[0m\n",
      "text/html": "<pre style=\"white-space:pre;overflow-x:auto;line-height:normal;font-family:Menlo,'DejaVu Sans Mono',consolas,'Courier New',monospace\">All my coworkers go to Brookwood. That\\u2019s the only reason I may go to the game! \n <span style=\"color: #008080; text-decoration-color: #008080; font-weight: bold\">1</span> <span style=\"color: #008080; text-decoration-color: #008080; font-weight: bold\">2</span>\n</pre>\n"
     },
     "metadata": {}
    },
    {
     "output_type": "display_data",
     "data": {
      "text/plain": "\u001b[32m'David Price'\u001b[0m appeared on Tuesday \u001b[1;36m4\u001b[0m at the 6th place in the Top20 of Ottawa's Trends: #trndnl\n \u001b[1;36m2\u001b[0m \u001b[1;36m1\u001b[0m\n",
      "text/html": "<pre style=\"white-space:pre;overflow-x:auto;line-height:normal;font-family:Menlo,'DejaVu Sans Mono',consolas,'Courier New',monospace\"><span style=\"color: #008000; text-decoration-color: #008000\">'David Price'</span> appeared on Tuesday <span style=\"color: #008080; text-decoration-color: #008080; font-weight: bold\">4</span> at the 6th place in the Top20 of Ottawa's Trends: #trndnl\n <span style=\"color: #008080; text-decoration-color: #008080; font-weight: bold\">2</span> <span style=\"color: #008080; text-decoration-color: #008080; font-weight: bold\">1</span>\n</pre>\n"
     },
     "metadata": {}
    },
    {
     "output_type": "display_data",
     "data": {
      "text/plain": "THE SUNDAY DAILY The Rock: Hulk Hogan's paid the price for racist rant: DWAYNE \u001b[32m'The Rock'\u001b[0m \nJohnson \u001b[1m(\u001b[0mpix\u001b[1m)\u001b[0m\u001b[33m...\u001b[0m #PrkDR \n \u001b[1;36m2\u001b[0m \u001b[1;36m1\u001b[0m\n",
      "text/html": "<pre style=\"white-space:pre;overflow-x:auto;line-height:normal;font-family:Menlo,'DejaVu Sans Mono',consolas,'Courier New',monospace\">THE SUNDAY DAILY The Rock: Hulk Hogan's paid the price for racist rant: DWAYNE <span style=\"color: #008000; text-decoration-color: #008000\">'The Rock'</span> \nJohnson <span style=\"font-weight: bold\">(</span>pix<span style=\"font-weight: bold\">)</span><span style=\"color: #808000; text-decoration-color: #808000\">...</span> #PrkDR \n <span style=\"color: #008080; text-decoration-color: #008080; font-weight: bold\">2</span> <span style=\"color: #008080; text-decoration-color: #008080; font-weight: bold\">1</span>\n</pre>\n"
     },
     "metadata": {}
    },
    {
     "output_type": "display_data",
     "data": {
      "text/plain": "Sam smith tomorrow with my little sister sure why not. LOL \n \u001b[1;36m2\u001b[0m \u001b[1;36m1\u001b[0m\n",
      "text/html": "<pre style=\"white-space:pre;overflow-x:auto;line-height:normal;font-family:Menlo,'DejaVu Sans Mono',consolas,'Courier New',monospace\">Sam smith tomorrow with my little sister sure why not. LOL \n <span style=\"color: #008080; text-decoration-color: #008080; font-weight: bold\">2</span> <span style=\"color: #008080; text-decoration-color: #008080; font-weight: bold\">1</span>\n</pre>\n"
     },
     "metadata": {}
    },
    {
     "output_type": "display_data",
     "data": {
      "text/plain": "When you remember Nash's new video with Skylynn is tomorrow \n \u001b[1;36m2\u001b[0m \u001b[1;36m1\u001b[0m\n",
      "text/html": "<pre style=\"white-space:pre;overflow-x:auto;line-height:normal;font-family:Menlo,'DejaVu Sans Mono',consolas,'Courier New',monospace\">When you remember Nash's new video with Skylynn is tomorrow \n <span style=\"color: #008080; text-decoration-color: #008080; font-weight: bold\">2</span> <span style=\"color: #008080; text-decoration-color: #008080; font-weight: bold\">1</span>\n</pre>\n"
     },
     "metadata": {}
    },
    {
     "output_type": "display_data",
     "data": {
      "text/plain": "\u001b[32m\"Well, @user may be happy that Thor is hosting SNL, but I'm looking forward to Chance the \u001b[0m\n\u001b[32mRapper.\"\u001b[0m \n \u001b[1;36m1\u001b[0m \u001b[1;36m2\u001b[0m\n",
      "text/html": "<pre style=\"white-space:pre;overflow-x:auto;line-height:normal;font-family:Menlo,'DejaVu Sans Mono',consolas,'Courier New',monospace\"><span style=\"color: #008000; text-decoration-color: #008000\">\"Well, @user may be happy that Thor is hosting SNL, but I'm looking forward to Chance the </span>\n<span style=\"color: #008000; text-decoration-color: #008000\">Rapper.\"</span> \n <span style=\"color: #008080; text-decoration-color: #008080; font-weight: bold\">1</span> <span style=\"color: #008080; text-decoration-color: #008080; font-weight: bold\">2</span>\n</pre>\n"
     },
     "metadata": {}
    },
    {
     "output_type": "display_data",
     "data": {
      "text/plain": "Im not watching them because the Red Sox vs Yankees game is on tonight for who's in first. \n \u001b[1;36m1\u001b[0m \u001b[1;36m0\u001b[0m\n",
      "text/html": "<pre style=\"white-space:pre;overflow-x:auto;line-height:normal;font-family:Menlo,'DejaVu Sans Mono',consolas,'Courier New',monospace\">Im not watching them because the Red Sox vs Yankees game is on tonight for who's in first. \n <span style=\"color: #008080; text-decoration-color: #008080; font-weight: bold\">1</span> <span style=\"color: #008080; text-decoration-color: #008080; font-weight: bold\">0</span>\n</pre>\n"
     },
     "metadata": {}
    },
    {
     "output_type": "display_data",
     "data": {
      "text/plain": "People are researching the Wolf crash to try and make SC racing safer. If anyone found his \nGoPro contact Me or Brian Sperry. It may help. \n \u001b[1;36m0\u001b[0m \u001b[1;36m1\u001b[0m\n",
      "text/html": "<pre style=\"white-space:pre;overflow-x:auto;line-height:normal;font-family:Menlo,'DejaVu Sans Mono',consolas,'Courier New',monospace\">People are researching the Wolf crash to try and make SC racing safer. If anyone found his \nGoPro contact Me or Brian Sperry. It may help. \n <span style=\"color: #008080; text-decoration-color: #008080; font-weight: bold\">0</span> <span style=\"color: #008080; text-decoration-color: #008080; font-weight: bold\">1</span>\n</pre>\n"
     },
     "metadata": {}
    },
    {
     "output_type": "display_data",
     "data": {
      "text/plain": "The sun had now completely risen\\u002c and the whole facade of Granite House became \nilluminated by its rays; but in the interior as well as on t \n \u001b[1;36m1\u001b[0m \u001b[1;36m2\u001b[0m\n",
      "text/html": "<pre style=\"white-space:pre;overflow-x:auto;line-height:normal;font-family:Menlo,'DejaVu Sans Mono',consolas,'Courier New',monospace\">The sun had now completely risen\\u002c and the whole facade of Granite House became \nilluminated by its rays; but in the interior as well as on t \n <span style=\"color: #008080; text-decoration-color: #008080; font-weight: bold\">1</span> <span style=\"color: #008080; text-decoration-color: #008080; font-weight: bold\">2</span>\n</pre>\n"
     },
     "metadata": {}
    },
    {
     "output_type": "display_data",
     "data": {
      "text/plain": "@user \u001b[32m\"We are the 1st generation 2 feel the impact of climate change &amp; the last that can \u001b[0m\n\u001b[32mdo something about it\"\u001b[0m Obama \n \u001b[1;36m2\u001b[0m \u001b[1;36m1\u001b[0m\n",
      "text/html": "<pre style=\"white-space:pre;overflow-x:auto;line-height:normal;font-family:Menlo,'DejaVu Sans Mono',consolas,'Courier New',monospace\">@user <span style=\"color: #008000; text-decoration-color: #008000\">\"We are the 1st generation 2 feel the impact of climate change &amp;amp; the last that can </span>\n<span style=\"color: #008000; text-decoration-color: #008000\">do something about it\"</span> Obama \n <span style=\"color: #008080; text-decoration-color: #008080; font-weight: bold\">2</span> <span style=\"color: #008080; text-decoration-color: #008080; font-weight: bold\">1</span>\n</pre>\n"
     },
     "metadata": {}
    },
    {
     "output_type": "display_data",
     "data": {
      "text/plain": "Federer beats Murray \u001b[1;36m6\u001b[0m-\u001b[1;36m4\u001b[0m, \u001b[1;36m7\u001b[0m-\u001b[1;35m6\u001b[0m\u001b[1m(\u001b[0m\u001b[1;36m6\u001b[0m\u001b[1m)\u001b[0m to reach #CincyTennis final. He'll be going for his 7th \ntitle vs Novak Djokovic, who is going for his first \n \u001b[1;36m2\u001b[0m \u001b[1;36m1\u001b[0m\n",
      "text/html": "<pre style=\"white-space:pre;overflow-x:auto;line-height:normal;font-family:Menlo,'DejaVu Sans Mono',consolas,'Courier New',monospace\">Federer beats Murray <span style=\"color: #008080; text-decoration-color: #008080; font-weight: bold\">6</span>-<span style=\"color: #008080; text-decoration-color: #008080; font-weight: bold\">4</span>, <span style=\"color: #008080; text-decoration-color: #008080; font-weight: bold\">7</span>-<span style=\"color: #800080; text-decoration-color: #800080; font-weight: bold\">6</span><span style=\"font-weight: bold\">(</span><span style=\"color: #008080; text-decoration-color: #008080; font-weight: bold\">6</span><span style=\"font-weight: bold\">)</span> to reach #CincyTennis final. He'll be going for his 7th \ntitle vs Novak Djokovic, who is going for his first \n <span style=\"color: #008080; text-decoration-color: #008080; font-weight: bold\">2</span> <span style=\"color: #008080; text-decoration-color: #008080; font-weight: bold\">1</span>\n</pre>\n"
     },
     "metadata": {}
    },
    {
     "output_type": "display_data",
     "data": {
      "text/plain": "I'm not ready for this 5th album. I wasn't even able to handle Niall and Louis and Liam's \ntweets yesterday about the rumors \n \u001b[1;36m1\u001b[0m \u001b[1;36m0\u001b[0m\n",
      "text/html": "<pre style=\"white-space:pre;overflow-x:auto;line-height:normal;font-family:Menlo,'DejaVu Sans Mono',consolas,'Courier New',monospace\">I'm not ready for this 5th album. I wasn't even able to handle Niall and Louis and Liam's \ntweets yesterday about the rumors \n <span style=\"color: #008080; text-decoration-color: #008080; font-weight: bold\">1</span> <span style=\"color: #008080; text-decoration-color: #008080; font-weight: bold\">0</span>\n</pre>\n"
     },
     "metadata": {}
    },
    {
     "output_type": "display_data",
     "data": {
      "text/plain": "Do I go to the Colombia game on Wednesday to see James Rodriguez\u001b[33m...\u001b[0m. #nah #fuckzuniga \n \u001b[1;36m1\u001b[0m \u001b[1;36m0\u001b[0m\n",
      "text/html": "<pre style=\"white-space:pre;overflow-x:auto;line-height:normal;font-family:Menlo,'DejaVu Sans Mono',consolas,'Courier New',monospace\">Do I go to the Colombia game on Wednesday to see James Rodriguez<span style=\"color: #808000; text-decoration-color: #808000\">...</span>. #nah #fuckzuniga \n <span style=\"color: #008080; text-decoration-color: #008080; font-weight: bold\">1</span> <span style=\"color: #008080; text-decoration-color: #008080; font-weight: bold\">0</span>\n</pre>\n"
     },
     "metadata": {}
    },
    {
     "output_type": "display_data",
     "data": {
      "text/plain": "Men\\u2019s Club Basketball game AT GONZAGA in the Rudolph Fitness Center Court \u001b[1;36m1\u001b[0m on \nMonday\\u002c November 5th at \u001b[1;92m8:15\u001b[0mpm!!! Spread the word people! \n \u001b[1;36m2\u001b[0m \u001b[1;36m1\u001b[0m\n",
      "text/html": "<pre style=\"white-space:pre;overflow-x:auto;line-height:normal;font-family:Menlo,'DejaVu Sans Mono',consolas,'Courier New',monospace\">Men\\u2019s Club Basketball game AT GONZAGA in the Rudolph Fitness Center Court <span style=\"color: #008080; text-decoration-color: #008080; font-weight: bold\">1</span> on \nMonday\\u002c November 5th at <span style=\"color: #00ff00; text-decoration-color: #00ff00; font-weight: bold\">8:15</span>pm!!! Spread the word people! \n <span style=\"color: #008080; text-decoration-color: #008080; font-weight: bold\">2</span> <span style=\"color: #008080; text-decoration-color: #008080; font-weight: bold\">1</span>\n</pre>\n"
     },
     "metadata": {}
    },
    {
     "output_type": "display_data",
     "data": {
      "text/plain": "Chargers may go \u001b[1;36m8\u001b[0m-\u001b[1;36m8\u001b[0m but that will make playoffs in AFC\u001b[33m...\u001b[0m NFC teams must win \u001b[1;36m10\u001b[0m games! Fact! \n@user @user @user @user \n \u001b[1;36m1\u001b[0m \u001b[1;36m2\u001b[0m\n",
      "text/html": "<pre style=\"white-space:pre;overflow-x:auto;line-height:normal;font-family:Menlo,'DejaVu Sans Mono',consolas,'Courier New',monospace\">Chargers may go <span style=\"color: #008080; text-decoration-color: #008080; font-weight: bold\">8</span>-<span style=\"color: #008080; text-decoration-color: #008080; font-weight: bold\">8</span> but that will make playoffs in AFC<span style=\"color: #808000; text-decoration-color: #808000\">...</span> NFC teams must win <span style=\"color: #008080; text-decoration-color: #008080; font-weight: bold\">10</span> games! Fact! \n@user @user @user @user \n <span style=\"color: #008080; text-decoration-color: #008080; font-weight: bold\">1</span> <span style=\"color: #008080; text-decoration-color: #008080; font-weight: bold\">2</span>\n</pre>\n"
     },
     "metadata": {}
    },
    {
     "output_type": "display_data",
     "data": {
      "text/plain": "My background on my phone is this totally hot pic of Jennifer Aniston when she was like in \nthe 3rd or 4th season of friends. \n \u001b[1;36m1\u001b[0m \u001b[1;36m2\u001b[0m\n",
      "text/html": "<pre style=\"white-space:pre;overflow-x:auto;line-height:normal;font-family:Menlo,'DejaVu Sans Mono',consolas,'Courier New',monospace\">My background on my phone is this totally hot pic of Jennifer Aniston when she was like in \nthe 3rd or 4th season of friends. \n <span style=\"color: #008080; text-decoration-color: #008080; font-weight: bold\">1</span> <span style=\"color: #008080; text-decoration-color: #008080; font-weight: bold\">2</span>\n</pre>\n"
     },
     "metadata": {}
    },
    {
     "output_type": "display_data",
     "data": {
      "text/plain": "Hey @user please RT, running GNR on Sunday, anyone got suggestions for good running songs.  \nNeed to update the iPod. \n \u001b[1;36m2\u001b[0m \u001b[1;36m1\u001b[0m\n",
      "text/html": "<pre style=\"white-space:pre;overflow-x:auto;line-height:normal;font-family:Menlo,'DejaVu Sans Mono',consolas,'Courier New',monospace\">Hey @user please RT, running GNR on Sunday, anyone got suggestions for good running songs.  \nNeed to update the iPod. \n <span style=\"color: #008080; text-decoration-color: #008080; font-weight: bold\">2</span> <span style=\"color: #008080; text-decoration-color: #008080; font-weight: bold\">1</span>\n</pre>\n"
     },
     "metadata": {}
    },
    {
     "output_type": "display_data",
     "data": {
      "text/plain": "Liberal group tags Bobby Jindal as \u001b[32m'anchor baby'\u001b[0m pants on fire,both citizens before he was \u001b[1;36m21\u001b[0m\n \u001b[1;36m1\u001b[0m \u001b[1;36m0\u001b[0m\n",
      "text/html": "<pre style=\"white-space:pre;overflow-x:auto;line-height:normal;font-family:Menlo,'DejaVu Sans Mono',consolas,'Courier New',monospace\">Liberal group tags Bobby Jindal as <span style=\"color: #008000; text-decoration-color: #008000\">'anchor baby'</span> pants on fire,both citizens before he was <span style=\"color: #008080; text-decoration-color: #008080; font-weight: bold\">21</span>\n <span style=\"color: #008080; text-decoration-color: #008080; font-weight: bold\">1</span> <span style=\"color: #008080; text-decoration-color: #008080; font-weight: bold\">0</span>\n</pre>\n"
     },
     "metadata": {}
    },
    {
     "output_type": "display_data",
     "data": {
      "text/plain": "Northern Ireland \u001b[1;36m1\u001b[0m-\u001b[1;36m0\u001b[0m England: The night Windsor Park blew David Beckham away: In the \naftermath maybe, just may\u001b[33m...\u001b[0m \n \u001b[1;36m2\u001b[0m \u001b[1;36m1\u001b[0m\n",
      "text/html": "<pre style=\"white-space:pre;overflow-x:auto;line-height:normal;font-family:Menlo,'DejaVu Sans Mono',consolas,'Courier New',monospace\">Northern Ireland <span style=\"color: #008080; text-decoration-color: #008080; font-weight: bold\">1</span>-<span style=\"color: #008080; text-decoration-color: #008080; font-weight: bold\">0</span> England: The night Windsor Park blew David Beckham away: In the \naftermath maybe, just may<span style=\"color: #808000; text-decoration-color: #808000\">...</span> \n <span style=\"color: #008080; text-decoration-color: #008080; font-weight: bold\">2</span> <span style=\"color: #008080; text-decoration-color: #008080; font-weight: bold\">1</span>\n</pre>\n"
     },
     "metadata": {}
    },
    {
     "output_type": "display_data",
     "data": {
      "text/plain": "I think I may have spent too much on Carmelo Anthony. I only hope that his thick-framed black\nglasses will console me in the post-season. \n \u001b[1;36m0\u001b[0m \u001b[1;36m1\u001b[0m\n",
      "text/html": "<pre style=\"white-space:pre;overflow-x:auto;line-height:normal;font-family:Menlo,'DejaVu Sans Mono',consolas,'Courier New',monospace\">I think I may have spent too much on Carmelo Anthony. I only hope that his thick-framed black\nglasses will console me in the post-season. \n <span style=\"color: #008080; text-decoration-color: #008080; font-weight: bold\">0</span> <span style=\"color: #008080; text-decoration-color: #008080; font-weight: bold\">1</span>\n</pre>\n"
     },
     "metadata": {}
    },
    {
     "output_type": "display_data",
     "data": {
      "text/plain": "@user @user Yahweh willing, may all the Jews of the world reunite in Israel and find their \nstay. Jewry migration today.\" \n \u001b[1;36m2\u001b[0m \u001b[1;36m1\u001b[0m\n",
      "text/html": "<pre style=\"white-space:pre;overflow-x:auto;line-height:normal;font-family:Menlo,'DejaVu Sans Mono',consolas,'Courier New',monospace\">@user @user Yahweh willing, may all the Jews of the world reunite in Israel and find their \nstay. Jewry migration today.\" \n <span style=\"color: #008080; text-decoration-color: #008080; font-weight: bold\">2</span> <span style=\"color: #008080; text-decoration-color: #008080; font-weight: bold\">1</span>\n</pre>\n"
     },
     "metadata": {}
    },
    {
     "output_type": "display_data",
     "data": {
      "text/plain": "@user Saw him in indy with Eric Church, Brantley &amp; others. 1st act started @user and \nkenny started around \u001b[1;36m9\u001b[0m. \n \u001b[1;36m2\u001b[0m \u001b[1;36m1\u001b[0m\n",
      "text/html": "<pre style=\"white-space:pre;overflow-x:auto;line-height:normal;font-family:Menlo,'DejaVu Sans Mono',consolas,'Courier New',monospace\">@user Saw him in indy with Eric Church, Brantley &amp;amp; others. 1st act started @user and \nkenny started around <span style=\"color: #008080; text-decoration-color: #008080; font-weight: bold\">9</span>. \n <span style=\"color: #008080; text-decoration-color: #008080; font-weight: bold\">2</span> <span style=\"color: #008080; text-decoration-color: #008080; font-weight: bold\">1</span>\n</pre>\n"
     },
     "metadata": {}
    },
    {
     "output_type": "display_data",
     "data": {
      "text/plain": "\u001b[32m\"Today is My Birthday,the anniversary of the death of Elvis Presley and the birthday of \u001b[0m\n\u001b[32mMadonna,I wonder if I'll be famous...\u001b[0m\u001b[32mI\u001b[0m\u001b[32m=\u001b[0m\u001b[32mNo\u001b[0m\u001b[32m Talent |=\"\u001b[0m \n \u001b[1;36m0\u001b[0m \u001b[1;36m1\u001b[0m\n",
      "text/html": "<pre style=\"white-space:pre;overflow-x:auto;line-height:normal;font-family:Menlo,'DejaVu Sans Mono',consolas,'Courier New',monospace\"><span style=\"color: #008000; text-decoration-color: #008000\">\"Today is My Birthday,the anniversary of the death of Elvis Presley and the birthday of </span>\n<span style=\"color: #008000; text-decoration-color: #008000\">Madonna,I wonder if I'll be famous...I=No Talent |=\"</span> \n <span style=\"color: #008080; text-decoration-color: #008080; font-weight: bold\">0</span> <span style=\"color: #008080; text-decoration-color: #008080; font-weight: bold\">1</span>\n</pre>\n"
     },
     "metadata": {}
    },
    {
     "output_type": "display_data",
     "data": {
      "text/plain": "\u001b[32m\"I just noticed that Alli Simpson, Sarah, and April follow me. WHY DIDN'T I KNOW HOLY FUDGING\u001b[0m\n\u001b[32mFUDGE BALLS. THIS WORLDDDDDDD\"\u001b[0m \n \u001b[1;36m2\u001b[0m \u001b[1;36m0\u001b[0m\n",
      "text/html": "<pre style=\"white-space:pre;overflow-x:auto;line-height:normal;font-family:Menlo,'DejaVu Sans Mono',consolas,'Courier New',monospace\"><span style=\"color: #008000; text-decoration-color: #008000\">\"I just noticed that Alli Simpson, Sarah, and April follow me. WHY DIDN'T I KNOW HOLY FUDGING</span>\n<span style=\"color: #008000; text-decoration-color: #008000\">FUDGE BALLS. THIS WORLDDDDDDD\"</span> \n <span style=\"color: #008080; text-decoration-color: #008080; font-weight: bold\">2</span> <span style=\"color: #008080; text-decoration-color: #008080; font-weight: bold\">0</span>\n</pre>\n"
     },
     "metadata": {}
    },
    {
     "output_type": "display_data",
     "data": {
      "text/plain": "@user @user Hehe\u001b[33m...\u001b[0myeah. I mean it wasn't really really bad, but it got no real attention. As\nfar as Kpop goes, people may\" \n \u001b[1;36m0\u001b[0m \u001b[1;36m1\u001b[0m\n",
      "text/html": "<pre style=\"white-space:pre;overflow-x:auto;line-height:normal;font-family:Menlo,'DejaVu Sans Mono',consolas,'Courier New',monospace\">@user @user Hehe<span style=\"color: #808000; text-decoration-color: #808000\">...</span>yeah. I mean it wasn't really really bad, but it got no real attention. As\nfar as Kpop goes, people may\" \n <span style=\"color: #008080; text-decoration-color: #008080; font-weight: bold\">0</span> <span style=\"color: #008080; text-decoration-color: #008080; font-weight: bold\">1</span>\n</pre>\n"
     },
     "metadata": {}
    },
    {
     "output_type": "display_data",
     "data": {
      "text/plain": "Lets be real even wit are D injured\\u002c Flacco fuckin up\\u002c doin bad on the road\\u002c &\nare D playin like shit WE STILL 2nd best team in AFC #Ravens \n \u001b[1;36m1\u001b[0m \u001b[1;36m0\u001b[0m\n",
      "text/html": "<pre style=\"white-space:pre;overflow-x:auto;line-height:normal;font-family:Menlo,'DejaVu Sans Mono',consolas,'Courier New',monospace\">Lets be real even wit are D injured\\u002c Flacco fuckin up\\u002c doin bad on the road\\u002c &amp;\nare D playin like shit WE STILL 2nd best team in AFC #Ravens \n <span style=\"color: #008080; text-decoration-color: #008080; font-weight: bold\">1</span> <span style=\"color: #008080; text-decoration-color: #008080; font-weight: bold\">0</span>\n</pre>\n"
     },
     "metadata": {}
    },
    {
     "output_type": "display_data",
     "data": {
      "text/plain": "haha \\u002c am not going to volleyball tomorrow morning . #NeedMySleep \n \u001b[1;36m1\u001b[0m \u001b[1;36m0\u001b[0m\n",
      "text/html": "<pre style=\"white-space:pre;overflow-x:auto;line-height:normal;font-family:Menlo,'DejaVu Sans Mono',consolas,'Courier New',monospace\">haha \\u002c am not going to volleyball tomorrow morning . #NeedMySleep \n <span style=\"color: #008080; text-decoration-color: #008080; font-weight: bold\">1</span> <span style=\"color: #008080; text-decoration-color: #008080; font-weight: bold\">0</span>\n</pre>\n"
     },
     "metadata": {}
    },
    {
     "output_type": "display_data",
     "data": {
      "text/plain": "Man c'mon Nintendo we could get a Mega Man helmet in Splatoon with the amiibo just DO IT \n \u001b[1;36m1\u001b[0m \u001b[1;36m2\u001b[0m\n",
      "text/html": "<pre style=\"white-space:pre;overflow-x:auto;line-height:normal;font-family:Menlo,'DejaVu Sans Mono',consolas,'Courier New',monospace\">Man c'mon Nintendo we could get a Mega Man helmet in Splatoon with the amiibo just DO IT \n <span style=\"color: #008080; text-decoration-color: #008080; font-weight: bold\">1</span> <span style=\"color: #008080; text-decoration-color: #008080; font-weight: bold\">2</span>\n</pre>\n"
     },
     "metadata": {}
    },
    {
     "output_type": "display_data",
     "data": {
      "text/plain": "If you don't think I'm the type of person to see Magic Mike XXL alone, on a Monday night, and\nget a glass of wine in a solo cup, then\u001b[33m...\u001b[0m \n \u001b[1;36m2\u001b[0m \u001b[1;36m1\u001b[0m\n",
      "text/html": "<pre style=\"white-space:pre;overflow-x:auto;line-height:normal;font-family:Menlo,'DejaVu Sans Mono',consolas,'Courier New',monospace\">If you don't think I'm the type of person to see Magic Mike XXL alone, on a Monday night, and\nget a glass of wine in a solo cup, then<span style=\"color: #808000; text-decoration-color: #808000\">...</span> \n <span style=\"color: #008080; text-decoration-color: #008080; font-weight: bold\">2</span> <span style=\"color: #008080; text-decoration-color: #008080; font-weight: bold\">1</span>\n</pre>\n"
     },
     "metadata": {}
    },
    {
     "output_type": "display_data",
     "data": {
      "text/plain": "The Cab is playing on XM and I may or may not have just started flailing. \n \u001b[1;36m2\u001b[0m \u001b[1;36m1\u001b[0m\n",
      "text/html": "<pre style=\"white-space:pre;overflow-x:auto;line-height:normal;font-family:Menlo,'DejaVu Sans Mono',consolas,'Courier New',monospace\">The Cab is playing on XM and I may or may not have just started flailing. \n <span style=\"color: #008080; text-decoration-color: #008080; font-weight: bold\">2</span> <span style=\"color: #008080; text-decoration-color: #008080; font-weight: bold\">1</span>\n</pre>\n"
     },
     "metadata": {}
    },
    {
     "output_type": "display_data",
     "data": {
      "text/plain": "We get a 2nd Christmas in February with Kendrick and Coles collab album \n \u001b[1;36m2\u001b[0m \u001b[1;36m1\u001b[0m\n",
      "text/html": "<pre style=\"white-space:pre;overflow-x:auto;line-height:normal;font-family:Menlo,'DejaVu Sans Mono',consolas,'Courier New',monospace\">We get a 2nd Christmas in February with Kendrick and Coles collab album \n <span style=\"color: #008080; text-decoration-color: #008080; font-weight: bold\">2</span> <span style=\"color: #008080; text-decoration-color: #008080; font-weight: bold\">1</span>\n</pre>\n"
     },
     "metadata": {}
    },
    {
     "output_type": "display_data",
     "data": {
      "text/plain": "#AnDy_x9 Revised Expectations for Arsenal After 1st Month of Season: At the outset of the \n\u001b[1;36m2015\u001b[0m/\u001b[1;36m16\u001b[0m sea\u001b[33m...\u001b[0m #AnDy_x9 \n \u001b[1;36m2\u001b[0m \u001b[1;36m1\u001b[0m\n",
      "text/html": "<pre style=\"white-space:pre;overflow-x:auto;line-height:normal;font-family:Menlo,'DejaVu Sans Mono',consolas,'Courier New',monospace\">#AnDy_x9 Revised Expectations for Arsenal After 1st Month of Season: At the outset of the \n<span style=\"color: #008080; text-decoration-color: #008080; font-weight: bold\">2015</span>/<span style=\"color: #008080; text-decoration-color: #008080; font-weight: bold\">16</span> sea<span style=\"color: #808000; text-decoration-color: #808000\">...</span> #AnDy_x9 \n <span style=\"color: #008080; text-decoration-color: #008080; font-weight: bold\">2</span> <span style=\"color: #008080; text-decoration-color: #008080; font-weight: bold\">1</span>\n</pre>\n"
     },
     "metadata": {}
    },
    {
     "output_type": "display_data",
     "data": {
      "text/plain": "guysss is it true that selena's album is gonna be released on november 24th omggg \n \u001b[1;36m2\u001b[0m \u001b[1;36m1\u001b[0m\n",
      "text/html": "<pre style=\"white-space:pre;overflow-x:auto;line-height:normal;font-family:Menlo,'DejaVu Sans Mono',consolas,'Courier New',monospace\">guysss is it true that selena's album is gonna be released on november 24th omggg \n <span style=\"color: #008080; text-decoration-color: #008080; font-weight: bold\">2</span> <span style=\"color: #008080; text-decoration-color: #008080; font-weight: bold\">1</span>\n</pre>\n"
     },
     "metadata": {}
    },
    {
     "output_type": "display_data",
     "data": {
      "text/plain": "Caitlyn Jenner and her son Brody had some kind words to say about one another as The Hills \nstar celebrated his 32nd birthday on Friday. \n \u001b[1;36m1\u001b[0m \u001b[1;36m2\u001b[0m\n",
      "text/html": "<pre style=\"white-space:pre;overflow-x:auto;line-height:normal;font-family:Menlo,'DejaVu Sans Mono',consolas,'Courier New',monospace\">Caitlyn Jenner and her son Brody had some kind words to say about one another as The Hills \nstar celebrated his 32nd birthday on Friday. \n <span style=\"color: #008080; text-decoration-color: #008080; font-weight: bold\">1</span> <span style=\"color: #008080; text-decoration-color: #008080; font-weight: bold\">2</span>\n</pre>\n"
     },
     "metadata": {}
    },
    {
     "output_type": "display_data",
     "data": {
      "text/plain": "The Tigers may be calling up Matt Boyd: He's pitcher number two they received in the David \nPrice deal.  \n \u001b[1;36m2\u001b[0m \u001b[1;36m1\u001b[0m\n",
      "text/html": "<pre style=\"white-space:pre;overflow-x:auto;line-height:normal;font-family:Menlo,'DejaVu Sans Mono',consolas,'Courier New',monospace\">The Tigers may be calling up Matt Boyd: He's pitcher number two they received in the David \nPrice deal.  \n <span style=\"color: #008080; text-decoration-color: #008080; font-weight: bold\">2</span> <span style=\"color: #008080; text-decoration-color: #008080; font-weight: bold\">1</span>\n</pre>\n"
     },
     "metadata": {}
    },
    {
     "output_type": "display_data",
     "data": {
      "text/plain": "I want a 16th birthday like My Super Psycho Sweet \u001b[1;36m16\u001b[0m with extra pyscho. \n \u001b[1;36m1\u001b[0m \u001b[1;36m2\u001b[0m\n",
      "text/html": "<pre style=\"white-space:pre;overflow-x:auto;line-height:normal;font-family:Menlo,'DejaVu Sans Mono',consolas,'Courier New',monospace\">I want a 16th birthday like My Super Psycho Sweet <span style=\"color: #008080; text-decoration-color: #008080; font-weight: bold\">16</span> with extra pyscho. \n <span style=\"color: #008080; text-decoration-color: #008080; font-weight: bold\">1</span> <span style=\"color: #008080; text-decoration-color: #008080; font-weight: bold\">2</span>\n</pre>\n"
     },
     "metadata": {}
    },
    {
     "output_type": "display_data",
     "data": {
      "text/plain": "@user  I just read your Janet Jackson article No Sleeep hit #\u001b[1;36m1\u001b[0m on the R&amp;B Billboard \nCharts and her Unbreakable CD release date is Oct \u001b[1;36m1\u001b[0m \n \u001b[1;36m1\u001b[0m \u001b[1;36m2\u001b[0m\n",
      "text/html": "<pre style=\"white-space:pre;overflow-x:auto;line-height:normal;font-family:Menlo,'DejaVu Sans Mono',consolas,'Courier New',monospace\">@user  I just read your Janet Jackson article No Sleeep hit #<span style=\"color: #008080; text-decoration-color: #008080; font-weight: bold\">1</span> on the R&amp;amp;B Billboard \nCharts and her Unbreakable CD release date is Oct <span style=\"color: #008080; text-decoration-color: #008080; font-weight: bold\">1</span> \n <span style=\"color: #008080; text-decoration-color: #008080; font-weight: bold\">1</span> <span style=\"color: #008080; text-decoration-color: #008080; font-weight: bold\">2</span>\n</pre>\n"
     },
     "metadata": {}
    },
    {
     "output_type": "display_data",
     "data": {
      "text/plain": "@user It was a Article saying that Zayn is regretting leaving \u001b[1;36m1\u001b[0m direction pretty much bashing\nZayn like the SUN Always does \n \u001b[1;36m0\u001b[0m \u001b[1;36m1\u001b[0m\n",
      "text/html": "<pre style=\"white-space:pre;overflow-x:auto;line-height:normal;font-family:Menlo,'DejaVu Sans Mono',consolas,'Courier New',monospace\">@user It was a Article saying that Zayn is regretting leaving <span style=\"color: #008080; text-decoration-color: #008080; font-weight: bold\">1</span> direction pretty much bashing\nZayn like the SUN Always does \n <span style=\"color: #008080; text-decoration-color: #008080; font-weight: bold\">0</span> <span style=\"color: #008080; text-decoration-color: #008080; font-weight: bold\">1</span>\n</pre>\n"
     },
     "metadata": {}
    },
    {
     "output_type": "display_data",
     "data": {
      "text/plain": "Fans were in for quite the surprise at the FYF Festival in LA on Saturday. After Frank Ocean \nc\u001b[33m...\u001b[0m #HollywoodDivas \n \u001b[1;36m1\u001b[0m \u001b[1;36m2\u001b[0m\n",
      "text/html": "<pre style=\"white-space:pre;overflow-x:auto;line-height:normal;font-family:Menlo,'DejaVu Sans Mono',consolas,'Courier New',monospace\">Fans were in for quite the surprise at the FYF Festival in LA on Saturday. After Frank Ocean \nc<span style=\"color: #808000; text-decoration-color: #808000\">...</span> #HollywoodDivas \n <span style=\"color: #008080; text-decoration-color: #008080; font-weight: bold\">1</span> <span style=\"color: #008080; text-decoration-color: #008080; font-weight: bold\">2</span>\n</pre>\n"
     },
     "metadata": {}
    },
    {
     "output_type": "display_data",
     "data": {
      "text/plain": "@user i thought Meteor Goliath was supposed to be available to everyone today \u001b[1m(\u001b[0m3rd of \nSeptember \u001b[1;36m2015\u001b[0m\u001b[1m)\u001b[0m i cant find it im on PS4 \n \u001b[1;36m1\u001b[0m \u001b[1;36m0\u001b[0m\n",
      "text/html": "<pre style=\"white-space:pre;overflow-x:auto;line-height:normal;font-family:Menlo,'DejaVu Sans Mono',consolas,'Courier New',monospace\">@user i thought Meteor Goliath was supposed to be available to everyone today <span style=\"font-weight: bold\">(</span>3rd of \nSeptember <span style=\"color: #008080; text-decoration-color: #008080; font-weight: bold\">2015</span><span style=\"font-weight: bold\">)</span> i cant find it im on PS4 \n <span style=\"color: #008080; text-decoration-color: #008080; font-weight: bold\">1</span> <span style=\"color: #008080; text-decoration-color: #008080; font-weight: bold\">0</span>\n</pre>\n"
     },
     "metadata": {}
    },
    {
     "output_type": "display_data",
     "data": {
      "text/plain": "@user When's your birthday again ? Mines at the very end of the month the 29th. I order Janet\nJackson tickets last night \n \u001b[1;36m1\u001b[0m \u001b[1;36m2\u001b[0m\n",
      "text/html": "<pre style=\"white-space:pre;overflow-x:auto;line-height:normal;font-family:Menlo,'DejaVu Sans Mono',consolas,'Courier New',monospace\">@user When's your birthday again ? Mines at the very end of the month the 29th. I order Janet\nJackson tickets last night \n <span style=\"color: #008080; text-decoration-color: #008080; font-weight: bold\">1</span> <span style=\"color: #008080; text-decoration-color: #008080; font-weight: bold\">2</span>\n</pre>\n"
     },
     "metadata": {}
    },
    {
     "output_type": "display_data",
     "data": {
      "text/plain": "I may never tweet about anything other than Kanye West ever again \n \u001b[1;36m2\u001b[0m \u001b[1;36m0\u001b[0m\n",
      "text/html": "<pre style=\"white-space:pre;overflow-x:auto;line-height:normal;font-family:Menlo,'DejaVu Sans Mono',consolas,'Courier New',monospace\">I may never tweet about anything other than Kanye West ever again \n <span style=\"color: #008080; text-decoration-color: #008080; font-weight: bold\">2</span> <span style=\"color: #008080; text-decoration-color: #008080; font-weight: bold\">0</span>\n</pre>\n"
     },
     "metadata": {}
    },
    {
     "output_type": "display_data",
     "data": {
      "text/plain": "It\\u2019s Tuesday night in Athens! AKA karaoke night at the Volstead so come see me!! \n \u001b[1;36m2\u001b[0m \u001b[1;36m1\u001b[0m\n",
      "text/html": "<pre style=\"white-space:pre;overflow-x:auto;line-height:normal;font-family:Menlo,'DejaVu Sans Mono',consolas,'Courier New',monospace\">It\\u2019s Tuesday night in Athens! AKA karaoke night at the Volstead so come see me!! \n <span style=\"color: #008080; text-decoration-color: #008080; font-weight: bold\">2</span> <span style=\"color: #008080; text-decoration-color: #008080; font-weight: bold\">1</span>\n</pre>\n"
     },
     "metadata": {}
    },
    {
     "output_type": "display_data",
     "data": {
      "text/plain": "Why do y'all want Nicki to be pregnant so bad like maybe around the 7th album but she's \nliterally still in her prime. \n \u001b[1;36m1\u001b[0m \u001b[1;36m0\u001b[0m\n",
      "text/html": "<pre style=\"white-space:pre;overflow-x:auto;line-height:normal;font-family:Menlo,'DejaVu Sans Mono',consolas,'Courier New',monospace\">Why do y'all want Nicki to be pregnant so bad like maybe around the 7th album but she's \nliterally still in her prime. \n <span style=\"color: #008080; text-decoration-color: #008080; font-weight: bold\">1</span> <span style=\"color: #008080; text-decoration-color: #008080; font-weight: bold\">0</span>\n</pre>\n"
     },
     "metadata": {}
    },
    {
     "output_type": "display_data",
     "data": {
      "text/plain": "Samajwadi Party may patch up with Trinamool Congress: SP sources affirm that party chief \nMulayam Singh Yadav is likely to patch up wi\u001b[33m...\u001b[0m \n \u001b[1;36m2\u001b[0m \u001b[1;36m1\u001b[0m\n",
      "text/html": "<pre style=\"white-space:pre;overflow-x:auto;line-height:normal;font-family:Menlo,'DejaVu Sans Mono',consolas,'Courier New',monospace\">Samajwadi Party may patch up with Trinamool Congress: SP sources affirm that party chief \nMulayam Singh Yadav is likely to patch up wi<span style=\"color: #808000; text-decoration-color: #808000\">...</span> \n <span style=\"color: #008080; text-decoration-color: #008080; font-weight: bold\">2</span> <span style=\"color: #008080; text-decoration-color: #008080; font-weight: bold\">1</span>\n</pre>\n"
     },
     "metadata": {}
    },
    {
     "output_type": "display_data",
     "data": {
      "text/plain": "\u001b[32m\"\\\"\"\u001b[0mWhy America May Go To Hell\\\"\u001b[32m\"- wish it wouldve been completed and i wish i could read the\u001b[0m\n\u001b[32mcontents of it...  by MLK\"\u001b[0m \n \u001b[1;36m2\u001b[0m \u001b[1;36m1\u001b[0m\n",
      "text/html": "<pre style=\"white-space:pre;overflow-x:auto;line-height:normal;font-family:Menlo,'DejaVu Sans Mono',consolas,'Courier New',monospace\"><span style=\"color: #008000; text-decoration-color: #008000\">\"\\\"\"</span>Why America May Go To Hell\\\"<span style=\"color: #008000; text-decoration-color: #008000\">\"- wish it wouldve been completed and i wish i could read the</span>\n<span style=\"color: #008000; text-decoration-color: #008000\">contents of it...  by MLK\"</span> \n <span style=\"color: #008080; text-decoration-color: #008080; font-weight: bold\">2</span> <span style=\"color: #008080; text-decoration-color: #008080; font-weight: bold\">1</span>\n</pre>\n"
     },
     "metadata": {}
    },
    {
     "output_type": "display_data",
     "data": {
      "text/plain": "@user I love Israel. Love the Jews. So I may make a terrible Nazi. :\u001b[1m(\u001b[0m   @user @user @user \n \u001b[1;36m2\u001b[0m \u001b[1;36m0\u001b[0m\n",
      "text/html": "<pre style=\"white-space:pre;overflow-x:auto;line-height:normal;font-family:Menlo,'DejaVu Sans Mono',consolas,'Courier New',monospace\">@user I love Israel. Love the Jews. So I may make a terrible Nazi. :<span style=\"font-weight: bold\">(</span>   @user @user @user \n <span style=\"color: #008080; text-decoration-color: #008080; font-weight: bold\">2</span> <span style=\"color: #008080; text-decoration-color: #008080; font-weight: bold\">0</span>\n</pre>\n"
     },
     "metadata": {}
    },
    {
     "output_type": "display_data",
     "data": {
      "text/plain": "So \u001b[33m...\u001b[0m. Who's up for seeing Ant-Man with me on Saturday? \u001b[1;92m2:30\u001b[0mpm showing. Let me know! \n \u001b[1;36m1\u001b[0m \u001b[1;36m2\u001b[0m\n",
      "text/html": "<pre style=\"white-space:pre;overflow-x:auto;line-height:normal;font-family:Menlo,'DejaVu Sans Mono',consolas,'Courier New',monospace\">So <span style=\"color: #808000; text-decoration-color: #808000\">...</span>. Who's up for seeing Ant-Man with me on Saturday? <span style=\"color: #00ff00; text-decoration-color: #00ff00; font-weight: bold\">2:30</span>pm showing. Let me know! \n <span style=\"color: #008080; text-decoration-color: #008080; font-weight: bold\">1</span> <span style=\"color: #008080; text-decoration-color: #008080; font-weight: bold\">2</span>\n</pre>\n"
     },
     "metadata": {}
    },
    {
     "output_type": "display_data",
     "data": {
      "text/plain": "\u001b[32m\"1st Prize.RM 5000 with 4 x Ipad 2 \u001b[0m\u001b[32m(\u001b[0m\u001b[32meach person\u001b[0m\u001b[32m)\u001b[0m\u001b[32m Trophy, & certificate of participation. \u001b[0m\n\u001b[32mLulz, Wanna Joinnnnnnnnnnnnn -___-\"\u001b[0m \n \u001b[1;36m2\u001b[0m \u001b[1;36m1\u001b[0m\n",
      "text/html": "<pre style=\"white-space:pre;overflow-x:auto;line-height:normal;font-family:Menlo,'DejaVu Sans Mono',consolas,'Courier New',monospace\"><span style=\"color: #008000; text-decoration-color: #008000\">\"1st Prize.RM 5000 with 4 x Ipad 2 (each person) Trophy, &amp; certificate of participation. </span>\n<span style=\"color: #008000; text-decoration-color: #008000\">Lulz, Wanna Joinnnnnnnnnnnnn -___-\"</span> \n <span style=\"color: #008080; text-decoration-color: #008080; font-weight: bold\">2</span> <span style=\"color: #008080; text-decoration-color: #008080; font-weight: bold\">1</span>\n</pre>\n"
     },
     "metadata": {}
    },
    {
     "output_type": "display_data",
     "data": {
      "text/plain": "\"Sir Terry Leahy, the man behind Tesco's success, is speaking at @user in WGC tomorrow: \n \u001b[1;36m1\u001b[0m \u001b[1;36m2\u001b[0m\n",
      "text/html": "<pre style=\"white-space:pre;overflow-x:auto;line-height:normal;font-family:Menlo,'DejaVu Sans Mono',consolas,'Courier New',monospace\">\"Sir Terry Leahy, the man behind Tesco's success, is speaking at @user in WGC tomorrow: \n <span style=\"color: #008080; text-decoration-color: #008080; font-weight: bold\">1</span> <span style=\"color: #008080; text-decoration-color: #008080; font-weight: bold\">2</span>\n</pre>\n"
     },
     "metadata": {}
    },
    {
     "output_type": "display_data",
     "data": {
      "text/plain": "@user in the words of Dr. King\\u002c \\\"\u001b[32m\"I may not get there with you\\u002c but I want you to \u001b[0m\n\u001b[32mknow we as a people will get there\\\"\"\u001b[0m\" \n \u001b[1;36m2\u001b[0m \u001b[1;36m1\u001b[0m\n",
      "text/html": "<pre style=\"white-space:pre;overflow-x:auto;line-height:normal;font-family:Menlo,'DejaVu Sans Mono',consolas,'Courier New',monospace\">@user in the words of Dr. King\\u002c \\\"<span style=\"color: #008000; text-decoration-color: #008000\">\"I may not get there with you\\u002c but I want you to </span>\n<span style=\"color: #008000; text-decoration-color: #008000\">know we as a people will get there\\\"\"</span>\" \n <span style=\"color: #008080; text-decoration-color: #008080; font-weight: bold\">2</span> <span style=\"color: #008080; text-decoration-color: #008080; font-weight: bold\">1</span>\n</pre>\n"
     },
     "metadata": {}
    },
    {
     "output_type": "display_data",
     "data": {
      "text/plain": "@user I never once thought, it would be Kane until the last hr. people starting it may be \nKane.\" \n \u001b[1;36m2\u001b[0m \u001b[1;36m1\u001b[0m\n",
      "text/html": "<pre style=\"white-space:pre;overflow-x:auto;line-height:normal;font-family:Menlo,'DejaVu Sans Mono',consolas,'Courier New',monospace\">@user I never once thought, it would be Kane until the last hr. people starting it may be \nKane.\" \n <span style=\"color: #008080; text-decoration-color: #008080; font-weight: bold\">2</span> <span style=\"color: #008080; text-decoration-color: #008080; font-weight: bold\">1</span>\n</pre>\n"
     },
     "metadata": {}
    },
    {
     "output_type": "display_data",
     "data": {
      "text/plain": "Palace warns of \u001b[32m'Commoners dangerously close to Prince George. May Discover he'\u001b[0ms just human \n \u001b[1;36m1\u001b[0m \u001b[1;36m0\u001b[0m\n",
      "text/html": "<pre style=\"white-space:pre;overflow-x:auto;line-height:normal;font-family:Menlo,'DejaVu Sans Mono',consolas,'Courier New',monospace\">Palace warns of <span style=\"color: #008000; text-decoration-color: #008000\">'Commoners dangerously close to Prince George. May Discover he'</span>s just human \n <span style=\"color: #008080; text-decoration-color: #008080; font-weight: bold\">1</span> <span style=\"color: #008080; text-decoration-color: #008080; font-weight: bold\">0</span>\n</pre>\n"
     },
     "metadata": {}
    },
    {
     "output_type": "display_data",
     "data": {
      "text/plain": "v sad bc a bunch of people are meeting Shawn in San Diego and I'm laying in my couch watching\nthe day after tomorrow in Spanish \n \u001b[1;36m1\u001b[0m \u001b[1;36m0\u001b[0m\n",
      "text/html": "<pre style=\"white-space:pre;overflow-x:auto;line-height:normal;font-family:Menlo,'DejaVu Sans Mono',consolas,'Courier New',monospace\">v sad bc a bunch of people are meeting Shawn in San Diego and I'm laying in my couch watching\nthe day after tomorrow in Spanish \n <span style=\"color: #008080; text-decoration-color: #008080; font-weight: bold\">1</span> <span style=\"color: #008080; text-decoration-color: #008080; font-weight: bold\">0</span>\n</pre>\n"
     },
     "metadata": {}
    },
    {
     "output_type": "display_data",
     "data": {
      "text/plain": "Pope concelebrates Mass with Armenian Patriarch: History was made on Monday when Pope Francis\nconcelebrated mo\u001b[33m...\u001b[0m \n \u001b[1;36m2\u001b[0m \u001b[1;36m1\u001b[0m\n",
      "text/html": "<pre style=\"white-space:pre;overflow-x:auto;line-height:normal;font-family:Menlo,'DejaVu Sans Mono',consolas,'Courier New',monospace\">Pope concelebrates Mass with Armenian Patriarch: History was made on Monday when Pope Francis\nconcelebrated mo<span style=\"color: #808000; text-decoration-color: #808000\">...</span> \n <span style=\"color: #008080; text-decoration-color: #008080; font-weight: bold\">2</span> <span style=\"color: #008080; text-decoration-color: #008080; font-weight: bold\">1</span>\n</pre>\n"
     },
     "metadata": {}
    },
    {
     "output_type": "display_data",
     "data": {
      "text/plain": "Here's Shawn's 2nd pass of the day which put us in the 10th spot.  Still have \u001b[1;36m2\u001b[0m more \nQualifying Passes today. \n \u001b[1;36m2\u001b[0m \u001b[1;36m1\u001b[0m\n",
      "text/html": "<pre style=\"white-space:pre;overflow-x:auto;line-height:normal;font-family:Menlo,'DejaVu Sans Mono',consolas,'Courier New',monospace\">Here's Shawn's 2nd pass of the day which put us in the 10th spot.  Still have <span style=\"color: #008080; text-decoration-color: #008080; font-weight: bold\">2</span> more \nQualifying Passes today. \n <span style=\"color: #008080; text-decoration-color: #008080; font-weight: bold\">2</span> <span style=\"color: #008080; text-decoration-color: #008080; font-weight: bold\">1</span>\n</pre>\n"
     },
     "metadata": {}
    },
    {
     "output_type": "display_data",
     "data": {
      "text/plain": "@user @user @user Quote of the night- If I were Amarosa I would go to Brooklyn bridge and be \ndrowning myself #funny \n \u001b[1;36m2\u001b[0m \u001b[1;36m1\u001b[0m\n",
      "text/html": "<pre style=\"white-space:pre;overflow-x:auto;line-height:normal;font-family:Menlo,'DejaVu Sans Mono',consolas,'Courier New',monospace\">@user @user @user Quote of the night- If I were Amarosa I would go to Brooklyn bridge and be \ndrowning myself #funny \n <span style=\"color: #008080; text-decoration-color: #008080; font-weight: bold\">2</span> <span style=\"color: #008080; text-decoration-color: #008080; font-weight: bold\">1</span>\n</pre>\n"
     },
     "metadata": {}
    },
    {
     "output_type": "display_data",
     "data": {
      "text/plain": "@user @user Going to be at the Lane on Saturday and if he's not in the squad I'll be \ngutted\u001b[33m...\u001b[0m Kane needs help! \n \u001b[1;36m1\u001b[0m \u001b[1;36m0\u001b[0m\n",
      "text/html": "<pre style=\"white-space:pre;overflow-x:auto;line-height:normal;font-family:Menlo,'DejaVu Sans Mono',consolas,'Courier New',monospace\">@user @user Going to be at the Lane on Saturday and if he's not in the squad I'll be \ngutted<span style=\"color: #808000; text-decoration-color: #808000\">...</span> Kane needs help! \n <span style=\"color: #008080; text-decoration-color: #008080; font-weight: bold\">1</span> <span style=\"color: #008080; text-decoration-color: #008080; font-weight: bold\">0</span>\n</pre>\n"
     },
     "metadata": {}
    },
    {
     "output_type": "display_data",
     "data": {
      "text/plain": "Last Saturday\\u2019s London Children\\u2019s Book Swap went swimmingly! see pictures here and \nread about it on the blog:\u001b[33m...\u001b[0m \n \u001b[1;36m1\u001b[0m \u001b[1;36m2\u001b[0m\n",
      "text/html": "<pre style=\"white-space:pre;overflow-x:auto;line-height:normal;font-family:Menlo,'DejaVu Sans Mono',consolas,'Courier New',monospace\">Last Saturday\\u2019s London Children\\u2019s Book Swap went swimmingly! see pictures here and \nread about it on the blog:<span style=\"color: #808000; text-decoration-color: #808000\">...</span> \n <span style=\"color: #008080; text-decoration-color: #008080; font-weight: bold\">1</span> <span style=\"color: #008080; text-decoration-color: #008080; font-weight: bold\">2</span>\n</pre>\n"
     },
     "metadata": {}
    },
    {
     "output_type": "display_data",
     "data": {
      "text/plain": "Where will Arsenal finish this season? 4th. \u001b[1;36m36\u001b[0m% of voters agree with me. \n \u001b[1;36m2\u001b[0m \u001b[1;36m1\u001b[0m\n",
      "text/html": "<pre style=\"white-space:pre;overflow-x:auto;line-height:normal;font-family:Menlo,'DejaVu Sans Mono',consolas,'Courier New',monospace\">Where will Arsenal finish this season? 4th. <span style=\"color: #008080; text-decoration-color: #008080; font-weight: bold\">36</span>% of voters agree with me. \n <span style=\"color: #008080; text-decoration-color: #008080; font-weight: bold\">2</span> <span style=\"color: #008080; text-decoration-color: #008080; font-weight: bold\">1</span>\n</pre>\n"
     },
     "metadata": {}
    },
    {
     "output_type": "display_data",
     "data": {
      "text/plain": "@user can you please make Big Brother available at its normal time next Thursday \u001b[1m(\u001b[0monline or \non another channel\u001b[1m)\u001b[0m?  Thank you. \n \u001b[1;36m1\u001b[0m \u001b[1;36m2\u001b[0m\n",
      "text/html": "<pre style=\"white-space:pre;overflow-x:auto;line-height:normal;font-family:Menlo,'DejaVu Sans Mono',consolas,'Courier New',monospace\">@user can you please make Big Brother available at its normal time next Thursday <span style=\"font-weight: bold\">(</span>online or \non another channel<span style=\"font-weight: bold\">)</span>?  Thank you. \n <span style=\"color: #008080; text-decoration-color: #008080; font-weight: bold\">1</span> <span style=\"color: #008080; text-decoration-color: #008080; font-weight: bold\">2</span>\n</pre>\n"
     },
     "metadata": {}
    },
    {
     "output_type": "display_data",
     "data": {
      "text/plain": "\"We are going to take 1st place, keep voting!! #MTVStars Lady Gaga \n \u001b[1;36m1\u001b[0m \u001b[1;36m2\u001b[0m\n",
      "text/html": "<pre style=\"white-space:pre;overflow-x:auto;line-height:normal;font-family:Menlo,'DejaVu Sans Mono',consolas,'Courier New',monospace\">\"We are going to take 1st place, keep voting!! #MTVStars Lady Gaga \n <span style=\"color: #008080; text-decoration-color: #008080; font-weight: bold\">1</span> <span style=\"color: #008080; text-decoration-color: #008080; font-weight: bold\">2</span>\n</pre>\n"
     },
     "metadata": {}
    },
    {
     "output_type": "display_data",
     "data": {
      "text/plain": "@user we want you to milan tomorrow !!! \n \u001b[1;36m1\u001b[0m \u001b[1;36m2\u001b[0m\n",
      "text/html": "<pre style=\"white-space:pre;overflow-x:auto;line-height:normal;font-family:Menlo,'DejaVu Sans Mono',consolas,'Courier New',monospace\">@user we want you to milan tomorrow !!! \n <span style=\"color: #008080; text-decoration-color: #008080; font-weight: bold\">1</span> <span style=\"color: #008080; text-decoration-color: #008080; font-weight: bold\">2</span>\n</pre>\n"
     },
     "metadata": {}
    },
    {
     "output_type": "display_data",
     "data": {
      "text/plain": "\u001b[32m\"\\\"\"\u001b[0m\u001b[32m\"\"\u001b[0mmen tomorrow you will have one of your hardest patrols\u001b[33m...\u001b[0mCIF turn in\\\"\u001b[32m\"\"\u001b[0m\u001b[32m\" lets hope i \u001b[0m\n\u001b[32mhave everything\"\u001b[0m \n \u001b[1;36m0\u001b[0m \u001b[1;36m1\u001b[0m\n",
      "text/html": "<pre style=\"white-space:pre;overflow-x:auto;line-height:normal;font-family:Menlo,'DejaVu Sans Mono',consolas,'Courier New',monospace\"><span style=\"color: #008000; text-decoration-color: #008000\">\"\\\"\"\"\"</span>men tomorrow you will have one of your hardest patrols<span style=\"color: #808000; text-decoration-color: #808000\">...</span>CIF turn in\\\"<span style=\"color: #008000; text-decoration-color: #008000\">\"\"\" lets hope i </span>\n<span style=\"color: #008000; text-decoration-color: #008000\">have everything\"</span> \n <span style=\"color: #008080; text-decoration-color: #008080; font-weight: bold\">0</span> <span style=\"color: #008080; text-decoration-color: #008080; font-weight: bold\">1</span>\n</pre>\n"
     },
     "metadata": {}
    },
    {
     "output_type": "display_data",
     "data": {
      "text/plain": "\u001b[32m\"Brock Lesnar confronts The Undertaker: Raw, July 20, 2015 via @user This is what we call the\u001b[0m\n\u001b[32mWWE B| HELL YEAH!\"\u001b[0m \n \u001b[1;36m2\u001b[0m \u001b[1;36m1\u001b[0m\n",
      "text/html": "<pre style=\"white-space:pre;overflow-x:auto;line-height:normal;font-family:Menlo,'DejaVu Sans Mono',consolas,'Courier New',monospace\"><span style=\"color: #008000; text-decoration-color: #008000\">\"Brock Lesnar confronts The Undertaker: Raw, July 20, 2015 via @user This is what we call the</span>\n<span style=\"color: #008000; text-decoration-color: #008000\">WWE B| HELL YEAH!\"</span> \n <span style=\"color: #008080; text-decoration-color: #008080; font-weight: bold\">2</span> <span style=\"color: #008080; text-decoration-color: #008080; font-weight: bold\">1</span>\n</pre>\n"
     },
     "metadata": {}
    },
    {
     "output_type": "display_data",
     "data": {
      "text/plain": "West Indies to pull off from the India tour after the 4th ODI in Dharamsala owing to pay \ndispute with their Board. \n \u001b[1;36m0\u001b[0m \u001b[1;36m1\u001b[0m\n",
      "text/html": "<pre style=\"white-space:pre;overflow-x:auto;line-height:normal;font-family:Menlo,'DejaVu Sans Mono',consolas,'Courier New',monospace\">West Indies to pull off from the India tour after the 4th ODI in Dharamsala owing to pay \ndispute with their Board. \n <span style=\"color: #008080; text-decoration-color: #008080; font-weight: bold\">0</span> <span style=\"color: #008080; text-decoration-color: #008080; font-weight: bold\">1</span>\n</pre>\n"
     },
     "metadata": {}
    },
    {
     "output_type": "display_data",
     "data": {
      "text/plain": "Kanye West is insane. He also may be a complete genius. But I still don't want him to be \npresident. #VMAs #fb \n \u001b[1;36m1\u001b[0m \u001b[1;36m0\u001b[0m\n",
      "text/html": "<pre style=\"white-space:pre;overflow-x:auto;line-height:normal;font-family:Menlo,'DejaVu Sans Mono',consolas,'Courier New',monospace\">Kanye West is insane. He also may be a complete genius. But I still don't want him to be \npresident. #VMAs #fb \n <span style=\"color: #008080; text-decoration-color: #008080; font-weight: bold\">1</span> <span style=\"color: #008080; text-decoration-color: #008080; font-weight: bold\">0</span>\n</pre>\n"
     },
     "metadata": {}
    },
    {
     "output_type": "display_data",
     "data": {
      "text/plain": "\"Ok sir RT @user Nigeria will still top the group.If we lose,we'll be 2nd & face Brazil. \n\u001b[1m(\u001b[0mcont\u001b[1m)\u001b[0m \n \u001b[1;36m2\u001b[0m \u001b[1;36m1\u001b[0m\n",
      "text/html": "<pre style=\"white-space:pre;overflow-x:auto;line-height:normal;font-family:Menlo,'DejaVu Sans Mono',consolas,'Courier New',monospace\">\"Ok sir RT @user Nigeria will still top the group.If we lose,we'll be 2nd &amp; face Brazil. \n<span style=\"font-weight: bold\">(</span>cont<span style=\"font-weight: bold\">)</span> \n <span style=\"color: #008080; text-decoration-color: #008080; font-weight: bold\">2</span> <span style=\"color: #008080; text-decoration-color: #008080; font-weight: bold\">1</span>\n</pre>\n"
     },
     "metadata": {}
    },
    {
     "output_type": "display_data",
     "data": {
      "text/plain": "Come see us at the Scottsdale Home & Garden Show on Nov 3rd & 4th at Westworld of Scottsdale.\nBe the FIRST to see the new holiday items! \n \u001b[1;36m1\u001b[0m \u001b[1;36m2\u001b[0m\n",
      "text/html": "<pre style=\"white-space:pre;overflow-x:auto;line-height:normal;font-family:Menlo,'DejaVu Sans Mono',consolas,'Courier New',monospace\">Come see us at the Scottsdale Home &amp; Garden Show on Nov 3rd &amp; 4th at Westworld of Scottsdale.\nBe the FIRST to see the new holiday items! \n <span style=\"color: #008080; text-decoration-color: #008080; font-weight: bold\">1</span> <span style=\"color: #008080; text-decoration-color: #008080; font-weight: bold\">2</span>\n</pre>\n"
     },
     "metadata": {}
    },
    {
     "output_type": "display_data",
     "data": {
      "text/plain": "@user All you need to do is catch U2 to Brunel University looool in shaa Allah man, I'm free \natm. I start in October\" \n \u001b[1;36m2\u001b[0m \u001b[1;36m1\u001b[0m\n",
      "text/html": "<pre style=\"white-space:pre;overflow-x:auto;line-height:normal;font-family:Menlo,'DejaVu Sans Mono',consolas,'Courier New',monospace\">@user All you need to do is catch U2 to Brunel University looool in shaa Allah man, I'm free \natm. I start in October\" \n <span style=\"color: #008080; text-decoration-color: #008080; font-weight: bold\">2</span> <span style=\"color: #008080; text-decoration-color: #008080; font-weight: bold\">1</span>\n</pre>\n"
     },
     "metadata": {}
    },
    {
     "output_type": "display_data",
     "data": {
      "text/plain": "\u001b[32m\"#AFailedTextFromToday \"\u001b[0m\u001b[32m\"\"\"You going to Soundset?\"\"\"\u001b[0m\u001b[32m\"-Name Withheld. \"\u001b[0m\u001b[32m\"\"\"Uh, Soundset was \u001b[0m\n\u001b[32mlast Sunday....\"\"\"\u001b[0m\u001b[32m\" Ahahahaha\"\u001b[0m \n \u001b[1;36m0\u001b[0m \u001b[1;36m1\u001b[0m\n",
      "text/html": "<pre style=\"white-space:pre;overflow-x:auto;line-height:normal;font-family:Menlo,'DejaVu Sans Mono',consolas,'Courier New',monospace\"><span style=\"color: #008000; text-decoration-color: #008000\">\"#AFailedTextFromToday \"\"\"\"You going to Soundset?\"\"\"\"-Name Withheld. \"\"\"\"Uh, Soundset was </span>\n<span style=\"color: #008000; text-decoration-color: #008000\">last Sunday....\"\"\"\" Ahahahaha\"</span> \n <span style=\"color: #008080; text-decoration-color: #008080; font-weight: bold\">0</span> <span style=\"color: #008080; text-decoration-color: #008080; font-weight: bold\">1</span>\n</pre>\n"
     },
     "metadata": {}
    },
    {
     "output_type": "display_data",
     "data": {
      "text/plain": "Watching the 2nd punisher. Wish they\\u2019d make another one with Quentin Tarentino directing\nand Thomas Jane as Castle \n \u001b[1;36m2\u001b[0m \u001b[1;36m1\u001b[0m\n",
      "text/html": "<pre style=\"white-space:pre;overflow-x:auto;line-height:normal;font-family:Menlo,'DejaVu Sans Mono',consolas,'Courier New',monospace\">Watching the 2nd punisher. Wish they\\u2019d make another one with Quentin Tarentino directing\nand Thomas Jane as Castle \n <span style=\"color: #008080; text-decoration-color: #008080; font-weight: bold\">2</span> <span style=\"color: #008080; text-decoration-color: #008080; font-weight: bold\">1</span>\n</pre>\n"
     },
     "metadata": {}
    },
    {
     "output_type": "display_data",
     "data": {
      "text/plain": "Got tomorrow off, not going to digi tonight would be rude \n \u001b[1;36m2\u001b[0m \u001b[1;36m0\u001b[0m\n",
      "text/html": "<pre style=\"white-space:pre;overflow-x:auto;line-height:normal;font-family:Menlo,'DejaVu Sans Mono',consolas,'Courier New',monospace\">Got tomorrow off, not going to digi tonight would be rude \n <span style=\"color: #008080; text-decoration-color: #008080; font-weight: bold\">2</span> <span style=\"color: #008080; text-decoration-color: #008080; font-weight: bold\">0</span>\n</pre>\n"
     },
     "metadata": {}
    },
    {
     "output_type": "display_data",
     "data": {
      "text/plain": "Really hope Chelsea start Baba instead of Ivanovic on Saturday, he's literally aged about \u001b[1;36m5\u001b[0m \nyears over the summer \n \u001b[1;36m0\u001b[0m \u001b[1;36m1\u001b[0m\n",
      "text/html": "<pre style=\"white-space:pre;overflow-x:auto;line-height:normal;font-family:Menlo,'DejaVu Sans Mono',consolas,'Courier New',monospace\">Really hope Chelsea start Baba instead of Ivanovic on Saturday, he's literally aged about <span style=\"color: #008080; text-decoration-color: #008080; font-weight: bold\">5</span> \nyears over the summer \n <span style=\"color: #008080; text-decoration-color: #008080; font-weight: bold\">0</span> <span style=\"color: #008080; text-decoration-color: #008080; font-weight: bold\">1</span>\n</pre>\n"
     },
     "metadata": {}
    },
    {
     "output_type": "display_data",
     "data": {
      "text/plain": "\u001b[32m\"Triple H was never Ric Flair's bitch...this Sunday I'm gonna make you mine!!!\"\u001b[0m  - John Cena \n#Raw #TitleforTitle #JohnCena  #Truth \n \u001b[1;36m2\u001b[0m \u001b[1;36m1\u001b[0m\n",
      "text/html": "<pre style=\"white-space:pre;overflow-x:auto;line-height:normal;font-family:Menlo,'DejaVu Sans Mono',consolas,'Courier New',monospace\"><span style=\"color: #008000; text-decoration-color: #008000\">\"Triple H was never Ric Flair's bitch...this Sunday I'm gonna make you mine!!!\"</span>  - John Cena \n#Raw #TitleforTitle #JohnCena  #Truth \n <span style=\"color: #008080; text-decoration-color: #008080; font-weight: bold\">2</span> <span style=\"color: #008080; text-decoration-color: #008080; font-weight: bold\">1</span>\n</pre>\n"
     },
     "metadata": {}
    },
    {
     "output_type": "display_data",
     "data": {
      "text/plain": "Is anyone else reading that Zayn may be performing at the VMAs with The Weeknd? I'm not \nemotionally ready for that. \n \u001b[1;36m1\u001b[0m \u001b[1;36m0\u001b[0m\n",
      "text/html": "<pre style=\"white-space:pre;overflow-x:auto;line-height:normal;font-family:Menlo,'DejaVu Sans Mono',consolas,'Courier New',monospace\">Is anyone else reading that Zayn may be performing at the VMAs with The Weeknd? I'm not \nemotionally ready for that. \n <span style=\"color: #008080; text-decoration-color: #008080; font-weight: bold\">1</span> <span style=\"color: #008080; text-decoration-color: #008080; font-weight: bold\">0</span>\n</pre>\n"
     },
     "metadata": {}
    },
    {
     "output_type": "display_data",
     "data": {
      "text/plain": "With all Benson\\u2019s attention\\u002c Frankie feels like a forgotten stepchild. Lets \n\\u2019founding father\\u2019 him so he know we will never forget 2nd place. \n \u001b[1;36m0\u001b[0m \u001b[1;36m1\u001b[0m\n",
      "text/html": "<pre style=\"white-space:pre;overflow-x:auto;line-height:normal;font-family:Menlo,'DejaVu Sans Mono',consolas,'Courier New',monospace\">With all Benson\\u2019s attention\\u002c Frankie feels like a forgotten stepchild. Lets \n\\u2019founding father\\u2019 him so he know we will never forget 2nd place. \n <span style=\"color: #008080; text-decoration-color: #008080; font-weight: bold\">0</span> <span style=\"color: #008080; text-decoration-color: #008080; font-weight: bold\">1</span>\n</pre>\n"
     },
     "metadata": {}
    },
    {
     "output_type": "display_data",
     "data": {
      "text/plain": "Big whoop--it's Beyonce's birthday. My birthday's coming \u001b[1m(\u001b[0mSept \u001b[1;36m13\u001b[0m\u001b[1m)\u001b[0m and I bring just as joy to\npeople \n \u001b[1;36m1\u001b[0m \u001b[1;36m2\u001b[0m\n",
      "text/html": "<pre style=\"white-space:pre;overflow-x:auto;line-height:normal;font-family:Menlo,'DejaVu Sans Mono',consolas,'Courier New',monospace\">Big whoop--it's Beyonce's birthday. My birthday's coming <span style=\"font-weight: bold\">(</span>Sept <span style=\"color: #008080; text-decoration-color: #008080; font-weight: bold\">13</span><span style=\"font-weight: bold\">)</span> and I bring just as joy to\npeople \n <span style=\"color: #008080; text-decoration-color: #008080; font-weight: bold\">1</span> <span style=\"color: #008080; text-decoration-color: #008080; font-weight: bold\">2</span>\n</pre>\n"
     },
     "metadata": {}
    },
    {
     "output_type": "display_data",
     "data": {
      "text/plain": "\u001b[32m\"I guess with DJ it's a Sunday thing and not a final round thing, and Paul Dunne? Are you \u001b[0m\n\u001b[32mkidding me? #OpenChampionship\"\u001b[0m \n \u001b[1;36m0\u001b[0m \u001b[1;36m1\u001b[0m\n",
      "text/html": "<pre style=\"white-space:pre;overflow-x:auto;line-height:normal;font-family:Menlo,'DejaVu Sans Mono',consolas,'Courier New',monospace\"><span style=\"color: #008000; text-decoration-color: #008000\">\"I guess with DJ it's a Sunday thing and not a final round thing, and Paul Dunne? Are you </span>\n<span style=\"color: #008000; text-decoration-color: #008000\">kidding me? #OpenChampionship\"</span> \n <span style=\"color: #008080; text-decoration-color: #008080; font-weight: bold\">0</span> <span style=\"color: #008080; text-decoration-color: #008080; font-weight: bold\">1</span>\n</pre>\n"
     },
     "metadata": {}
    },
    {
     "output_type": "display_data",
     "data": {
      "text/plain": "@user Heh, that's my line. I'll post some @user here tonight to protect it, then tomorrow \nwe'll let Twilight inspect it.\" \n \u001b[1;36m2\u001b[0m \u001b[1;36m1\u001b[0m\n",
      "text/html": "<pre style=\"white-space:pre;overflow-x:auto;line-height:normal;font-family:Menlo,'DejaVu Sans Mono',consolas,'Courier New',monospace\">@user Heh, that's my line. I'll post some @user here tonight to protect it, then tomorrow \nwe'll let Twilight inspect it.\" \n <span style=\"color: #008080; text-decoration-color: #008080; font-weight: bold\">2</span> <span style=\"color: #008080; text-decoration-color: #008080; font-weight: bold\">1</span>\n</pre>\n"
     },
     "metadata": {}
    },
    {
     "output_type": "display_data",
     "data": {
      "text/plain": "\u001b[32m\"i should get all my sh*t done tonight so i can go to the like, gay club tomorrow and try to \u001b[0m\n\u001b[32mfind FRIENDS but... but...\"\u001b[0m \n \u001b[1;36m1\u001b[0m \u001b[1;36m0\u001b[0m\n",
      "text/html": "<pre style=\"white-space:pre;overflow-x:auto;line-height:normal;font-family:Menlo,'DejaVu Sans Mono',consolas,'Courier New',monospace\"><span style=\"color: #008000; text-decoration-color: #008000\">\"i should get all my sh*t done tonight so i can go to the like, gay club tomorrow and try to </span>\n<span style=\"color: #008000; text-decoration-color: #008000\">find FRIENDS but... but...\"</span> \n <span style=\"color: #008080; text-decoration-color: #008080; font-weight: bold\">1</span> <span style=\"color: #008080; text-decoration-color: #008080; font-weight: bold\">0</span>\n</pre>\n"
     },
     "metadata": {}
    },
    {
     "output_type": "display_data",
     "data": {
      "text/plain": "@user I just rewatched the whole first season, for the 2nd time! This is blasphemy! In the \nwords of U2 \u001b[32m\"\"\u001b[0mI feel numb\"\u001b[32m\" #Hindsight\"\u001b[0m \n \u001b[1;36m1\u001b[0m \u001b[1;36m0\u001b[0m\n",
      "text/html": "<pre style=\"white-space:pre;overflow-x:auto;line-height:normal;font-family:Menlo,'DejaVu Sans Mono',consolas,'Courier New',monospace\">@user I just rewatched the whole first season, for the 2nd time! This is blasphemy! In the \nwords of U2 <span style=\"color: #008000; text-decoration-color: #008000\">\"\"</span>I feel numb\"<span style=\"color: #008000; text-decoration-color: #008000\">\" #Hindsight\"</span> \n <span style=\"color: #008080; text-decoration-color: #008080; font-weight: bold\">1</span> <span style=\"color: #008080; text-decoration-color: #008080; font-weight: bold\">0</span>\n</pre>\n"
     },
     "metadata": {}
    },
    {
     "output_type": "display_data",
     "data": {
      "text/plain": "@user going to Florida with the fam, I'ma be back Tuesday tho. don't trash the room up too \nmuch! lol.\" \n \u001b[1;36m2\u001b[0m \u001b[1;36m1\u001b[0m\n",
      "text/html": "<pre style=\"white-space:pre;overflow-x:auto;line-height:normal;font-family:Menlo,'DejaVu Sans Mono',consolas,'Courier New',monospace\">@user going to Florida with the fam, I'ma be back Tuesday tho. don't trash the room up too \nmuch! lol.\" \n <span style=\"color: #008080; text-decoration-color: #008080; font-weight: bold\">2</span> <span style=\"color: #008080; text-decoration-color: #008080; font-weight: bold\">1</span>\n</pre>\n"
     },
     "metadata": {}
    },
    {
     "output_type": "display_data",
     "data": {
      "text/plain": "Here's the AM message form PFBC this Sunday for those away for Labor Day\u001b[33m...\u001b[0m\u001b[32m\"Web of Lies\"\u001b[0m in \nActs \u001b[1;92m5:6\u001b[0m-\u001b[1;36m11\u001b[0m via @user \n \u001b[1;36m2\u001b[0m \u001b[1;36m1\u001b[0m\n",
      "text/html": "<pre style=\"white-space:pre;overflow-x:auto;line-height:normal;font-family:Menlo,'DejaVu Sans Mono',consolas,'Courier New',monospace\">Here's the AM message form PFBC this Sunday for those away for Labor Day<span style=\"color: #808000; text-decoration-color: #808000\">...</span><span style=\"color: #008000; text-decoration-color: #008000\">\"Web of Lies\"</span> in \nActs <span style=\"color: #00ff00; text-decoration-color: #00ff00; font-weight: bold\">5:6</span>-<span style=\"color: #008080; text-decoration-color: #008080; font-weight: bold\">11</span> via @user \n <span style=\"color: #008080; text-decoration-color: #008080; font-weight: bold\">2</span> <span style=\"color: #008080; text-decoration-color: #008080; font-weight: bold\">1</span>\n</pre>\n"
     },
     "metadata": {}
    },
    {
     "output_type": "display_data",
     "data": {
      "text/plain": "What's stopping Jay-Z, Puffy, \u001b[1;36m50\u001b[0m Cent, Lil Wayne from doing the same if they haven't already?\n@user  \n \u001b[1;36m0\u001b[0m \u001b[1;36m1\u001b[0m\n",
      "text/html": "<pre style=\"white-space:pre;overflow-x:auto;line-height:normal;font-family:Menlo,'DejaVu Sans Mono',consolas,'Courier New',monospace\">What's stopping Jay-Z, Puffy, <span style=\"color: #008080; text-decoration-color: #008080; font-weight: bold\">50</span> Cent, Lil Wayne from doing the same if they haven't already?\n@user  \n <span style=\"color: #008080; text-decoration-color: #008080; font-weight: bold\">0</span> <span style=\"color: #008080; text-decoration-color: #008080; font-weight: bold\">1</span>\n</pre>\n"
     },
     "metadata": {}
    },
    {
     "output_type": "display_data",
     "data": {
      "text/plain": "@user calibraska is 7th in Italy but no one can hear it because of the \u001b[32m'explicit'\u001b[0m \n#CalibraskaEP \n \u001b[1;36m1\u001b[0m \u001b[1;36m0\u001b[0m\n",
      "text/html": "<pre style=\"white-space:pre;overflow-x:auto;line-height:normal;font-family:Menlo,'DejaVu Sans Mono',consolas,'Courier New',monospace\">@user calibraska is 7th in Italy but no one can hear it because of the <span style=\"color: #008000; text-decoration-color: #008000\">'explicit'</span> \n#CalibraskaEP \n <span style=\"color: #008080; text-decoration-color: #008080; font-weight: bold\">1</span> <span style=\"color: #008080; text-decoration-color: #008080; font-weight: bold\">0</span>\n</pre>\n"
     },
     "metadata": {}
    },
    {
     "output_type": "display_data",
     "data": {
      "text/plain": "Jeb Bush fading from the presidential race and Hillary Clinton slowly dropping from the 30th \nmark in the presidential race\u001b[33m...\u001b[0m..  Obvious! \n \u001b[1;36m1\u001b[0m \u001b[1;36m0\u001b[0m\n",
      "text/html": "<pre style=\"white-space:pre;overflow-x:auto;line-height:normal;font-family:Menlo,'DejaVu Sans Mono',consolas,'Courier New',monospace\">Jeb Bush fading from the presidential race and Hillary Clinton slowly dropping from the 30th \nmark in the presidential race<span style=\"color: #808000; text-decoration-color: #808000\">...</span>..  Obvious! \n <span style=\"color: #008080; text-decoration-color: #008080; font-weight: bold\">1</span> <span style=\"color: #008080; text-decoration-color: #008080; font-weight: bold\">0</span>\n</pre>\n"
     },
     "metadata": {}
    },
    {
     "output_type": "display_data",
     "data": {
      "text/plain": "@user KL Live is REALLY COMPACT. My friend went for Beast's 1st showcase and it is REALLY \nsquashy. Just a heads up. \n \u001b[1;36m1\u001b[0m \u001b[1;36m0\u001b[0m\n",
      "text/html": "<pre style=\"white-space:pre;overflow-x:auto;line-height:normal;font-family:Menlo,'DejaVu Sans Mono',consolas,'Courier New',monospace\">@user KL Live is REALLY COMPACT. My friend went for Beast's 1st showcase and it is REALLY \nsquashy. Just a heads up. \n <span style=\"color: #008080; text-decoration-color: #008080; font-weight: bold\">1</span> <span style=\"color: #008080; text-decoration-color: #008080; font-weight: bold\">0</span>\n</pre>\n"
     },
     "metadata": {}
    },
    {
     "output_type": "display_data",
     "data": {
      "text/plain": "@user  Listening to the album right now \\u002c for the 20th time lol \\u002c I\\u2019m on \nPoetic Justice now \n \u001b[1;36m2\u001b[0m \u001b[1;36m1\u001b[0m\n",
      "text/html": "<pre style=\"white-space:pre;overflow-x:auto;line-height:normal;font-family:Menlo,'DejaVu Sans Mono',consolas,'Courier New',monospace\">@user  Listening to the album right now \\u002c for the 20th time lol \\u002c I\\u2019m on \nPoetic Justice now \n <span style=\"color: #008080; text-decoration-color: #008080; font-weight: bold\">2</span> <span style=\"color: #008080; text-decoration-color: #008080; font-weight: bold\">1</span>\n</pre>\n"
     },
     "metadata": {}
    },
    {
     "output_type": "display_data",
     "data": {
      "text/plain": "I can't believe I saw Ed Sheeran front fucking row at fucking red rocks and then the 2nd \nnight I snuck in and saw him 5th row \n \u001b[1;36m2\u001b[0m \u001b[1;36m0\u001b[0m\n",
      "text/html": "<pre style=\"white-space:pre;overflow-x:auto;line-height:normal;font-family:Menlo,'DejaVu Sans Mono',consolas,'Courier New',monospace\">I can't believe I saw Ed Sheeran front fucking row at fucking red rocks and then the 2nd \nnight I snuck in and saw him 5th row \n <span style=\"color: #008080; text-decoration-color: #008080; font-weight: bold\">2</span> <span style=\"color: #008080; text-decoration-color: #008080; font-weight: bold\">0</span>\n</pre>\n"
     },
     "metadata": {}
    },
    {
     "output_type": "display_data",
     "data": {
      "text/plain": "I'm getting strong mail that Eden Hazard will become a Roo tomorrow. Pick \u001b[1;36m39\u001b[0m & Garlett to \nwherever the f*ck Hazard plays soccer. Good deal \n \u001b[1;36m2\u001b[0m \u001b[1;36m1\u001b[0m\n",
      "text/html": "<pre style=\"white-space:pre;overflow-x:auto;line-height:normal;font-family:Menlo,'DejaVu Sans Mono',consolas,'Courier New',monospace\">I'm getting strong mail that Eden Hazard will become a Roo tomorrow. Pick <span style=\"color: #008080; text-decoration-color: #008080; font-weight: bold\">39</span> &amp; Garlett to \nwherever the f*ck Hazard plays soccer. Good deal \n <span style=\"color: #008080; text-decoration-color: #008080; font-weight: bold\">2</span> <span style=\"color: #008080; text-decoration-color: #008080; font-weight: bold\">1</span>\n</pre>\n"
     },
     "metadata": {}
    },
    {
     "output_type": "display_data",
     "data": {
      "text/plain": "@user MaxPreps photographer Jace Kessler will be on the sidelines tomorrow nite covering your\nVar Football game vs Ventura! \n \u001b[1;36m2\u001b[0m \u001b[1;36m1\u001b[0m\n",
      "text/html": "<pre style=\"white-space:pre;overflow-x:auto;line-height:normal;font-family:Menlo,'DejaVu Sans Mono',consolas,'Courier New',monospace\">@user MaxPreps photographer Jace Kessler will be on the sidelines tomorrow nite covering your\nVar Football game vs Ventura! \n <span style=\"color: #008080; text-decoration-color: #008080; font-weight: bold\">2</span> <span style=\"color: #008080; text-decoration-color: #008080; font-weight: bold\">1</span>\n</pre>\n"
     },
     "metadata": {}
    },
    {
     "output_type": "display_data",
     "data": {
      "text/plain": "Just put Twilight on then realised what had done and now I'm sat on my stairs thinking about \nmy actions. \n \u001b[1;36m1\u001b[0m \u001b[1;36m0\u001b[0m\n",
      "text/html": "<pre style=\"white-space:pre;overflow-x:auto;line-height:normal;font-family:Menlo,'DejaVu Sans Mono',consolas,'Courier New',monospace\">Just put Twilight on then realised what had done and now I'm sat on my stairs thinking about \nmy actions. \n <span style=\"color: #008080; text-decoration-color: #008080; font-weight: bold\">1</span> <span style=\"color: #008080; text-decoration-color: #008080; font-weight: bold\">0</span>\n</pre>\n"
     },
     "metadata": {}
    },
    {
     "output_type": "display_data",
     "data": {
      "text/plain": "@user @user Haha we're off round Claytons now then the Rising Sun later! \n \u001b[1;36m1\u001b[0m \u001b[1;36m2\u001b[0m\n",
      "text/html": "<pre style=\"white-space:pre;overflow-x:auto;line-height:normal;font-family:Menlo,'DejaVu Sans Mono',consolas,'Courier New',monospace\">@user @user Haha we're off round Claytons now then the Rising Sun later! \n <span style=\"color: #008080; text-decoration-color: #008080; font-weight: bold\">1</span> <span style=\"color: #008080; text-decoration-color: #008080; font-weight: bold\">2</span>\n</pre>\n"
     },
     "metadata": {}
    },
    {
     "output_type": "display_data",
     "data": {
      "text/plain": "Lord Sugar named best business role model in the UK + Kim Kardashian came 3rd as voted by \nstudents. Was Santa 2nd? \n \u001b[1;36m1\u001b[0m \u001b[1;36m2\u001b[0m\n",
      "text/html": "<pre style=\"white-space:pre;overflow-x:auto;line-height:normal;font-family:Menlo,'DejaVu Sans Mono',consolas,'Courier New',monospace\">Lord Sugar named best business role model in the UK + Kim Kardashian came 3rd as voted by \nstudents. Was Santa 2nd? \n <span style=\"color: #008080; text-decoration-color: #008080; font-weight: bold\">1</span> <span style=\"color: #008080; text-decoration-color: #008080; font-weight: bold\">2</span>\n</pre>\n"
     },
     "metadata": {}
    },
    {
     "output_type": "display_data",
     "data": {
      "text/plain": "@user @user Don't feel obliged to discuss #Dexter tonight. Living it large in Brighton so \nplease use direct messages\u001b[33m...\u001b[0m. \n \u001b[1;36m2\u001b[0m \u001b[1;36m1\u001b[0m\n",
      "text/html": "<pre style=\"white-space:pre;overflow-x:auto;line-height:normal;font-family:Menlo,'DejaVu Sans Mono',consolas,'Courier New',monospace\">@user @user Don't feel obliged to discuss #Dexter tonight. Living it large in Brighton so \nplease use direct messages<span style=\"color: #808000; text-decoration-color: #808000\">...</span>. \n <span style=\"color: #008080; text-decoration-color: #008080; font-weight: bold\">2</span> <span style=\"color: #008080; text-decoration-color: #008080; font-weight: bold\">1</span>\n</pre>\n"
     },
     "metadata": {}
    },
    {
     "output_type": "display_data",
     "data": {
      "text/plain": "Liverpool flop Mario Balotelli delivers remarkable Real Madrid SNUB with Barcelona JOKE: \nMar\u001b[33m...\u001b[0m ff @user \n \u001b[1;36m1\u001b[0m \u001b[1;36m2\u001b[0m\n",
      "text/html": "<pre style=\"white-space:pre;overflow-x:auto;line-height:normal;font-family:Menlo,'DejaVu Sans Mono',consolas,'Courier New',monospace\">Liverpool flop Mario Balotelli delivers remarkable Real Madrid SNUB with Barcelona JOKE: \nMar<span style=\"color: #808000; text-decoration-color: #808000\">...</span> ff @user \n <span style=\"color: #008080; text-decoration-color: #008080; font-weight: bold\">1</span> <span style=\"color: #008080; text-decoration-color: #008080; font-weight: bold\">2</span>\n</pre>\n"
     },
     "metadata": {}
    },
    {
     "output_type": "display_data",
     "data": {
      "text/plain": "Dustin Johnson hasn't recovered since Saturday at the Open Championship. Absolute head case \nright now \n \u001b[1;36m1\u001b[0m \u001b[1;36m0\u001b[0m\n",
      "text/html": "<pre style=\"white-space:pre;overflow-x:auto;line-height:normal;font-family:Menlo,'DejaVu Sans Mono',consolas,'Courier New',monospace\">Dustin Johnson hasn't recovered since Saturday at the Open Championship. Absolute head case \nright now \n <span style=\"color: #008080; text-decoration-color: #008080; font-weight: bold\">1</span> <span style=\"color: #008080; text-decoration-color: #008080; font-weight: bold\">0</span>\n</pre>\n"
     },
     "metadata": {}
    },
    {
     "output_type": "display_data",
     "data": {
      "text/plain": "@user No jack!! went on Rita last Sunday\u001b[33m...\u001b[0m And I swear I\\u2019ve got bruises on my head from\nit\\u002c it\\u2019s TOO fast! My head took a bashing! \n \u001b[1;36m1\u001b[0m \u001b[1;36m0\u001b[0m\n",
      "text/html": "<pre style=\"white-space:pre;overflow-x:auto;line-height:normal;font-family:Menlo,'DejaVu Sans Mono',consolas,'Courier New',monospace\">@user No jack!! went on Rita last Sunday<span style=\"color: #808000; text-decoration-color: #808000\">...</span> And I swear I\\u2019ve got bruises on my head from\nit\\u002c it\\u2019s TOO fast! My head took a bashing! \n <span style=\"color: #008080; text-decoration-color: #008080; font-weight: bold\">1</span> <span style=\"color: #008080; text-decoration-color: #008080; font-weight: bold\">0</span>\n</pre>\n"
     },
     "metadata": {}
    },
    {
     "output_type": "display_data",
     "data": {
      "text/plain": "Spent Labor Day on the campaign trail in New Hampshire, listening to Bernie Sanders \u001b[1m(\u001b[0mwho I'll\nwrite about Sunday\u001b[1m)\u001b[0m\u001b[33m...\u001b[0m \n \u001b[1;36m1\u001b[0m \u001b[1;36m2\u001b[0m\n",
      "text/html": "<pre style=\"white-space:pre;overflow-x:auto;line-height:normal;font-family:Menlo,'DejaVu Sans Mono',consolas,'Courier New',monospace\">Spent Labor Day on the campaign trail in New Hampshire, listening to Bernie Sanders <span style=\"font-weight: bold\">(</span>who I'll\nwrite about Sunday<span style=\"font-weight: bold\">)</span><span style=\"color: #808000; text-decoration-color: #808000\">...</span> \n <span style=\"color: #008080; text-decoration-color: #008080; font-weight: bold\">1</span> <span style=\"color: #008080; text-decoration-color: #008080; font-weight: bold\">2</span>\n</pre>\n"
     },
     "metadata": {}
    },
    {
     "output_type": "display_data",
     "data": {
      "text/plain": "\"I'm watching the movie Friday, on a Friday and I'm going to see Ice Cube next Friday \n \u001b[1;36m2\u001b[0m \u001b[1;36m1\u001b[0m\n",
      "text/html": "<pre style=\"white-space:pre;overflow-x:auto;line-height:normal;font-family:Menlo,'DejaVu Sans Mono',consolas,'Courier New',monospace\">\"I'm watching the movie Friday, on a Friday and I'm going to see Ice Cube next Friday \n <span style=\"color: #008080; text-decoration-color: #008080; font-weight: bold\">2</span> <span style=\"color: #008080; text-decoration-color: #008080; font-weight: bold\">1</span>\n</pre>\n"
     },
     "metadata": {}
    },
    {
     "output_type": "display_data",
     "data": {
      "text/plain": "It\\u2019s Josh Bradley\\u2019s birthday tomorrow. So what time is the party? LOL \n \u001b[1;36m2\u001b[0m \u001b[1;36m1\u001b[0m\n",
      "text/html": "<pre style=\"white-space:pre;overflow-x:auto;line-height:normal;font-family:Menlo,'DejaVu Sans Mono',consolas,'Courier New',monospace\">It\\u2019s Josh Bradley\\u2019s birthday tomorrow. So what time is the party? LOL \n <span style=\"color: #008080; text-decoration-color: #008080; font-weight: bold\">2</span> <span style=\"color: #008080; text-decoration-color: #008080; font-weight: bold\">1</span>\n</pre>\n"
     },
     "metadata": {}
    },
    {
     "output_type": "display_data",
     "data": {
      "text/plain": "@user @user my memory  doesnt have more space. So i cant download it :\u001b[1m(\u001b[0m but i'll try to \ndownload it tomorrow from iPad \n \u001b[1;36m1\u001b[0m \u001b[1;36m0\u001b[0m\n",
      "text/html": "<pre style=\"white-space:pre;overflow-x:auto;line-height:normal;font-family:Menlo,'DejaVu Sans Mono',consolas,'Courier New',monospace\">@user @user my memory  doesnt have more space. So i cant download it :<span style=\"font-weight: bold\">(</span> but i'll try to \ndownload it tomorrow from iPad \n <span style=\"color: #008080; text-decoration-color: #008080; font-weight: bold\">1</span> <span style=\"color: #008080; text-decoration-color: #008080; font-weight: bold\">0</span>\n</pre>\n"
     },
     "metadata": {}
    },
    {
     "output_type": "display_data",
     "data": {
      "text/plain": "Digne and Falque caused Juventus real problems down their left in the 1st half. #ASRoma \n#Juventus \n \u001b[1;36m1\u001b[0m \u001b[1;36m0\u001b[0m\n",
      "text/html": "<pre style=\"white-space:pre;overflow-x:auto;line-height:normal;font-family:Menlo,'DejaVu Sans Mono',consolas,'Courier New',monospace\">Digne and Falque caused Juventus real problems down their left in the 1st half. #ASRoma \n#Juventus \n <span style=\"color: #008080; text-decoration-color: #008080; font-weight: bold\">1</span> <span style=\"color: #008080; text-decoration-color: #008080; font-weight: bold\">0</span>\n</pre>\n"
     },
     "metadata": {}
    },
    {
     "output_type": "display_data",
     "data": {
      "text/plain": "ah the tables are now turned &amp; it is *Jon Stewart* who will be the one getting destroyed \nin every news headline tomorrow thanks to John Cena \n \u001b[1;36m1\u001b[0m \u001b[1;36m0\u001b[0m\n",
      "text/html": "<pre style=\"white-space:pre;overflow-x:auto;line-height:normal;font-family:Menlo,'DejaVu Sans Mono',consolas,'Courier New',monospace\">ah the tables are now turned &amp;amp; it is *Jon Stewart* who will be the one getting destroyed \nin every news headline tomorrow thanks to John Cena \n <span style=\"color: #008080; text-decoration-color: #008080; font-weight: bold\">1</span> <span style=\"color: #008080; text-decoration-color: #008080; font-weight: bold\">0</span>\n</pre>\n"
     },
     "metadata": {}
    },
    {
     "output_type": "display_data",
     "data": {
      "text/plain": "Amazon Prime Day really was better than Black Friday; I could look at all the crap I didn't \nwant from the comfort of my own home. \n \u001b[1;36m1\u001b[0m \u001b[1;36m2\u001b[0m\n",
      "text/html": "<pre style=\"white-space:pre;overflow-x:auto;line-height:normal;font-family:Menlo,'DejaVu Sans Mono',consolas,'Courier New',monospace\">Amazon Prime Day really was better than Black Friday; I could look at all the crap I didn't \nwant from the comfort of my own home. \n <span style=\"color: #008080; text-decoration-color: #008080; font-weight: bold\">1</span> <span style=\"color: #008080; text-decoration-color: #008080; font-weight: bold\">2</span>\n</pre>\n"
     },
     "metadata": {}
    },
    {
     "output_type": "display_data",
     "data": {
      "text/plain": "I need to log off now bc school starts tomorrow and I'm still not done with my summer hw. \nHave a Shawn pic \u001b[1m(\u001b[0mnot mine\u001b[1m)\u001b[0m \n \u001b[1;36m1\u001b[0m \u001b[1;36m0\u001b[0m\n",
      "text/html": "<pre style=\"white-space:pre;overflow-x:auto;line-height:normal;font-family:Menlo,'DejaVu Sans Mono',consolas,'Courier New',monospace\">I need to log off now bc school starts tomorrow and I'm still not done with my summer hw. \nHave a Shawn pic <span style=\"font-weight: bold\">(</span>not mine<span style=\"font-weight: bold\">)</span> \n <span style=\"color: #008080; text-decoration-color: #008080; font-weight: bold\">1</span> <span style=\"color: #008080; text-decoration-color: #008080; font-weight: bold\">0</span>\n</pre>\n"
     },
     "metadata": {}
    },
    {
     "output_type": "display_data",
     "data": {
      "text/plain": "\u001b[32m\"Thompson, White Sox rally to edge Red Sox: Trayce Thompson was 3-for-4 with 3 RBI Tuesday \u001b[0m\n\u001b[32mnight while li... #news\"\u001b[0m \n \u001b[1;36m2\u001b[0m \u001b[1;36m1\u001b[0m\n",
      "text/html": "<pre style=\"white-space:pre;overflow-x:auto;line-height:normal;font-family:Menlo,'DejaVu Sans Mono',consolas,'Courier New',monospace\"><span style=\"color: #008000; text-decoration-color: #008000\">\"Thompson, White Sox rally to edge Red Sox: Trayce Thompson was 3-for-4 with 3 RBI Tuesday </span>\n<span style=\"color: #008000; text-decoration-color: #008000\">night while li... #news\"</span> \n <span style=\"color: #008080; text-decoration-color: #008080; font-weight: bold\">2</span> <span style=\"color: #008080; text-decoration-color: #008080; font-weight: bold\">1</span>\n</pre>\n"
     },
     "metadata": {}
    },
    {
     "output_type": "display_data",
     "data": {
      "text/plain": "I'm going to miss so many broadcast at Digi tomorrow because of this dm an tournament \n \u001b[1;36m1\u001b[0m \u001b[1;36m0\u001b[0m\n",
      "text/html": "<pre style=\"white-space:pre;overflow-x:auto;line-height:normal;font-family:Menlo,'DejaVu Sans Mono',consolas,'Courier New',monospace\">I'm going to miss so many broadcast at Digi tomorrow because of this dm an tournament \n <span style=\"color: #008080; text-decoration-color: #008080; font-weight: bold\">1</span> <span style=\"color: #008080; text-decoration-color: #008080; font-weight: bold\">0</span>\n</pre>\n"
     },
     "metadata": {}
    },
    {
     "output_type": "display_data",
     "data": {
      "text/plain": "About last night: Kris Bryant wins a wild one with walk-off home run in the 9th. #Cubs \nphotos: \n \u001b[1;36m2\u001b[0m \u001b[1;36m1\u001b[0m\n",
      "text/html": "<pre style=\"white-space:pre;overflow-x:auto;line-height:normal;font-family:Menlo,'DejaVu Sans Mono',consolas,'Courier New',monospace\">About last night: Kris Bryant wins a wild one with walk-off home run in the 9th. #Cubs \nphotos: \n <span style=\"color: #008080; text-decoration-color: #008080; font-weight: bold\">2</span> <span style=\"color: #008080; text-decoration-color: #008080; font-weight: bold\">1</span>\n</pre>\n"
     },
     "metadata": {}
    },
    {
     "output_type": "display_data",
     "data": {
      "text/plain": "\"ABC: Giant pandas may be cute, but it takes a lot of work to support their lives in \ncaptivity: \n \u001b[1;36m1\u001b[0m \u001b[1;36m0\u001b[0m\n",
      "text/html": "<pre style=\"white-space:pre;overflow-x:auto;line-height:normal;font-family:Menlo,'DejaVu Sans Mono',consolas,'Courier New',monospace\">\"ABC: Giant pandas may be cute, but it takes a lot of work to support their lives in \ncaptivity: \n <span style=\"color: #008080; text-decoration-color: #008080; font-weight: bold\">1</span> <span style=\"color: #008080; text-decoration-color: #008080; font-weight: bold\">0</span>\n</pre>\n"
     },
     "metadata": {}
    },
    {
     "output_type": "display_data",
     "data": {
      "text/plain": "Gonna watch Final Destination \u001b[1;36m5\u001b[0m tonight. I always leave the theater so afraid of everything. \nNo huge escalators for sure :S \n \u001b[1;36m1\u001b[0m \u001b[1;36m0\u001b[0m\n",
      "text/html": "<pre style=\"white-space:pre;overflow-x:auto;line-height:normal;font-family:Menlo,'DejaVu Sans Mono',consolas,'Courier New',monospace\">Gonna watch Final Destination <span style=\"color: #008080; text-decoration-color: #008080; font-weight: bold\">5</span> tonight. I always leave the theater so afraid of everything. \nNo huge escalators for sure :S \n <span style=\"color: #008080; text-decoration-color: #008080; font-weight: bold\">1</span> <span style=\"color: #008080; text-decoration-color: #008080; font-weight: bold\">0</span>\n</pre>\n"
     },
     "metadata": {}
    },
    {
     "output_type": "display_data",
     "data": {
      "text/plain": "Me prepared for the Fancy Dress Ballroom Party this Sunday, wearing this MASK of BATMAN today\nto see how much it\u001b[33m...\u001b[0m \n \u001b[1;36m2\u001b[0m \u001b[1;36m1\u001b[0m\n",
      "text/html": "<pre style=\"white-space:pre;overflow-x:auto;line-height:normal;font-family:Menlo,'DejaVu Sans Mono',consolas,'Courier New',monospace\">Me prepared for the Fancy Dress Ballroom Party this Sunday, wearing this MASK of BATMAN today\nto see how much it<span style=\"color: #808000; text-decoration-color: #808000\">...</span> \n <span style=\"color: #008080; text-decoration-color: #008080; font-weight: bold\">2</span> <span style=\"color: #008080; text-decoration-color: #008080; font-weight: bold\">1</span>\n</pre>\n"
     },
     "metadata": {}
    },
    {
     "output_type": "display_data",
     "data": {
      "text/plain": "Not being funny but is it true that Saudi conceded that they got it wrong by declaring Eid on\nthe Friday ? \u001b[33m...\u001b[0m.. \n \u001b[1;36m1\u001b[0m \u001b[1;36m0\u001b[0m\n",
      "text/html": "<pre style=\"white-space:pre;overflow-x:auto;line-height:normal;font-family:Menlo,'DejaVu Sans Mono',consolas,'Courier New',monospace\">Not being funny but is it true that Saudi conceded that they got it wrong by declaring Eid on\nthe Friday ? <span style=\"color: #808000; text-decoration-color: #808000\">...</span>.. \n <span style=\"color: #008080; text-decoration-color: #008080; font-weight: bold\">1</span> <span style=\"color: #008080; text-decoration-color: #008080; font-weight: bold\">0</span>\n</pre>\n"
     },
     "metadata": {}
    },
    {
     "output_type": "display_data",
     "data": {
      "text/plain": "When I wake up tomorrow I'll be in a different country. Whoa! I didn't run into a David \nBeckham at the airport. That's a bummer. \n \u001b[1;36m2\u001b[0m \u001b[1;36m0\u001b[0m\n",
      "text/html": "<pre style=\"white-space:pre;overflow-x:auto;line-height:normal;font-family:Menlo,'DejaVu Sans Mono',consolas,'Courier New',monospace\">When I wake up tomorrow I'll be in a different country. Whoa! I didn't run into a David \nBeckham at the airport. That's a bummer. \n <span style=\"color: #008080; text-decoration-color: #008080; font-weight: bold\">2</span> <span style=\"color: #008080; text-decoration-color: #008080; font-weight: bold\">0</span>\n</pre>\n"
     },
     "metadata": {}
    },
    {
     "output_type": "display_data",
     "data": {
      "text/plain": "I'M SO SERIOUS. January is \u001b[1;36m5\u001b[0m months away so I thought everyone was talking about Zayn's \nbirthday. \n \u001b[1;36m1\u001b[0m \u001b[1;36m0\u001b[0m\n",
      "text/html": "<pre style=\"white-space:pre;overflow-x:auto;line-height:normal;font-family:Menlo,'DejaVu Sans Mono',consolas,'Courier New',monospace\">I'M SO SERIOUS. January is <span style=\"color: #008080; text-decoration-color: #008080; font-weight: bold\">5</span> months away so I thought everyone was talking about Zayn's \nbirthday. \n <span style=\"color: #008080; text-decoration-color: #008080; font-weight: bold\">1</span> <span style=\"color: #008080; text-decoration-color: #008080; font-weight: bold\">0</span>\n</pre>\n"
     },
     "metadata": {}
    },
    {
     "output_type": "display_data",
     "data": {
      "text/plain": "Can I just fast forward to the Ed Sheeran concert Saturday \n \u001b[1;36m2\u001b[0m \u001b[1;36m1\u001b[0m\n",
      "text/html": "<pre style=\"white-space:pre;overflow-x:auto;line-height:normal;font-family:Menlo,'DejaVu Sans Mono',consolas,'Courier New',monospace\">Can I just fast forward to the Ed Sheeran concert Saturday \n <span style=\"color: #008080; text-decoration-color: #008080; font-weight: bold\">2</span> <span style=\"color: #008080; text-decoration-color: #008080; font-weight: bold\">1</span>\n</pre>\n"
     },
     "metadata": {}
    },
    {
     "output_type": "display_data",
     "data": {
      "text/plain": "@user thank you sir Jonathan, on another note, Curtis tomorrow with Bryce Quandel and I?\" \n \u001b[1;36m1\u001b[0m \u001b[1;36m2\u001b[0m\n",
      "text/html": "<pre style=\"white-space:pre;overflow-x:auto;line-height:normal;font-family:Menlo,'DejaVu Sans Mono',consolas,'Courier New',monospace\">@user thank you sir Jonathan, on another note, Curtis tomorrow with Bryce Quandel and I?\" \n <span style=\"color: #008080; text-decoration-color: #008080; font-weight: bold\">1</span> <span style=\"color: #008080; text-decoration-color: #008080; font-weight: bold\">2</span>\n</pre>\n"
     },
     "metadata": {}
    },
    {
     "output_type": "display_data",
     "data": {
      "text/plain": "Was thinking about seeing JAWS at the Roxy on Wednesday\\u002c but now it seems I\\u2019ll be \nseeing BAIT 3D instead. It\\u2019ll be just as good\\u002c right? \n \u001b[1;36m1\u001b[0m \u001b[1;36m2\u001b[0m\n",
      "text/html": "<pre style=\"white-space:pre;overflow-x:auto;line-height:normal;font-family:Menlo,'DejaVu Sans Mono',consolas,'Courier New',monospace\">Was thinking about seeing JAWS at the Roxy on Wednesday\\u002c but now it seems I\\u2019ll be \nseeing BAIT 3D instead. It\\u2019ll be just as good\\u002c right? \n <span style=\"color: #008080; text-decoration-color: #008080; font-weight: bold\">1</span> <span style=\"color: #008080; text-decoration-color: #008080; font-weight: bold\">2</span>\n</pre>\n"
     },
     "metadata": {}
    },
    {
     "output_type": "display_data",
     "data": {
      "text/plain": "Phish, August 9th \u001b[1;36m1998\u001b[0m.. the day they covered Grateful Dead's Terrapin Station suite on \nanniversary of Jerry's death \n \u001b[1;36m2\u001b[0m \u001b[1;36m1\u001b[0m\n",
      "text/html": "<pre style=\"white-space:pre;overflow-x:auto;line-height:normal;font-family:Menlo,'DejaVu Sans Mono',consolas,'Courier New',monospace\">Phish, August 9th <span style=\"color: #008080; text-decoration-color: #008080; font-weight: bold\">1998</span>.. the day they covered Grateful Dead's Terrapin Station suite on \nanniversary of Jerry's death \n <span style=\"color: #008080; text-decoration-color: #008080; font-weight: bold\">2</span> <span style=\"color: #008080; text-decoration-color: #008080; font-weight: bold\">1</span>\n</pre>\n"
     },
     "metadata": {}
    },
    {
     "output_type": "display_data",
     "data": {
      "text/plain": "@user may i also remind you Milan  was one the original clubs punished in the scandle \n \u001b[1;36m0\u001b[0m \u001b[1;36m1\u001b[0m\n",
      "text/html": "<pre style=\"white-space:pre;overflow-x:auto;line-height:normal;font-family:Menlo,'DejaVu Sans Mono',consolas,'Courier New',monospace\">@user may i also remind you Milan  was one the original clubs punished in the scandle \n <span style=\"color: #008080; text-decoration-color: #008080; font-weight: bold\">0</span> <span style=\"color: #008080; text-decoration-color: #008080; font-weight: bold\">1</span>\n</pre>\n"
     },
     "metadata": {}
    },
    {
     "output_type": "display_data",
     "data": {
      "text/plain": "Performing with black artist doesn't take away the fact that Nicki gave you a 3rd degree burn\nwith her tea hunty.  \n \u001b[1;36m1\u001b[0m \u001b[1;36m0\u001b[0m\n",
      "text/html": "<pre style=\"white-space:pre;overflow-x:auto;line-height:normal;font-family:Menlo,'DejaVu Sans Mono',consolas,'Courier New',monospace\">Performing with black artist doesn't take away the fact that Nicki gave you a 3rd degree burn\nwith her tea hunty.  \n <span style=\"color: #008080; text-decoration-color: #008080; font-weight: bold\">1</span> <span style=\"color: #008080; text-decoration-color: #008080; font-weight: bold\">0</span>\n</pre>\n"
     },
     "metadata": {}
    },
    {
     "output_type": "display_data",
     "data": {
      "text/plain": "Josh Hamilton the best 1st pitch player in baseball gets a slow hanging curveball down the \nmiddle &amp; just looks at it. Lol \n \u001b[1;36m1\u001b[0m \u001b[1;36m2\u001b[0m\n",
      "text/html": "<pre style=\"white-space:pre;overflow-x:auto;line-height:normal;font-family:Menlo,'DejaVu Sans Mono',consolas,'Courier New',monospace\">Josh Hamilton the best 1st pitch player in baseball gets a slow hanging curveball down the \nmiddle &amp;amp; just looks at it. Lol \n <span style=\"color: #008080; text-decoration-color: #008080; font-weight: bold\">1</span> <span style=\"color: #008080; text-decoration-color: #008080; font-weight: bold\">2</span>\n</pre>\n"
     },
     "metadata": {}
    },
    {
     "output_type": "display_data",
     "data": {
      "text/plain": "Disappointed the Knicks vs Nets game got canceled tonight\\u002c but I\\u2019m even more hyped \nfor Knicks vs Heat on Friday! \n \u001b[1;36m0\u001b[0m \u001b[1;36m2\u001b[0m\n",
      "text/html": "<pre style=\"white-space:pre;overflow-x:auto;line-height:normal;font-family:Menlo,'DejaVu Sans Mono',consolas,'Courier New',monospace\">Disappointed the Knicks vs Nets game got canceled tonight\\u002c but I\\u2019m even more hyped \nfor Knicks vs Heat on Friday! \n <span style=\"color: #008080; text-decoration-color: #008080; font-weight: bold\">0</span> <span style=\"color: #008080; text-decoration-color: #008080; font-weight: bold\">2</span>\n</pre>\n"
     },
     "metadata": {}
    },
    {
     "output_type": "display_data",
     "data": {
      "text/plain": "if Selena will release the single next Monday with Taylor's new song she can kiss #\u001b[1;36m1\u001b[0m on \niTunes goodbye \n \u001b[1;36m0\u001b[0m \u001b[1;36m1\u001b[0m\n",
      "text/html": "<pre style=\"white-space:pre;overflow-x:auto;line-height:normal;font-family:Menlo,'DejaVu Sans Mono',consolas,'Courier New',monospace\">if Selena will release the single next Monday with Taylor's new song she can kiss #<span style=\"color: #008080; text-decoration-color: #008080; font-weight: bold\">1</span> on \niTunes goodbye \n <span style=\"color: #008080; text-decoration-color: #008080; font-weight: bold\">0</span> <span style=\"color: #008080; text-decoration-color: #008080; font-weight: bold\">1</span>\n</pre>\n"
     },
     "metadata": {}
    },
    {
     "output_type": "display_data",
     "data": {
      "text/plain": "I could be going to digi tomorrow but I thought I was supposed to be seeing the girls but \nthey cancelled lmao \n \u001b[1;36m1\u001b[0m \u001b[1;36m0\u001b[0m\n",
      "text/html": "<pre style=\"white-space:pre;overflow-x:auto;line-height:normal;font-family:Menlo,'DejaVu Sans Mono',consolas,'Courier New',monospace\">I could be going to digi tomorrow but I thought I was supposed to be seeing the girls but \nthey cancelled lmao \n <span style=\"color: #008080; text-decoration-color: #008080; font-weight: bold\">1</span> <span style=\"color: #008080; text-decoration-color: #008080; font-weight: bold\">0</span>\n</pre>\n"
     },
     "metadata": {}
    },
    {
     "output_type": "display_data",
     "data": {
      "text/plain": "Sept \u001b[1;36m17\u001b[0m video chat: running DevOps in hybrid cloud with @user and IBM experts. \n \u001b[1;36m1\u001b[0m \u001b[1;36m2\u001b[0m\n",
      "text/html": "<pre style=\"white-space:pre;overflow-x:auto;line-height:normal;font-family:Menlo,'DejaVu Sans Mono',consolas,'Courier New',monospace\">Sept <span style=\"color: #008080; text-decoration-color: #008080; font-weight: bold\">17</span> video chat: running DevOps in hybrid cloud with @user and IBM experts. \n <span style=\"color: #008080; text-decoration-color: #008080; font-weight: bold\">1</span> <span style=\"color: #008080; text-decoration-color: #008080; font-weight: bold\">2</span>\n</pre>\n"
     },
     "metadata": {}
    },
    {
     "output_type": "display_data",
     "data": {
      "text/plain": "@user I honestly find it difficult to imagine a reader not knowing that Watchman was a 1st \nattempt with serious issues. \n \u001b[1;36m1\u001b[0m \u001b[1;36m0\u001b[0m\n",
      "text/html": "<pre style=\"white-space:pre;overflow-x:auto;line-height:normal;font-family:Menlo,'DejaVu Sans Mono',consolas,'Courier New',monospace\">@user I honestly find it difficult to imagine a reader not knowing that Watchman was a 1st \nattempt with serious issues. \n <span style=\"color: #008080; text-decoration-color: #008080; font-weight: bold\">1</span> <span style=\"color: #008080; text-decoration-color: #008080; font-weight: bold\">0</span>\n</pre>\n"
     },
     "metadata": {}
    },
    {
     "output_type": "display_data",
     "data": {
      "text/plain": "@user WAIT WHAT?!?! SCOTUS makes laws!?!? since when? have i been lied to my entire 8th grade\nyear about gov? \u001b[1m(\u001b[0msarcasm intended\u001b[1m)\u001b[0m \n \u001b[1;36m1\u001b[0m \u001b[1;36m0\u001b[0m\n",
      "text/html": "<pre style=\"white-space:pre;overflow-x:auto;line-height:normal;font-family:Menlo,'DejaVu Sans Mono',consolas,'Courier New',monospace\">@user WAIT WHAT?!?! SCOTUS makes laws!?!? since when? have i been lied to my entire 8th grade\nyear about gov? <span style=\"font-weight: bold\">(</span>sarcasm intended<span style=\"font-weight: bold\">)</span> \n <span style=\"color: #008080; text-decoration-color: #008080; font-weight: bold\">1</span> <span style=\"color: #008080; text-decoration-color: #008080; font-weight: bold\">0</span>\n</pre>\n"
     },
     "metadata": {}
    },
    {
     "output_type": "display_data",
     "data": {
      "text/plain": "Life is so difficult; especially when you need to decide to spend money on dorm stuff or if \nyou want to buy chick-fil-a and dunkin tomorrow \n \u001b[1;36m1\u001b[0m \u001b[1;36m0\u001b[0m\n",
      "text/html": "<pre style=\"white-space:pre;overflow-x:auto;line-height:normal;font-family:Menlo,'DejaVu Sans Mono',consolas,'Courier New',monospace\">Life is so difficult; especially when you need to decide to spend money on dorm stuff or if \nyou want to buy chick-fil-a and dunkin tomorrow \n <span style=\"color: #008080; text-decoration-color: #008080; font-weight: bold\">1</span> <span style=\"color: #008080; text-decoration-color: #008080; font-weight: bold\">0</span>\n</pre>\n"
     },
     "metadata": {}
    },
    {
     "output_type": "display_data",
     "data": {
      "text/plain": "Interested to see what kind of ratings the U.S. Open final gets on Saturday with Serena \npresumably going for history up against CFB. \n \u001b[1;36m2\u001b[0m \u001b[1;36m1\u001b[0m\n",
      "text/html": "<pre style=\"white-space:pre;overflow-x:auto;line-height:normal;font-family:Menlo,'DejaVu Sans Mono',consolas,'Courier New',monospace\">Interested to see what kind of ratings the U.S. Open final gets on Saturday with Serena \npresumably going for history up against CFB. \n <span style=\"color: #008080; text-decoration-color: #008080; font-weight: bold\">2</span> <span style=\"color: #008080; text-decoration-color: #008080; font-weight: bold\">1</span>\n</pre>\n"
     },
     "metadata": {}
    },
    {
     "output_type": "display_data",
     "data": {
      "text/plain": "@user I'm from Halifax, Nova Scotia. Not sure if we will go on March break, I'll have to see \nas it gets closer. Why?\" \n \u001b[1;36m0\u001b[0m \u001b[1;36m1\u001b[0m\n",
      "text/html": "<pre style=\"white-space:pre;overflow-x:auto;line-height:normal;font-family:Menlo,'DejaVu Sans Mono',consolas,'Courier New',monospace\">@user I'm from Halifax, Nova Scotia. Not sure if we will go on March break, I'll have to see \nas it gets closer. Why?\" \n <span style=\"color: #008080; text-decoration-color: #008080; font-weight: bold\">0</span> <span style=\"color: #008080; text-decoration-color: #008080; font-weight: bold\">1</span>\n</pre>\n"
     },
     "metadata": {}
    },
    {
     "output_type": "display_data",
     "data": {
      "text/plain": "\u001b[32m\"Leo eyes record, Barca seek boost: In the week that he marked the 10th anniversary of his \u001b[0m\n\u001b[32mcompetitive... #femnath\"\u001b[0m \n \u001b[1;36m2\u001b[0m \u001b[1;36m1\u001b[0m\n",
      "text/html": "<pre style=\"white-space:pre;overflow-x:auto;line-height:normal;font-family:Menlo,'DejaVu Sans Mono',consolas,'Courier New',monospace\"><span style=\"color: #008000; text-decoration-color: #008000\">\"Leo eyes record, Barca seek boost: In the week that he marked the 10th anniversary of his </span>\n<span style=\"color: #008000; text-decoration-color: #008000\">competitive... #femnath\"</span> \n <span style=\"color: #008080; text-decoration-color: #008080; font-weight: bold\">2</span> <span style=\"color: #008080; text-decoration-color: #008080; font-weight: bold\">1</span>\n</pre>\n"
     },
     "metadata": {}
    },
    {
     "output_type": "display_data",
     "data": {
      "text/plain": "I just found that Barcelona and Real Madrid are playing on Sunday\u001b[33m...\u001b[0m I need sleeping pills\u001b[33m...\u001b[0m\n \u001b[1;36m1\u001b[0m \u001b[1;36m0\u001b[0m\n",
      "text/html": "<pre style=\"white-space:pre;overflow-x:auto;line-height:normal;font-family:Menlo,'DejaVu Sans Mono',consolas,'Courier New',monospace\">I just found that Barcelona and Real Madrid are playing on Sunday<span style=\"color: #808000; text-decoration-color: #808000\">...</span> I need sleeping pills<span style=\"color: #808000; text-decoration-color: #808000\">...</span>\n <span style=\"color: #008080; text-decoration-color: #008080; font-weight: bold\">1</span> <span style=\"color: #008080; text-decoration-color: #008080; font-weight: bold\">0</span>\n</pre>\n"
     },
     "metadata": {}
    },
    {
     "output_type": "display_data",
     "data": {
      "text/plain": "I'm just sat here waiting for work to come around and Jimmy's at the Ice Cube q+a and I've \njust missed an opportunity to interview Kurt Vile \n \u001b[1;36m1\u001b[0m \u001b[1;36m0\u001b[0m\n",
      "text/html": "<pre style=\"white-space:pre;overflow-x:auto;line-height:normal;font-family:Menlo,'DejaVu Sans Mono',consolas,'Courier New',monospace\">I'm just sat here waiting for work to come around and Jimmy's at the Ice Cube q+a and I've \njust missed an opportunity to interview Kurt Vile \n <span style=\"color: #008080; text-decoration-color: #008080; font-weight: bold\">1</span> <span style=\"color: #008080; text-decoration-color: #008080; font-weight: bold\">0</span>\n</pre>\n"
     },
     "metadata": {}
    },
    {
     "output_type": "display_data",
     "data": {
      "text/plain": "\u001b[32m\"Nigeria's military said Monday it had \"\u001b[0m\u001b[32m\"besieged\"\u001b[0m\" Boko Haram positions in the Islamist \nmilitant group's\u001b[33m...\u001b[0m \n \u001b[1;36m2\u001b[0m \u001b[1;36m1\u001b[0m\n",
      "text/html": "<pre style=\"white-space:pre;overflow-x:auto;line-height:normal;font-family:Menlo,'DejaVu Sans Mono',consolas,'Courier New',monospace\"><span style=\"color: #008000; text-decoration-color: #008000\">\"Nigeria's military said Monday it had \"\"besieged\"</span>\" Boko Haram positions in the Islamist \nmilitant group's<span style=\"color: #808000; text-decoration-color: #808000\">...</span> \n <span style=\"color: #008080; text-decoration-color: #008080; font-weight: bold\">2</span> <span style=\"color: #008080; text-decoration-color: #008080; font-weight: bold\">1</span>\n</pre>\n"
     },
     "metadata": {}
    },
    {
     "output_type": "display_data",
     "data": {
      "text/plain": "Going to see Paper Towns on Saturday. I'm hoping it does the book justice. \n \u001b[1;36m1\u001b[0m \u001b[1;36m2\u001b[0m\n",
      "text/html": "<pre style=\"white-space:pre;overflow-x:auto;line-height:normal;font-family:Menlo,'DejaVu Sans Mono',consolas,'Courier New',monospace\">Going to see Paper Towns on Saturday. I'm hoping it does the book justice. \n <span style=\"color: #008080; text-decoration-color: #008080; font-weight: bold\">1</span> <span style=\"color: #008080; text-decoration-color: #008080; font-weight: bold\">2</span>\n</pre>\n"
     },
     "metadata": {}
    },
    {
     "output_type": "display_data",
     "data": {
      "text/plain": "Someone should have told Thor that sun in is just for hair and not for eyebrows \n \u001b[1;36m0\u001b[0m \u001b[1;36m1\u001b[0m\n",
      "text/html": "<pre style=\"white-space:pre;overflow-x:auto;line-height:normal;font-family:Menlo,'DejaVu Sans Mono',consolas,'Courier New',monospace\">Someone should have told Thor that sun in is just for hair and not for eyebrows \n <span style=\"color: #008080; text-decoration-color: #008080; font-weight: bold\">0</span> <span style=\"color: #008080; text-decoration-color: #008080; font-weight: bold\">1</span>\n</pre>\n"
     },
     "metadata": {}
    },
    {
     "output_type": "display_data",
     "data": {
      "text/plain": "@user is true that you will give two concerts in Mexico City on \u001b[1;36m01\u001b[0m & October \u001b[1;36m02\u001b[0m, please tell \nme because not enough tickets TE AMO\" \n \u001b[1;36m2\u001b[0m \u001b[1;36m1\u001b[0m\n",
      "text/html": "<pre style=\"white-space:pre;overflow-x:auto;line-height:normal;font-family:Menlo,'DejaVu Sans Mono',consolas,'Courier New',monospace\">@user is true that you will give two concerts in Mexico City on <span style=\"color: #008080; text-decoration-color: #008080; font-weight: bold\">01</span> &amp; October <span style=\"color: #008080; text-decoration-color: #008080; font-weight: bold\">02</span>, please tell \nme because not enough tickets TE AMO\" \n <span style=\"color: #008080; text-decoration-color: #008080; font-weight: bold\">2</span> <span style=\"color: #008080; text-decoration-color: #008080; font-weight: bold\">1</span>\n</pre>\n"
     },
     "metadata": {}
    },
    {
     "output_type": "display_data",
     "data": {
      "text/plain": "\u001b[32m\"\\\"\"\u001b[0m\u001b[32m\"\"\u001b[0m@itsmekatsumi: Cupid doesn\\u2019t lie but you won\\u2019t know unless you give it a \ntry\\\"\u001b[32m\"\"\u001b[0m\u001b[32m\" wwooww.may pinaghuhugutan!\"\u001b[0m \n \u001b[1;36m2\u001b[0m \u001b[1;36m1\u001b[0m\n",
      "text/html": "<pre style=\"white-space:pre;overflow-x:auto;line-height:normal;font-family:Menlo,'DejaVu Sans Mono',consolas,'Courier New',monospace\"><span style=\"color: #008000; text-decoration-color: #008000\">\"\\\"\"\"\"</span>@itsmekatsumi: Cupid doesn\\u2019t lie but you won\\u2019t know unless you give it a \ntry\\\"<span style=\"color: #008000; text-decoration-color: #008000\">\"\"\" wwooww.may pinaghuhugutan!\"</span> \n <span style=\"color: #008080; text-decoration-color: #008080; font-weight: bold\">2</span> <span style=\"color: #008080; text-decoration-color: #008080; font-weight: bold\">1</span>\n</pre>\n"
     },
     "metadata": {}
    },
    {
     "output_type": "display_data",
     "data": {
      "text/plain": "@user how about you &amp; I go see Janet Jackson in Dallas for her Unbreakable tour Jan. \u001b[1;36m24\u001b[0m? \n \u001b[1;36m1\u001b[0m \u001b[1;36m2\u001b[0m\n",
      "text/html": "<pre style=\"white-space:pre;overflow-x:auto;line-height:normal;font-family:Menlo,'DejaVu Sans Mono',consolas,'Courier New',monospace\">@user how about you &amp;amp; I go see Janet Jackson in Dallas for her Unbreakable tour Jan. <span style=\"color: #008080; text-decoration-color: #008080; font-weight: bold\">24</span>? \n <span style=\"color: #008080; text-decoration-color: #008080; font-weight: bold\">1</span> <span style=\"color: #008080; text-decoration-color: #008080; font-weight: bold\">2</span>\n</pre>\n"
     },
     "metadata": {}
    },
    {
     "output_type": "display_data",
     "data": {
      "text/plain": "Relatives of the \u001b[1;36m200\u001b[0m Nigerian schoolgirls kidnapped by Boko Haram will hold a march &amp; \ncandle-lit vigil to mark \u001b[1;36m500\u001b[0m days since the abductions \n \u001b[1;36m2\u001b[0m \u001b[1;36m1\u001b[0m\n",
      "text/html": "<pre style=\"white-space:pre;overflow-x:auto;line-height:normal;font-family:Menlo,'DejaVu Sans Mono',consolas,'Courier New',monospace\">Relatives of the <span style=\"color: #008080; text-decoration-color: #008080; font-weight: bold\">200</span> Nigerian schoolgirls kidnapped by Boko Haram will hold a march &amp;amp; \ncandle-lit vigil to mark <span style=\"color: #008080; text-decoration-color: #008080; font-weight: bold\">500</span> days since the abductions \n <span style=\"color: #008080; text-decoration-color: #008080; font-weight: bold\">2</span> <span style=\"color: #008080; text-decoration-color: #008080; font-weight: bold\">1</span>\n</pre>\n"
     },
     "metadata": {}
    },
    {
     "output_type": "display_data",
     "data": {
      "text/plain": "@user Look at SPX daily in early June \u001b[1;36m2012\u001b[0m. It bottomed the day after SPX 200d SMA was \nsliced. This time, 200d was sliced yesterday.\" \n \u001b[1;36m0\u001b[0m \u001b[1;36m1\u001b[0m\n",
      "text/html": "<pre style=\"white-space:pre;overflow-x:auto;line-height:normal;font-family:Menlo,'DejaVu Sans Mono',consolas,'Courier New',monospace\">@user Look at SPX daily in early June <span style=\"color: #008080; text-decoration-color: #008080; font-weight: bold\">2012</span>. It bottomed the day after SPX 200d SMA was \nsliced. This time, 200d was sliced yesterday.\" \n <span style=\"color: #008080; text-decoration-color: #008080; font-weight: bold\">0</span> <span style=\"color: #008080; text-decoration-color: #008080; font-weight: bold\">1</span>\n</pre>\n"
     },
     "metadata": {}
    },
    {
     "output_type": "display_data",
     "data": {
      "text/plain": "Sunday World Man charged with IRA membership granted bail \n \u001b[1;36m0\u001b[0m \u001b[1;36m1\u001b[0m\n",
      "text/html": "<pre style=\"white-space:pre;overflow-x:auto;line-height:normal;font-family:Menlo,'DejaVu Sans Mono',consolas,'Courier New',monospace\">Sunday World Man charged with IRA membership granted bail \n <span style=\"color: #008080; text-decoration-color: #008080; font-weight: bold\">0</span> <span style=\"color: #008080; text-decoration-color: #008080; font-weight: bold\">1</span>\n</pre>\n"
     },
     "metadata": {}
    },
    {
     "output_type": "display_data",
     "data": {
      "text/plain": "On November 18th \u001b[1;36m1998\u001b[0m, Nintendo released the Game Boy Color. The first handheld allowed to be\nowned by POC. #BullshitHistory \n \u001b[1;36m2\u001b[0m \u001b[1;36m1\u001b[0m\n",
      "text/html": "<pre style=\"white-space:pre;overflow-x:auto;line-height:normal;font-family:Menlo,'DejaVu Sans Mono',consolas,'Courier New',monospace\">On November 18th <span style=\"color: #008080; text-decoration-color: #008080; font-weight: bold\">1998</span>, Nintendo released the Game Boy Color. The first handheld allowed to be\nowned by POC. #BullshitHistory \n <span style=\"color: #008080; text-decoration-color: #008080; font-weight: bold\">2</span> <span style=\"color: #008080; text-decoration-color: #008080; font-weight: bold\">1</span>\n</pre>\n"
     },
     "metadata": {}
    },
    {
     "output_type": "display_data",
     "data": {
      "text/plain": "\u001b[32m\"If John Cena is really behind the WWE keeping the belt on Nikki, I may not be in love with \u001b[0m\n\u001b[32mhim anymore.\"\u001b[0m \n \u001b[1;36m1\u001b[0m \u001b[1;36m0\u001b[0m\n",
      "text/html": "<pre style=\"white-space:pre;overflow-x:auto;line-height:normal;font-family:Menlo,'DejaVu Sans Mono',consolas,'Courier New',monospace\"><span style=\"color: #008000; text-decoration-color: #008000\">\"If John Cena is really behind the WWE keeping the belt on Nikki, I may not be in love with </span>\n<span style=\"color: #008000; text-decoration-color: #008000\">him anymore.\"</span> \n <span style=\"color: #008080; text-decoration-color: #008080; font-weight: bold\">1</span> <span style=\"color: #008080; text-decoration-color: #008080; font-weight: bold\">0</span>\n</pre>\n"
     },
     "metadata": {}
    },
    {
     "output_type": "display_data",
     "data": {
      "text/plain": "Finished season \u001b[1;36m3\u001b[0m of the league and am now finally watching Act Of Valor. Operation lazy \nSaturday night nearing completion. \n \u001b[1;36m1\u001b[0m \u001b[1;36m2\u001b[0m\n",
      "text/html": "<pre style=\"white-space:pre;overflow-x:auto;line-height:normal;font-family:Menlo,'DejaVu Sans Mono',consolas,'Courier New',monospace\">Finished season <span style=\"color: #008080; text-decoration-color: #008080; font-weight: bold\">3</span> of the league and am now finally watching Act Of Valor. Operation lazy \nSaturday night nearing completion. \n <span style=\"color: #008080; text-decoration-color: #008080; font-weight: bold\">1</span> <span style=\"color: #008080; text-decoration-color: #008080; font-weight: bold\">2</span>\n</pre>\n"
     },
     "metadata": {}
    },
    {
     "output_type": "display_data",
     "data": {
      "text/plain": "Chuck Norris wears sun glasses to protect the sun from his eyes. \n \u001b[1;36m2\u001b[0m \u001b[1;36m1\u001b[0m\n",
      "text/html": "<pre style=\"white-space:pre;overflow-x:auto;line-height:normal;font-family:Menlo,'DejaVu Sans Mono',consolas,'Courier New',monospace\">Chuck Norris wears sun glasses to protect the sun from his eyes. \n <span style=\"color: #008080; text-decoration-color: #008080; font-weight: bold\">2</span> <span style=\"color: #008080; text-decoration-color: #008080; font-weight: bold\">1</span>\n</pre>\n"
     },
     "metadata": {}
    },
    {
     "output_type": "display_data",
     "data": {
      "text/plain": "@user I hope someone asks Harper why the team bailed in the 7th inning \n \u001b[1;36m0\u001b[0m \u001b[1;36m1\u001b[0m\n",
      "text/html": "<pre style=\"white-space:pre;overflow-x:auto;line-height:normal;font-family:Menlo,'DejaVu Sans Mono',consolas,'Courier New',monospace\">@user I hope someone asks Harper why the team bailed in the 7th inning \n <span style=\"color: #008080; text-decoration-color: #008080; font-weight: bold\">0</span> <span style=\"color: #008080; text-decoration-color: #008080; font-weight: bold\">1</span>\n</pre>\n"
     },
     "metadata": {}
    },
    {
     "output_type": "display_data",
     "data": {
      "text/plain": "Christians News Christian Wilhelmsson: How Chippen Will Help the Los Angeles Galaxy May it be\nworthy. \n \u001b[1;36m2\u001b[0m \u001b[1;36m1\u001b[0m\n",
      "text/html": "<pre style=\"white-space:pre;overflow-x:auto;line-height:normal;font-family:Menlo,'DejaVu Sans Mono',consolas,'Courier New',monospace\">Christians News Christian Wilhelmsson: How Chippen Will Help the Los Angeles Galaxy May it be\nworthy. \n <span style=\"color: #008080; text-decoration-color: #008080; font-weight: bold\">2</span> <span style=\"color: #008080; text-decoration-color: #008080; font-weight: bold\">1</span>\n</pre>\n"
     },
     "metadata": {}
    },
    {
     "output_type": "display_data",
     "data": {
      "text/plain": "PUMPED to open the season tomorrow night against Georgetown!  Women\\u2019s Preview: | \nMen\\u2019s Preview: \n \u001b[1;36m2\u001b[0m \u001b[1;36m1\u001b[0m\n",
      "text/html": "<pre style=\"white-space:pre;overflow-x:auto;line-height:normal;font-family:Menlo,'DejaVu Sans Mono',consolas,'Courier New',monospace\">PUMPED to open the season tomorrow night against Georgetown!  Women\\u2019s Preview: | \nMen\\u2019s Preview: \n <span style=\"color: #008080; text-decoration-color: #008080; font-weight: bold\">2</span> <span style=\"color: #008080; text-decoration-color: #008080; font-weight: bold\">1</span>\n</pre>\n"
     },
     "metadata": {}
    },
    {
     "output_type": "display_data",
     "data": {
      "text/plain": "\"Team CK vs Demolition on November 17th at the American Legion Post \u001b[1;36m80\u001b[0m, Main St. in \nBinghamton NY. Get your tickets now! \n \u001b[1;36m2\u001b[0m \u001b[1;36m1\u001b[0m\n",
      "text/html": "<pre style=\"white-space:pre;overflow-x:auto;line-height:normal;font-family:Menlo,'DejaVu Sans Mono',consolas,'Courier New',monospace\">\"Team CK vs Demolition on November 17th at the American Legion Post <span style=\"color: #008080; text-decoration-color: #008080; font-weight: bold\">80</span>, Main St. in \nBinghamton NY. Get your tickets now! \n <span style=\"color: #008080; text-decoration-color: #008080; font-weight: bold\">2</span> <span style=\"color: #008080; text-decoration-color: #008080; font-weight: bold\">1</span>\n</pre>\n"
     },
     "metadata": {}
    },
    {
     "output_type": "display_data",
     "data": {
      "text/plain": "@user if you're interested\u001b[33m...\u001b[0m Mansbridge's Harper interview. Justin tomorrow, Mulcair \nWednesday. \n \u001b[1;36m2\u001b[0m \u001b[1;36m1\u001b[0m\n",
      "text/html": "<pre style=\"white-space:pre;overflow-x:auto;line-height:normal;font-family:Menlo,'DejaVu Sans Mono',consolas,'Courier New',monospace\">@user if you're interested<span style=\"color: #808000; text-decoration-color: #808000\">...</span> Mansbridge's Harper interview. Justin tomorrow, Mulcair \nWednesday. \n <span style=\"color: #008080; text-decoration-color: #008080; font-weight: bold\">2</span> <span style=\"color: #008080; text-decoration-color: #008080; font-weight: bold\">1</span>\n</pre>\n"
     },
     "metadata": {}
    },
    {
     "output_type": "display_data",
     "data": {
      "text/plain": "going to kms because I didn't check fantasy before thursday and left arian foster on my \nbench\u001b[33m...\u001b[0m he got \u001b[1;36m25\u001b[0m points \n \u001b[1;36m2\u001b[0m \u001b[1;36m1\u001b[0m\n",
      "text/html": "<pre style=\"white-space:pre;overflow-x:auto;line-height:normal;font-family:Menlo,'DejaVu Sans Mono',consolas,'Courier New',monospace\">going to kms because I didn't check fantasy before thursday and left arian foster on my \nbench<span style=\"color: #808000; text-decoration-color: #808000\">...</span> he got <span style=\"color: #008080; text-decoration-color: #008080; font-weight: bold\">25</span> points \n <span style=\"color: #008080; text-decoration-color: #008080; font-weight: bold\">2</span> <span style=\"color: #008080; text-decoration-color: #008080; font-weight: bold\">1</span>\n</pre>\n"
     },
     "metadata": {}
    },
    {
     "output_type": "display_data",
     "data": {
      "text/plain": "@user I was there for Charlie Hebdo. My sister is going there Dec \u001b[1;36m2\u001b[0m so I'm updating all my \nfollowers on FB. Mom's ok. For now. \n \u001b[1;36m1\u001b[0m \u001b[1;36m2\u001b[0m\n",
      "text/html": "<pre style=\"white-space:pre;overflow-x:auto;line-height:normal;font-family:Menlo,'DejaVu Sans Mono',consolas,'Courier New',monospace\">@user I was there for Charlie Hebdo. My sister is going there Dec <span style=\"color: #008080; text-decoration-color: #008080; font-weight: bold\">2</span> so I'm updating all my \nfollowers on FB. Mom's ok. For now. \n <span style=\"color: #008080; text-decoration-color: #008080; font-weight: bold\">1</span> <span style=\"color: #008080; text-decoration-color: #008080; font-weight: bold\">2</span>\n</pre>\n"
     },
     "metadata": {}
    },
    {
     "output_type": "display_data",
     "data": {
      "text/plain": "Todays #ullukapatha is Rahul Gandhi . You may ask WHY ? Nothing . Just that he is a filler on\ndays we have no Ullukapathas . Happy Diwali \n \u001b[1;36m2\u001b[0m \u001b[1;36m1\u001b[0m\n",
      "text/html": "<pre style=\"white-space:pre;overflow-x:auto;line-height:normal;font-family:Menlo,'DejaVu Sans Mono',consolas,'Courier New',monospace\">Todays #ullukapatha is Rahul Gandhi . You may ask WHY ? Nothing . Just that he is a filler on\ndays we have no Ullukapathas . Happy Diwali \n <span style=\"color: #008080; text-decoration-color: #008080; font-weight: bold\">2</span> <span style=\"color: #008080; text-decoration-color: #008080; font-weight: bold\">1</span>\n</pre>\n"
     },
     "metadata": {}
    },
    {
     "output_type": "display_data",
     "data": {
      "text/plain": "PM ready for reply on coal blocks: Congress: New Delhi\\u002c Aug \u001b[1;36m22\u001b[0m \u001b[1m(\u001b[0mIANS\u001b[1m)\u001b[0m With the Bharatiya\nJanata Party \u001b[1m(\u001b[0mBJP\u001b[1m)\u001b[0m\u001b[33m...\u001b[0m \n \u001b[1;36m2\u001b[0m \u001b[1;36m1\u001b[0m\n",
      "text/html": "<pre style=\"white-space:pre;overflow-x:auto;line-height:normal;font-family:Menlo,'DejaVu Sans Mono',consolas,'Courier New',monospace\">PM ready for reply on coal blocks: Congress: New Delhi\\u002c Aug <span style=\"color: #008080; text-decoration-color: #008080; font-weight: bold\">22</span> <span style=\"font-weight: bold\">(</span>IANS<span style=\"font-weight: bold\">)</span> With the Bharatiya\nJanata Party <span style=\"font-weight: bold\">(</span>BJP<span style=\"font-weight: bold\">)</span><span style=\"color: #808000; text-decoration-color: #808000\">...</span> \n <span style=\"color: #008080; text-decoration-color: #008080; font-weight: bold\">2</span> <span style=\"color: #008080; text-decoration-color: #008080; font-weight: bold\">1</span>\n</pre>\n"
     },
     "metadata": {}
    },
    {
     "output_type": "display_data",
     "data": {
      "text/plain": "the thing I'm most jealous of ab Miley is that she got rapped ab by Jay\u001b[33m...\u001b[0mnearly marrying \nLiam is a close 2nd \n \u001b[1;36m2\u001b[0m \u001b[1;36m0\u001b[0m\n",
      "text/html": "<pre style=\"white-space:pre;overflow-x:auto;line-height:normal;font-family:Menlo,'DejaVu Sans Mono',consolas,'Courier New',monospace\">the thing I'm most jealous of ab Miley is that she got rapped ab by Jay<span style=\"color: #808000; text-decoration-color: #808000\">...</span>nearly marrying \nLiam is a close 2nd \n <span style=\"color: #008080; text-decoration-color: #008080; font-weight: bold\">2</span> <span style=\"color: #008080; text-decoration-color: #008080; font-weight: bold\">0</span>\n</pre>\n"
     },
     "metadata": {}
    },
    {
     "output_type": "display_data",
     "data": {
      "text/plain": "@user Friday\\u2019s the main day!!!! Knicks vs Heat \n \u001b[1;36m2\u001b[0m \u001b[1;36m1\u001b[0m\n",
      "text/html": "<pre style=\"white-space:pre;overflow-x:auto;line-height:normal;font-family:Menlo,'DejaVu Sans Mono',consolas,'Courier New',monospace\">@user Friday\\u2019s the main day!!!! Knicks vs Heat \n <span style=\"color: #008080; text-decoration-color: #008080; font-weight: bold\">2</span> <span style=\"color: #008080; text-decoration-color: #008080; font-weight: bold\">1</span>\n</pre>\n"
     },
     "metadata": {}
    },
    {
     "output_type": "display_data",
     "data": {
      "text/plain": "It looks like Nokia may be positioning for a strong return to the mobile hardware market \nfollowing a license with\u001b[33m...\u001b[0m\u001b[4;94mhttps://t.co/k2q1uKd0eT\u001b[0m \n \u001b[1;36m1\u001b[0m \u001b[1;36m2\u001b[0m\n",
      "text/html": "<pre style=\"white-space:pre;overflow-x:auto;line-height:normal;font-family:Menlo,'DejaVu Sans Mono',consolas,'Courier New',monospace\">It looks like Nokia may be positioning for a strong return to the mobile hardware market \nfollowing a license with<span style=\"color: #808000; text-decoration-color: #808000\">...</span><span style=\"color: #0000ff; text-decoration-color: #0000ff; text-decoration: underline\">https://t.co/k2q1uKd0eT</span> \n <span style=\"color: #008080; text-decoration-color: #008080; font-weight: bold\">1</span> <span style=\"color: #008080; text-decoration-color: #008080; font-weight: bold\">2</span>\n</pre>\n"
     },
     "metadata": {}
    },
    {
     "output_type": "display_data",
     "data": {
      "text/plain": "@user ok big diff lmao my parents were boaters they didn't know a lot abt Islam when they \ncame. My oldest sis wore it in 1st \n \u001b[1;36m1\u001b[0m \u001b[1;36m0\u001b[0m\n",
      "text/html": "<pre style=\"white-space:pre;overflow-x:auto;line-height:normal;font-family:Menlo,'DejaVu Sans Mono',consolas,'Courier New',monospace\">@user ok big diff lmao my parents were boaters they didn't know a lot abt Islam when they \ncame. My oldest sis wore it in 1st \n <span style=\"color: #008080; text-decoration-color: #008080; font-weight: bold\">1</span> <span style=\"color: #008080; text-decoration-color: #008080; font-weight: bold\">0</span>\n</pre>\n"
     },
     "metadata": {}
    },
    {
     "output_type": "display_data",
     "data": {
      "text/plain": "\u001b[32m\"LMAO RT @user Went looting in Spurs last night, broke into the White Hart Lane cabinet so \u001b[0m\n\u001b[32mleft with a pile of dust and a Bale DVD\"\u001b[0m \n \u001b[1;36m1\u001b[0m \u001b[1;36m0\u001b[0m\n",
      "text/html": "<pre style=\"white-space:pre;overflow-x:auto;line-height:normal;font-family:Menlo,'DejaVu Sans Mono',consolas,'Courier New',monospace\"><span style=\"color: #008000; text-decoration-color: #008000\">\"LMAO RT @user Went looting in Spurs last night, broke into the White Hart Lane cabinet so </span>\n<span style=\"color: #008000; text-decoration-color: #008000\">left with a pile of dust and a Bale DVD\"</span> \n <span style=\"color: #008080; text-decoration-color: #008080; font-weight: bold\">1</span> <span style=\"color: #008080; text-decoration-color: #008080; font-weight: bold\">0</span>\n</pre>\n"
     },
     "metadata": {}
    },
    {
     "output_type": "display_data",
     "data": {
      "text/plain": "May be the only person around here who really doesn't like bdubs or Eric church. \n \u001b[1;36m1\u001b[0m \u001b[1;36m0\u001b[0m\n",
      "text/html": "<pre style=\"white-space:pre;overflow-x:auto;line-height:normal;font-family:Menlo,'DejaVu Sans Mono',consolas,'Courier New',monospace\">May be the only person around here who really doesn't like bdubs or Eric church. \n <span style=\"color: #008080; text-decoration-color: #008080; font-weight: bold\">1</span> <span style=\"color: #008080; text-decoration-color: #008080; font-weight: bold\">0</span>\n</pre>\n"
     },
     "metadata": {}
    },
    {
     "output_type": "display_data",
     "data": {
      "text/plain": "I will never look at Michelle Obama the same way. My sides will be sore tomorrow\u001b[33m...\u001b[0m Worth \nbreaking the Internet for! @user \n \u001b[1;36m1\u001b[0m \u001b[1;36m0\u001b[0m\n",
      "text/html": "<pre style=\"white-space:pre;overflow-x:auto;line-height:normal;font-family:Menlo,'DejaVu Sans Mono',consolas,'Courier New',monospace\">I will never look at Michelle Obama the same way. My sides will be sore tomorrow<span style=\"color: #808000; text-decoration-color: #808000\">...</span> Worth \nbreaking the Internet for! @user \n <span style=\"color: #008080; text-decoration-color: #008080; font-weight: bold\">1</span> <span style=\"color: #008080; text-decoration-color: #008080; font-weight: bold\">0</span>\n</pre>\n"
     },
     "metadata": {}
    },
    {
     "output_type": "display_data",
     "data": {
      "text/plain": "\u001b[32m\"I'm about to start barging The Pier every monday, imma just need to stock up on Moebius \u001b[0m\n\u001b[32mstickers\"\u001b[0m \n \u001b[1;36m0\u001b[0m \u001b[1;36m1\u001b[0m\n",
      "text/html": "<pre style=\"white-space:pre;overflow-x:auto;line-height:normal;font-family:Menlo,'DejaVu Sans Mono',consolas,'Courier New',monospace\"><span style=\"color: #008000; text-decoration-color: #008000\">\"I'm about to start barging The Pier every monday, imma just need to stock up on Moebius </span>\n<span style=\"color: #008000; text-decoration-color: #008000\">stickers\"</span> \n <span style=\"color: #008080; text-decoration-color: #008080; font-weight: bold\">0</span> <span style=\"color: #008080; text-decoration-color: #008080; font-weight: bold\">1</span>\n</pre>\n"
     },
     "metadata": {}
    },
    {
     "output_type": "display_data",
     "data": {
      "text/plain": "The safest place to be in Tottenham tonight is the Spurs trophy cabinet. There's no chance of\nlooters visiting there. #gooners #goonerpower \n \u001b[1;36m2\u001b[0m \u001b[1;36m1\u001b[0m\n",
      "text/html": "<pre style=\"white-space:pre;overflow-x:auto;line-height:normal;font-family:Menlo,'DejaVu Sans Mono',consolas,'Courier New',monospace\">The safest place to be in Tottenham tonight is the Spurs trophy cabinet. There's no chance of\nlooters visiting there. #gooners #goonerpower \n <span style=\"color: #008080; text-decoration-color: #008080; font-weight: bold\">2</span> <span style=\"color: #008080; text-decoration-color: #008080; font-weight: bold\">1</span>\n</pre>\n"
     },
     "metadata": {}
    },
    {
     "output_type": "display_data",
     "data": {
      "text/plain": "\"Appointment with Barracuda in Milan, from \u001b[1;36m1\u001b[0m to \u001b[1;36m4\u001b[0m September. \u001b[1m[\u001b[0mPav. \u001b[1;36m3\u001b[0m Stand: G01/H02-H06 \u001b[1m]\u001b[0m \nDon't miss the event! \n \u001b[1;36m1\u001b[0m \u001b[1;36m2\u001b[0m\n",
      "text/html": "<pre style=\"white-space:pre;overflow-x:auto;line-height:normal;font-family:Menlo,'DejaVu Sans Mono',consolas,'Courier New',monospace\">\"Appointment with Barracuda in Milan, from <span style=\"color: #008080; text-decoration-color: #008080; font-weight: bold\">1</span> to <span style=\"color: #008080; text-decoration-color: #008080; font-weight: bold\">4</span> September. <span style=\"font-weight: bold\">[</span>Pav. <span style=\"color: #008080; text-decoration-color: #008080; font-weight: bold\">3</span> Stand: G01/H02-H06 <span style=\"font-weight: bold\">]</span> \nDon't miss the event! \n <span style=\"color: #008080; text-decoration-color: #008080; font-weight: bold\">1</span> <span style=\"color: #008080; text-decoration-color: #008080; font-weight: bold\">2</span>\n</pre>\n"
     },
     "metadata": {}
    },
    {
     "output_type": "display_data",
     "data": {
      "text/plain": "\u001b[32m\"on Black Friday i always thought Kendrick said \"\u001b[0m\u001b[32m\"Coney Island!!\"\u001b[0m\u001b[32m\" but he says \"\u001b[0m\u001b[32m\"Can you \u001b[0m\n\u001b[32mHandle It\"\u001b[0m\u001b[32m\" lmfaooo #whyamistupid\"\u001b[0m \n \u001b[1;36m1\u001b[0m \u001b[1;36m0\u001b[0m\n",
      "text/html": "<pre style=\"white-space:pre;overflow-x:auto;line-height:normal;font-family:Menlo,'DejaVu Sans Mono',consolas,'Courier New',monospace\"><span style=\"color: #008000; text-decoration-color: #008000\">\"on Black Friday i always thought Kendrick said \"\"Coney Island!!\"\" but he says \"\"Can you </span>\n<span style=\"color: #008000; text-decoration-color: #008000\">Handle It\"\" lmfaooo #whyamistupid\"</span> \n <span style=\"color: #008080; text-decoration-color: #008080; font-weight: bold\">1</span> <span style=\"color: #008080; text-decoration-color: #008080; font-weight: bold\">0</span>\n</pre>\n"
     },
     "metadata": {}
    },
    {
     "output_type": "display_data",
     "data": {
      "text/plain": "And then there are those who made a case for Yakub's innocence or his possible reform if he \nwasn't hanged. \n \u001b[1;36m0\u001b[0m \u001b[1;36m1\u001b[0m\n",
      "text/html": "<pre style=\"white-space:pre;overflow-x:auto;line-height:normal;font-family:Menlo,'DejaVu Sans Mono',consolas,'Courier New',monospace\">And then there are those who made a case for Yakub's innocence or his possible reform if he \nwasn't hanged. \n <span style=\"color: #008080; text-decoration-color: #008080; font-weight: bold\">0</span> <span style=\"color: #008080; text-decoration-color: #008080; font-weight: bold\">1</span>\n</pre>\n"
     },
     "metadata": {}
    },
    {
     "output_type": "display_data",
     "data": {
      "text/plain": "@user @user @user I never touched it so it was obviously Tor, bloody hell Gazza we'l get \nanother one Saturday! Xx\" \n \u001b[1;36m1\u001b[0m \u001b[1;36m0\u001b[0m\n",
      "text/html": "<pre style=\"white-space:pre;overflow-x:auto;line-height:normal;font-family:Menlo,'DejaVu Sans Mono',consolas,'Courier New',monospace\">@user @user @user I never touched it so it was obviously Tor, bloody hell Gazza we'l get \nanother one Saturday! Xx\" \n <span style=\"color: #008080; text-decoration-color: #008080; font-weight: bold\">1</span> <span style=\"color: #008080; text-decoration-color: #008080; font-weight: bold\">0</span>\n</pre>\n"
     },
     "metadata": {}
    },
    {
     "output_type": "display_data",
     "data": {
      "text/plain": "Almost 3M between Bey and us! We have to vote harder to take the 1st place Monsters! \n#MTVStarOf2015 Lady Gaga \n \u001b[1;36m2\u001b[0m \u001b[1;36m1\u001b[0m\n",
      "text/html": "<pre style=\"white-space:pre;overflow-x:auto;line-height:normal;font-family:Menlo,'DejaVu Sans Mono',consolas,'Courier New',monospace\">Almost 3M between Bey and us! We have to vote harder to take the 1st place Monsters! \n#MTVStarOf2015 Lady Gaga \n <span style=\"color: #008080; text-decoration-color: #008080; font-weight: bold\">2</span> <span style=\"color: #008080; text-decoration-color: #008080; font-weight: bold\">1</span>\n</pre>\n"
     },
     "metadata": {}
    },
    {
     "output_type": "display_data",
     "data": {
      "text/plain": "Jay-Z sat in that Interview like a God showing that he was truly ahead of his time while the \nother niggas flirting with Foxy Brown \n \u001b[1;36m2\u001b[0m \u001b[1;36m1\u001b[0m\n",
      "text/html": "<pre style=\"white-space:pre;overflow-x:auto;line-height:normal;font-family:Menlo,'DejaVu Sans Mono',consolas,'Courier New',monospace\">Jay-Z sat in that Interview like a God showing that he was truly ahead of his time while the \nother niggas flirting with Foxy Brown \n <span style=\"color: #008080; text-decoration-color: #008080; font-weight: bold\">2</span> <span style=\"color: #008080; text-decoration-color: #008080; font-weight: bold\">1</span>\n</pre>\n"
     },
     "metadata": {}
    },
    {
     "output_type": "display_data",
     "data": {
      "text/plain": "Three times Grammy nominated\\u002c Brit Award nominee and Ivor Novella winner Joan \nArmatrading takes to the stage on Sunday! \n \u001b[1;36m2\u001b[0m \u001b[1;36m1\u001b[0m\n",
      "text/html": "<pre style=\"white-space:pre;overflow-x:auto;line-height:normal;font-family:Menlo,'DejaVu Sans Mono',consolas,'Courier New',monospace\">Three times Grammy nominated\\u002c Brit Award nominee and Ivor Novella winner Joan \nArmatrading takes to the stage on Sunday! \n <span style=\"color: #008080; text-decoration-color: #008080; font-weight: bold\">2</span> <span style=\"color: #008080; text-decoration-color: #008080; font-weight: bold\">1</span>\n</pre>\n"
     },
     "metadata": {}
    },
    {
     "output_type": "display_data",
     "data": {
      "text/plain": "@user I liked the 4th sentence about the \u001b[32m\"LA Galaxy where David Beckham was put out to \u001b[0m\n\u001b[32mgrass...\"\u001b[0m \n \u001b[1;36m1\u001b[0m \u001b[1;36m2\u001b[0m\n",
      "text/html": "<pre style=\"white-space:pre;overflow-x:auto;line-height:normal;font-family:Menlo,'DejaVu Sans Mono',consolas,'Courier New',monospace\">@user I liked the 4th sentence about the <span style=\"color: #008000; text-decoration-color: #008000\">\"LA Galaxy where David Beckham was put out to </span>\n<span style=\"color: #008000; text-decoration-color: #008000\">grass...\"</span> \n <span style=\"color: #008080; text-decoration-color: #008080; font-weight: bold\">1</span> <span style=\"color: #008080; text-decoration-color: #008080; font-weight: bold\">2</span>\n</pre>\n"
     },
     "metadata": {}
    },
    {
     "output_type": "display_data",
     "data": {
      "text/plain": "\u001b[32m\"Kapan sih lo ngebuktiin,jan ngomong doang Susah Susah.usaha Aja blm udh nyerah,inget.if you \u001b[0m\n\u001b[32mnever try you'll never know.cowok kok gentle bgt\"\u001b[0m \n \u001b[1;36m0\u001b[0m \u001b[1;36m1\u001b[0m\n",
      "text/html": "<pre style=\"white-space:pre;overflow-x:auto;line-height:normal;font-family:Menlo,'DejaVu Sans Mono',consolas,'Courier New',monospace\"><span style=\"color: #008000; text-decoration-color: #008000\">\"Kapan sih lo ngebuktiin,jan ngomong doang Susah Susah.usaha Aja blm udh nyerah,inget.if you </span>\n<span style=\"color: #008000; text-decoration-color: #008000\">never try you'll never know.cowok kok gentle bgt\"</span> \n <span style=\"color: #008080; text-decoration-color: #008080; font-weight: bold\">0</span> <span style=\"color: #008080; text-decoration-color: #008080; font-weight: bold\">1</span>\n</pre>\n"
     },
     "metadata": {}
    },
    {
     "output_type": "display_data",
     "data": {
      "text/plain": "it\\u2019s ages since I had KFC\\u002c well apart from the mush in a bun that passed as \nbreakfast last SUnday\\u002c that doesn\\u2019t count though \n \u001b[1;36m0\u001b[0m \u001b[1;36m1\u001b[0m\n",
      "text/html": "<pre style=\"white-space:pre;overflow-x:auto;line-height:normal;font-family:Menlo,'DejaVu Sans Mono',consolas,'Courier New',monospace\">it\\u2019s ages since I had KFC\\u002c well apart from the mush in a bun that passed as \nbreakfast last SUnday\\u002c that doesn\\u2019t count though \n <span style=\"color: #008080; text-decoration-color: #008080; font-weight: bold\">0</span> <span style=\"color: #008080; text-decoration-color: #008080; font-weight: bold\">1</span>\n</pre>\n"
     },
     "metadata": {}
    },
    {
     "output_type": "display_data",
     "data": {
      "text/plain": "\u001b[32m\"Cant wait to watch the debate tomorrow night. If Romney grills Obama as hard as he did \u001b[0m\n\u001b[32mGingrich in FL, Romney will wipe the floor with Obama\"\u001b[0m \n \u001b[1;36m2\u001b[0m \u001b[1;36m1\u001b[0m\n",
      "text/html": "<pre style=\"white-space:pre;overflow-x:auto;line-height:normal;font-family:Menlo,'DejaVu Sans Mono',consolas,'Courier New',monospace\"><span style=\"color: #008000; text-decoration-color: #008000\">\"Cant wait to watch the debate tomorrow night. If Romney grills Obama as hard as he did </span>\n<span style=\"color: #008000; text-decoration-color: #008000\">Gingrich in FL, Romney will wipe the floor with Obama\"</span> \n <span style=\"color: #008080; text-decoration-color: #008080; font-weight: bold\">2</span> <span style=\"color: #008080; text-decoration-color: #008080; font-weight: bold\">1</span>\n</pre>\n"
     },
     "metadata": {}
    },
    {
     "output_type": "display_data",
     "data": {
      "text/plain": "Serena beat sister, Venus Willaims, \u001b[1;36m6\u001b[0m-\u001b[1;36m2\u001b[0m, \u001b[1;36m1\u001b[0m-\u001b[1;36m6\u001b[0m, \u001b[1;36m6\u001b[0m-\u001b[1;36m3\u001b[0m,to continue her march to the calendar Grand\nSlam at the @user \n \u001b[1;36m2\u001b[0m \u001b[1;36m1\u001b[0m\n",
      "text/html": "<pre style=\"white-space:pre;overflow-x:auto;line-height:normal;font-family:Menlo,'DejaVu Sans Mono',consolas,'Courier New',monospace\">Serena beat sister, Venus Willaims, <span style=\"color: #008080; text-decoration-color: #008080; font-weight: bold\">6</span>-<span style=\"color: #008080; text-decoration-color: #008080; font-weight: bold\">2</span>, <span style=\"color: #008080; text-decoration-color: #008080; font-weight: bold\">1</span>-<span style=\"color: #008080; text-decoration-color: #008080; font-weight: bold\">6</span>, <span style=\"color: #008080; text-decoration-color: #008080; font-weight: bold\">6</span>-<span style=\"color: #008080; text-decoration-color: #008080; font-weight: bold\">3</span>,to continue her march to the calendar Grand\nSlam at the @user \n <span style=\"color: #008080; text-decoration-color: #008080; font-weight: bold\">2</span> <span style=\"color: #008080; text-decoration-color: #008080; font-weight: bold\">1</span>\n</pre>\n"
     },
     "metadata": {}
    },
    {
     "output_type": "display_data",
     "data": {
      "text/plain": "Christians should be the most happy and cheerful people\u001b[33m...\u001b[0m so others may say 'what makes him \nso happy?   #Saved #Happy #StraightOuttaOfSin \n \u001b[1;36m1\u001b[0m \u001b[1;36m2\u001b[0m\n",
      "text/html": "<pre style=\"white-space:pre;overflow-x:auto;line-height:normal;font-family:Menlo,'DejaVu Sans Mono',consolas,'Courier New',monospace\">Christians should be the most happy and cheerful people<span style=\"color: #808000; text-decoration-color: #808000\">...</span> so others may say 'what makes him \nso happy?   #Saved #Happy #StraightOuttaOfSin \n <span style=\"color: #008080; text-decoration-color: #008080; font-weight: bold\">1</span> <span style=\"color: #008080; text-decoration-color: #008080; font-weight: bold\">2</span>\n</pre>\n"
     },
     "metadata": {}
    },
    {
     "output_type": "display_data",
     "data": {
      "text/plain": "\u001b[32m\"So the 18th will the best weekend, Jason Aldean and @user @user @user @user #BGBOUND\"\u001b[0m \n \u001b[1;36m1\u001b[0m \u001b[1;36m2\u001b[0m\n",
      "text/html": "<pre style=\"white-space:pre;overflow-x:auto;line-height:normal;font-family:Menlo,'DejaVu Sans Mono',consolas,'Courier New',monospace\"><span style=\"color: #008000; text-decoration-color: #008000\">\"So the 18th will the best weekend, Jason Aldean and @user @user @user @user #BGBOUND\"</span> \n <span style=\"color: #008080; text-decoration-color: #008080; font-weight: bold\">1</span> <span style=\"color: #008080; text-decoration-color: #008080; font-weight: bold\">2</span>\n</pre>\n"
     },
     "metadata": {}
    },
    {
     "output_type": "display_data",
     "data": {
      "text/plain": "Looks like BJ\\u2019s Skate Center is the place to be in St Joe on a friday night! \n \u001b[1;36m1\u001b[0m \u001b[1;36m2\u001b[0m\n",
      "text/html": "<pre style=\"white-space:pre;overflow-x:auto;line-height:normal;font-family:Menlo,'DejaVu Sans Mono',consolas,'Courier New',monospace\">Looks like BJ\\u2019s Skate Center is the place to be in St Joe on a friday night! \n <span style=\"color: #008080; text-decoration-color: #008080; font-weight: bold\">1</span> <span style=\"color: #008080; text-decoration-color: #008080; font-weight: bold\">2</span>\n</pre>\n"
     },
     "metadata": {}
    },
    {
     "output_type": "display_data",
     "data": {
      "text/plain": "@user if Jordan Spieth or Dustin Johnson can be the LeBron of golf, I may watch in a few \nyears. I want to see dominance in golf.\" \n \u001b[1;36m1\u001b[0m \u001b[1;36m2\u001b[0m\n",
      "text/html": "<pre style=\"white-space:pre;overflow-x:auto;line-height:normal;font-family:Menlo,'DejaVu Sans Mono',consolas,'Courier New',monospace\">@user if Jordan Spieth or Dustin Johnson can be the LeBron of golf, I may watch in a few \nyears. I want to see dominance in golf.\" \n <span style=\"color: #008080; text-decoration-color: #008080; font-weight: bold\">1</span> <span style=\"color: #008080; text-decoration-color: #008080; font-weight: bold\">2</span>\n</pre>\n"
     },
     "metadata": {}
    },
    {
     "output_type": "display_data",
     "data": {
      "text/plain": "Big Brother starting next Friday? At the end of this morning @user slipped up &amp; said \n\u001b[32m'don'\u001b[0mt cause you'll get me sacked before Friday night \n \u001b[1;36m1\u001b[0m \u001b[1;36m0\u001b[0m\n",
      "text/html": "<pre style=\"white-space:pre;overflow-x:auto;line-height:normal;font-family:Menlo,'DejaVu Sans Mono',consolas,'Courier New',monospace\">Big Brother starting next Friday? At the end of this morning @user slipped up &amp;amp; said \n<span style=\"color: #008000; text-decoration-color: #008000\">'don'</span>t cause you'll get me sacked before Friday night \n <span style=\"color: #008080; text-decoration-color: #008080; font-weight: bold\">1</span> <span style=\"color: #008080; text-decoration-color: #008080; font-weight: bold\">0</span>\n</pre>\n"
     },
     "metadata": {}
    },
    {
     "output_type": "display_data",
     "data": {
      "text/plain": "I have a huge midterm tomorrow so I was listening to Iron Maiden to help with my anxiety but \nnow I just wanna watch Game of Thrones :\u001b[35m/\u001b[0m \n \u001b[1;36m2\u001b[0m \u001b[1;36m1\u001b[0m\n",
      "text/html": "<pre style=\"white-space:pre;overflow-x:auto;line-height:normal;font-family:Menlo,'DejaVu Sans Mono',consolas,'Courier New',monospace\">I have a huge midterm tomorrow so I was listening to Iron Maiden to help with my anxiety but \nnow I just wanna watch Game of Thrones :<span style=\"color: #800080; text-decoration-color: #800080\">/</span> \n <span style=\"color: #008080; text-decoration-color: #008080; font-weight: bold\">2</span> <span style=\"color: #008080; text-decoration-color: #008080; font-weight: bold\">1</span>\n</pre>\n"
     },
     "metadata": {}
    },
    {
     "output_type": "display_data",
     "data": {
      "text/plain": "From my recently viewed list I can see my Dad watched the entire 1st season of Gilmore Girls \non Netflix yesterday #Dale \n \u001b[1;36m1\u001b[0m \u001b[1;36m2\u001b[0m\n",
      "text/html": "<pre style=\"white-space:pre;overflow-x:auto;line-height:normal;font-family:Menlo,'DejaVu Sans Mono',consolas,'Courier New',monospace\">From my recently viewed list I can see my Dad watched the entire 1st season of Gilmore Girls \non Netflix yesterday #Dale \n <span style=\"color: #008080; text-decoration-color: #008080; font-weight: bold\">1</span> <span style=\"color: #008080; text-decoration-color: #008080; font-weight: bold\">2</span>\n</pre>\n"
     },
     "metadata": {}
    },
    {
     "output_type": "display_data",
     "data": {
      "text/plain": "My family &amp; I flew from Israel for \u001b[1;36m14\u001b[0m hours and our 2nd flight was delayed one day. we \nwere only an hour away from home #delightdelaysweeps \n \u001b[1;36m0\u001b[0m \u001b[1;36m1\u001b[0m\n",
      "text/html": "<pre style=\"white-space:pre;overflow-x:auto;line-height:normal;font-family:Menlo,'DejaVu Sans Mono',consolas,'Courier New',monospace\">My family &amp;amp; I flew from Israel for <span style=\"color: #008080; text-decoration-color: #008080; font-weight: bold\">14</span> hours and our 2nd flight was delayed one day. we \nwere only an hour away from home #delightdelaysweeps \n <span style=\"color: #008080; text-decoration-color: #008080; font-weight: bold\">0</span> <span style=\"color: #008080; text-decoration-color: #008080; font-weight: bold\">1</span>\n</pre>\n"
     },
     "metadata": {}
    },
    {
     "output_type": "display_data",
     "data": {
      "text/plain": "@user this is absolutely ridiculous. Wasn't it just \u001b[32m\"\"\u001b[0mnational ice cream day\"\u001b[32m\" on Sunday? Who\u001b[0m\n\u001b[32mmakes up these days? This isn't official. This is\"\u001b[0m \n \u001b[1;36m1\u001b[0m \u001b[1;36m0\u001b[0m\n",
      "text/html": "<pre style=\"white-space:pre;overflow-x:auto;line-height:normal;font-family:Menlo,'DejaVu Sans Mono',consolas,'Courier New',monospace\">@user this is absolutely ridiculous. Wasn't it just <span style=\"color: #008000; text-decoration-color: #008000\">\"\"</span>national ice cream day\"<span style=\"color: #008000; text-decoration-color: #008000\">\" on Sunday? Who</span>\n<span style=\"color: #008000; text-decoration-color: #008000\">makes up these days? This isn't official. This is\"</span> \n <span style=\"color: #008080; text-decoration-color: #008080; font-weight: bold\">1</span> <span style=\"color: #008080; text-decoration-color: #008080; font-weight: bold\">0</span>\n</pre>\n"
     },
     "metadata": {}
    },
    {
     "output_type": "display_data",
     "data": {
      "text/plain": "Monday Night Raw is on on Monday nights from 7pm-10pm. The 3rd season of Teen Mom \u001b[1;36m2\u001b[0m is on a \nnew night. Mondays. At 9pm. Oh the dilemma\u001b[33m...\u001b[0m\u001b[33m...\u001b[0m \n \u001b[1;36m0\u001b[0m \u001b[1;36m1\u001b[0m\n",
      "text/html": "<pre style=\"white-space:pre;overflow-x:auto;line-height:normal;font-family:Menlo,'DejaVu Sans Mono',consolas,'Courier New',monospace\">Monday Night Raw is on on Monday nights from 7pm-10pm. The 3rd season of Teen Mom <span style=\"color: #008080; text-decoration-color: #008080; font-weight: bold\">2</span> is on a \nnew night. Mondays. At 9pm. Oh the dilemma<span style=\"color: #808000; text-decoration-color: #808000\">......</span> \n <span style=\"color: #008080; text-decoration-color: #008080; font-weight: bold\">0</span> <span style=\"color: #008080; text-decoration-color: #008080; font-weight: bold\">1</span>\n</pre>\n"
     },
     "metadata": {}
    },
    {
     "output_type": "display_data",
     "data": {
      "text/plain": "\u001b[32m\"George Lincoln Rockwell was one of the 1st to recognize that Conservatives like @user \u001b[0m\n\u001b[32mBuckley, Goldwater &amp; Reagan were #Cucks for Israel.\"\u001b[0m \n \u001b[1;36m0\u001b[0m \u001b[1;36m1\u001b[0m\n",
      "text/html": "<pre style=\"white-space:pre;overflow-x:auto;line-height:normal;font-family:Menlo,'DejaVu Sans Mono',consolas,'Courier New',monospace\"><span style=\"color: #008000; text-decoration-color: #008000\">\"George Lincoln Rockwell was one of the 1st to recognize that Conservatives like @user </span>\n<span style=\"color: #008000; text-decoration-color: #008000\">Buckley, Goldwater &amp;amp; Reagan were #Cucks for Israel.\"</span> \n <span style=\"color: #008080; text-decoration-color: #008080; font-weight: bold\">0</span> <span style=\"color: #008080; text-decoration-color: #008080; font-weight: bold\">1</span>\n</pre>\n"
     },
     "metadata": {}
    },
    {
     "output_type": "display_data",
     "data": {
      "text/plain": "I may have just mentally assembled the most insane conspiracy web about the Dr. Luke \u001b[35m/\u001b[0m Kesha \nsitch. \n \u001b[1;36m1\u001b[0m \u001b[1;36m0\u001b[0m\n",
      "text/html": "<pre style=\"white-space:pre;overflow-x:auto;line-height:normal;font-family:Menlo,'DejaVu Sans Mono',consolas,'Courier New',monospace\">I may have just mentally assembled the most insane conspiracy web about the Dr. Luke <span style=\"color: #800080; text-decoration-color: #800080\">/</span> Kesha \nsitch. \n <span style=\"color: #008080; text-decoration-color: #008080; font-weight: bold\">1</span> <span style=\"color: #008080; text-decoration-color: #008080; font-weight: bold\">0</span>\n</pre>\n"
     },
     "metadata": {}
    },
    {
     "output_type": "display_data",
     "data": {
      "text/plain": "Sorry for the lack of Minecraft my computer is broke so I can't play it on PC. May try to \nrecord Xbox \u001b[1;36m360\u001b[0m Minecraft till I get a new one. \n \u001b[1;36m1\u001b[0m \u001b[1;36m0\u001b[0m\n",
      "text/html": "<pre style=\"white-space:pre;overflow-x:auto;line-height:normal;font-family:Menlo,'DejaVu Sans Mono',consolas,'Courier New',monospace\">Sorry for the lack of Minecraft my computer is broke so I can't play it on PC. May try to \nrecord Xbox <span style=\"color: #008080; text-decoration-color: #008080; font-weight: bold\">360</span> Minecraft till I get a new one. \n <span style=\"color: #008080; text-decoration-color: #008080; font-weight: bold\">1</span> <span style=\"color: #008080; text-decoration-color: #008080; font-weight: bold\">0</span>\n</pre>\n"
     },
     "metadata": {}
    },
    {
     "output_type": "display_data",
     "data": {
      "text/plain": "@user you may recall the other day I said nothing could save your holiday after that \nt-shirt\u001b[33m...\u001b[0mJurassic Park is the only thing that could \n \u001b[1;36m2\u001b[0m \u001b[1;36m1\u001b[0m\n",
      "text/html": "<pre style=\"white-space:pre;overflow-x:auto;line-height:normal;font-family:Menlo,'DejaVu Sans Mono',consolas,'Courier New',monospace\">@user you may recall the other day I said nothing could save your holiday after that \nt-shirt<span style=\"color: #808000; text-decoration-color: #808000\">...</span>Jurassic Park is the only thing that could \n <span style=\"color: #008080; text-decoration-color: #008080; font-weight: bold\">2</span> <span style=\"color: #008080; text-decoration-color: #008080; font-weight: bold\">1</span>\n</pre>\n"
     },
     "metadata": {}
    },
    {
     "output_type": "display_data",
     "data": {
      "text/plain": "\u001b[32m\"Should Paul Dunne of IRL finish the Open in 8th alone or better, he'll move to #1 in the \u001b[0m\n\u001b[32mSPWAR.  Same for Niebrugge if 5th alone or better.\"\u001b[0m \n \u001b[1;36m2\u001b[0m \u001b[1;36m1\u001b[0m\n",
      "text/html": "<pre style=\"white-space:pre;overflow-x:auto;line-height:normal;font-family:Menlo,'DejaVu Sans Mono',consolas,'Courier New',monospace\"><span style=\"color: #008000; text-decoration-color: #008000\">\"Should Paul Dunne of IRL finish the Open in 8th alone or better, he'll move to #1 in the </span>\n<span style=\"color: #008000; text-decoration-color: #008000\">SPWAR.  Same for Niebrugge if 5th alone or better.\"</span> \n <span style=\"color: #008080; text-decoration-color: #008080; font-weight: bold\">2</span> <span style=\"color: #008080; text-decoration-color: #008080; font-weight: bold\">1</span>\n</pre>\n"
     },
     "metadata": {}
    },
    {
     "output_type": "display_data",
     "data": {
      "text/plain": "I think having Briana be a full-time housewife may be the best thing for the show as she \nwould be a good way for the girls to let Vicki back \n \u001b[1;36m1\u001b[0m \u001b[1;36m2\u001b[0m\n",
      "text/html": "<pre style=\"white-space:pre;overflow-x:auto;line-height:normal;font-family:Menlo,'DejaVu Sans Mono',consolas,'Courier New',monospace\">I think having Briana be a full-time housewife may be the best thing for the show as she \nwould be a good way for the girls to let Vicki back \n <span style=\"color: #008080; text-decoration-color: #008080; font-weight: bold\">1</span> <span style=\"color: #008080; text-decoration-color: #008080; font-weight: bold\">2</span>\n</pre>\n"
     },
     "metadata": {}
    },
    {
     "output_type": "display_data",
     "data": {
      "text/plain": "@user I may just have to watch Sharknado \u001b[1;36m3\u001b[0m tomorrow haha \n \u001b[1;36m1\u001b[0m \u001b[1;36m2\u001b[0m\n",
      "text/html": "<pre style=\"white-space:pre;overflow-x:auto;line-height:normal;font-family:Menlo,'DejaVu Sans Mono',consolas,'Courier New',monospace\">@user I may just have to watch Sharknado <span style=\"color: #008080; text-decoration-color: #008080; font-weight: bold\">3</span> tomorrow haha \n <span style=\"color: #008080; text-decoration-color: #008080; font-weight: bold\">1</span> <span style=\"color: #008080; text-decoration-color: #008080; font-weight: bold\">2</span>\n</pre>\n"
     },
     "metadata": {}
    },
    {
     "output_type": "display_data",
     "data": {
      "text/plain": "Return of Sunday morning watching the lad play footy. All week I picture them playing like \nBarca, the reality is very different. #YouthFooty \n \u001b[1;36m2\u001b[0m \u001b[1;36m1\u001b[0m\n",
      "text/html": "<pre style=\"white-space:pre;overflow-x:auto;line-height:normal;font-family:Menlo,'DejaVu Sans Mono',consolas,'Courier New',monospace\">Return of Sunday morning watching the lad play footy. All week I picture them playing like \nBarca, the reality is very different. #YouthFooty \n <span style=\"color: #008080; text-decoration-color: #008080; font-weight: bold\">2</span> <span style=\"color: #008080; text-decoration-color: #008080; font-weight: bold\">1</span>\n</pre>\n"
     },
     "metadata": {}
    },
    {
     "output_type": "display_data",
     "data": {
      "text/plain": "Check out the Christmas trading times for the Eagle Farm Markets! Don't miss the Twilight \nFresh Market on Wednesday! \n \u001b[1;36m1\u001b[0m \u001b[1;36m2\u001b[0m\n",
      "text/html": "<pre style=\"white-space:pre;overflow-x:auto;line-height:normal;font-family:Menlo,'DejaVu Sans Mono',consolas,'Courier New',monospace\">Check out the Christmas trading times for the Eagle Farm Markets! Don't miss the Twilight \nFresh Market on Wednesday! \n <span style=\"color: #008080; text-decoration-color: #008080; font-weight: bold\">1</span> <span style=\"color: #008080; text-decoration-color: #008080; font-weight: bold\">2</span>\n</pre>\n"
     },
     "metadata": {}
    },
    {
     "output_type": "display_data",
     "data": {
      "text/plain": "Monsanto wants to merge with Syngenta and change name to wash away the bad reputation \u001b[1m(\u001b[0m3rd \nmost disliked company!\u001b[1m)\u001b[0m: \n \u001b[1;36m1\u001b[0m \u001b[1;36m0\u001b[0m\n",
      "text/html": "<pre style=\"white-space:pre;overflow-x:auto;line-height:normal;font-family:Menlo,'DejaVu Sans Mono',consolas,'Courier New',monospace\">Monsanto wants to merge with Syngenta and change name to wash away the bad reputation <span style=\"font-weight: bold\">(</span>3rd \nmost disliked company!<span style=\"font-weight: bold\">)</span>: \n <span style=\"color: #008080; text-decoration-color: #008080; font-weight: bold\">1</span> <span style=\"color: #008080; text-decoration-color: #008080; font-weight: bold\">0</span>\n</pre>\n"
     },
     "metadata": {}
    },
    {
     "output_type": "display_data",
     "data": {
      "text/plain": "KURT COBAIN Masterpiece #MontageOfHeck opens Friday! Filmmaker @user in person for Q&amp;A \nafter the 7pm show! \n \u001b[1;36m2\u001b[0m \u001b[1;36m1\u001b[0m\n",
      "text/html": "<pre style=\"white-space:pre;overflow-x:auto;line-height:normal;font-family:Menlo,'DejaVu Sans Mono',consolas,'Courier New',monospace\">KURT COBAIN Masterpiece #MontageOfHeck opens Friday! Filmmaker @user in person for Q&amp;amp;A \nafter the 7pm show! \n <span style=\"color: #008080; text-decoration-color: #008080; font-weight: bold\">2</span> <span style=\"color: #008080; text-decoration-color: #008080; font-weight: bold\">1</span>\n</pre>\n"
     },
     "metadata": {}
    },
    {
     "output_type": "display_data",
     "data": {
      "text/plain": "In one weeks time I managed to binge watch the entire 4th season of Gilmore Girls and write \nmy Stress management plan/paper #Multitasker \n \u001b[1;36m1\u001b[0m \u001b[1;36m2\u001b[0m\n",
      "text/html": "<pre style=\"white-space:pre;overflow-x:auto;line-height:normal;font-family:Menlo,'DejaVu Sans Mono',consolas,'Courier New',monospace\">In one weeks time I managed to binge watch the entire 4th season of Gilmore Girls and write \nmy Stress management plan/paper #Multitasker \n <span style=\"color: #008080; text-decoration-color: #008080; font-weight: bold\">1</span> <span style=\"color: #008080; text-decoration-color: #008080; font-weight: bold\">2</span>\n</pre>\n"
     },
     "metadata": {}
    },
    {
     "output_type": "display_data",
     "data": {
      "text/plain": "Please. Rousey will make Cyborg her bitch. Too bad Cyborg loves the juice. \n \u001b[1;36m1\u001b[0m \u001b[1;36m0\u001b[0m\n",
      "text/html": "<pre style=\"white-space:pre;overflow-x:auto;line-height:normal;font-family:Menlo,'DejaVu Sans Mono',consolas,'Courier New',monospace\">Please. Rousey will make Cyborg her bitch. Too bad Cyborg loves the juice. \n <span style=\"color: #008080; text-decoration-color: #008080; font-weight: bold\">1</span> <span style=\"color: #008080; text-decoration-color: #008080; font-weight: bold\">0</span>\n</pre>\n"
     },
     "metadata": {}
    },
    {
     "output_type": "display_data",
     "data": {
      "text/plain": "Nicki did that for white media Idgaf . Nicki may act like she don't give af but she cares \nwhat the media thinks \n \u001b[1;36m2\u001b[0m \u001b[1;36m1\u001b[0m\n",
      "text/html": "<pre style=\"white-space:pre;overflow-x:auto;line-height:normal;font-family:Menlo,'DejaVu Sans Mono',consolas,'Courier New',monospace\">Nicki did that for white media Idgaf . Nicki may act like she don't give af but she cares \nwhat the media thinks \n <span style=\"color: #008080; text-decoration-color: #008080; font-weight: bold\">2</span> <span style=\"color: #008080; text-decoration-color: #008080; font-weight: bold\">1</span>\n</pre>\n"
     },
     "metadata": {}
    },
    {
     "output_type": "display_data",
     "data": {
      "text/plain": "\"Spent the morning Xmas fabric shopping, may have taken a detour via @user Xmas shop shhh x \n \u001b[1;36m2\u001b[0m \u001b[1;36m1\u001b[0m\n",
      "text/html": "<pre style=\"white-space:pre;overflow-x:auto;line-height:normal;font-family:Menlo,'DejaVu Sans Mono',consolas,'Courier New',monospace\">\"Spent the morning Xmas fabric shopping, may have taken a detour via @user Xmas shop shhh x \n <span style=\"color: #008080; text-decoration-color: #008080; font-weight: bold\">2</span> <span style=\"color: #008080; text-decoration-color: #008080; font-weight: bold\">1</span>\n</pre>\n"
     },
     "metadata": {}
    },
    {
     "output_type": "display_data",
     "data": {
      "text/plain": "David Price should not have been pitching in the 8th. They can't get a \u001b[1;36m6\u001b[0m-outs from the \nbullpen? Yankees - Jays \n \u001b[1;36m1\u001b[0m \u001b[1;36m0\u001b[0m\n",
      "text/html": "<pre style=\"white-space:pre;overflow-x:auto;line-height:normal;font-family:Menlo,'DejaVu Sans Mono',consolas,'Courier New',monospace\">David Price should not have been pitching in the 8th. They can't get a <span style=\"color: #008080; text-decoration-color: #008080; font-weight: bold\">6</span>-outs from the \nbullpen? Yankees - Jays \n <span style=\"color: #008080; text-decoration-color: #008080; font-weight: bold\">1</span> <span style=\"color: #008080; text-decoration-color: #008080; font-weight: bold\">0</span>\n</pre>\n"
     },
     "metadata": {}
    },
    {
     "output_type": "display_data",
     "data": {
      "text/plain": "Oh and Rafa said before the injury he was having the best year he ever had was 1st in the \nrace\u001b[33m...\u001b[0m :\u001b[1m(\u001b[0m #M6 \n \u001b[1;36m0\u001b[0m \u001b[1;36m1\u001b[0m\n",
      "text/html": "<pre style=\"white-space:pre;overflow-x:auto;line-height:normal;font-family:Menlo,'DejaVu Sans Mono',consolas,'Courier New',monospace\">Oh and Rafa said before the injury he was having the best year he ever had was 1st in the \nrace<span style=\"color: #808000; text-decoration-color: #808000\">...</span> :<span style=\"font-weight: bold\">(</span> #M6 \n <span style=\"color: #008080; text-decoration-color: #008080; font-weight: bold\">0</span> <span style=\"color: #008080; text-decoration-color: #008080; font-weight: bold\">1</span>\n</pre>\n"
     },
     "metadata": {}
    },
    {
     "output_type": "display_data",
     "data": {
      "text/plain": "\u001b[32m\"It's $125 for the Seth Rollins meet and greet on Friday. Seth, I love you and all and your \u001b[0m\n\u001b[32mmy favorite wrestler but HELL NO\"\u001b[0m \n \u001b[1;36m1\u001b[0m \u001b[1;36m0\u001b[0m\n",
      "text/html": "<pre style=\"white-space:pre;overflow-x:auto;line-height:normal;font-family:Menlo,'DejaVu Sans Mono',consolas,'Courier New',monospace\"><span style=\"color: #008000; text-decoration-color: #008000\">\"It's $125 for the Seth Rollins meet and greet on Friday. Seth, I love you and all and your </span>\n<span style=\"color: #008000; text-decoration-color: #008000\">my favorite wrestler but HELL NO\"</span> \n <span style=\"color: #008080; text-decoration-color: #008080; font-weight: bold\">1</span> <span style=\"color: #008080; text-decoration-color: #008080; font-weight: bold\">0</span>\n</pre>\n"
     },
     "metadata": {}
    },
    {
     "output_type": "display_data",
     "data": {
      "text/plain": "Love and Harden hitting the deck in pursuit of loose balls early 2nd Q. Proof this is NOT an \nNBA All-Star Game. \n \u001b[1;36m1\u001b[0m \u001b[1;36m0\u001b[0m\n",
      "text/html": "<pre style=\"white-space:pre;overflow-x:auto;line-height:normal;font-family:Menlo,'DejaVu Sans Mono',consolas,'Courier New',monospace\">Love and Harden hitting the deck in pursuit of loose balls early 2nd Q. Proof this is NOT an \nNBA All-Star Game. \n <span style=\"color: #008080; text-decoration-color: #008080; font-weight: bold\">1</span> <span style=\"color: #008080; text-decoration-color: #008080; font-weight: bold\">0</span>\n</pre>\n"
     },
     "metadata": {}
    },
    {
     "output_type": "display_data",
     "data": {
      "text/plain": "Hold on\u001b[33m...\u001b[0m Sam Smith may do the theme to Spectre!? Dope!!!!!! #\u001b[1;36m007\u001b[0m #SPECTRE #JamesBond \n \u001b[1;36m2\u001b[0m \u001b[1;36m1\u001b[0m\n",
      "text/html": "<pre style=\"white-space:pre;overflow-x:auto;line-height:normal;font-family:Menlo,'DejaVu Sans Mono',consolas,'Courier New',monospace\">Hold on<span style=\"color: #808000; text-decoration-color: #808000\">...</span> Sam Smith may do the theme to Spectre!? Dope!!!!!! #<span style=\"color: #008080; text-decoration-color: #008080; font-weight: bold\">007</span> #SPECTRE #JamesBond \n <span style=\"color: #008080; text-decoration-color: #008080; font-weight: bold\">2</span> <span style=\"color: #008080; text-decoration-color: #008080; font-weight: bold\">1</span>\n</pre>\n"
     },
     "metadata": {}
    },
    {
     "output_type": "display_data",
     "data": {
      "text/plain": "@user Prayers for all of you today. May God carry each one of you during this sad time \n\u001b[32m\"\"\u001b[0mFootprints in the Sand\"\u001b[32m\",  RIP Frank Gifford\"\u001b[0m \n \u001b[1;36m2\u001b[0m \u001b[1;36m1\u001b[0m\n",
      "text/html": "<pre style=\"white-space:pre;overflow-x:auto;line-height:normal;font-family:Menlo,'DejaVu Sans Mono',consolas,'Courier New',monospace\">@user Prayers for all of you today. May God carry each one of you during this sad time \n<span style=\"color: #008000; text-decoration-color: #008000\">\"\"</span>Footprints in the Sand\"<span style=\"color: #008000; text-decoration-color: #008000\">\",  RIP Frank Gifford\"</span> \n <span style=\"color: #008080; text-decoration-color: #008080; font-weight: bold\">2</span> <span style=\"color: #008080; text-decoration-color: #008080; font-weight: bold\">1</span>\n</pre>\n"
     },
     "metadata": {}
    },
    {
     "output_type": "display_data",
     "data": {
      "text/plain": "\u001b[32m\"If I do end up going to the concert tomorrow, I'm gonna scream \"\u001b[0m\u001b[32m\"cheater\"\u001b[0m\u001b[32m\" when Jason Aldean\u001b[0m\n\u001b[32mwalks on stage.\"\u001b[0m \n \u001b[1;36m1\u001b[0m \u001b[1;36m0\u001b[0m\n",
      "text/html": "<pre style=\"white-space:pre;overflow-x:auto;line-height:normal;font-family:Menlo,'DejaVu Sans Mono',consolas,'Courier New',monospace\"><span style=\"color: #008000; text-decoration-color: #008000\">\"If I do end up going to the concert tomorrow, I'm gonna scream \"\"cheater\"\" when Jason Aldean</span>\n<span style=\"color: #008000; text-decoration-color: #008000\">walks on stage.\"</span> \n <span style=\"color: #008080; text-decoration-color: #008080; font-weight: bold\">1</span> <span style=\"color: #008080; text-decoration-color: #008080; font-weight: bold\">0</span>\n</pre>\n"
     },
     "metadata": {}
    },
    {
     "output_type": "display_data",
     "data": {
      "text/plain": "\\u2019on a sunny Sunday afternoon\\u002c it could be quite magical.\\u2019 - Designer reveals \nplans for Olympic Park via @user \n \u001b[1;36m1\u001b[0m \u001b[1;36m2\u001b[0m\n",
      "text/html": "<pre style=\"white-space:pre;overflow-x:auto;line-height:normal;font-family:Menlo,'DejaVu Sans Mono',consolas,'Courier New',monospace\">\\u2019on a sunny Sunday afternoon\\u002c it could be quite magical.\\u2019 - Designer reveals \nplans for Olympic Park via @user \n <span style=\"color: #008080; text-decoration-color: #008080; font-weight: bold\">1</span> <span style=\"color: #008080; text-decoration-color: #008080; font-weight: bold\">2</span>\n</pre>\n"
     },
     "metadata": {}
    },
    {
     "output_type": "display_data",
     "data": {
      "text/plain": "Is the 20th anniversary PS4 still the coolest special edition console ever? \n \u001b[1;36m1\u001b[0m \u001b[1;36m2\u001b[0m\n",
      "text/html": "<pre style=\"white-space:pre;overflow-x:auto;line-height:normal;font-family:Menlo,'DejaVu Sans Mono',consolas,'Courier New',monospace\">Is the 20th anniversary PS4 still the coolest special edition console ever? \n <span style=\"color: #008080; text-decoration-color: #008080; font-weight: bold\">1</span> <span style=\"color: #008080; text-decoration-color: #008080; font-weight: bold\">2</span>\n</pre>\n"
     },
     "metadata": {}
    },
    {
     "output_type": "display_data",
     "data": {
      "text/plain": "IRG may be laughing all the way to the bank but USAID has done next to zilch for Pakistani \npower consumers. \n \u001b[1;36m2\u001b[0m \u001b[1;36m1\u001b[0m\n",
      "text/html": "<pre style=\"white-space:pre;overflow-x:auto;line-height:normal;font-family:Menlo,'DejaVu Sans Mono',consolas,'Courier New',monospace\">IRG may be laughing all the way to the bank but USAID has done next to zilch for Pakistani \npower consumers. \n <span style=\"color: #008080; text-decoration-color: #008080; font-weight: bold\">2</span> <span style=\"color: #008080; text-decoration-color: #008080; font-weight: bold\">1</span>\n</pre>\n"
     },
     "metadata": {}
    },
    {
     "output_type": "display_data",
     "data": {
      "text/plain": "Tomorrow morning on Good Morning America\u001b[33m...\u001b[0m Hulk Hogan \u001b[33m...\u001b[0mI cannot say enough about this guy \nand what he has done for so many. \n \u001b[1;36m1\u001b[0m \u001b[1;36m2\u001b[0m\n",
      "text/html": "<pre style=\"white-space:pre;overflow-x:auto;line-height:normal;font-family:Menlo,'DejaVu Sans Mono',consolas,'Courier New',monospace\">Tomorrow morning on Good Morning America<span style=\"color: #808000; text-decoration-color: #808000\">...</span> Hulk Hogan <span style=\"color: #808000; text-decoration-color: #808000\">...</span>I cannot say enough about this guy \nand what he has done for so many. \n <span style=\"color: #008080; text-decoration-color: #008080; font-weight: bold\">1</span> <span style=\"color: #008080; text-decoration-color: #008080; font-weight: bold\">2</span>\n</pre>\n"
     },
     "metadata": {}
    },
    {
     "output_type": "display_data",
     "data": {
      "text/plain": "Islam is on the march to convert all to their ideology! Wake up America! #RT #STOPIslam #TCOT\n#MakeDCListen #TeaParty \n \u001b[1;36m1\u001b[0m \u001b[1;36m0\u001b[0m\n",
      "text/html": "<pre style=\"white-space:pre;overflow-x:auto;line-height:normal;font-family:Menlo,'DejaVu Sans Mono',consolas,'Courier New',monospace\">Islam is on the march to convert all to their ideology! Wake up America! #RT #STOPIslam #TCOT\n#MakeDCListen #TeaParty \n <span style=\"color: #008080; text-decoration-color: #008080; font-weight: bold\">1</span> <span style=\"color: #008080; text-decoration-color: #008080; font-weight: bold\">0</span>\n</pre>\n"
     },
     "metadata": {}
    },
    {
     "output_type": "display_data",
     "data": {
      "text/plain": "Don\\u2019t Forget\\u002c tomorrow is the annual General Body meeting! Come out to learn more \nabout ISAT and the organizations we are affiliated with! \n \u001b[1;36m1\u001b[0m \u001b[1;36m2\u001b[0m\n",
      "text/html": "<pre style=\"white-space:pre;overflow-x:auto;line-height:normal;font-family:Menlo,'DejaVu Sans Mono',consolas,'Courier New',monospace\">Don\\u2019t Forget\\u002c tomorrow is the annual General Body meeting! Come out to learn more \nabout ISAT and the organizations we are affiliated with! \n <span style=\"color: #008080; text-decoration-color: #008080; font-weight: bold\">1</span> <span style=\"color: #008080; text-decoration-color: #008080; font-weight: bold\">2</span>\n</pre>\n"
     },
     "metadata": {}
    },
    {
     "output_type": "display_data",
     "data": {
      "text/plain": "Soo apparently I've been dared by @user to not talk about the boys or Zayn for a whole day \ntomorrow I can't even rt them or anyth \n \u001b[1;36m1\u001b[0m \u001b[1;36m0\u001b[0m\n",
      "text/html": "<pre style=\"white-space:pre;overflow-x:auto;line-height:normal;font-family:Menlo,'DejaVu Sans Mono',consolas,'Courier New',monospace\">Soo apparently I've been dared by @user to not talk about the boys or Zayn for a whole day \ntomorrow I can't even rt them or anyth \n <span style=\"color: #008080; text-decoration-color: #008080; font-weight: bold\">1</span> <span style=\"color: #008080; text-decoration-color: #008080; font-weight: bold\">0</span>\n</pre>\n"
     },
     "metadata": {}
    },
    {
     "output_type": "display_data",
     "data": {
      "text/plain": "envy everyone going to the Big Bang shows tomorrow and Saturday. ;_; \n \u001b[1;36m1\u001b[0m \u001b[1;36m2\u001b[0m\n",
      "text/html": "<pre style=\"white-space:pre;overflow-x:auto;line-height:normal;font-family:Menlo,'DejaVu Sans Mono',consolas,'Courier New',monospace\">envy everyone going to the Big Bang shows tomorrow and Saturday. ;_; \n <span style=\"color: #008080; text-decoration-color: #008080; font-weight: bold\">1</span> <span style=\"color: #008080; text-decoration-color: #008080; font-weight: bold\">2</span>\n</pre>\n"
     },
     "metadata": {}
    },
    {
     "output_type": "display_data",
     "data": {
      "text/plain": "it looks like a beautiful night to throw myself off the Brooklyn Bridge ---@Tim_Hecht \n \u001b[1;36m0\u001b[0m \u001b[1;36m1\u001b[0m\n",
      "text/html": "<pre style=\"white-space:pre;overflow-x:auto;line-height:normal;font-family:Menlo,'DejaVu Sans Mono',consolas,'Courier New',monospace\">it looks like a beautiful night to throw myself off the Brooklyn Bridge ---@Tim_Hecht \n <span style=\"color: #008080; text-decoration-color: #008080; font-weight: bold\">0</span> <span style=\"color: #008080; text-decoration-color: #008080; font-weight: bold\">1</span>\n</pre>\n"
     },
     "metadata": {}
    },
    {
     "output_type": "display_data",
     "data": {
      "text/plain": "\"Glenn will personally go to the border to bring in Christians marked for extermination: \n'Last Friday, Glenn pl\u001b[33m...\u001b[0m \n \u001b[1;36m1\u001b[0m \u001b[1;36m0\u001b[0m\n",
      "text/html": "<pre style=\"white-space:pre;overflow-x:auto;line-height:normal;font-family:Menlo,'DejaVu Sans Mono',consolas,'Courier New',monospace\">\"Glenn will personally go to the border to bring in Christians marked for extermination: \n'Last Friday, Glenn pl<span style=\"color: #808000; text-decoration-color: #808000\">...</span> \n <span style=\"color: #008080; text-decoration-color: #008080; font-weight: bold\">1</span> <span style=\"color: #008080; text-decoration-color: #008080; font-weight: bold\">0</span>\n</pre>\n"
     },
     "metadata": {}
    },
    {
     "output_type": "display_data",
     "data": {
      "text/plain": "Chelsea will pursue the signing of Paul Pogba from Juventus until the transfer window closes \non Tuesday. \u001b[1m(\u001b[0mSource: Independent\u001b[1m)\u001b[0m \n \u001b[1;36m2\u001b[0m \u001b[1;36m1\u001b[0m\n",
      "text/html": "<pre style=\"white-space:pre;overflow-x:auto;line-height:normal;font-family:Menlo,'DejaVu Sans Mono',consolas,'Courier New',monospace\">Chelsea will pursue the signing of Paul Pogba from Juventus until the transfer window closes \non Tuesday. <span style=\"font-weight: bold\">(</span>Source: Independent<span style=\"font-weight: bold\">)</span> \n <span style=\"color: #008080; text-decoration-color: #008080; font-weight: bold\">2</span> <span style=\"color: #008080; text-decoration-color: #008080; font-weight: bold\">1</span>\n</pre>\n"
     },
     "metadata": {}
    },
    {
     "output_type": "display_data",
     "data": {
      "text/plain": "Just watched The Lorax for the 20TH TIME!! #ihavenoregrets #OOC \n \u001b[1;36m1\u001b[0m \u001b[1;36m2\u001b[0m\n",
      "text/html": "<pre style=\"white-space:pre;overflow-x:auto;line-height:normal;font-family:Menlo,'DejaVu Sans Mono',consolas,'Courier New',monospace\">Just watched The Lorax for the 20TH TIME!! #ihavenoregrets #OOC \n <span style=\"color: #008080; text-decoration-color: #008080; font-weight: bold\">1</span> <span style=\"color: #008080; text-decoration-color: #008080; font-weight: bold\">2</span>\n</pre>\n"
     },
     "metadata": {}
    },
    {
     "output_type": "display_data",
     "data": {
      "text/plain": "Shawn will be at the VMAs tomorrow and I'll be at the red carpet so ill be updating myself \n \u001b[1;36m2\u001b[0m \u001b[1;36m1\u001b[0m\n",
      "text/html": "<pre style=\"white-space:pre;overflow-x:auto;line-height:normal;font-family:Menlo,'DejaVu Sans Mono',consolas,'Courier New',monospace\">Shawn will be at the VMAs tomorrow and I'll be at the red carpet so ill be updating myself \n <span style=\"color: #008080; text-decoration-color: #008080; font-weight: bold\">2</span> <span style=\"color: #008080; text-decoration-color: #008080; font-weight: bold\">1</span>\n</pre>\n"
     },
     "metadata": {}
    },
    {
     "output_type": "display_data",
     "data": {
      "text/plain": "Bwahahaha what's going on with March Against Monsanto lately? They claim to know their \n\u001b[32m\"research\"\u001b[0m yet have\u001b[33m...\u001b[0m \n \u001b[1;36m1\u001b[0m \u001b[1;36m0\u001b[0m\n",
      "text/html": "<pre style=\"white-space:pre;overflow-x:auto;line-height:normal;font-family:Menlo,'DejaVu Sans Mono',consolas,'Courier New',monospace\">Bwahahaha what's going on with March Against Monsanto lately? They claim to know their \n<span style=\"color: #008000; text-decoration-color: #008000\">\"research\"</span> yet have<span style=\"color: #808000; text-decoration-color: #808000\">...</span> \n <span style=\"color: #008080; text-decoration-color: #008080; font-weight: bold\">1</span> <span style=\"color: #008080; text-decoration-color: #008080; font-weight: bold\">0</span>\n</pre>\n"
     },
     "metadata": {}
    },
    {
     "output_type": "display_data",
     "data": {
      "text/plain": "@user psst, can you take Oracle of the Sun and put that one sun on it's chest? I know Cyd \nwould \u001b[32m\"love\"\u001b[0m it. \n \u001b[1;36m1\u001b[0m \u001b[1;36m2\u001b[0m\n",
      "text/html": "<pre style=\"white-space:pre;overflow-x:auto;line-height:normal;font-family:Menlo,'DejaVu Sans Mono',consolas,'Courier New',monospace\">@user psst, can you take Oracle of the Sun and put that one sun on it's chest? I know Cyd \nwould <span style=\"color: #008000; text-decoration-color: #008000\">\"love\"</span> it. \n <span style=\"color: #008080; text-decoration-color: #008080; font-weight: bold\">1</span> <span style=\"color: #008080; text-decoration-color: #008080; font-weight: bold\">2</span>\n</pre>\n"
     },
     "metadata": {}
    },
    {
     "output_type": "display_data",
     "data": {
      "text/plain": "Yakub has gone. whatever happened may be right. I want asked Kiran bedi .that whatever Yakub \ndone.it was wrong  but after Babri masjid -- \n \u001b[1;36m0\u001b[0m \u001b[1;36m1\u001b[0m\n",
      "text/html": "<pre style=\"white-space:pre;overflow-x:auto;line-height:normal;font-family:Menlo,'DejaVu Sans Mono',consolas,'Courier New',monospace\">Yakub has gone. whatever happened may be right. I want asked Kiran bedi .that whatever Yakub \ndone.it was wrong  but after Babri masjid -- \n <span style=\"color: #008080; text-decoration-color: #008080; font-weight: bold\">0</span> <span style=\"color: #008080; text-decoration-color: #008080; font-weight: bold\">1</span>\n</pre>\n"
     },
     "metadata": {}
    },
    {
     "output_type": "display_data",
     "data": {
      "text/plain": "tom brady supports Donald trump. Therefore he's gonna throw \u001b[1;36m4\u001b[0m pics and pull his hamstring on \nThursday night. \n \u001b[1;36m1\u001b[0m \u001b[1;36m0\u001b[0m\n",
      "text/html": "<pre style=\"white-space:pre;overflow-x:auto;line-height:normal;font-family:Menlo,'DejaVu Sans Mono',consolas,'Courier New',monospace\">tom brady supports Donald trump. Therefore he's gonna throw <span style=\"color: #008080; text-decoration-color: #008080; font-weight: bold\">4</span> pics and pull his hamstring on \nThursday night. \n <span style=\"color: #008080; text-decoration-color: #008080; font-weight: bold\">1</span> <span style=\"color: #008080; text-decoration-color: #008080; font-weight: bold\">0</span>\n</pre>\n"
     },
     "metadata": {}
    },
    {
     "output_type": "display_data",
     "data": {
      "text/plain": "Harper's Worst Offense against Refugees may be Climate Record as rising temperatures add to \nchaos in the Middle East \n \u001b[1;36m1\u001b[0m \u001b[1;36m0\u001b[0m\n",
      "text/html": "<pre style=\"white-space:pre;overflow-x:auto;line-height:normal;font-family:Menlo,'DejaVu Sans Mono',consolas,'Courier New',monospace\">Harper's Worst Offense against Refugees may be Climate Record as rising temperatures add to \nchaos in the Middle East \n <span style=\"color: #008080; text-decoration-color: #008080; font-weight: bold\">1</span> <span style=\"color: #008080; text-decoration-color: #008080; font-weight: bold\">0</span>\n</pre>\n"
     },
     "metadata": {}
    },
    {
     "output_type": "display_data",
     "data": {
      "text/plain": "Still in search of the really Dayna Santullo. She's been missing since she willingly passed \non a Chris Brown concert on Saturday \n \u001b[1;36m0\u001b[0m \u001b[1;36m1\u001b[0m\n",
      "text/html": "<pre style=\"white-space:pre;overflow-x:auto;line-height:normal;font-family:Menlo,'DejaVu Sans Mono',consolas,'Courier New',monospace\">Still in search of the really Dayna Santullo. She's been missing since she willingly passed \non a Chris Brown concert on Saturday \n <span style=\"color: #008080; text-decoration-color: #008080; font-weight: bold\">0</span> <span style=\"color: #008080; text-decoration-color: #008080; font-weight: bold\">1</span>\n</pre>\n"
     },
     "metadata": {}
    },
    {
     "output_type": "display_data",
     "data": {
      "text/plain": "\"C'mon, you guys can do better than this. Don't look down on KPOP\u001b[33m...\u001b[0m..  \n \u001b[1;36m1\u001b[0m \u001b[1;36m2\u001b[0m\n",
      "text/html": "<pre style=\"white-space:pre;overflow-x:auto;line-height:normal;font-family:Menlo,'DejaVu Sans Mono',consolas,'Courier New',monospace\">\"C'mon, you guys can do better than this. Don't look down on KPOP<span style=\"color: #808000; text-decoration-color: #808000\">...</span>..  \n <span style=\"color: #008080; text-decoration-color: #008080; font-weight: bold\">1</span> <span style=\"color: #008080; text-decoration-color: #008080; font-weight: bold\">2</span>\n</pre>\n"
     },
     "metadata": {}
    },
    {
     "output_type": "display_data",
     "data": {
      "text/plain": "\u001b[32m\"St Pattys is no big deal for me, no fucks are given, but Cinco De Mayo on the other hand .. \u001b[0m\n\u001b[32mthats my 2nd bday .\"\u001b[0m \n \u001b[1;36m0\u001b[0m \u001b[1;36m1\u001b[0m\n",
      "text/html": "<pre style=\"white-space:pre;overflow-x:auto;line-height:normal;font-family:Menlo,'DejaVu Sans Mono',consolas,'Courier New',monospace\"><span style=\"color: #008000; text-decoration-color: #008000\">\"St Pattys is no big deal for me, no fucks are given, but Cinco De Mayo on the other hand .. </span>\n<span style=\"color: #008000; text-decoration-color: #008000\">thats my 2nd bday .\"</span> \n <span style=\"color: #008080; text-decoration-color: #008080; font-weight: bold\">0</span> <span style=\"color: #008080; text-decoration-color: #008080; font-weight: bold\">1</span>\n</pre>\n"
     },
     "metadata": {}
    },
    {
     "output_type": "display_data",
     "data": {
      "text/plain": "@user they go to a different place for brunch every Saturday. They started the tradition with\nIHOP \n \u001b[1;36m1\u001b[0m \u001b[1;36m2\u001b[0m\n",
      "text/html": "<pre style=\"white-space:pre;overflow-x:auto;line-height:normal;font-family:Menlo,'DejaVu Sans Mono',consolas,'Courier New',monospace\">@user they go to a different place for brunch every Saturday. They started the tradition with\nIHOP \n <span style=\"color: #008080; text-decoration-color: #008080; font-weight: bold\">1</span> <span style=\"color: #008080; text-decoration-color: #008080; font-weight: bold\">2</span>\n</pre>\n"
     },
     "metadata": {}
    },
    {
     "output_type": "display_data",
     "data": {
      "text/plain": "chris brown and august alsina sang hold you down and all i could think about was jungkook \nsinging it and i almost cried \n \u001b[1;36m1\u001b[0m \u001b[1;36m2\u001b[0m\n",
      "text/html": "<pre style=\"white-space:pre;overflow-x:auto;line-height:normal;font-family:Menlo,'DejaVu Sans Mono',consolas,'Courier New',monospace\">chris brown and august alsina sang hold you down and all i could think about was jungkook \nsinging it and i almost cried \n <span style=\"color: #008080; text-decoration-color: #008080; font-weight: bold\">1</span> <span style=\"color: #008080; text-decoration-color: #008080; font-weight: bold\">2</span>\n</pre>\n"
     },
     "metadata": {}
    },
    {
     "output_type": "display_data",
     "data": {
      "text/plain": "For the sake of being at work during th Miss USA finals I am deleting my Facebook app until \ntomorrow so I can\u001b[33m...\u001b[0m \n \u001b[1;36m1\u001b[0m \u001b[1;36m0\u001b[0m\n",
      "text/html": "<pre style=\"white-space:pre;overflow-x:auto;line-height:normal;font-family:Menlo,'DejaVu Sans Mono',consolas,'Courier New',monospace\">For the sake of being at work during th Miss USA finals I am deleting my Facebook app until \ntomorrow so I can<span style=\"color: #808000; text-decoration-color: #808000\">...</span> \n <span style=\"color: #008080; text-decoration-color: #008080; font-weight: bold\">1</span> <span style=\"color: #008080; text-decoration-color: #008080; font-weight: bold\">0</span>\n</pre>\n"
     },
     "metadata": {}
    },
    {
     "output_type": "display_data",
     "data": {
      "text/plain": "When you're leaving Saturday but your cousin offers you an extra Foo Fighters ticket\u001b[33m...\u001b[0m \n \u001b[1;36m2\u001b[0m \u001b[1;36m1\u001b[0m\n",
      "text/html": "<pre style=\"white-space:pre;overflow-x:auto;line-height:normal;font-family:Menlo,'DejaVu Sans Mono',consolas,'Courier New',monospace\">When you're leaving Saturday but your cousin offers you an extra Foo Fighters ticket<span style=\"color: #808000; text-decoration-color: #808000\">...</span> \n <span style=\"color: #008080; text-decoration-color: #008080; font-weight: bold\">2</span> <span style=\"color: #008080; text-decoration-color: #008080; font-weight: bold\">1</span>\n</pre>\n"
     },
     "metadata": {}
    },
    {
     "output_type": "display_data",
     "data": {
      "text/plain": "@user tom Brady did not deflate balls, but was suspended for \u001b[1;36m4\u001b[0m games bc he may or may not \nhave known it was being done\" \n \u001b[1;36m0\u001b[0m \u001b[1;36m1\u001b[0m\n",
      "text/html": "<pre style=\"white-space:pre;overflow-x:auto;line-height:normal;font-family:Menlo,'DejaVu Sans Mono',consolas,'Courier New',monospace\">@user tom Brady did not deflate balls, but was suspended for <span style=\"color: #008080; text-decoration-color: #008080; font-weight: bold\">4</span> games bc he may or may not \nhave known it was being done\" \n <span style=\"color: #008080; text-decoration-color: #008080; font-weight: bold\">0</span> <span style=\"color: #008080; text-decoration-color: #008080; font-weight: bold\">1</span>\n</pre>\n"
     },
     "metadata": {}
    },
    {
     "output_type": "display_data",
     "data": {
      "text/plain": "@user @user Dear CNN thank you for advertising Sarah Palin was going to be on your show \nSunday morning. I didn't watch. Get wise! \n \u001b[1;36m1\u001b[0m \u001b[1;36m0\u001b[0m\n",
      "text/html": "<pre style=\"white-space:pre;overflow-x:auto;line-height:normal;font-family:Menlo,'DejaVu Sans Mono',consolas,'Courier New',monospace\">@user @user Dear CNN thank you for advertising Sarah Palin was going to be on your show \nSunday morning. I didn't watch. Get wise! \n <span style=\"color: #008080; text-decoration-color: #008080; font-weight: bold\">1</span> <span style=\"color: #008080; text-decoration-color: #008080; font-weight: bold\">0</span>\n</pre>\n"
     },
     "metadata": {}
    },
    {
     "output_type": "display_data",
     "data": {
      "text/plain": "@user like how are ppl supposed to pay rent? Should i ask the pope on the 26th when he comes?\n \u001b[1;36m0\u001b[0m \u001b[1;36m1\u001b[0m\n",
      "text/html": "<pre style=\"white-space:pre;overflow-x:auto;line-height:normal;font-family:Menlo,'DejaVu Sans Mono',consolas,'Courier New',monospace\">@user like how are ppl supposed to pay rent? Should i ask the pope on the 26th when he comes?\n <span style=\"color: #008080; text-decoration-color: #008080; font-weight: bold\">0</span> <span style=\"color: #008080; text-decoration-color: #008080; font-weight: bold\">1</span>\n</pre>\n"
     },
     "metadata": {}
    },
    {
     "output_type": "display_data",
     "data": {
      "text/plain": "\"Don?t worry, console gamers: LawBreakers may still come to the Xbox One, PS4 - \n \u001b[1;36m2\u001b[0m \u001b[1;36m1\u001b[0m\n",
      "text/html": "<pre style=\"white-space:pre;overflow-x:auto;line-height:normal;font-family:Menlo,'DejaVu Sans Mono',consolas,'Courier New',monospace\">\"Don?t worry, console gamers: LawBreakers may still come to the Xbox One, PS4 - \n <span style=\"color: #008080; text-decoration-color: #008080; font-weight: bold\">2</span> <span style=\"color: #008080; text-decoration-color: #008080; font-weight: bold\">1</span>\n</pre>\n"
     },
     "metadata": {}
    },
    {
     "output_type": "display_data",
     "data": {
      "text/plain": "@user @user If it weren't for Blair there would have been no Good Friday Agreement, and the \nIRA would have won!\" \n \u001b[1;36m1\u001b[0m \u001b[1;36m0\u001b[0m\n",
      "text/html": "<pre style=\"white-space:pre;overflow-x:auto;line-height:normal;font-family:Menlo,'DejaVu Sans Mono',consolas,'Courier New',monospace\">@user @user If it weren't for Blair there would have been no Good Friday Agreement, and the \nIRA would have won!\" \n <span style=\"color: #008080; text-decoration-color: #008080; font-weight: bold\">1</span> <span style=\"color: #008080; text-decoration-color: #008080; font-weight: bold\">0</span>\n</pre>\n"
     },
     "metadata": {}
    },
    {
     "output_type": "display_data",
     "data": {
      "text/plain": "\"RT @user I can't wait to read all the tweets from all of the girls bitching about being \nsingle tomorrow! #myfavorite \n \u001b[1;36m0\u001b[0m \u001b[1;36m2\u001b[0m\n",
      "text/html": "<pre style=\"white-space:pre;overflow-x:auto;line-height:normal;font-family:Menlo,'DejaVu Sans Mono',consolas,'Courier New',monospace\">\"RT @user I can't wait to read all the tweets from all of the girls bitching about being \nsingle tomorrow! #myfavorite \n <span style=\"color: #008080; text-decoration-color: #008080; font-weight: bold\">0</span> <span style=\"color: #008080; text-decoration-color: #008080; font-weight: bold\">2</span>\n</pre>\n"
     },
     "metadata": {}
    },
    {
     "output_type": "display_data",
     "data": {
      "text/plain": "#PirateGang @ the Rex Theatre tomorrow doors open at 5pm. Come show your support if you fuck \nwith real music !!   #Gang \n \u001b[1;36m2\u001b[0m \u001b[1;36m1\u001b[0m\n",
      "text/html": "<pre style=\"white-space:pre;overflow-x:auto;line-height:normal;font-family:Menlo,'DejaVu Sans Mono',consolas,'Courier New',monospace\">#PirateGang @ the Rex Theatre tomorrow doors open at 5pm. Come show your support if you fuck \nwith real music !!   #Gang \n <span style=\"color: #008080; text-decoration-color: #008080; font-weight: bold\">2</span> <span style=\"color: #008080; text-decoration-color: #008080; font-weight: bold\">1</span>\n</pre>\n"
     },
     "metadata": {}
    },
    {
     "output_type": "display_data",
     "data": {
      "text/plain": "I'm at work for \u001b[1;36m14.5\u001b[0m hours tomorrow lmao someone make me go to bed and stop reading articles \nabout nicki \n \u001b[1;36m1\u001b[0m \u001b[1;36m0\u001b[0m\n",
      "text/html": "<pre style=\"white-space:pre;overflow-x:auto;line-height:normal;font-family:Menlo,'DejaVu Sans Mono',consolas,'Courier New',monospace\">I'm at work for <span style=\"color: #008080; text-decoration-color: #008080; font-weight: bold\">14.5</span> hours tomorrow lmao someone make me go to bed and stop reading articles \nabout nicki \n <span style=\"color: #008080; text-decoration-color: #008080; font-weight: bold\">1</span> <span style=\"color: #008080; text-decoration-color: #008080; font-weight: bold\">0</span>\n</pre>\n"
     },
     "metadata": {}
    },
    {
     "output_type": "display_data",
     "data": {
      "text/plain": "Eastern Men's lax hosting the MAC Championship on Saturday be there!!! \n \u001b[1;36m1\u001b[0m \u001b[1;36m2\u001b[0m\n",
      "text/html": "<pre style=\"white-space:pre;overflow-x:auto;line-height:normal;font-family:Menlo,'DejaVu Sans Mono',consolas,'Courier New',monospace\">Eastern Men's lax hosting the MAC Championship on Saturday be there!!! \n <span style=\"color: #008080; text-decoration-color: #008080; font-weight: bold\">1</span> <span style=\"color: #008080; text-decoration-color: #008080; font-weight: bold\">2</span>\n</pre>\n"
     },
     "metadata": {}
    },
    {
     "output_type": "display_data",
     "data": {
      "text/plain": "I may get killed for this but I watched \u001b[1;36m15\u001b[0m minutes of pretty little liars. The girls acting \nability is as good as the acting in Sharknado. \n \u001b[1;36m1\u001b[0m \u001b[1;36m2\u001b[0m\n",
      "text/html": "<pre style=\"white-space:pre;overflow-x:auto;line-height:normal;font-family:Menlo,'DejaVu Sans Mono',consolas,'Courier New',monospace\">I may get killed for this but I watched <span style=\"color: #008080; text-decoration-color: #008080; font-weight: bold\">15</span> minutes of pretty little liars. The girls acting \nability is as good as the acting in Sharknado. \n <span style=\"color: #008080; text-decoration-color: #008080; font-weight: bold\">1</span> <span style=\"color: #008080; text-decoration-color: #008080; font-weight: bold\">2</span>\n</pre>\n"
     },
     "metadata": {}
    },
    {
     "output_type": "display_data",
     "data": {
      "text/plain": "\u001b[32m\"When I'm soaring on Sunday afternoon, I learn Frank Gifford--one of my faves on the field \u001b[0m\n\u001b[32mand inside the broadcast booth--has died.\"\u001b[0m \n \u001b[1;36m0\u001b[0m \u001b[1;36m1\u001b[0m\n",
      "text/html": "<pre style=\"white-space:pre;overflow-x:auto;line-height:normal;font-family:Menlo,'DejaVu Sans Mono',consolas,'Courier New',monospace\"><span style=\"color: #008000; text-decoration-color: #008000\">\"When I'm soaring on Sunday afternoon, I learn Frank Gifford--one of my faves on the field </span>\n<span style=\"color: #008000; text-decoration-color: #008000\">and inside the broadcast booth--has died.\"</span> \n <span style=\"color: #008080; text-decoration-color: #008080; font-weight: bold\">0</span> <span style=\"color: #008080; text-decoration-color: #008080; font-weight: bold\">1</span>\n</pre>\n"
     },
     "metadata": {}
    },
    {
     "output_type": "display_data",
     "data": {
      "text/plain": "\u001b[32m\"John Kasich may not be terribly polished, but he's coming across as more comfortable and \u001b[0m\n\u001b[32mreal than Jeb Bush. #GOPDebate\"\u001b[0m \n \u001b[1;36m1\u001b[0m \u001b[1;36m2\u001b[0m\n",
      "text/html": "<pre style=\"white-space:pre;overflow-x:auto;line-height:normal;font-family:Menlo,'DejaVu Sans Mono',consolas,'Courier New',monospace\"><span style=\"color: #008000; text-decoration-color: #008000\">\"John Kasich may not be terribly polished, but he's coming across as more comfortable and </span>\n<span style=\"color: #008000; text-decoration-color: #008000\">real than Jeb Bush. #GOPDebate\"</span> \n <span style=\"color: #008080; text-decoration-color: #008080; font-weight: bold\">1</span> <span style=\"color: #008080; text-decoration-color: #008080; font-weight: bold\">2</span>\n</pre>\n"
     },
     "metadata": {}
    },
    {
     "output_type": "display_data",
     "data": {
      "text/plain": "\u001b[32m\"Tokyo , Seoul , London , New York Kimama Ni Sekai wo drive tonight Kakuchi de hirou suru new\u001b[0m\n\u001b[32mstyle :\u001b[0m\u001b[32m)\u001b[0m\u001b[32m\"\u001b[0m \n \u001b[1;36m1\u001b[0m \u001b[1;36m2\u001b[0m\n",
      "text/html": "<pre style=\"white-space:pre;overflow-x:auto;line-height:normal;font-family:Menlo,'DejaVu Sans Mono',consolas,'Courier New',monospace\"><span style=\"color: #008000; text-decoration-color: #008000\">\"Tokyo , Seoul , London , New York Kimama Ni Sekai wo drive tonight Kakuchi de hirou suru new</span>\n<span style=\"color: #008000; text-decoration-color: #008000\">style :)\"</span> \n <span style=\"color: #008080; text-decoration-color: #008080; font-weight: bold\">1</span> <span style=\"color: #008080; text-decoration-color: #008080; font-weight: bold\">2</span>\n</pre>\n"
     },
     "metadata": {}
    },
    {
     "output_type": "display_data",
     "data": {
      "text/plain": "Why is Jay Cutler good in the 4th qtr and not others? Good question\\u002c ESPN. Could be \nworse\\u002c though; he could be Tony Romo. \n \u001b[1;36m1\u001b[0m \u001b[1;36m0\u001b[0m\n",
      "text/html": "<pre style=\"white-space:pre;overflow-x:auto;line-height:normal;font-family:Menlo,'DejaVu Sans Mono',consolas,'Courier New',monospace\">Why is Jay Cutler good in the 4th qtr and not others? Good question\\u002c ESPN. Could be \nworse\\u002c though; he could be Tony Romo. \n <span style=\"color: #008080; text-decoration-color: #008080; font-weight: bold\">1</span> <span style=\"color: #008080; text-decoration-color: #008080; font-weight: bold\">0</span>\n</pre>\n"
     },
     "metadata": {}
    },
    {
     "output_type": "display_data",
     "data": {
      "text/plain": "@user If I'm honest disappointed to hear BBC are covering it, 1st I'd heard, prefer license \nfee money to be spent on domestic sport. \n \u001b[1;36m1\u001b[0m \u001b[1;36m0\u001b[0m\n",
      "text/html": "<pre style=\"white-space:pre;overflow-x:auto;line-height:normal;font-family:Menlo,'DejaVu Sans Mono',consolas,'Courier New',monospace\">@user If I'm honest disappointed to hear BBC are covering it, 1st I'd heard, prefer license \nfee money to be spent on domestic sport. \n <span style=\"color: #008080; text-decoration-color: #008080; font-weight: bold\">1</span> <span style=\"color: #008080; text-decoration-color: #008080; font-weight: bold\">0</span>\n</pre>\n"
     },
     "metadata": {}
    },
    {
     "output_type": "display_data",
     "data": {
      "text/plain": "@user I've only got Niall now \u001b[33m...\u001b[0m But if you want Harry I'll get more tomorrow!! \n \u001b[1;36m2\u001b[0m \u001b[1;36m1\u001b[0m\n",
      "text/html": "<pre style=\"white-space:pre;overflow-x:auto;line-height:normal;font-family:Menlo,'DejaVu Sans Mono',consolas,'Courier New',monospace\">@user I've only got Niall now <span style=\"color: #808000; text-decoration-color: #808000\">...</span> But if you want Harry I'll get more tomorrow!! \n <span style=\"color: #008080; text-decoration-color: #008080; font-weight: bold\">2</span> <span style=\"color: #008080; text-decoration-color: #008080; font-weight: bold\">1</span>\n</pre>\n"
     },
     "metadata": {}
    },
    {
     "output_type": "display_data",
     "data": {
      "text/plain": "Are you using your smart phone or tablet in the late evening? Twilight may be a solution for \nyou!  R \n \u001b[1;36m1\u001b[0m \u001b[1;36m2\u001b[0m\n",
      "text/html": "<pre style=\"white-space:pre;overflow-x:auto;line-height:normal;font-family:Menlo,'DejaVu Sans Mono',consolas,'Courier New',monospace\">Are you using your smart phone or tablet in the late evening? Twilight may be a solution for \nyou!  R \n <span style=\"color: #008080; text-decoration-color: #008080; font-weight: bold\">1</span> <span style=\"color: #008080; text-decoration-color: #008080; font-weight: bold\">2</span>\n</pre>\n"
     },
     "metadata": {}
    },
    {
     "output_type": "display_data",
     "data": {
      "text/plain": "@user i could stop by dunkin tomorrow, want anything\" \n \u001b[1;36m2\u001b[0m \u001b[1;36m1\u001b[0m\n",
      "text/html": "<pre style=\"white-space:pre;overflow-x:auto;line-height:normal;font-family:Menlo,'DejaVu Sans Mono',consolas,'Courier New',monospace\">@user i could stop by dunkin tomorrow, want anything\" \n <span style=\"color: #008080; text-decoration-color: #008080; font-weight: bold\">2</span> <span style=\"color: #008080; text-decoration-color: #008080; font-weight: bold\">1</span>\n</pre>\n"
     },
     "metadata": {}
    },
    {
     "output_type": "display_data",
     "data": {
      "text/plain": "Tomorrow I'll be throwing myself around to Black Noise. Come and do the same at The Horn \nSt.Albans from \u001b[1;92m7:30\u001b[0mpm \n \u001b[1;36m2\u001b[0m \u001b[1;36m1\u001b[0m\n",
      "text/html": "<pre style=\"white-space:pre;overflow-x:auto;line-height:normal;font-family:Menlo,'DejaVu Sans Mono',consolas,'Courier New',monospace\">Tomorrow I'll be throwing myself around to Black Noise. Come and do the same at The Horn \nSt.Albans from <span style=\"color: #00ff00; text-decoration-color: #00ff00; font-weight: bold\">7:30</span>pm \n <span style=\"color: #008080; text-decoration-color: #008080; font-weight: bold\">2</span> <span style=\"color: #008080; text-decoration-color: #008080; font-weight: bold\">1</span>\n</pre>\n"
     },
     "metadata": {}
    },
    {
     "output_type": "display_data",
     "data": {
      "text/plain": "Jason Aldean being on a Thursday makes me really not want to go \n \u001b[1;36m1\u001b[0m \u001b[1;36m0\u001b[0m\n",
      "text/html": "<pre style=\"white-space:pre;overflow-x:auto;line-height:normal;font-family:Menlo,'DejaVu Sans Mono',consolas,'Courier New',monospace\">Jason Aldean being on a Thursday makes me really not want to go \n <span style=\"color: #008080; text-decoration-color: #008080; font-weight: bold\">1</span> <span style=\"color: #008080; text-decoration-color: #008080; font-weight: bold\">0</span>\n</pre>\n"
     },
     "metadata": {}
    },
    {
     "output_type": "display_data",
     "data": {
      "text/plain": "Briana going to Memphis tomorrow w/ bro ham which means I'm leaving too brooklyn Lml I refuse\nto stay in boring as jersey by myself \n \u001b[1;36m1\u001b[0m \u001b[1;36m0\u001b[0m\n",
      "text/html": "<pre style=\"white-space:pre;overflow-x:auto;line-height:normal;font-family:Menlo,'DejaVu Sans Mono',consolas,'Courier New',monospace\">Briana going to Memphis tomorrow w/ bro ham which means I'm leaving too brooklyn Lml I refuse\nto stay in boring as jersey by myself \n <span style=\"color: #008080; text-decoration-color: #008080; font-weight: bold\">1</span> <span style=\"color: #008080; text-decoration-color: #008080; font-weight: bold\">0</span>\n</pre>\n"
     },
     "metadata": {}
    },
    {
     "output_type": "display_data",
     "data": {
      "text/plain": "\"As she receives her 9th #GoldenGlobes nomination, read what Cate Blanchett told us about \nstill getting starstruck: \n \u001b[1;36m2\u001b[0m \u001b[1;36m1\u001b[0m\n",
      "text/html": "<pre style=\"white-space:pre;overflow-x:auto;line-height:normal;font-family:Menlo,'DejaVu Sans Mono',consolas,'Courier New',monospace\">\"As she receives her 9th #GoldenGlobes nomination, read what Cate Blanchett told us about \nstill getting starstruck: \n <span style=\"color: #008080; text-decoration-color: #008080; font-weight: bold\">2</span> <span style=\"color: #008080; text-decoration-color: #008080; font-weight: bold\">1</span>\n</pre>\n"
     },
     "metadata": {}
    },
    {
     "output_type": "display_data",
     "data": {
      "text/plain": "@user @user I think after Charlie Hebdo the French did NOT react as the US did after \u001b[1;36m9\u001b[0m/\u001b[1;36m11\u001b[0m. \nBut they may do this time around. \n \u001b[1;36m0\u001b[0m \u001b[1;36m1\u001b[0m\n",
      "text/html": "<pre style=\"white-space:pre;overflow-x:auto;line-height:normal;font-family:Menlo,'DejaVu Sans Mono',consolas,'Courier New',monospace\">@user @user I think after Charlie Hebdo the French did NOT react as the US did after <span style=\"color: #008080; text-decoration-color: #008080; font-weight: bold\">9</span>/<span style=\"color: #008080; text-decoration-color: #008080; font-weight: bold\">11</span>. \nBut they may do this time around. \n <span style=\"color: #008080; text-decoration-color: #008080; font-weight: bold\">0</span> <span style=\"color: #008080; text-decoration-color: #008080; font-weight: bold\">1</span>\n</pre>\n"
     },
     "metadata": {}
    },
    {
     "output_type": "display_data",
     "data": {
      "text/plain": "tomorrow I've to wake up  early so Zayn's erformance on VMA better be true otherwise u'll \nregret for playing with my emotions and sleep \n \u001b[1;36m2\u001b[0m \u001b[1;36m1\u001b[0m\n",
      "text/html": "<pre style=\"white-space:pre;overflow-x:auto;line-height:normal;font-family:Menlo,'DejaVu Sans Mono',consolas,'Courier New',monospace\">tomorrow I've to wake up  early so Zayn's erformance on VMA better be true otherwise u'll \nregret for playing with my emotions and sleep \n <span style=\"color: #008080; text-decoration-color: #008080; font-weight: bold\">2</span> <span style=\"color: #008080; text-decoration-color: #008080; font-weight: bold\">1</span>\n</pre>\n"
     },
     "metadata": {}
    },
    {
     "output_type": "display_data",
     "data": {
      "text/plain": "why did I just spend the last \u001b[1;36m30\u001b[0m min rapping my fav Kendrick Lamar songs when I have a \u001b[1;36m5\u001b[0m page\npaper due tomorrow?? \n \u001b[1;36m1\u001b[0m \u001b[1;36m0\u001b[0m\n",
      "text/html": "<pre style=\"white-space:pre;overflow-x:auto;line-height:normal;font-family:Menlo,'DejaVu Sans Mono',consolas,'Courier New',monospace\">why did I just spend the last <span style=\"color: #008080; text-decoration-color: #008080; font-weight: bold\">30</span> min rapping my fav Kendrick Lamar songs when I have a <span style=\"color: #008080; text-decoration-color: #008080; font-weight: bold\">5</span> page\npaper due tomorrow?? \n <span style=\"color: #008080; text-decoration-color: #008080; font-weight: bold\">1</span> <span style=\"color: #008080; text-decoration-color: #008080; font-weight: bold\">0</span>\n</pre>\n"
     },
     "metadata": {}
    },
    {
     "output_type": "display_data",
     "data": {
      "text/plain": "@user Sorry to hear that! If things change before Feb, lemme know! I'll buy you a coffee and \nsquee about Kim and Briana at you. *lol*\" \n \u001b[1;36m2\u001b[0m \u001b[1;36m1\u001b[0m\n",
      "text/html": "<pre style=\"white-space:pre;overflow-x:auto;line-height:normal;font-family:Menlo,'DejaVu Sans Mono',consolas,'Courier New',monospace\">@user Sorry to hear that! If things change before Feb, lemme know! I'll buy you a coffee and \nsquee about Kim and Briana at you. *lol*\" \n <span style=\"color: #008080; text-decoration-color: #008080; font-weight: bold\">2</span> <span style=\"color: #008080; text-decoration-color: #008080; font-weight: bold\">1</span>\n</pre>\n"
     },
     "metadata": {}
    },
    {
     "output_type": "display_data",
     "data": {
      "text/plain": "@user @user May I just point out that even though DT's tweet was horrendous, it was after \nCharlie Hebdo on January 7th\" \n \u001b[1;36m1\u001b[0m \u001b[1;36m0\u001b[0m\n",
      "text/html": "<pre style=\"white-space:pre;overflow-x:auto;line-height:normal;font-family:Menlo,'DejaVu Sans Mono',consolas,'Courier New',monospace\">@user @user May I just point out that even though DT's tweet was horrendous, it was after \nCharlie Hebdo on January 7th\" \n <span style=\"color: #008080; text-decoration-color: #008080; font-weight: bold\">1</span> <span style=\"color: #008080; text-decoration-color: #008080; font-weight: bold\">0</span>\n</pre>\n"
     },
     "metadata": {}
    },
    {
     "output_type": "display_data",
     "data": {
      "text/plain": "#Forbes The NYSE\\u002c NASDAQ and the other US stock markets all made a wise decision to take\nrain days on Monday and\u001b[33m...\u001b[0m \n \u001b[1;36m1\u001b[0m \u001b[1;36m2\u001b[0m\n",
      "text/html": "<pre style=\"white-space:pre;overflow-x:auto;line-height:normal;font-family:Menlo,'DejaVu Sans Mono',consolas,'Courier New',monospace\">#Forbes The NYSE\\u002c NASDAQ and the other US stock markets all made a wise decision to take\nrain days on Monday and<span style=\"color: #808000; text-decoration-color: #808000\">...</span> \n <span style=\"color: #008080; text-decoration-color: #008080; font-weight: bold\">1</span> <span style=\"color: #008080; text-decoration-color: #008080; font-weight: bold\">2</span>\n</pre>\n"
     },
     "metadata": {}
    },
    {
     "output_type": "display_data",
     "data": {
      "text/plain": "Jay Z joins Instagram with nostalgic tribute to Michael Jackson: Jay Z apparently joined \nInstagram on Saturday and.. \n \u001b[1;36m2\u001b[0m \u001b[1;36m1\u001b[0m\n",
      "text/html": "<pre style=\"white-space:pre;overflow-x:auto;line-height:normal;font-family:Menlo,'DejaVu Sans Mono',consolas,'Courier New',monospace\">Jay Z joins Instagram with nostalgic tribute to Michael Jackson: Jay Z apparently joined \nInstagram on Saturday and.. \n <span style=\"color: #008080; text-decoration-color: #008080; font-weight: bold\">2</span> <span style=\"color: #008080; text-decoration-color: #008080; font-weight: bold\">1</span>\n</pre>\n"
     },
     "metadata": {}
    },
    {
     "output_type": "display_data",
     "data": {
      "text/plain": "\u001b[32m\"As Sonia &amp; could not buy SC judgement in favor of Yakub, they are worried that Teesta \u001b[0m\n\u001b[32mand Tejpal may have to face the same fate.\"\u001b[0m \n \u001b[1;36m1\u001b[0m \u001b[1;36m0\u001b[0m\n",
      "text/html": "<pre style=\"white-space:pre;overflow-x:auto;line-height:normal;font-family:Menlo,'DejaVu Sans Mono',consolas,'Courier New',monospace\"><span style=\"color: #008000; text-decoration-color: #008000\">\"As Sonia &amp;amp; could not buy SC judgement in favor of Yakub, they are worried that Teesta </span>\n<span style=\"color: #008000; text-decoration-color: #008000\">and Tejpal may have to face the same fate.\"</span> \n <span style=\"color: #008080; text-decoration-color: #008080; font-weight: bold\">1</span> <span style=\"color: #008080; text-decoration-color: #008080; font-weight: bold\">0</span>\n</pre>\n"
     },
     "metadata": {}
    },
    {
     "output_type": "display_data",
     "data": {
      "text/plain": "Who wants tickets to Wednesday night's Dress Rehearsal of Aida at Winspear Opera House? Be \none of the first \u001b[1;36m6\u001b[0m to\u001b[33m...\u001b[0m \n \u001b[1;36m2\u001b[0m \u001b[1;36m1\u001b[0m\n",
      "text/html": "<pre style=\"white-space:pre;overflow-x:auto;line-height:normal;font-family:Menlo,'DejaVu Sans Mono',consolas,'Courier New',monospace\">Who wants tickets to Wednesday night's Dress Rehearsal of Aida at Winspear Opera House? Be \none of the first <span style=\"color: #008080; text-decoration-color: #008080; font-weight: bold\">6</span> to<span style=\"color: #808000; text-decoration-color: #808000\">...</span> \n <span style=\"color: #008080; text-decoration-color: #008080; font-weight: bold\">2</span> <span style=\"color: #008080; text-decoration-color: #008080; font-weight: bold\">1</span>\n</pre>\n"
     },
     "metadata": {}
    },
    {
     "output_type": "display_data",
     "data": {
      "text/plain": "If I celebrate it wrong will Thor beat me with his hammer? \n \u001b[1;36m1\u001b[0m \u001b[1;36m0\u001b[0m\n",
      "text/html": "<pre style=\"white-space:pre;overflow-x:auto;line-height:normal;font-family:Menlo,'DejaVu Sans Mono',consolas,'Courier New',monospace\">If I celebrate it wrong will Thor beat me with his hammer? \n <span style=\"color: #008080; text-decoration-color: #008080; font-weight: bold\">1</span> <span style=\"color: #008080; text-decoration-color: #008080; font-weight: bold\">0</span>\n</pre>\n"
     },
     "metadata": {}
    },
    {
     "output_type": "display_data",
     "data": {
      "text/plain": "As long as it's not Chris Evans standing in!!!! \n \u001b[1;36m2\u001b[0m \u001b[1;36m1\u001b[0m\n",
      "text/html": "<pre style=\"white-space:pre;overflow-x:auto;line-height:normal;font-family:Menlo,'DejaVu Sans Mono',consolas,'Courier New',monospace\">As long as it's not Chris Evans standing in!!!! \n <span style=\"color: #008080; text-decoration-color: #008080; font-weight: bold\">2</span> <span style=\"color: #008080; text-decoration-color: #008080; font-weight: bold\">1</span>\n</pre>\n"
     },
     "metadata": {}
    },
    {
     "output_type": "display_data",
     "data": {
      "text/plain": "I drew a fairy King on - with David Bowie pants and all. hope to see everyone on Saturday :D \n \u001b[1;36m1\u001b[0m \u001b[1;36m2\u001b[0m\n",
      "text/html": "<pre style=\"white-space:pre;overflow-x:auto;line-height:normal;font-family:Menlo,'DejaVu Sans Mono',consolas,'Courier New',monospace\">I drew a fairy King on - with David Bowie pants and all. hope to see everyone on Saturday :D \n <span style=\"color: #008080; text-decoration-color: #008080; font-weight: bold\">1</span> <span style=\"color: #008080; text-decoration-color: #008080; font-weight: bold\">2</span>\n</pre>\n"
     },
     "metadata": {}
    },
    {
     "output_type": "display_data",
     "data": {
      "text/plain": "Just got told I look like Sam smith for the 22nd time \n \u001b[1;36m2\u001b[0m \u001b[1;36m1\u001b[0m\n",
      "text/html": "<pre style=\"white-space:pre;overflow-x:auto;line-height:normal;font-family:Menlo,'DejaVu Sans Mono',consolas,'Courier New',monospace\">Just got told I look like Sam smith for the 22nd time \n <span style=\"color: #008080; text-decoration-color: #008080; font-weight: bold\">2</span> <span style=\"color: #008080; text-decoration-color: #008080; font-weight: bold\">1</span>\n</pre>\n"
     },
     "metadata": {}
    },
    {
     "output_type": "display_data",
     "data": {
      "text/plain": "Purples and Football at Baby A's with my Aunt and Cousin. ready to see my JETS play on monday\n;\u001b[1m)\u001b[0m \n \u001b[1;36m1\u001b[0m \u001b[1;36m2\u001b[0m\n",
      "text/html": "<pre style=\"white-space:pre;overflow-x:auto;line-height:normal;font-family:Menlo,'DejaVu Sans Mono',consolas,'Courier New',monospace\">Purples and Football at Baby A's with my Aunt and Cousin. ready to see my JETS play on monday\n;<span style=\"font-weight: bold\">)</span> \n <span style=\"color: #008080; text-decoration-color: #008080; font-weight: bold\">1</span> <span style=\"color: #008080; text-decoration-color: #008080; font-weight: bold\">2</span>\n</pre>\n"
     },
     "metadata": {}
    },
    {
     "output_type": "display_data",
     "data": {
      "text/plain": "\u001b[32m\"Rahul Gandhi is a ppl's leader. ModiMafia may try as hard, they will not be able defeat him \u001b[0m\n\u001b[32msimply becuz ppl's voice just cannot be curbed.\"\u001b[0m \n \u001b[1;36m2\u001b[0m \u001b[1;36m1\u001b[0m\n",
      "text/html": "<pre style=\"white-space:pre;overflow-x:auto;line-height:normal;font-family:Menlo,'DejaVu Sans Mono',consolas,'Courier New',monospace\"><span style=\"color: #008000; text-decoration-color: #008000\">\"Rahul Gandhi is a ppl's leader. ModiMafia may try as hard, they will not be able defeat him </span>\n<span style=\"color: #008000; text-decoration-color: #008000\">simply becuz ppl's voice just cannot be curbed.\"</span> \n <span style=\"color: #008080; text-decoration-color: #008080; font-weight: bold\">2</span> <span style=\"color: #008080; text-decoration-color: #008080; font-weight: bold\">1</span>\n</pre>\n"
     },
     "metadata": {}
    },
    {
     "output_type": "display_data",
     "data": {
      "text/plain": "March with @user in Cleveland's Pride Parade tomorrow.  \n \u001b[1;36m1\u001b[0m \u001b[1;36m2\u001b[0m\n",
      "text/html": "<pre style=\"white-space:pre;overflow-x:auto;line-height:normal;font-family:Menlo,'DejaVu Sans Mono',consolas,'Courier New',monospace\">March with @user in Cleveland's Pride Parade tomorrow.  \n <span style=\"color: #008080; text-decoration-color: #008080; font-weight: bold\">1</span> <span style=\"color: #008080; text-decoration-color: #008080; font-weight: bold\">2</span>\n</pre>\n"
     },
     "metadata": {}
    },
    {
     "output_type": "display_data",
     "data": {
      "text/plain": "I found my old ipod classic from the 5th grade the songs on it oh my god \n \u001b[1;36m1\u001b[0m \u001b[1;36m2\u001b[0m\n",
      "text/html": "<pre style=\"white-space:pre;overflow-x:auto;line-height:normal;font-family:Menlo,'DejaVu Sans Mono',consolas,'Courier New',monospace\">I found my old ipod classic from the 5th grade the songs on it oh my god \n <span style=\"color: #008080; text-decoration-color: #008080; font-weight: bold\">1</span> <span style=\"color: #008080; text-decoration-color: #008080; font-weight: bold\">2</span>\n</pre>\n"
     },
     "metadata": {}
    },
    {
     "output_type": "display_data",
     "data": {
      "text/plain": "Hope the Pope heard about it  \n \u001b[1;36m2\u001b[0m \u001b[1;36m1\u001b[0m\n",
      "text/html": "<pre style=\"white-space:pre;overflow-x:auto;line-height:normal;font-family:Menlo,'DejaVu Sans Mono',consolas,'Courier New',monospace\">Hope the Pope heard about it  \n <span style=\"color: #008080; text-decoration-color: #008080; font-weight: bold\">2</span> <span style=\"color: #008080; text-decoration-color: #008080; font-weight: bold\">1</span>\n</pre>\n"
     },
     "metadata": {}
    },
    {
     "output_type": "display_data",
     "data": {
      "text/plain": "Honestly the only reason I wanted to go to the Keely Chesney concert tomorrow is to see Eric \nChurch and Brantley Gilbert \n \u001b[1;36m1\u001b[0m \u001b[1;36m2\u001b[0m\n",
      "text/html": "<pre style=\"white-space:pre;overflow-x:auto;line-height:normal;font-family:Menlo,'DejaVu Sans Mono',consolas,'Courier New',monospace\">Honestly the only reason I wanted to go to the Keely Chesney concert tomorrow is to see Eric \nChurch and Brantley Gilbert \n <span style=\"color: #008080; text-decoration-color: #008080; font-weight: bold\">1</span> <span style=\"color: #008080; text-decoration-color: #008080; font-weight: bold\">2</span>\n</pre>\n"
     },
     "metadata": {}
    },
    {
     "output_type": "display_data",
     "data": {
      "text/plain": "If my The Vamps exclusive @user album isn't ready for pick up today like it says I will riot!\nBeen waiting since Dec \u001b[1;36m4\u001b[0m for it \n \u001b[1;36m1\u001b[0m \u001b[1;36m0\u001b[0m\n",
      "text/html": "<pre style=\"white-space:pre;overflow-x:auto;line-height:normal;font-family:Menlo,'DejaVu Sans Mono',consolas,'Courier New',monospace\">If my The Vamps exclusive @user album isn't ready for pick up today like it says I will riot!\nBeen waiting since Dec <span style=\"color: #008080; text-decoration-color: #008080; font-weight: bold\">4</span> for it \n <span style=\"color: #008080; text-decoration-color: #008080; font-weight: bold\">1</span> <span style=\"color: #008080; text-decoration-color: #008080; font-weight: bold\">0</span>\n</pre>\n"
     },
     "metadata": {}
    },
    {
     "output_type": "display_data",
     "data": {
      "text/plain": "\u001b[32m\"Nicki is FED UP! When she 1st came out she was bashed for her creativity, her body, her \u001b[0m\n\u001b[32mmusic. Now her opinions. I don't blame her.\"\u001b[0m \n \u001b[1;36m1\u001b[0m \u001b[1;36m0\u001b[0m\n",
      "text/html": "<pre style=\"white-space:pre;overflow-x:auto;line-height:normal;font-family:Menlo,'DejaVu Sans Mono',consolas,'Courier New',monospace\"><span style=\"color: #008000; text-decoration-color: #008000\">\"Nicki is FED UP! When she 1st came out she was bashed for her creativity, her body, her </span>\n<span style=\"color: #008000; text-decoration-color: #008000\">music. Now her opinions. I don't blame her.\"</span> \n <span style=\"color: #008080; text-decoration-color: #008080; font-weight: bold\">1</span> <span style=\"color: #008080; text-decoration-color: #008080; font-weight: bold\">0</span>\n</pre>\n"
     },
     "metadata": {}
    },
    {
     "output_type": "display_data",
     "data": {
      "text/plain": "\u001b[32m\"Frank Gifford may have been a very nice man! But, he cheated on Kathy Lee with a woman who \u001b[0m\n\u001b[32mvideotaped the incident!\"\u001b[0m \n \u001b[1;36m1\u001b[0m \u001b[1;36m0\u001b[0m\n",
      "text/html": "<pre style=\"white-space:pre;overflow-x:auto;line-height:normal;font-family:Menlo,'DejaVu Sans Mono',consolas,'Courier New',monospace\"><span style=\"color: #008000; text-decoration-color: #008000\">\"Frank Gifford may have been a very nice man! But, he cheated on Kathy Lee with a woman who </span>\n<span style=\"color: #008000; text-decoration-color: #008000\">videotaped the incident!\"</span> \n <span style=\"color: #008080; text-decoration-color: #008080; font-weight: bold\">1</span> <span style=\"color: #008080; text-decoration-color: #008080; font-weight: bold\">0</span>\n</pre>\n"
     },
     "metadata": {}
    },
    {
     "output_type": "display_data",
     "data": {
      "text/plain": "\u001b[32m\"Text from my dad: \\\"\"\u001b[0m\u001b[32m\"\"\u001b[0myou like Charles Dickens\\\"\u001b[32m\"\"\u001b[0m\u001b[32m\" 1\u001b[0m\u001b[32m)\u001b[0m\u001b[32m obvs looking at my amazon wish list \u001b[0m\n\u001b[32m(\u001b[0m\u001b[32mtoo late for Sunday\u001b[0m\u001b[32m)\u001b[0m\u001b[32m 2\u001b[0m\u001b[32m)\u001b[0m\u001b[32m why th surprise?!\"\u001b[0m \n \u001b[1;36m2\u001b[0m \u001b[1;36m1\u001b[0m\n",
      "text/html": "<pre style=\"white-space:pre;overflow-x:auto;line-height:normal;font-family:Menlo,'DejaVu Sans Mono',consolas,'Courier New',monospace\"><span style=\"color: #008000; text-decoration-color: #008000\">\"Text from my dad: \\\"\"\"\"</span>you like Charles Dickens\\\"<span style=\"color: #008000; text-decoration-color: #008000\">\"\"\" 1) obvs looking at my amazon wish list </span>\n<span style=\"color: #008000; text-decoration-color: #008000\">(too late for Sunday) 2) why th surprise?!\"</span> \n <span style=\"color: #008080; text-decoration-color: #008080; font-weight: bold\">2</span> <span style=\"color: #008080; text-decoration-color: #008080; font-weight: bold\">1</span>\n</pre>\n"
     },
     "metadata": {}
    },
    {
     "output_type": "display_data",
     "data": {
      "text/plain": "When girls become bandwagon fans of the Packers because of Harry.   Do y'all even know who \nAaron Rodgers is?  Or what a 1st down is? \n \u001b[1;36m0\u001b[0m \u001b[1;36m1\u001b[0m\n",
      "text/html": "<pre style=\"white-space:pre;overflow-x:auto;line-height:normal;font-family:Menlo,'DejaVu Sans Mono',consolas,'Courier New',monospace\">When girls become bandwagon fans of the Packers because of Harry.   Do y'all even know who \nAaron Rodgers is?  Or what a 1st down is? \n <span style=\"color: #008080; text-decoration-color: #008080; font-weight: bold\">0</span> <span style=\"color: #008080; text-decoration-color: #008080; font-weight: bold\">1</span>\n</pre>\n"
     },
     "metadata": {}
    },
    {
     "output_type": "display_data",
     "data": {
      "text/plain": "\u001b[32m\"I really just tweet on Wednesday ,Thursday and Sunday because of Big Brother but other then \u001b[0m\n\u001b[32mthat I don't tweet now.\"\u001b[0m \n \u001b[1;36m2\u001b[0m \u001b[1;36m1\u001b[0m\n",
      "text/html": "<pre style=\"white-space:pre;overflow-x:auto;line-height:normal;font-family:Menlo,'DejaVu Sans Mono',consolas,'Courier New',monospace\"><span style=\"color: #008000; text-decoration-color: #008000\">\"I really just tweet on Wednesday ,Thursday and Sunday because of Big Brother but other then </span>\n<span style=\"color: #008000; text-decoration-color: #008000\">that I don't tweet now.\"</span> \n <span style=\"color: #008080; text-decoration-color: #008080; font-weight: bold\">2</span> <span style=\"color: #008080; text-decoration-color: #008080; font-weight: bold\">1</span>\n</pre>\n"
     },
     "metadata": {}
    },
    {
     "output_type": "display_data",
     "data": {
      "text/plain": "You may want to plan on getting a cup of coffee at Winans this Saturday! \n \u001b[1;36m1\u001b[0m \u001b[1;36m2\u001b[0m\n",
      "text/html": "<pre style=\"white-space:pre;overflow-x:auto;line-height:normal;font-family:Menlo,'DejaVu Sans Mono',consolas,'Courier New',monospace\">You may want to plan on getting a cup of coffee at Winans this Saturday! \n <span style=\"color: #008080; text-decoration-color: #008080; font-weight: bold\">1</span> <span style=\"color: #008080; text-decoration-color: #008080; font-weight: bold\">2</span>\n</pre>\n"
     },
     "metadata": {}
    },
    {
     "output_type": "display_data",
     "data": {
      "text/plain": "@user forget the yankees.. Brock Lesnar in the ring on Monday night RAW! \u001b[1;36m6\u001b[0m days to summer \nslam! \n \u001b[1;36m2\u001b[0m \u001b[1;36m1\u001b[0m\n",
      "text/html": "<pre style=\"white-space:pre;overflow-x:auto;line-height:normal;font-family:Menlo,'DejaVu Sans Mono',consolas,'Courier New',monospace\">@user forget the yankees.. Brock Lesnar in the ring on Monday night RAW! <span style=\"color: #008080; text-decoration-color: #008080; font-weight: bold\">6</span> days to summer \nslam! \n <span style=\"color: #008080; text-decoration-color: #008080; font-weight: bold\">2</span> <span style=\"color: #008080; text-decoration-color: #008080; font-weight: bold\">1</span>\n</pre>\n"
     },
     "metadata": {}
    },
    {
     "output_type": "display_data",
     "data": {
      "text/plain": "UCLA Study Shows Why One of the Biggest Obamacare Fears May Not Come To Pass - California \nHealthline \n \u001b[1;36m1\u001b[0m \u001b[1;36m0\u001b[0m\n",
      "text/html": "<pre style=\"white-space:pre;overflow-x:auto;line-height:normal;font-family:Menlo,'DejaVu Sans Mono',consolas,'Courier New',monospace\">UCLA Study Shows Why One of the Biggest Obamacare Fears May Not Come To Pass - California \nHealthline \n <span style=\"color: #008080; text-decoration-color: #008080; font-weight: bold\">1</span> <span style=\"color: #008080; text-decoration-color: #008080; font-weight: bold\">0</span>\n</pre>\n"
     },
     "metadata": {}
    },
    {
     "output_type": "display_data",
     "data": {
      "text/plain": "Tbt to tik tok by kesha\u001b[33m...\u001b[0m That shit was the knock in 6th grade \n \u001b[1;36m2\u001b[0m \u001b[1;36m0\u001b[0m\n",
      "text/html": "<pre style=\"white-space:pre;overflow-x:auto;line-height:normal;font-family:Menlo,'DejaVu Sans Mono',consolas,'Courier New',monospace\">Tbt to tik tok by kesha<span style=\"color: #808000; text-decoration-color: #808000\">...</span> That shit was the knock in 6th grade \n <span style=\"color: #008080; text-decoration-color: #008080; font-weight: bold\">2</span> <span style=\"color: #008080; text-decoration-color: #008080; font-weight: bold\">0</span>\n</pre>\n"
     },
     "metadata": {}
    },
    {
     "output_type": "display_data",
     "data": {
      "text/plain": "\u001b[32m\"The Night Watchman's Journal.... Scholar Who Walks the Night... poor you sun, homin oppas do\u001b[0m\n\u001b[32mnot like u.. they like night more\"\u001b[0m \n \u001b[1;36m1\u001b[0m \u001b[1;36m0\u001b[0m\n",
      "text/html": "<pre style=\"white-space:pre;overflow-x:auto;line-height:normal;font-family:Menlo,'DejaVu Sans Mono',consolas,'Courier New',monospace\"><span style=\"color: #008000; text-decoration-color: #008000\">\"The Night Watchman's Journal.... Scholar Who Walks the Night... poor you sun, homin oppas do</span>\n<span style=\"color: #008000; text-decoration-color: #008000\">not like u.. they like night more\"</span> \n <span style=\"color: #008080; text-decoration-color: #008080; font-weight: bold\">1</span> <span style=\"color: #008080; text-decoration-color: #008080; font-weight: bold\">0</span>\n</pre>\n"
     },
     "metadata": {}
    },
    {
     "output_type": "display_data",
     "data": {
      "text/plain": "\u001b[32m\"i got lots of tweets asking for shoutouts to Niall, if i think about it i will give \u001b[0m\n\u001b[32mshoutouts to Niall when i get back from work TOMORROW!!\"\u001b[0m \n \u001b[1;36m2\u001b[0m \u001b[1;36m1\u001b[0m\n",
      "text/html": "<pre style=\"white-space:pre;overflow-x:auto;line-height:normal;font-family:Menlo,'DejaVu Sans Mono',consolas,'Courier New',monospace\"><span style=\"color: #008000; text-decoration-color: #008000\">\"i got lots of tweets asking for shoutouts to Niall, if i think about it i will give </span>\n<span style=\"color: #008000; text-decoration-color: #008000\">shoutouts to Niall when i get back from work TOMORROW!!\"</span> \n <span style=\"color: #008080; text-decoration-color: #008080; font-weight: bold\">2</span> <span style=\"color: #008080; text-decoration-color: #008080; font-weight: bold\">1</span>\n</pre>\n"
     },
     "metadata": {}
    },
    {
     "output_type": "display_data",
     "data": {
      "text/plain": "\u001b[32m\"Roskilde Festival starts today.Tomorrow Jakob Bro+Thomas Knak will introduce their music \u001b[0m\n\u001b[32m\"\u001b[0m\u001b[32m\"\"\"Bro/Knak\"\"\"\u001b[0m\" live for the first time @user \n \u001b[1;36m2\u001b[0m \u001b[1;36m1\u001b[0m\n",
      "text/html": "<pre style=\"white-space:pre;overflow-x:auto;line-height:normal;font-family:Menlo,'DejaVu Sans Mono',consolas,'Courier New',monospace\"><span style=\"color: #008000; text-decoration-color: #008000\">\"Roskilde Festival starts today.Tomorrow Jakob Bro+Thomas Knak will introduce their music </span>\n<span style=\"color: #008000; text-decoration-color: #008000\">\"\"\"\"Bro/Knak\"\"\"</span>\" live for the first time @user \n <span style=\"color: #008080; text-decoration-color: #008080; font-weight: bold\">2</span> <span style=\"color: #008080; text-decoration-color: #008080; font-weight: bold\">1</span>\n</pre>\n"
     },
     "metadata": {}
    },
    {
     "output_type": "display_data",
     "data": {
      "text/plain": "Justin on the 17th place? Where are the believers at? #MTVSTARS Lady Gaga \n \u001b[1;36m0\u001b[0m \u001b[1;36m1\u001b[0m\n",
      "text/html": "<pre style=\"white-space:pre;overflow-x:auto;line-height:normal;font-family:Menlo,'DejaVu Sans Mono',consolas,'Courier New',monospace\">Justin on the 17th place? Where are the believers at? #MTVSTARS Lady Gaga \n <span style=\"color: #008080; text-decoration-color: #008080; font-weight: bold\">0</span> <span style=\"color: #008080; text-decoration-color: #008080; font-weight: bold\">1</span>\n</pre>\n"
     },
     "metadata": {}
    },
    {
     "output_type": "display_data",
     "data": {
      "text/plain": "I want to trade an Ant-Man fig for this Yellowjacket. All from @user June box. Tweet if \ninterested \n \u001b[1;36m2\u001b[0m \u001b[1;36m1\u001b[0m\n",
      "text/html": "<pre style=\"white-space:pre;overflow-x:auto;line-height:normal;font-family:Menlo,'DejaVu Sans Mono',consolas,'Courier New',monospace\">I want to trade an Ant-Man fig for this Yellowjacket. All from @user June box. Tweet if \ninterested \n <span style=\"color: #008080; text-decoration-color: #008080; font-weight: bold\">2</span> <span style=\"color: #008080; text-decoration-color: #008080; font-weight: bold\">1</span>\n</pre>\n"
     },
     "metadata": {}
    },
    {
     "output_type": "display_data",
     "data": {
      "text/plain": "Eden Hazard's pass for Mata's 2nd goal yesterday was an absolute dream. Had the watch it \nabout \u001b[1;36m5\u001b[0m times to believe it. #worldie \n \u001b[1;36m1\u001b[0m \u001b[1;36m2\u001b[0m\n",
      "text/html": "<pre style=\"white-space:pre;overflow-x:auto;line-height:normal;font-family:Menlo,'DejaVu Sans Mono',consolas,'Courier New',monospace\">Eden Hazard's pass for Mata's 2nd goal yesterday was an absolute dream. Had the watch it \nabout <span style=\"color: #008080; text-decoration-color: #008080; font-weight: bold\">5</span> times to believe it. #worldie \n <span style=\"color: #008080; text-decoration-color: #008080; font-weight: bold\">1</span> <span style=\"color: #008080; text-decoration-color: #008080; font-weight: bold\">2</span>\n</pre>\n"
     },
     "metadata": {}
    },
    {
     "output_type": "display_data",
     "data": {
      "text/plain": "Tomorrow I will either stream, more Max: The Curse of Brotherhood, Minecraft, Trials Fusion, \nor Call of Duty: Advanced Warfare, you tell me. \n \u001b[1;36m2\u001b[0m \u001b[1;36m1\u001b[0m\n",
      "text/html": "<pre style=\"white-space:pre;overflow-x:auto;line-height:normal;font-family:Menlo,'DejaVu Sans Mono',consolas,'Courier New',monospace\">Tomorrow I will either stream, more Max: The Curse of Brotherhood, Minecraft, Trials Fusion, \nor Call of Duty: Advanced Warfare, you tell me. \n <span style=\"color: #008080; text-decoration-color: #008080; font-weight: bold\">2</span> <span style=\"color: #008080; text-decoration-color: #008080; font-weight: bold\">1</span>\n</pre>\n"
     },
     "metadata": {}
    },
    {
     "output_type": "display_data",
     "data": {
      "text/plain": "Nicki better release a raunchy vid for trini Dem girls so it can get her 1st grammy \n \u001b[1;36m2\u001b[0m \u001b[1;36m1\u001b[0m\n",
      "text/html": "<pre style=\"white-space:pre;overflow-x:auto;line-height:normal;font-family:Menlo,'DejaVu Sans Mono',consolas,'Courier New',monospace\">Nicki better release a raunchy vid for trini Dem girls so it can get her 1st grammy \n <span style=\"color: #008080; text-decoration-color: #008080; font-weight: bold\">2</span> <span style=\"color: #008080; text-decoration-color: #008080; font-weight: bold\">1</span>\n</pre>\n"
     },
     "metadata": {}
    },
    {
     "output_type": "display_data",
     "data": {
      "text/plain": "Grand opening tomorrow. Come out to Vans at Town Center and visit me and check it out! \n \u001b[1;36m1\u001b[0m \u001b[1;36m2\u001b[0m\n",
      "text/html": "<pre style=\"white-space:pre;overflow-x:auto;line-height:normal;font-family:Menlo,'DejaVu Sans Mono',consolas,'Courier New',monospace\">Grand opening tomorrow. Come out to Vans at Town Center and visit me and check it out! \n <span style=\"color: #008080; text-decoration-color: #008080; font-weight: bold\">1</span> <span style=\"color: #008080; text-decoration-color: #008080; font-weight: bold\">2</span>\n</pre>\n"
     },
     "metadata": {}
    },
    {
     "output_type": "display_data",
     "data": {
      "text/plain": "#Nats Rendon bunts but Werth is erased at 2nd. Runner on 1st with \u001b[1;36m1\u001b[0m out.  Harper at bat\u001b[33m...\u001b[0m \n \u001b[1;36m2\u001b[0m \u001b[1;36m1\u001b[0m\n",
      "text/html": "<pre style=\"white-space:pre;overflow-x:auto;line-height:normal;font-family:Menlo,'DejaVu Sans Mono',consolas,'Courier New',monospace\">#Nats Rendon bunts but Werth is erased at 2nd. Runner on 1st with <span style=\"color: #008080; text-decoration-color: #008080; font-weight: bold\">1</span> out.  Harper at bat<span style=\"color: #808000; text-decoration-color: #808000\">...</span> \n <span style=\"color: #008080; text-decoration-color: #008080; font-weight: bold\">2</span> <span style=\"color: #008080; text-decoration-color: #008080; font-weight: bold\">1</span>\n</pre>\n"
     },
     "metadata": {}
    },
    {
     "output_type": "display_data",
     "data": {
      "text/plain": "\u001b[32m\"Ooh Operation Raccoon City is 19.99, I may pick that game up, if I have the strength to..man\u001b[0m\n\u001b[32mI gotta sleep earlier.\"\u001b[0m \n \u001b[1;36m2\u001b[0m \u001b[1;36m1\u001b[0m\n",
      "text/html": "<pre style=\"white-space:pre;overflow-x:auto;line-height:normal;font-family:Menlo,'DejaVu Sans Mono',consolas,'Courier New',monospace\"><span style=\"color: #008000; text-decoration-color: #008000\">\"Ooh Operation Raccoon City is 19.99, I may pick that game up, if I have the strength to..man</span>\n<span style=\"color: #008000; text-decoration-color: #008000\">I gotta sleep earlier.\"</span> \n <span style=\"color: #008080; text-decoration-color: #008080; font-weight: bold\">2</span> <span style=\"color: #008080; text-decoration-color: #008080; font-weight: bold\">1</span>\n</pre>\n"
     },
     "metadata": {}
    },
    {
     "output_type": "display_data",
     "data": {
      "text/plain": "Calling all voters\\u002c I\\u2019m calling on Nevada\\u002cFlorida\\u002cOhio\\u002cTuesday night\nis the night u guys will i repeat will shine for the president lets go! \n \u001b[1;36m1\u001b[0m \u001b[1;36m2\u001b[0m\n",
      "text/html": "<pre style=\"white-space:pre;overflow-x:auto;line-height:normal;font-family:Menlo,'DejaVu Sans Mono',consolas,'Courier New',monospace\">Calling all voters\\u002c I\\u2019m calling on Nevada\\u002cFlorida\\u002cOhio\\u002cTuesday night\nis the night u guys will i repeat will shine for the president lets go! \n <span style=\"color: #008080; text-decoration-color: #008080; font-weight: bold\">1</span> <span style=\"color: #008080; text-decoration-color: #008080; font-weight: bold\">2</span>\n</pre>\n"
     },
     "metadata": {}
    },
    {
     "output_type": "display_data",
     "data": {
      "text/plain": "My Bernie sanders buttons haven't come in the mail yet and I'm super stressed because I'm \nmoving on Sunday. \n \u001b[1;36m1\u001b[0m \u001b[1;36m0\u001b[0m\n",
      "text/html": "<pre style=\"white-space:pre;overflow-x:auto;line-height:normal;font-family:Menlo,'DejaVu Sans Mono',consolas,'Courier New',monospace\">My Bernie sanders buttons haven't come in the mail yet and I'm super stressed because I'm \nmoving on Sunday. \n <span style=\"color: #008080; text-decoration-color: #008080; font-weight: bold\">1</span> <span style=\"color: #008080; text-decoration-color: #008080; font-weight: bold\">0</span>\n</pre>\n"
     },
     "metadata": {}
    },
    {
     "output_type": "display_data",
     "data": {
      "text/plain": "\"I'm going to @user at Fabrique in Milan, Italy - Feb \u001b[1;36m19\u001b[0m \n \u001b[1;36m2\u001b[0m \u001b[1;36m1\u001b[0m\n",
      "text/html": "<pre style=\"white-space:pre;overflow-x:auto;line-height:normal;font-family:Menlo,'DejaVu Sans Mono',consolas,'Courier New',monospace\">\"I'm going to @user at Fabrique in Milan, Italy - Feb <span style=\"color: #008080; text-decoration-color: #008080; font-weight: bold\">19</span> \n <span style=\"color: #008080; text-decoration-color: #008080; font-weight: bold\">2</span> <span style=\"color: #008080; text-decoration-color: #008080; font-weight: bold\">1</span>\n</pre>\n"
     },
     "metadata": {}
    },
    {
     "output_type": "display_data",
     "data": {
      "text/plain": "March Against Monsanto founder, Tami Canal, discusses #FoodJustice with Anthony Gucciardi. \n \u001b[1;36m2\u001b[0m \u001b[1;36m1\u001b[0m\n",
      "text/html": "<pre style=\"white-space:pre;overflow-x:auto;line-height:normal;font-family:Menlo,'DejaVu Sans Mono',consolas,'Courier New',monospace\">March Against Monsanto founder, Tami Canal, discusses #FoodJustice with Anthony Gucciardi. \n <span style=\"color: #008080; text-decoration-color: #008080; font-weight: bold\">2</span> <span style=\"color: #008080; text-decoration-color: #008080; font-weight: bold\">1</span>\n</pre>\n"
     },
     "metadata": {}
    },
    {
     "output_type": "display_data",
     "data": {
      "text/plain": "I had a dream that Brock Lesnar won the 3rd annual #WMT because he F5d everyone. I woke up \nhoping it wasn't a dream. \n \u001b[1;36m2\u001b[0m \u001b[1;36m1\u001b[0m\n",
      "text/html": "<pre style=\"white-space:pre;overflow-x:auto;line-height:normal;font-family:Menlo,'DejaVu Sans Mono',consolas,'Courier New',monospace\">I had a dream that Brock Lesnar won the 3rd annual #WMT because he F5d everyone. I woke up \nhoping it wasn't a dream. \n <span style=\"color: #008080; text-decoration-color: #008080; font-weight: bold\">2</span> <span style=\"color: #008080; text-decoration-color: #008080; font-weight: bold\">1</span>\n</pre>\n"
     },
     "metadata": {}
    },
    {
     "output_type": "display_data",
     "data": {
      "text/plain": "Amazon Prime Day beats Black Friday says retailer Amazon Prime Day may have been an excuse \nfor the retail\u001b[33m...\u001b[0m \n \u001b[1;36m0\u001b[0m \u001b[1;36m1\u001b[0m\n",
      "text/html": "<pre style=\"white-space:pre;overflow-x:auto;line-height:normal;font-family:Menlo,'DejaVu Sans Mono',consolas,'Courier New',monospace\">Amazon Prime Day beats Black Friday says retailer Amazon Prime Day may have been an excuse \nfor the retail<span style=\"color: #808000; text-decoration-color: #808000\">...</span> \n <span style=\"color: #008080; text-decoration-color: #008080; font-weight: bold\">0</span> <span style=\"color: #008080; text-decoration-color: #008080; font-weight: bold\">1</span>\n</pre>\n"
     },
     "metadata": {}
    },
    {
     "output_type": "display_data",
     "data": {
      "text/plain": "Last tweet of the night\\u002c reading will not lose to spurs tomorrow \n \u001b[1;36m2\u001b[0m \u001b[1;36m1\u001b[0m\n",
      "text/html": "<pre style=\"white-space:pre;overflow-x:auto;line-height:normal;font-family:Menlo,'DejaVu Sans Mono',consolas,'Courier New',monospace\">Last tweet of the night\\u002c reading will not lose to spurs tomorrow \n <span style=\"color: #008080; text-decoration-color: #008080; font-weight: bold\">2</span> <span style=\"color: #008080; text-decoration-color: #008080; font-weight: bold\">1</span>\n</pre>\n"
     },
     "metadata": {}
    },
    {
     "output_type": "display_data",
     "data": {
      "text/plain": "\u001b[32m\"Shazia Ilmi joined BJP's \"\u001b[0m\u001b[32m\"\"\"Swachh Bharat\"\"\"\u001b[0m\u001b[32m\" campaign. Noble intentions or may be the fact\u001b[0m\n\u001b[32mthat no woman likes to be ignored for a long time.\"\u001b[0m \n \u001b[1;36m0\u001b[0m \u001b[1;36m1\u001b[0m\n",
      "text/html": "<pre style=\"white-space:pre;overflow-x:auto;line-height:normal;font-family:Menlo,'DejaVu Sans Mono',consolas,'Courier New',monospace\"><span style=\"color: #008000; text-decoration-color: #008000\">\"Shazia Ilmi joined BJP's \"\"\"\"Swachh Bharat\"\"\"\" campaign. Noble intentions or may be the fact</span>\n<span style=\"color: #008000; text-decoration-color: #008000\">that no woman likes to be ignored for a long time.\"</span> \n <span style=\"color: #008080; text-decoration-color: #008080; font-weight: bold\">0</span> <span style=\"color: #008080; text-decoration-color: #008080; font-weight: bold\">1</span>\n</pre>\n"
     },
     "metadata": {}
    },
    {
     "output_type": "display_data",
     "data": {
      "text/plain": "\u001b[32m\"LONDON \u001b[0m\u001b[32m(\u001b[0m\u001b[32mAP\u001b[0m\u001b[32m)\u001b[0m\u001b[32m \"\u001b[0m\" Prince George celebrates his second birthday on Wednesday and while he's just\na toddler, he's al\u001b[33m...\u001b[0m  \n \u001b[1;36m1\u001b[0m \u001b[1;36m2\u001b[0m\n",
      "text/html": "<pre style=\"white-space:pre;overflow-x:auto;line-height:normal;font-family:Menlo,'DejaVu Sans Mono',consolas,'Courier New',monospace\"><span style=\"color: #008000; text-decoration-color: #008000\">\"LONDON (AP) \"</span>\" Prince George celebrates his second birthday on Wednesday and while he's just\na toddler, he's al<span style=\"color: #808000; text-decoration-color: #808000\">...</span>  \n <span style=\"color: #008080; text-decoration-color: #008080; font-weight: bold\">1</span> <span style=\"color: #008080; text-decoration-color: #008080; font-weight: bold\">2</span>\n</pre>\n"
     },
     "metadata": {}
    },
    {
     "output_type": "display_data",
     "data": {
      "text/plain": "@user @user I think the Red Sox may be more popular around that region as well. Have many \nmore fans nationally than Pats \n \u001b[1;36m1\u001b[0m \u001b[1;36m2\u001b[0m\n",
      "text/html": "<pre style=\"white-space:pre;overflow-x:auto;line-height:normal;font-family:Menlo,'DejaVu Sans Mono',consolas,'Courier New',monospace\">@user @user I think the Red Sox may be more popular around that region as well. Have many \nmore fans nationally than Pats \n <span style=\"color: #008080; text-decoration-color: #008080; font-weight: bold\">1</span> <span style=\"color: #008080; text-decoration-color: #008080; font-weight: bold\">2</span>\n</pre>\n"
     },
     "metadata": {}
    },
    {
     "output_type": "display_data",
     "data": {
      "text/plain": "@user nah I'm prolly jus gonna get the Gucci foams that come out on Friday \n \u001b[1;36m2\u001b[0m \u001b[1;36m1\u001b[0m\n",
      "text/html": "<pre style=\"white-space:pre;overflow-x:auto;line-height:normal;font-family:Menlo,'DejaVu Sans Mono',consolas,'Courier New',monospace\">@user nah I'm prolly jus gonna get the Gucci foams that come out on Friday \n <span style=\"color: #008080; text-decoration-color: #008080; font-weight: bold\">2</span> <span style=\"color: #008080; text-decoration-color: #008080; font-weight: bold\">1</span>\n</pre>\n"
     },
     "metadata": {}
    },
    {
     "output_type": "display_data",
     "data": {
      "text/plain": "Did you know that \u001b[32m'Janet Jackson'\u001b[0m was Trending Topic on Thursday \u001b[1;36m3\u001b[0m for \u001b[1;36m8\u001b[0m hours in Calgary? \n#trndnl \n \u001b[1;36m2\u001b[0m \u001b[1;36m1\u001b[0m\n",
      "text/html": "<pre style=\"white-space:pre;overflow-x:auto;line-height:normal;font-family:Menlo,'DejaVu Sans Mono',consolas,'Courier New',monospace\">Did you know that <span style=\"color: #008000; text-decoration-color: #008000\">'Janet Jackson'</span> was Trending Topic on Thursday <span style=\"color: #008080; text-decoration-color: #008080; font-weight: bold\">3</span> for <span style=\"color: #008080; text-decoration-color: #008080; font-weight: bold\">8</span> hours in Calgary? \n#trndnl \n <span style=\"color: #008080; text-decoration-color: #008080; font-weight: bold\">2</span> <span style=\"color: #008080; text-decoration-color: #008080; font-weight: bold\">1</span>\n</pre>\n"
     },
     "metadata": {}
    },
    {
     "output_type": "display_data",
     "data": {
      "text/plain": "@user tickets are \u001b[1;36m60\u001b[0m or \u001b[1;36m114\u001b[0m but I'm getting the \u001b[1;36m114\u001b[0m oneeeee lol I just need to know who down \nfrfr. December \u001b[1;36m5\u001b[0m at oracle \n \u001b[1;36m2\u001b[0m \u001b[1;36m1\u001b[0m\n",
      "text/html": "<pre style=\"white-space:pre;overflow-x:auto;line-height:normal;font-family:Menlo,'DejaVu Sans Mono',consolas,'Courier New',monospace\">@user tickets are <span style=\"color: #008080; text-decoration-color: #008080; font-weight: bold\">60</span> or <span style=\"color: #008080; text-decoration-color: #008080; font-weight: bold\">114</span> but I'm getting the <span style=\"color: #008080; text-decoration-color: #008080; font-weight: bold\">114</span> oneeeee lol I just need to know who down \nfrfr. December <span style=\"color: #008080; text-decoration-color: #008080; font-weight: bold\">5</span> at oracle \n <span style=\"color: #008080; text-decoration-color: #008080; font-weight: bold\">2</span> <span style=\"color: #008080; text-decoration-color: #008080; font-weight: bold\">1</span>\n</pre>\n"
     },
     "metadata": {}
    },
    {
     "output_type": "display_data",
     "data": {
      "text/plain": "@user @user Funny how you call it \u001b[32m\"\"\u001b[0mThursday\"\u001b[32m\" and don't believe Thor was real.\"\u001b[0m \n \u001b[1;36m2\u001b[0m \u001b[1;36m1\u001b[0m\n",
      "text/html": "<pre style=\"white-space:pre;overflow-x:auto;line-height:normal;font-family:Menlo,'DejaVu Sans Mono',consolas,'Courier New',monospace\">@user @user Funny how you call it <span style=\"color: #008000; text-decoration-color: #008000\">\"\"</span>Thursday\"<span style=\"color: #008000; text-decoration-color: #008000\">\" and don't believe Thor was real.\"</span> \n <span style=\"color: #008080; text-decoration-color: #008080; font-weight: bold\">2</span> <span style=\"color: #008080; text-decoration-color: #008080; font-weight: bold\">1</span>\n</pre>\n"
     },
     "metadata": {}
    },
    {
     "output_type": "display_data",
     "data": {
      "text/plain": "\u001b[32m\"Harper spoke Tuesday on how the Cons will balance their security concerns with more refugees\u001b[0m\n\u001b[32minto Canada\"\u001b[0m. Instigating hate #cdnpoli \n \u001b[1;36m1\u001b[0m \u001b[1;36m0\u001b[0m\n",
      "text/html": "<pre style=\"white-space:pre;overflow-x:auto;line-height:normal;font-family:Menlo,'DejaVu Sans Mono',consolas,'Courier New',monospace\"><span style=\"color: #008000; text-decoration-color: #008000\">\"Harper spoke Tuesday on how the Cons will balance their security concerns with more refugees</span>\n<span style=\"color: #008000; text-decoration-color: #008000\">into Canada\"</span>. Instigating hate #cdnpoli \n <span style=\"color: #008080; text-decoration-color: #008080; font-weight: bold\">1</span> <span style=\"color: #008080; text-decoration-color: #008080; font-weight: bold\">0</span>\n</pre>\n"
     },
     "metadata": {}
    },
    {
     "output_type": "display_data",
     "data": {
      "text/plain": "The only reason Dustin Johnson didn't play  well is because it's a Sunday.  Luckily for him \nthe final round is on Monday.  #TheOpen2015 \n \u001b[1;36m2\u001b[0m \u001b[1;36m1\u001b[0m\n",
      "text/html": "<pre style=\"white-space:pre;overflow-x:auto;line-height:normal;font-family:Menlo,'DejaVu Sans Mono',consolas,'Courier New',monospace\">The only reason Dustin Johnson didn't play  well is because it's a Sunday.  Luckily for him \nthe final round is on Monday.  #TheOpen2015 \n <span style=\"color: #008080; text-decoration-color: #008080; font-weight: bold\">2</span> <span style=\"color: #008080; text-decoration-color: #008080; font-weight: bold\">1</span>\n</pre>\n"
     },
     "metadata": {}
    },
    {
     "output_type": "display_data",
     "data": {
      "text/plain": "\u001b[32m\"I'm still not over Kendrick's \"\u001b[0m\u001b[32m\"Black Friday\"\u001b[0m\u001b[32m\" freestyle. Lyrically up there with the \u001b[0m\n\u001b[32m\"\u001b[0m\u001b[32m\"Control\"\u001b[0m\u001b[32m\" verse. I said it.\"\u001b[0m \n \u001b[1;36m2\u001b[0m \u001b[1;36m1\u001b[0m\n",
      "text/html": "<pre style=\"white-space:pre;overflow-x:auto;line-height:normal;font-family:Menlo,'DejaVu Sans Mono',consolas,'Courier New',monospace\"><span style=\"color: #008000; text-decoration-color: #008000\">\"I'm still not over Kendrick's \"\"Black Friday\"\" freestyle. Lyrically up there with the </span>\n<span style=\"color: #008000; text-decoration-color: #008000\">\"\"Control\"\" verse. I said it.\"</span> \n <span style=\"color: #008080; text-decoration-color: #008080; font-weight: bold\">2</span> <span style=\"color: #008080; text-decoration-color: #008080; font-weight: bold\">1</span>\n</pre>\n"
     },
     "metadata": {}
    },
    {
     "output_type": "display_data",
     "data": {
      "text/plain": "@user digi was on the 18th but i didn't go but im going to slaybells \n \u001b[1;36m2\u001b[0m \u001b[1;36m1\u001b[0m\n",
      "text/html": "<pre style=\"white-space:pre;overflow-x:auto;line-height:normal;font-family:Menlo,'DejaVu Sans Mono',consolas,'Courier New',monospace\">@user digi was on the 18th but i didn't go but im going to slaybells \n <span style=\"color: #008080; text-decoration-color: #008080; font-weight: bold\">2</span> <span style=\"color: #008080; text-decoration-color: #008080; font-weight: bold\">1</span>\n</pre>\n"
     },
     "metadata": {}
    },
    {
     "output_type": "display_data",
     "data": {
      "text/plain": "#US 1st Lady Michelle Obama speaking at the \u001b[1;36m2015\u001b[0m Beating the Odds Summit to over \u001b[1;36m130\u001b[0m \ncollege-bound students at the pentagon office. &gt;&gt; \n \u001b[1;36m2\u001b[0m \u001b[1;36m1\u001b[0m\n",
      "text/html": "<pre style=\"white-space:pre;overflow-x:auto;line-height:normal;font-family:Menlo,'DejaVu Sans Mono',consolas,'Courier New',monospace\">#US 1st Lady Michelle Obama speaking at the <span style=\"color: #008080; text-decoration-color: #008080; font-weight: bold\">2015</span> Beating the Odds Summit to over <span style=\"color: #008080; text-decoration-color: #008080; font-weight: bold\">130</span> \ncollege-bound students at the pentagon office. &amp;gt;&amp;gt; \n <span style=\"color: #008080; text-decoration-color: #008080; font-weight: bold\">2</span> <span style=\"color: #008080; text-decoration-color: #008080; font-weight: bold\">1</span>\n</pre>\n"
     },
     "metadata": {}
    },
    {
     "output_type": "display_data",
     "data": {
      "text/plain": "\"just saw a report where forecasters are showing snow for @user neck of the woods on Wed. Oh \nboy!!! \n \u001b[1;36m0\u001b[0m \u001b[1;36m1\u001b[0m\n",
      "text/html": "<pre style=\"white-space:pre;overflow-x:auto;line-height:normal;font-family:Menlo,'DejaVu Sans Mono',consolas,'Courier New',monospace\">\"just saw a report where forecasters are showing snow for @user neck of the woods on Wed. Oh \nboy!!! \n <span style=\"color: #008080; text-decoration-color: #008080; font-weight: bold\">0</span> <span style=\"color: #008080; text-decoration-color: #008080; font-weight: bold\">1</span>\n</pre>\n"
     },
     "metadata": {}
    },
    {
     "output_type": "display_data",
     "data": {
      "text/plain": "Charles Gets The Grandkids Into Gardening: He may be only two years old but it seems Prince \nGeorge's grandfath\u001b[33m...\u001b[0m \n \u001b[1;36m2\u001b[0m \u001b[1;36m1\u001b[0m\n",
      "text/html": "<pre style=\"white-space:pre;overflow-x:auto;line-height:normal;font-family:Menlo,'DejaVu Sans Mono',consolas,'Courier New',monospace\">Charles Gets The Grandkids Into Gardening: He may be only two years old but it seems Prince \nGeorge's grandfath<span style=\"color: #808000; text-decoration-color: #808000\">...</span> \n <span style=\"color: #008080; text-decoration-color: #008080; font-weight: bold\">2</span> <span style=\"color: #008080; text-decoration-color: #008080; font-weight: bold\">1</span>\n</pre>\n"
     },
     "metadata": {}
    },
    {
     "output_type": "display_data",
     "data": {
      "text/plain": "just bought my 1st Heineken beer in Las Vegas.  ps I\\u2019ve lived here for \u001b[1;36m5\u001b[0m yrs ~what took \nme so long! \n \u001b[1;36m0\u001b[0m \u001b[1;36m1\u001b[0m\n",
      "text/html": "<pre style=\"white-space:pre;overflow-x:auto;line-height:normal;font-family:Menlo,'DejaVu Sans Mono',consolas,'Courier New',monospace\">just bought my 1st Heineken beer in Las Vegas.  ps I\\u2019ve lived here for <span style=\"color: #008080; text-decoration-color: #008080; font-weight: bold\">5</span> yrs ~what took \nme so long! \n <span style=\"color: #008080; text-decoration-color: #008080; font-weight: bold\">0</span> <span style=\"color: #008080; text-decoration-color: #008080; font-weight: bold\">1</span>\n</pre>\n"
     },
     "metadata": {}
    },
    {
     "output_type": "display_data",
     "data": {
      "text/plain": "\u001b[32m\"anyone interested in a couple of tickets for Runrig tomorrow at the Northern Meeting Park, \u001b[0m\n\u001b[32mInverness?\"\u001b[0m \n \u001b[1;36m2\u001b[0m \u001b[1;36m1\u001b[0m\n",
      "text/html": "<pre style=\"white-space:pre;overflow-x:auto;line-height:normal;font-family:Menlo,'DejaVu Sans Mono',consolas,'Courier New',monospace\"><span style=\"color: #008000; text-decoration-color: #008000\">\"anyone interested in a couple of tickets for Runrig tomorrow at the Northern Meeting Park, </span>\n<span style=\"color: #008000; text-decoration-color: #008000\">Inverness?\"</span> \n <span style=\"color: #008080; text-decoration-color: #008080; font-weight: bold\">2</span> <span style=\"color: #008080; text-decoration-color: #008080; font-weight: bold\">1</span>\n</pre>\n"
     },
     "metadata": {}
    },
    {
     "output_type": "display_data",
     "data": {
      "text/plain": "Sun \u001b[1;36m12\u001b[0m/\u001b[1;36m06\u001b[0m:  Thor the Elf hanging out on our TV this morning. #ThortheElf2015 \n \u001b[1;36m2\u001b[0m \u001b[1;36m1\u001b[0m\n",
      "text/html": "<pre style=\"white-space:pre;overflow-x:auto;line-height:normal;font-family:Menlo,'DejaVu Sans Mono',consolas,'Courier New',monospace\">Sun <span style=\"color: #008080; text-decoration-color: #008080; font-weight: bold\">12</span>/<span style=\"color: #008080; text-decoration-color: #008080; font-weight: bold\">06</span>:  Thor the Elf hanging out on our TV this morning. #ThortheElf2015 \n <span style=\"color: #008080; text-decoration-color: #008080; font-weight: bold\">2</span> <span style=\"color: #008080; text-decoration-color: #008080; font-weight: bold\">1</span>\n</pre>\n"
     },
     "metadata": {}
    },
    {
     "output_type": "display_data",
     "data": {
      "text/plain": "Barca beats Joventut \u001b[1;36m86\u001b[0m-\u001b[1;36m77\u001b[0m in 1st preseason game. Marc Garcia and Demond Mallet led all \nscorers with \u001b[1;36m20\u001b[0m points each \n \u001b[1;36m2\u001b[0m \u001b[1;36m1\u001b[0m\n",
      "text/html": "<pre style=\"white-space:pre;overflow-x:auto;line-height:normal;font-family:Menlo,'DejaVu Sans Mono',consolas,'Courier New',monospace\">Barca beats Joventut <span style=\"color: #008080; text-decoration-color: #008080; font-weight: bold\">86</span>-<span style=\"color: #008080; text-decoration-color: #008080; font-weight: bold\">77</span> in 1st preseason game. Marc Garcia and Demond Mallet led all \nscorers with <span style=\"color: #008080; text-decoration-color: #008080; font-weight: bold\">20</span> points each \n <span style=\"color: #008080; text-decoration-color: #008080; font-weight: bold\">2</span> <span style=\"color: #008080; text-decoration-color: #008080; font-weight: bold\">1</span>\n</pre>\n"
     },
     "metadata": {}
    }
   ],
   "source": [
    "# Find misclassfied tweets\n",
    "error_labels = []\n",
    "error_tweets = []\n",
    "\n",
    "for i, tweet in enumerate(v_y):\n",
    "    if (v_y[i] != Y_text_predictions[i]):\n",
    "        error_labels.append(Y_text_predictions[i])\n",
    "        error_tweets.append(v_x[i])\n",
    "\n",
    "#Write to file\n",
    "f = open(\"./data/error_tweets.txt\", \"w+\")\n",
    "for line in error_tweets:\n",
    "    f.writelines(str(line))\n",
    "f.close()\n",
    "\n",
    "g = open(\"./data/error_labels.txt\", \"w+\")\n",
    "for line in error_labels:\n",
    "    g.writelines(str(line))\n",
    "g.close()"
   ]
  }
 ]
}