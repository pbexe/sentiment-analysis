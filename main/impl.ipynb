{
 "cells": [
  {
   "cell_type": "code",
   "execution_count": 50,
   "metadata": {},
   "outputs": [
    {
     "name": "stderr",
     "output_type": "stream",
     "text": [
      "[nltk_data] Downloading package punkt to\n",
      "[nltk_data]     C:\\Users\\c2099176\\AppData\\Roaming\\nltk_data...\n",
      "[nltk_data]   Package punkt is already up-to-date!\n"
     ]
    }
   ],
   "source": [
    "import pandas as pd\n",
    "import numpy as np\n",
    "import re\n",
    "import string\n",
    "import nltk\n",
    "nltk.download('punkt')\n",
    "# !pip install sklearn\n",
    "from nltk.corpus import stopwords\n",
    "from nltk.tokenize import word_tokenize\n",
    "from sklearn.feature_extraction.text import TfidfVectorizer\n",
    "from sklearn.model_selection import train_test_split\n",
    "from nltk.stem import PorterStemmer\n",
    "from nltk.stem import WordNetLemmatizer\n",
    "# ML Libraries\n",
    "from sklearn.metrics import accuracy_score, classification_report\n",
    "from sklearn.naive_bayes import MultinomialNB\n",
    "from sklearn.linear_model import LogisticRegression\n",
    "# Global Parameters\n",
    "stop_words = set(stopwords.words('english'))"
   ]
  },
  {
   "cell_type": "code",
   "execution_count": 4,
   "metadata": {},
   "outputs": [],
   "source": [
    "# Loading the dataset\n",
    "def load_dataset(type_):\n",
    "    with open(f\"../data/{type_}_text.txt\", \"r\", encoding=\"utf-8\") as fp:\n",
    "        x = fp.readlines()\n",
    "    with open(f\"../data/{type_}_labels.txt\", \"r\", encoding=\"utf-8\") as fp:\n",
    "        y = [int(i) for i in fp.readlines()]\n",
    "        \n",
    "    data = {'text': x, 'label': y}\n",
    "    df = pd.DataFrame(data)\n",
    "    \n",
    "    return df"
   ]
  },
  {
   "cell_type": "code",
   "execution_count": 5,
   "metadata": {},
   "outputs": [],
   "source": [
    "# Pre-processing the tweets\n",
    "def preprocess_tweets(tweet):\n",
    "    tweet.lower()\n",
    "    # Remove urls\n",
    "    tweet = re.sub(r\"http\\S+|www\\S+|https\\S+\", '', tweet, flags=re.MULTILINE)\n",
    "    # Remove user @ references and '#' from tweet\n",
    "    tweet = re.sub(r'\\@\\w+|\\#','', tweet)\n",
    "    # Remove punctuations\n",
    "    tweet = tweet.translate(str.maketrans('', '', string.punctuation))\n",
    "    # Remove stopwords\n",
    "    tweet_tokens = word_tokenize(tweet)\n",
    "    filtered_words = [w for w in tweet_tokens if not w in stop_words]\n",
    "    \n",
    "    # Stemming and Lemmatizing both are normalization techniques.\n",
    "    # We will use either of these not both.\n",
    "    # Stemming is faster than lemmatization    \n",
    "    \n",
    "    ps = PorterStemmer()\n",
    "    stemmed_words = [ps.stem(w) for w in filtered_words]\n",
    "    #lemmatizer = WordNetLemmatizer()\n",
    "    #lemma_words = [lemmatizer.lemmatize(w, pos='a') for w in stemmed_words]\n",
    "    \n",
    "    return \" \".join(stemmed_words)"
   ]
  },
  {
   "cell_type": "code",
   "execution_count": 6,
   "metadata": {},
   "outputs": [],
   "source": [
    "# Convert Value to String\n",
    "def value_to_string(sentiment):\n",
    "    if sentiment == 0:\n",
    "        return \"Negative\"\n",
    "    elif sentiment == 1:\n",
    "        return \"Neutral\"\n",
    "    else:\n",
    "        return \"Positive\""
   ]
  },
  {
   "cell_type": "code",
   "execution_count": 7,
   "metadata": {},
   "outputs": [],
   "source": [
    "def naive_bayes_model(X_train, y_train, X_any, y_any):\n",
    "    # Training Naive Bayes model\n",
    "    NB_model = MultinomialNB()\n",
    "    NB_model.fit(X_train, y_train)\n",
    "    y_predict_nb = NB_model.predict(X_any)\n",
    "    print(classification_report(y_any, y_predict_nb))\n",
    "#     print(accuracy_score(y_any, y_predict_nb))\n",
    "    return NB_model"
   ]
  },
  {
   "cell_type": "code",
   "execution_count": 8,
   "metadata": {},
   "outputs": [],
   "source": [
    "def logistic_reg_model(X_train, y_train, X_any, y_any):\n",
    "    # Training Logistics Regression model\n",
    "    LR_model = LogisticRegression(solver='newton-cg', max_iter=10000, multi_class=\"multinomial\")\n",
    "    LR_model.fit(X_train, y_train)\n",
    "    y_predict_lr = LR_model.predict(X_any)\n",
    "    print(classification_report(y_any, y_predict_lr))\n",
    "#     print(accuracy_score(y_any, y_predict_lr))\n",
    "    return LR_model"
   ]
  },
  {
   "cell_type": "code",
   "execution_count": 28,
   "metadata": {},
   "outputs": [],
   "source": [
    "# Load train dataset\n",
    "train_dataset = load_dataset(\"train\")\n",
    "old_dataset = train_dataset\n",
    "# Preprocess train data\n",
    "train_dataset.text = train_dataset['text'].apply(preprocess_tweets)\n",
    "\n",
    "# Load val dataset\n",
    "val_dataset = load_dataset(\"val\")\n",
    "# Preprocess val data\n",
    "val_dataset.text = val_dataset['text'].apply(preprocess_tweets)\n",
    "\n",
    "# Load test dataset\n",
    "test_dataset = load_dataset(\"test\")\n",
    "# Preprocess data\n",
    "test_dataset.text = test_dataset['text'].apply(preprocess_tweets)"
   ]
  },
  {
   "cell_type": "code",
   "execution_count": 10,
   "metadata": {},
   "outputs": [],
   "source": [
    "vector = TfidfVectorizer(sublinear_tf=True)"
   ]
  },
  {
   "cell_type": "code",
   "execution_count": 11,
   "metadata": {},
   "outputs": [],
   "source": [
    "# train\n",
    "tf_vector = vector.fit(np.array(train_dataset.iloc[:, 0]).ravel())\n",
    "X_train = tf_vector.transform(np.array(train_dataset.iloc[:, 0]).ravel())\n",
    "y_train = np.array(train_dataset.iloc[:, 1]).ravel()"
   ]
  },
  {
   "cell_type": "code",
   "execution_count": 12,
   "metadata": {},
   "outputs": [],
   "source": [
    "# validate\n",
    "X_val = tf_vector.transform(np.array(val_dataset.iloc[:, 0]).ravel())\n",
    "y_val = np.array(val_dataset.iloc[:, 1]).ravel()"
   ]
  },
  {
   "cell_type": "code",
   "execution_count": 13,
   "metadata": {},
   "outputs": [],
   "source": [
    "# test\n",
    "X_test = tf_vector.transform(np.array(test_dataset.iloc[:, 0]).ravel())\n",
    "y_test = np.array(test_dataset.iloc[:, 1]).ravel()\n",
    "# test_feature = tf_vector.transform(np.array(test_dataset.iloc[:, 0]).ravel())"
   ]
  },
  {
   "cell_type": "code",
   "execution_count": 14,
   "metadata": {},
   "outputs": [
    {
     "name": "stdout",
     "output_type": "stream",
     "text": [
      "              precision    recall  f1-score   support\n",
      "\n",
      "           0       0.80      0.01      0.03       312\n",
      "           1       0.56      0.77      0.65       869\n",
      "           2       0.67      0.65      0.66       819\n",
      "\n",
      "    accuracy                           0.60      2000\n",
      "   macro avg       0.67      0.48      0.44      2000\n",
      "weighted avg       0.64      0.60      0.55      2000\n",
      "\n"
     ]
    },
    {
     "data": {
      "text/plain": [
       "MultinomialNB()"
      ]
     },
     "execution_count": 14,
     "metadata": {},
     "output_type": "execute_result"
    }
   ],
   "source": [
    "naive_bayes_model(X_train, y_train, X_val, y_val)"
   ]
  },
  {
   "cell_type": "code",
   "execution_count": 15,
   "metadata": {},
   "outputs": [
    {
     "name": "stdout",
     "output_type": "stream",
     "text": [
      "              precision    recall  f1-score   support\n",
      "\n",
      "           0       0.63      0.38      0.48       312\n",
      "           1       0.63      0.74      0.68       869\n",
      "           2       0.73      0.70      0.71       819\n",
      "\n",
      "    accuracy                           0.67      2000\n",
      "   macro avg       0.66      0.61      0.62      2000\n",
      "weighted avg       0.67      0.67      0.66      2000\n",
      "\n"
     ]
    },
    {
     "data": {
      "text/plain": [
       "LogisticRegression(max_iter=10000, multi_class='multinomial',\n",
       "                   solver='newton-cg')"
      ]
     },
     "execution_count": 15,
     "metadata": {},
     "output_type": "execute_result"
    }
   ],
   "source": [
    "logistic_reg_model(X_train, y_train, X_val, y_val)"
   ]
  },
  {
   "cell_type": "code",
   "execution_count": 16,
   "metadata": {},
   "outputs": [
    {
     "name": "stdout",
     "output_type": "stream",
     "text": [
      "              precision    recall  f1-score   support\n",
      "\n",
      "           0       0.69      0.38      0.49      3972\n",
      "           1       0.59      0.75      0.66      5937\n",
      "           2       0.53      0.56      0.54      2375\n",
      "\n",
      "    accuracy                           0.59     12284\n",
      "   macro avg       0.60      0.56      0.57     12284\n",
      "weighted avg       0.61      0.59      0.58     12284\n",
      "\n"
     ]
    },
    {
     "data": {
      "text/plain": [
       "LogisticRegression(max_iter=10000, multi_class='multinomial',\n",
       "                   solver='newton-cg')"
      ]
     },
     "execution_count": 16,
     "metadata": {},
     "output_type": "execute_result"
    }
   ],
   "source": [
    "logistic_reg_model(X_train, y_train, X_test, y_test)"
   ]
  },
  {
   "cell_type": "code",
   "execution_count": 51,
   "metadata": {},
   "outputs": [],
   "source": [
    "# RNN Text Classification\n",
    "# !pip install tensorflow\n",
    "# !pip install keras\n",
    "from keras.preprocessing.text import Tokenizer\n",
    "from keras.preprocessing.sequence import pad_sequences\n",
    "from keras.models import Sequential\n",
    "from keras.layers import Dense, Embedding, LSTM, SpatialDropout1D\n",
    "from sklearn.model_selection import train_test_split\n",
    "from keras.utils.np_utils import to_categorical"
   ]
  },
  {
   "cell_type": "code",
   "execution_count": 201,
   "metadata": {},
   "outputs": [],
   "source": [
    "tokenizer = Tokenizer(num_words=1500, split=' ')\n",
    "# data = old_dataset\n",
    "# data['text'] = data['text'].apply(lambda x: x.lower())\n",
    "# data['text'] = data['text'].apply((lambda x: re.sub('[^a-zA-z0-9\\s]','',x)))\n",
    "# print(data[ data['label'] == 2].size)\n",
    "# print(data[ data['label'] == 1].size)\n",
    "# print(data[ data['label'] == 0].size)\n",
    "# for idx,row in data.iterrows():\n",
    "#     row[0] = row[0].replace('rt',' ')"
   ]
  },
  {
   "cell_type": "code",
   "execution_count": 222,
   "metadata": {},
   "outputs": [],
   "source": [
    "max_fatures = 2000\n",
    "max_len = 200\n",
    "\n",
    "tokenizer = Tokenizer(num_words=max_fatures, split=' ')\n",
    "tokenizer.fit_on_texts(train_dataset['text'].values)\n",
    "# ////////////////////////\n",
    "X_train = tokenizer.texts_to_sequences(train_dataset['text'].values)\n",
    "X_train = pad_sequences(X_train, maxlen=max_len)\n",
    "# ////////////////////////\n",
    "X_val = tokenizer.texts_to_sequences(val_dataset['text'].values)\n",
    "X_val = pad_sequences(X_val, maxlen=max_len)\n",
    "# ////////////////////////\n",
    "X_test = tokenizer.texts_to_sequences(test_dataset['text'].values)\n",
    "X_test = pad_sequences(X_test, maxlen=max_len)"
   ]
  },
  {
   "cell_type": "code",
   "execution_count": 223,
   "metadata": {},
   "outputs": [
    {
     "name": "stdout",
     "output_type": "stream",
     "text": [
      "Model: \"sequential_19\"\n",
      "_________________________________________________________________\n",
      "Layer (type)                 Output Shape              Param #   \n",
      "=================================================================\n",
      "embedding_20 (Embedding)     (None, 200, 128)          256000    \n",
      "_________________________________________________________________\n",
      "spatial_dropout1d_15 (Spatia (None, 200, 128)          0         \n",
      "_________________________________________________________________\n",
      "lstm_18 (LSTM)               (None, 196)               254800    \n",
      "_________________________________________________________________\n",
      "dense_17 (Dense)             (None, 3)                 591       \n",
      "=================================================================\n",
      "Total params: 511,391\n",
      "Trainable params: 511,391\n",
      "Non-trainable params: 0\n",
      "_________________________________________________________________\n",
      "None\n"
     ]
    }
   ],
   "source": [
    "embed_dim = 128\n",
    "lstm_out = 196\n",
    "\n",
    "model = Sequential()\n",
    "model.add(Embedding(max_fatures, embed_dim,input_length = X_train.shape[1]))\n",
    "model.add(SpatialDropout1D(0.4))\n",
    "model.add(LSTM(lstm_out, dropout=0.2, recurrent_dropout=0.2))\n",
    "model.add(Dense(3,activation='softmax'))\n",
    "model.compile(loss = 'categorical_crossentropy', optimizer='adam',metrics = ['accuracy'])\n",
    "print(model.summary())"
   ]
  },
  {
   "cell_type": "code",
   "execution_count": 224,
   "metadata": {},
   "outputs": [
    {
     "name": "stdout",
     "output_type": "stream",
     "text": [
      "(45615, 200) (45615, 3)\n",
      "(2000, 200) (2000, 3)\n",
      "(12284, 200) (12284, 3)\n"
     ]
    }
   ],
   "source": [
    "Y_train = pd.get_dummies(train_dataset['label']).values\n",
    "Y_val = pd.get_dummies(val_dataset['label']).values\n",
    "Y_test = pd.get_dummies(test_dataset['label']).values\n",
    "# X_train, X_test, Y_train, Y_test = train_test_split(X_train, Y_train, test_size = 0.33, random_state = 42)\n",
    "print(X_train.shape,Y_train.shape)\n",
    "print(X_val.shape,Y_val.shape)\n",
    "print(X_test.shape,Y_test.shape)"
   ]
  },
  {
   "cell_type": "code",
   "execution_count": 225,
   "metadata": {},
   "outputs": [
    {
     "name": "stderr",
     "output_type": "stream",
     "text": [
      "C:\\Users\\c2099176\\Anaconda3\\envs\\py_36\\lib\\site-packages\\tensorflow_core\\python\\framework\\indexed_slices.py:433: UserWarning: Converting sparse IndexedSlices to a dense Tensor of unknown shape. This may consume a large amount of memory.\n",
      "  \"Converting sparse IndexedSlices to a dense Tensor of unknown shape. \"\n"
     ]
    },
    {
     "name": "stdout",
     "output_type": "stream",
     "text": [
      "Train on 45615 samples, validate on 2000 samples\n",
      "Epoch 1/7\n",
      " - 344s - loss: 0.8348 - accuracy: 0.6121 - val_loss: 0.8129 - val_accuracy: 0.6340\n",
      "Epoch 2/7\n",
      " - 343s - loss: 0.7557 - accuracy: 0.6606 - val_loss: 0.7515 - val_accuracy: 0.6690\n",
      "Epoch 3/7\n",
      " - 344s - loss: 0.7288 - accuracy: 0.6704 - val_loss: 0.7342 - val_accuracy: 0.6800\n",
      "Epoch 4/7\n",
      " - 358s - loss: 0.7075 - accuracy: 0.6832 - val_loss: 0.7398 - val_accuracy: 0.6780\n",
      "Epoch 5/7\n",
      " - 344s - loss: 0.6884 - accuracy: 0.6923 - val_loss: 0.7391 - val_accuracy: 0.6800\n",
      "Epoch 6/7\n",
      " - 343s - loss: 0.6830 - accuracy: 0.6943 - val_loss: 0.7411 - val_accuracy: 0.6715\n",
      "Epoch 7/7\n",
      " - 342s - loss: 0.6582 - accuracy: 0.7065 - val_loss: 0.7574 - val_accuracy: 0.6735\n"
     ]
    },
    {
     "data": {
      "text/plain": [
       "<keras.callbacks.callbacks.History at 0x1cec1fb7550>"
      ]
     },
     "execution_count": 225,
     "metadata": {},
     "output_type": "execute_result"
    }
   ],
   "source": [
    "batch_size = 32\n",
    "model.fit(X_train, Y_train, epochs = 7, validation_data=(X_val, Y_val), batch_size=batch_size, verbose = 2)"
   ]
  },
  {
   "cell_type": "code",
   "execution_count": 226,
   "metadata": {},
   "outputs": [
    {
     "name": "stdout",
     "output_type": "stream",
     "text": [
      "score: 0.94\n",
      "acc: 0.58\n"
     ]
    }
   ],
   "source": [
    "score,acc = model.evaluate(X_test, Y_test, verbose = 2, batch_size = batch_size)\n",
    "print(\"score: %.2f\" % (score))\n",
    "print(\"acc: %.2f\" % (acc))"
   ]
  },
  {
   "cell_type": "code",
   "execution_count": 232,
   "metadata": {},
   "outputs": [
    {
     "name": "stdout",
     "output_type": "stream",
     "text": [
      "Neutral\n"
     ]
    }
   ],
   "source": [
    "tweet = ['i am d that the weather is not sunny!']\n",
    "# vectorizing the tweet by the pre-fitted tokenizer instance\n",
    "tweet = tokenizer.texts_to_sequences(tweet)\n",
    "# padding the tweet to have exactly the same shape as `embedding_2` input\n",
    "tweet = pad_sequences(tweet, maxlen=max_len, dtype='int32', value=0)\n",
    "# print(tweet)\n",
    "sentiment = model.predict(tweet, batch_size=1, verbose = 2)[0]\n",
    "output = value_to_string(np.argmax(sentiment))\n",
    "print(output)"
   ]
  }
 ],
 "metadata": {
  "kernelspec": {
   "display_name": "Python 3",
   "language": "python",
   "name": "python3"
  },
  "language_info": {
   "codemirror_mode": {
    "name": "ipython",
    "version": 3
   },
   "file_extension": ".py",
   "mimetype": "text/x-python",
   "name": "python",
   "nbconvert_exporter": "python",
   "pygments_lexer": "ipython3",
   "version": "3.6.13"
  }
 },
 "nbformat": 4,
 "nbformat_minor": 4
}
